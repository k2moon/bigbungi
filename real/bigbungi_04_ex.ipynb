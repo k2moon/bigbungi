{
  "nbformat": 4,
  "nbformat_minor": 0,
  "metadata": {
    "colab": {
      "provenance": [],
      "authorship_tag": "ABX9TyOUL2ThYcYH3QDWo4/4nzni",
      "include_colab_link": true
    },
    "kernelspec": {
      "name": "python3",
      "display_name": "Python 3"
    },
    "language_info": {
      "name": "python"
    }
  },
  "cells": [
    {
      "cell_type": "markdown",
      "metadata": {
        "id": "view-in-github",
        "colab_type": "text"
      },
      "source": [
        "<a href=\"https://colab.research.google.com/github/k2moon/bigbungi/blob/main/real/bigbungi_04_ex.ipynb\" target=\"_parent\"><img src=\"https://colab.research.google.com/assets/colab-badge.svg\" alt=\"Open In Colab\"/></a>"
      ]
    },
    {
      "cell_type": "markdown",
      "source": [
        "# 4회 기출문제\n",
        "---"
      ],
      "metadata": {
        "id": "C9HN8YvV8cKL"
      }
    },
    {
      "cell_type": "markdown",
      "source": [
        "## 작업형 1유형"
      ],
      "metadata": {
        "id": "dxfBKl5c9K8D"
      }
    },
    {
      "cell_type": "markdown",
      "source": [
        "1. age 컬럼의 3사분위수와 1사분위수의 차를 절대값으로 구하고, 소수점 버려서, 정수로 출력"
      ],
      "metadata": {
        "id": "aa-4utC_9PkT"
      }
    },
    {
      "cell_type": "markdown",
      "source": [
        "- DataSet : https://tinyurl.com/4kzxbeuz"
      ],
      "metadata": {
        "id": "FDOqYvNNNlo3"
      }
    },
    {
      "cell_type": "code",
      "source": [],
      "metadata": {
        "id": "YchP6VBM9ZIN"
      },
      "execution_count": null,
      "outputs": []
    },
    {
      "cell_type": "markdown",
      "source": [
        "2. (loves반응+wows반응)/(reactions반응) 비율이 0.4보다 크고 0.5보다 작으면서, type 컬럼이 'video'인 데이터의 갯수"
      ],
      "metadata": {
        "id": "TAKJKd1r9cs7"
      }
    },
    {
      "cell_type": "markdown",
      "source": [
        "- DataSet: https://tinyurl.com/y5862f28"
      ],
      "metadata": {
        "id": "NHVmbjgicHxs"
      }
    },
    {
      "cell_type": "code",
      "source": [],
      "metadata": {
        "id": "H11kh-1T9e5b"
      },
      "execution_count": null,
      "outputs": []
    },
    {
      "cell_type": "markdown",
      "source": [
        "3.  date_added가 2018년 1월 이면서 country가 United Kingdom 단독 제작인 데이터의 갯수"
      ],
      "metadata": {
        "id": "Dm_S6HZsD0Ez"
      }
    },
    {
      "cell_type": "markdown",
      "source": [
        "- DataSet: https://tinyurl.com/bd48cwsm\n",
        "- DataSet 다운로드 : https://tinyurl.com/vd958vjd"
      ],
      "metadata": {
        "id": "ngcyBCtNNrd1"
      }
    },
    {
      "cell_type": "code",
      "source": [],
      "metadata": {
        "id": "cCWJJFs-D1QS"
      },
      "execution_count": null,
      "outputs": []
    },
    {
      "cell_type": "markdown",
      "source": [
        "## 작업형 2유형\n",
        "\n",
        "### [마케팅] 자동차 시장 세분화\n",
        "- 자동차 회사는 새로운 전략을 수립하기 위해 4개의 시장으로 세분화했습니다.\n",
        "- 기존 고객 분류 자료를 바탕으로 신규 고객이 어떤 분류에 속할지 예측해주세요!\n",
        "- 예측할 값(y): \"Segmentation\" (1,2,3,4)\n",
        "- 평가: Macro f1-score\n",
        "- data: train.csv, test.csv\n",
        "\n",
        "* 결과 제출 양식 : ID, Segmentation"
      ],
      "metadata": {
        "id": "Pg9j_GVZ9fz7"
      }
    },
    {
      "cell_type": "markdown",
      "source": [
        "- DataSet: https://tinyurl.com/y82mvaf2"
      ],
      "metadata": {
        "id": "9JHqFFKDOxQd"
      }
    },
    {
      "cell_type": "code",
      "execution_count": null,
      "metadata": {
        "id": "HEIV-WsmrS4y"
      },
      "outputs": [],
      "source": [
        "# 데이터 가져오기 read_csv()\n",
        "import pandas as pd\n",
        "import numpy as np\n",
        "\n",
        "x_test_data = pd.read_csv(\"data/X_test.csv\")\n",
        "x_train_data = pd.read_csv(\"data/X_train.csv\")\n",
        "y_train_data = pd.read_csv(\"data/y_train.csv\")\n",
        "\n",
        "# ------- 데이터 확인 info ---------\n",
        "\n",
        "\n",
        "# 모든 컬럼값 확인 T\n",
        "\n",
        "\n",
        "# 행/열 확인 shape (생략가능)\n",
        "\n",
        "\n",
        "# 요약정보 확인 info()\n",
        "## 데이터타입, 결측치 등 확인, object 범주형\n",
        "### object 범주형 인코딩 확인\n",
        "\n",
        "\n",
        "# 기초통계량 확인 describe()\n",
        "## count, mean,std,min, 25%, 50%, 75%, max\n",
        "### 데이터 스케일링 확인, 회귀, 비tree 계열\n",
        "\n",
        "\n",
        "# 타깃값 확인 unique\n",
        "## 1차원인지도 확인 (y,)\n",
        "\n",
        "\n",
        "# ------- 데이터 전처리 preprocessing ---------\n",
        "\n",
        "# 불필요한 컬럭 삭제 drop(columns=[])\n",
        "## PK 역할 컬럼 등 삭제\n",
        "\n",
        "\n",
        "# 결측치 처리하기 fillna()\n",
        "## 임의로 결측치 삭제하지 말 것\n",
        "## 평균, 중앙값, 상황에 따른 값\n",
        "\n",
        "\n",
        "# 범주형 변수 인코딩\n",
        "## 라벨 인코딩(Tree 계열의 분류 알고리즘에 사용), 원핫인코딩 \n",
        "\n",
        "\n",
        "# 파생변수 생성\n",
        "## 필요시 생성\n",
        "\n",
        "\n",
        "# 데이터 스케일링\n",
        "## 연속형 변수의 최대, 최소 분포차가 클때\n",
        "## MinMaxScaler, StandardScaler, RobustScaler\n",
        "## test는 train용의로 transform() \n",
        "## Tree 계열 필수는 아님\n",
        "\n",
        "\n",
        "# 상관관계 확인 corr()\n",
        "## 필요 시 확인\n",
        "\n",
        "\n",
        "# 전처리 확인 info()\n",
        "\n",
        "\n",
        "# ------- 머신러닝 machine learning ---------\n",
        "\n",
        "# 평가용 데이터 분리 model_selection\n",
        "## stratify, stes_size, y값 1차원 확인\n",
        "\n",
        "\n",
        "# 데이터 학습\n",
        "## fit, predict, predict_proba\n",
        "## 분류 XXXClassifier, LogisticRegression\n",
        "## 회귀(예측) XXXRegressor(XXXRegression)\n",
        "## 공통 ensemble\n",
        "## RandomForestXXX : n_estimators (default = 100), max_depth, criterion\n",
        "## criterion : 분할 품질을 측정하는 기능 ()\n",
        "### RandomForestClassifier: criterion{“gini”, “entropy”, “log_loss”}, default=”gini”\n",
        "### RandomForestRegressor: criterion{“mse”, “mae”}, / v1.2 criterion{“squared_error”, “absolute_error”}, default=”squared_error”\n",
        "## GradientBoostingXXX : n_estimators, learning_rate(default =  0.1)\n",
        "\n",
        "\n",
        "# 데이터 평가 metrics\n",
        "## 회귀 : MAE, MSE, RMSE, R^2, RMSE는 np.sqrt(MSE값)\n",
        "## 분류 : ROC_AUC, Accuracy(정확도), Precision(정밀도), Recall(재현율)\n",
        "\n",
        "\n",
        "# ------- 답안 제출 ---------\n",
        "\n",
        "# 전체학습데이터로 다시 학습\n",
        "\n",
        "\n",
        "# 제출용 예측\n",
        "\n",
        "\n",
        "# 답안 제출 참고\n",
        "# 아래 코드 예측변수와 수험번호를 개인별로 변경하여 활용\n",
        "#pd.DataFrame({'cust_id': x_test_data.cust_id, 'gender': pred}).to_csv('424242.csv', index=False)\n",
        "\n",
        "\n",
        "# 제출 최종 확인\n",
        "#print(pd.read_csv(\"data/424242.csv\"))"
      ]
    }
  ]
}