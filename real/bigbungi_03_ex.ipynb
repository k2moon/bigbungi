{
  "nbformat": 4,
  "nbformat_minor": 0,
  "metadata": {
    "colab": {
      "provenance": [],
      "authorship_tag": "ABX9TyMBKoEx6d2pNK6QFk4KD0VX",
      "include_colab_link": true
    },
    "kernelspec": {
      "name": "python3",
      "display_name": "Python 3"
    },
    "language_info": {
      "name": "python"
    }
  },
  "cells": [
    {
      "cell_type": "markdown",
      "metadata": {
        "id": "view-in-github",
        "colab_type": "text"
      },
      "source": [
        "<a href=\"https://colab.research.google.com/github/k2moon/bigbungi/blob/main/real/bigbungi_03_ex.ipynb\" target=\"_parent\"><img src=\"https://colab.research.google.com/assets/colab-badge.svg\" alt=\"Open In Colab\"/></a>"
      ]
    },
    {
      "cell_type": "markdown",
      "source": [
        "# 3회 기출문제\n",
        "---"
      ],
      "metadata": {
        "id": "C9HN8YvV8cKL"
      }
    },
    {
      "cell_type": "markdown",
      "source": [
        "## 작업형 1유형"
      ],
      "metadata": {
        "id": "dxfBKl5c9K8D"
      }
    },
    {
      "cell_type": "markdown",
      "source": [
        "1. 다음은 California Housing 데이터 세트이다. 데이터 중 결측치가 있는 경우 해당 데이터의 행을 모두 제거하고, 첫번째 행부터 순서대로 70%까지의 데이터를 훈련 데이터로 추출한 데이터 세트를 구성한다. 변수 중 ‘housing_median_age’의 Q1(제1사분위수)값을 정수로 계산하시오."
      ],
      "metadata": {
        "id": "aa-4utC_9PkT"
      }
    },
    {
      "cell_type": "markdown",
      "source": [
        "DataSet : https://tinyurl.com/mw4psjfd"
      ],
      "metadata": {
        "id": "FDOqYvNNNlo3"
      }
    },
    {
      "cell_type": "code",
      "source": [],
      "metadata": {
        "id": "YchP6VBM9ZIN"
      },
      "execution_count": null,
      "outputs": []
    },
    {
      "cell_type": "markdown",
      "source": [
        "2. 다음은 국가별 연도별 인구 10만명당 결핵 유병률 데이터세트이다. 2000년도의 국가별 결핵 유병률 데이터 세트에서 2000년도의 평균값보다 더 큰 유병률 값을 가진 국가의 수를 계산하시오."
      ],
      "metadata": {
        "id": "TAKJKd1r9cs7"
      }
    },
    {
      "cell_type": "markdown",
      "source": [
        "DataSet: https://tinyurl.com/yvyrpjmk"
      ],
      "metadata": {
        "id": "NHVmbjgicHxs"
      }
    },
    {
      "cell_type": "code",
      "source": [],
      "metadata": {
        "id": "H11kh-1T9e5b"
      },
      "execution_count": null,
      "outputs": []
    },
    {
      "cell_type": "markdown",
      "source": [
        "3. 다음은 Titanic 데이터 세트이다. 주어진 데이터 세트의 컬럼 중 빈 값 또는 결측치를 확인하여, 결측치의 비율이 가장 높은 변수명을 출력하시오."
      ],
      "metadata": {
        "id": "Dm_S6HZsD0Ez"
      }
    },
    {
      "cell_type": "markdown",
      "source": [
        "- DataSet: https://www.kaggle.com/c/titanic\n",
        "- DataSet: https://tinyurl.com/2uejca84"
      ],
      "metadata": {
        "id": "ngcyBCtNNrd1"
      }
    },
    {
      "cell_type": "code",
      "source": [],
      "metadata": {
        "id": "cCWJJFs-D1QS"
      },
      "execution_count": null,
      "outputs": []
    },
    {
      "cell_type": "markdown",
      "source": [
        "## 작업형 2유형\n",
        "\n",
        "다음은 Travel Insuarance 데이터 세트이다. 주어진 훈련 데이터 세트를 이용하여 고객별 여행보험 가입 여부 예측모형을 만들고, 가장 높은 Accuracy값을 가지는 최종모델을 도출하시오. 해당 모델을 활용하여 보험가입여부 예측값을 계산하고 결과값은 csv파일로 제출하시오.\n",
        "\n",
        "* 결과 제출 양식 : ID, TravelInsurance"
      ],
      "metadata": {
        "id": "Pg9j_GVZ9fz7"
      }
    },
    {
      "cell_type": "markdown",
      "source": [
        "- DataSet: https://www.kaggle.com/datasets/tejashvi14/travel-insurance-prediction-data\n",
        "- DataSet: https://tinyurl.com/mtnrdfc6"
      ],
      "metadata": {
        "id": "9JHqFFKDOxQd"
      }
    },
    {
      "cell_type": "code",
      "execution_count": null,
      "metadata": {
        "id": "HEIV-WsmrS4y"
      },
      "outputs": [],
      "source": [
        "# 데이터 가져오기 read_csv()\n",
        "import pandas as pd\n",
        "import numpy as np\n",
        "\n",
        "x_test_data = pd.read_csv(\"data/X_test.csv\")\n",
        "x_train_data = pd.read_csv(\"data/X_train.csv\")\n",
        "y_train_data = pd.read_csv(\"data/y_train.csv\")\n",
        "\n",
        "# ------- 데이터 확인 info ---------\n",
        "\n",
        "\n",
        "# 모든 컬럼값 확인 T\n",
        "\n",
        "\n",
        "# 행/열 확인 shape (생략가능)\n",
        "\n",
        "\n",
        "# 요약정보 확인 info()\n",
        "## 데이터타입, 결측치 등 확인, object 범주형\n",
        "### object 범주형 인코딩 확인\n",
        "\n",
        "\n",
        "# 기초통계량 확인 describe()\n",
        "## count, mean,std,min, 25%, 50%, 75%, max\n",
        "### 데이터 스케일링 확인, 회귀, 비tree 계열\n",
        "\n",
        "\n",
        "# 타깃값 확인 unique\n",
        "## 1차원인지도 확인 (y,)\n",
        "\n",
        "\n",
        "# ------- 데이터 전처리 preprocessing ---------\n",
        "\n",
        "# 불필요한 컬럭 삭제 drop(columns=[])\n",
        "## PK 역할 컬럼 등 삭제\n",
        "\n",
        "\n",
        "# 결측치 처리하기 fillna()\n",
        "## 임의로 결측치 삭제하지 말 것\n",
        "## 평균, 중앙값, 상황에 따른 값\n",
        "\n",
        "\n",
        "# 범주형 변수 인코딩\n",
        "## 라벨 인코딩(Tree 계열의 분류 알고리즘에 사용), 원핫인코딩 \n",
        "\n",
        "\n",
        "# 파생변수 생성\n",
        "## 필요시 생성\n",
        "\n",
        "\n",
        "# 데이터 스케일링\n",
        "## 연속형 변수의 최대, 최소 분포차가 클때\n",
        "## MinMaxScaler, StandardScaler, RobustScaler\n",
        "## test는 train용의로 transform() \n",
        "## Tree 계열 필수는 아님\n",
        "\n",
        "\n",
        "# 상관관계 확인 corr()\n",
        "## 필요 시 확인\n",
        "\n",
        "\n",
        "# 전처리 확인 info()\n",
        "\n",
        "\n",
        "# ------- 머신러닝 machine learning ---------\n",
        "\n",
        "# 평가용 데이터 분리 model_selection\n",
        "## stratify, stes_size, y값 1차원 확인\n",
        "\n",
        "\n",
        "# 데이터 학습\n",
        "## fit, predict, predict_proba\n",
        "## 분류 XXXClassifier, LogisticRegression\n",
        "## 회귀(예측) XXXRegressor(XXXRegression)\n",
        "## 공통 ensemble\n",
        "## RandomForestXXX : n_estimators (default = 100), max_depth, criterion\n",
        "## criterion : 분할 품질을 측정하는 기능 ()\n",
        "### RandomForestClassifier: criterion{“gini”, “entropy”, “log_loss”}, default=”gini”\n",
        "### RandomForestRegressor: criterion{“mse”, “mae”}, / v1.2 criterion{“squared_error”, “absolute_error”}, default=”squared_error”\n",
        "## GradientBoostingXXX : n_estimators, learning_rate(default =  0.1)\n",
        "\n",
        "\n",
        "# 데이터 평가 metrics\n",
        "## 회귀 : MAE, MSE, RMSE, R^2, RMSE는 np.sqrt(MSE값)\n",
        "## 분류 : ROC_AUC, Accuracy(정확도), Precision(정밀도), Recall(재현율)\n",
        "\n",
        "\n",
        "# ------- 답안 제출 ---------\n",
        "\n",
        "# 전체학습데이터로 다시 학습\n",
        "\n",
        "\n",
        "# 제출용 예측\n",
        "\n",
        "\n",
        "# 답안 제출 참고\n",
        "# 아래 코드 예측변수와 수험번호를 개인별로 변경하여 활용\n",
        "#pd.DataFrame({'cust_id': x_test_data.cust_id, 'gender': pred}).to_csv('424242.csv', index=False)\n",
        "\n",
        "\n",
        "# 제출 최종 확인\n",
        "#print(pd.read_csv(\"data/424242.csv\"))"
      ]
    }
  ]
}