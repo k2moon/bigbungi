{
  "nbformat": 4,
  "nbformat_minor": 0,
  "metadata": {
    "colab": {
      "provenance": [],
      "authorship_tag": "ABX9TyOvD1c2ds9M7EbCqAH2SP/I",
      "include_colab_link": true
    },
    "kernelspec": {
      "name": "python3",
      "display_name": "Python 3"
    },
    "language_info": {
      "name": "python"
    }
  },
  "cells": [
    {
      "cell_type": "markdown",
      "metadata": {
        "id": "view-in-github",
        "colab_type": "text"
      },
      "source": [
        "<a href=\"https://colab.research.google.com/github/k2moon/bigbungi/blob/main/real/bigbungi_02_ans.ipynb\" target=\"_parent\"><img src=\"https://colab.research.google.com/assets/colab-badge.svg\" alt=\"Open In Colab\"/></a>"
      ]
    },
    {
      "cell_type": "markdown",
      "source": [
        "# 2회 기출문제\n",
        "---\n",
        "- https://eatchu.tistory.com/19\n",
        "- https://djccnt15.github.io/dataanalysis/bigdata_certi_03/"
      ],
      "metadata": {
        "id": "C9HN8YvV8cKL"
      }
    },
    {
      "cell_type": "markdown",
      "source": [
        "## 작업형 1유형"
      ],
      "metadata": {
        "id": "dxfBKl5c9K8D"
      }
    },
    {
      "cell_type": "markdown",
      "source": [
        "1. 다음은 Boston Housing 데이터 세트에서‘CRIM’ 값이 가장 큰 10개의 지역을 구하고 10개의 지역의 ‘CRIM’ 값을 그 중 가장 작은 값으로 대체한 후, ‘AGE’ 컬럼 값이 80 이상인 Row의 ‘CRIM’ 평균값을 구하라."
      ],
      "metadata": {
        "id": "aa-4utC_9PkT"
      }
    },
    {
      "cell_type": "markdown",
      "source": [
        "DataSet : https://tinyurl.com/rp98ca2h"
      ],
      "metadata": {
        "id": "FDOqYvNNNlo3"
      }
    },
    {
      "cell_type": "code",
      "source": [
        "import pandas as pd\n",
        "url = 'https://tinyurl.com/rp98ca2h'\n",
        "df = pd.read_csv(url)\n",
        "\n",
        "# iloc 사용\n",
        "# 오름차순 ascending=True, 내림차순 ascending=False\n",
        "# df.sort_values(by='crim', ascending=False, inplace=True)\n",
        "df = df.sort_values(by=['CRIM'], ascending=False)\n",
        "#print(df.head(10))\n",
        "\n",
        "min_crim = df.iloc[:10, 0].min()\n",
        "#print(min_crim)\n",
        "\n",
        "df.iloc[:10, 0] = min_crim\n",
        "#print(df.head(12))\n",
        "\n",
        "result = df[df['AGE'] >= 80 ]['CRIM'].mean()\n",
        "\n",
        "print(result)"
      ],
      "metadata": {
        "colab": {
          "base_uri": "https://localhost:8080/"
        },
        "id": "EsW3fVaTbMGd",
        "outputId": "673b1fe6-545e-4576-af16-751f4f4e57ff"
      },
      "execution_count": null,
      "outputs": [
        {
          "output_type": "stream",
          "name": "stdout",
          "text": [
            "5.759386625\n"
          ]
        }
      ]
    },
    {
      "cell_type": "code",
      "source": [
        "import pandas as pd\n",
        "url = 'https://tinyurl.com/rp98ca2h'\n",
        "df = pd.read_csv(url)\n",
        "\n",
        "# loc 사용\n",
        "# 오름차순 ascending=True, 내림차순 ascending=False\n",
        "# df.sort_values(by='crim', ascending=False, inplace=True)\n",
        "df = df.sort_values(by=['CRIM'], ascending=False)\n",
        "df = df.reset_index()\n",
        "#print(df.head(10))\n",
        "\n",
        "min_crim = df.loc[0:9, 'CRIM'].min()\n",
        "#print(min_crim)\n",
        "\n",
        "df.loc[0:9, 'CRIM'] = min_crim\n",
        "#print(df.head(12))\n",
        "\n",
        "result = df.loc[df['AGE']>=80, 'CRIM'].mean()\n",
        "print(result)"
      ],
      "metadata": {
        "colab": {
          "base_uri": "https://localhost:8080/"
        },
        "id": "wC1r5-0ebXMT",
        "outputId": "b302f010-713e-444e-9807-0949dd80342f"
      },
      "execution_count": null,
      "outputs": [
        {
          "output_type": "stream",
          "name": "stdout",
          "text": [
            "5.759386625\n"
          ]
        }
      ]
    },
    {
      "cell_type": "markdown",
      "source": [
        "2. 다음은 California Housing 데이터 세트에서 주어진 데이터의 첫번째 행부터 순서대로 80%까지의 데이터를 추출 후, 전체 방 개수 컬럼을 위미하는 ‘total_bedrooms’변수의 결측치를 ‘total_bedrooms’ 변수의 중앙값으로 대체한 후 데이터 세트를 구성한다. 결측치 대체 전의 ‘total_bedrooms’변수 표준편차 값과 결측치 대체 후의 ‘total_bedrooms’변수 표준편차 값의 차이에 대한 절대값을 계산하시오."
      ],
      "metadata": {
        "id": "TAKJKd1r9cs7"
      }
    },
    {
      "cell_type": "markdown",
      "source": [
        "DataSet : https://tinyurl.com/mw4psjfd"
      ],
      "metadata": {
        "id": "ZMAnsJwIRn6V"
      }
    },
    {
      "cell_type": "code",
      "source": [
        "import pandas as pd\n",
        "url = 'https://tinyurl.com/mw4psjfd'\n",
        "df = pd.read_csv(url)\n",
        "\n",
        "data = df['total_bedrooms']\n",
        "n = int(len(data) * 0.8)\n",
        "#print(n)\n",
        "\n",
        "data = data.iloc[:n]\n",
        "\n",
        "# 표준편차 std(), 중앙값 median(), 평균 mean(), 분산 var()\n",
        "# https://zephyrus1111.tistory.com/214\n",
        "\n",
        "std_before = data.std()\n",
        "data = data.fillna(value=data.median())\n",
        "std_after = data.std()\n",
        "print(std_before, std_after)\n",
        "\n",
        "result = abs(std_after - std_before)\n",
        "print(result)"
      ],
      "metadata": {
        "id": "H11kh-1T9e5b",
        "colab": {
          "base_uri": "https://localhost:8080/"
        },
        "outputId": "77c7fbb8-01ac-4c9f-d2c3-2159d32c637b"
      },
      "execution_count": null,
      "outputs": [
        {
          "output_type": "stream",
          "name": "stdout",
          "text": [
            "435.90057705252616 433.9254297608805\n",
            "1.9751472916456692\n"
          ]
        }
      ]
    },
    {
      "cell_type": "markdown",
      "source": [
        "3. 2번 문항에서 활용한 California Housing 데이터 세트를 그대로 활용하여 인구 컬럼인 population 항목의 이상값의 합계를 계산하시오. (이상값은 평균에서 1.5*표준편차를 초과하거나 미만인 값의 범위로 정한다.)"
      ],
      "metadata": {
        "id": "Dm_S6HZsD0Ez"
      }
    },
    {
      "cell_type": "code",
      "source": [
        "#print(df.head())\n",
        "data = df['population']\n",
        "\n",
        "up = data.mean() + (data.std() * 1.5)\n",
        "down = data.mean() - (data.std() * 1.5)\n",
        "#print(down, up)\n",
        "\n",
        "outlier = data.loc[(data < down) | (data > up)]\n",
        "#print(outlier)\n",
        "\n",
        "result = outlier.sum()\n",
        "print(result)"
      ],
      "metadata": {
        "id": "cCWJJFs-D1QS",
        "colab": {
          "base_uri": "https://localhost:8080/"
        },
        "outputId": "732b3843-8b7f-42fd-b52b-72c2cb1f2e9b"
      },
      "execution_count": null,
      "outputs": [
        {
          "output_type": "stream",
          "name": "stdout",
          "text": [
            "5607295.0\n"
          ]
        }
      ]
    },
    {
      "cell_type": "markdown",
      "source": [
        "## 작업형 2유형\n",
        "\n",
        "다음은 e-commerce shipping 데이터 세트이다. 주어진 훈련 데이터 세트를 활용하여 고객이 주문한 물품의 정시 도착 여부를 예측하고 해당 결과를 csv파일로 제출하시오.\n",
        "\n",
        "* 결과 제출 양식 : ID, Reached.on.Time_Y.N"
      ],
      "metadata": {
        "id": "Pg9j_GVZ9fz7"
      }
    },
    {
      "cell_type": "markdown",
      "source": [
        "- DataSet: https://www.kaggle.com/datasets/prachi13/customer-analytics\n",
        "- DataSet2 : https://tinyurl.com/39m5k3um"
      ],
      "metadata": {
        "id": "9JHqFFKDOxQd"
      }
    },
    {
      "cell_type": "code",
      "execution_count": null,
      "metadata": {
        "id": "HEIV-WsmrS4y",
        "colab": {
          "base_uri": "https://localhost:8080/"
        },
        "outputId": "42f5cc39-068b-4dac-9be1-d973908071d7"
      },
      "outputs": [
        {
          "output_type": "stream",
          "name": "stdout",
          "text": [
            "                          0       1       2       3       4\n",
            "ID                        1       2       3       4       5\n",
            "Warehouse_block           D       F       A       B       C\n",
            "Mode_of_Shipment     Flight  Flight  Flight  Flight  Flight\n",
            "Customer_care_calls       4       4       2       3       2\n",
            "Customer_rating           2       5       2       3       2\n",
            "Cost_of_the_Product     177     216     183     176     184\n",
            "Prior_purchases           3       2       4       4       3\n",
            "Product_importance      low     low     low  medium  medium\n",
            "Gender                    F       M       M       M       F\n",
            "Discount_offered         44      59      48      10      46\n",
            "Weight_in_gms          1233    3088    3374    1177    2484\n",
            "Reached.on.Time_Y.N       1       1       1       1       1\n",
            "(10999, 12)\n",
            "<class 'pandas.core.frame.DataFrame'>\n",
            "RangeIndex: 10999 entries, 0 to 10998\n",
            "Data columns (total 12 columns):\n",
            " #   Column               Non-Null Count  Dtype \n",
            "---  ------               --------------  ----- \n",
            " 0   ID                   10999 non-null  int64 \n",
            " 1   Warehouse_block      10999 non-null  object\n",
            " 2   Mode_of_Shipment     10999 non-null  object\n",
            " 3   Customer_care_calls  10999 non-null  int64 \n",
            " 4   Customer_rating      10999 non-null  int64 \n",
            " 5   Cost_of_the_Product  10999 non-null  int64 \n",
            " 6   Prior_purchases      10999 non-null  int64 \n",
            " 7   Product_importance   10999 non-null  object\n",
            " 8   Gender               10999 non-null  object\n",
            " 9   Discount_offered     10999 non-null  int64 \n",
            " 10  Weight_in_gms        10999 non-null  int64 \n",
            " 11  Reached.on.Time_Y.N  10999 non-null  int64 \n",
            "dtypes: int64(8), object(4)\n",
            "memory usage: 1.0+ MB\n",
            "None\n",
            "                       count         mean          std     min     25%  \\\n",
            "ID                   10999.0  5500.000000  3175.282140     1.0  2750.5   \n",
            "Customer_care_calls  10999.0     4.054459     1.141490     2.0     3.0   \n",
            "Customer_rating      10999.0     2.990545     1.413603     1.0     2.0   \n",
            "Cost_of_the_Product  10999.0   210.196836    48.063272    96.0   169.0   \n",
            "Prior_purchases      10999.0     3.567597     1.522860     2.0     3.0   \n",
            "Discount_offered     10999.0    13.373216    16.205527     1.0     4.0   \n",
            "Weight_in_gms        10999.0  3634.016729  1635.377251  1001.0  1839.5   \n",
            "Reached.on.Time_Y.N  10999.0     0.596691     0.490584     0.0     0.0   \n",
            "\n",
            "                        50%     75%      max  \n",
            "ID                   5500.0  8249.5  10999.0  \n",
            "Customer_care_calls     4.0     5.0      7.0  \n",
            "Customer_rating         3.0     4.0      5.0  \n",
            "Cost_of_the_Product   214.0   251.0    310.0  \n",
            "Prior_purchases         3.0     4.0     10.0  \n",
            "Discount_offered        7.0    10.0     65.0  \n",
            "Weight_in_gms        4149.0  5050.0   7846.0  \n",
            "Reached.on.Time_Y.N     1.0     1.0      1.0  \n",
            "[1 0]\n",
            "(2200,)\n",
            "                     4128  7402  204   1507  2964\n",
            "Warehouse_block         3     2     3     4     3\n",
            "Mode_of_Shipment        2     0     2     0     2\n",
            "Customer_care_calls     4     6     2     4     3\n",
            "Customer_rating         2     3     5     1     2\n",
            "Cost_of_the_Product   272   306   155   135   250\n",
            "Prior_purchases         4     4     3     2     3\n",
            "Product_importance      1     1     1     2     1\n",
            "Gender                  1     0     1     0     0\n",
            "Discount_offered        3     5    23    64    37\n",
            "Weight_in_gms        5566  1490  1602  1471  2736\n",
            "<class 'pandas.core.frame.DataFrame'>\n",
            "RangeIndex: 8799 entries, 0 to 8798\n",
            "Data columns (total 10 columns):\n",
            " #   Column               Non-Null Count  Dtype  \n",
            "---  ------               --------------  -----  \n",
            " 0   Warehouse_block      8799 non-null   float64\n",
            " 1   Mode_of_Shipment     8799 non-null   float64\n",
            " 2   Customer_care_calls  8799 non-null   float64\n",
            " 3   Customer_rating      8799 non-null   float64\n",
            " 4   Cost_of_the_Product  8799 non-null   float64\n",
            " 5   Prior_purchases      8799 non-null   float64\n",
            " 6   Product_importance   8799 non-null   float64\n",
            " 7   Gender               8799 non-null   float64\n",
            " 8   Discount_offered     8799 non-null   float64\n",
            " 9   Weight_in_gms        8799 non-null   float64\n",
            "dtypes: float64(10)\n",
            "memory usage: 687.5 KB\n",
            "None\n",
            "0.6626852617612586\n",
            "0.7089262233842268\n",
            "        ID  Reached.on.Time_Y.N\n",
            "0     3246                    0\n",
            "1      318                    1\n",
            "2     4483                    1\n",
            "3     9937                    0\n",
            "4     8917                    0\n",
            "...    ...                  ...\n",
            "2195  5104                    0\n",
            "2196  8591                    0\n",
            "2197  4229                    0\n",
            "2198  7848                    0\n",
            "2199  5285                    0\n",
            "\n",
            "[2200 rows x 2 columns]\n"
          ]
        }
      ],
      "source": [
        "# 데이터 가져오기 read_csv()\n",
        "import pandas as pd\n",
        "import numpy as np\n",
        "\n",
        "url = 'https://tinyurl.com/39m5k3um'\n",
        "df = pd.read_csv(url)\n",
        "\n",
        "# x_test_data = pd.read_csv(\"data/X_test.csv\")\n",
        "# x_train_data = pd.read_csv(\"data/X_train.csv\")\n",
        "# y_train_data = pd.read_csv(\"data/y_train.csv\")\n",
        "\n",
        "# ------- 데이터 확인 info ---------\n",
        "\n",
        "\n",
        "# 모든 컬럼값 확인 T\n",
        "print(df.head().T)\n",
        "\n",
        "# 행/열 확인 shape (생략가능)\n",
        "print(df.shape)\n",
        "\n",
        "# 요약정보 확인 info()\n",
        "## 데이터타입, 결측치 등 확인, object 범주형\n",
        "### object 범주형 인코딩 확인\n",
        "print(df.info())\n",
        "# 명목형변수 Warehouse_block, Mode_of_Shipment, Product_importance, Gender\n",
        "# 결측치 없음\n",
        "\n",
        "# 기초통계량 확인 describe()\n",
        "## count, mean,std,min, 25%, 50%, 75%, max\n",
        "### 데이터 스케일링 확인, 회귀, 비tree 계열\n",
        "print(df.describe().T)\n",
        "\n",
        "# 타깃값 확인 unique\n",
        "## 1차원인지도 확인 (y,)\n",
        "y_train = df['Reached.on.Time_Y.N']\n",
        "x_train = df.drop(columns='Reached.on.Time_Y.N')\n",
        "print(y_train.unique())\n",
        "\n",
        "# 테스트용 데이터 분리\n",
        "from sklearn.model_selection import train_test_split\n",
        "x_train, x_test, y_train, y_test = train_test_split(x_train, y_train, test_size=0.2)\n",
        "test_id = x_test['ID']\n",
        "print(test_id.shape)\n",
        "# ------- 데이터 전처리 preprocessing ---------\n",
        "\n",
        "# 불필요한 컬럭 삭제 drop(columns=[])\n",
        "## PK 역할 컬럼 등 삭제\n",
        "x_train = x_train.drop(columns='ID')\n",
        "x_test = x_test.drop(columns='ID')\n",
        "\n",
        "# 결측치 처리하기 fillna()\n",
        "## 임의로 결측치 삭제하지 말 것\n",
        "## 평균, 중앙값, 상황에 따른 값\n",
        "# 결측치 없음\n",
        "\n",
        "# 범주형 변수 인코딩\n",
        "## 라벨 인코딩 LabelEncoder, 원핫인코딩  OneHotEncoder\n",
        "## 라벨 인코딩(Tree 계열의 분류 알고리즘에 사용)\n",
        "from sklearn.preprocessing import LabelEncoder \n",
        "encoder = LabelEncoder()\n",
        "x_train['Warehouse_block'] = encoder.fit_transform(x_train['Warehouse_block'])\n",
        "x_train['Mode_of_Shipment'] = encoder.fit_transform(x_train['Mode_of_Shipment'])\n",
        "x_train['Product_importance'] = encoder.fit_transform(x_train['Product_importance'])\n",
        "x_train['Gender'] = encoder.fit_transform(x_train['Gender'])\n",
        "\n",
        "x_test['Warehouse_block'] = encoder.fit_transform(x_test['Warehouse_block'])\n",
        "x_test['Mode_of_Shipment'] = encoder.fit_transform(x_test['Mode_of_Shipment'])\n",
        "x_test['Product_importance'] = encoder.fit_transform(x_test['Product_importance'])\n",
        "x_test['Gender'] = encoder.fit_transform(x_test['Gender'])\n",
        "\n",
        "print(x_train.head().T)\n",
        "\n",
        "# 파생변수 생성\n",
        "## 필요시 생성\n",
        "\n",
        "\n",
        "# 데이터 스케일링\n",
        "## 연속형 변수의 최대, 최소 분포차가 클때\n",
        "## MinMaxScaler, StandardScaler, RobustScaler\n",
        "## test는 train용의로 transform() \n",
        "## Tree 계열 필수는 아님\n",
        "from sklearn.preprocessing import RobustScaler\n",
        "scaler = RobustScaler()\n",
        "x_train = pd.DataFrame(scaler.fit_transform(x_train), columns=x_train.columns)\n",
        "x_test = pd.DataFrame(scaler.transform(x_test), columns=x_test.columns)\n",
        "\n",
        "# 상관관계 확인 corr()\n",
        "## 필요 시 확인\n",
        "#print('>>>>>>>>>>>',x_train.corr())\n",
        "\n",
        "# 전처리 확인 info()\n",
        "print(x_train.info())\n",
        "\n",
        "# ------- 머신러닝 machine learning ---------\n",
        "\n",
        "# 평가용 데이터 분리 model_selection\n",
        "## stratify, stes_size, y값 1차원 확인\n",
        "\n",
        "\n",
        "# 데이터 학습\n",
        "## fit, predict, predict_proba\n",
        "## 분류 XXXClassifier, LogisticRegression\n",
        "## 회귀(예측) XXXRegressor(XXXRegression)\n",
        "## 공통 ensemble\n",
        "## RandomForestXXX : n_estimators (default = 100), max_depth, criterion\n",
        "## criterion : 분할 품질을 측정하는 기능 ()\n",
        "### RandomForestClassifier: criterion{“gini”, “entropy”, “log_loss”}, default=”gini”\n",
        "### RandomForestRegressor: criterion{“mse”, “mae”}, / v1.2 criterion{“squared_error”, “absolute_error”}, default=”squared_error”\n",
        "## GradientBoostingXXX : n_estimators, learning_rate(default =  0.1)\n",
        "from sklearn.ensemble import RandomForestClassifier\n",
        "from sklearn.ensemble import GradientBoostingClassifier\n",
        "\n",
        "rf_model = RandomForestClassifier()\n",
        "rf_model.fit(x_train, y_train)\n",
        "rf_pred = rf_model.predict(x_test)\n",
        "\n",
        "gbc_model = GradientBoostingClassifier()\n",
        "gbc_model.fit(x_train, y_train)\n",
        "gbc_pred = gbc_model.predict(x_test)\n",
        "\n",
        "# 데이터 평가 metrics\n",
        "## 회귀 : MAE, MSE, RMSE, R^2, RMSE는 np.sqrt(MSE값)\n",
        "## 분류 : ROC_AUC, Accuracy(정확도), Precision(정밀도), Recall(재현율)\n",
        "from sklearn.metrics import roc_auc_score\n",
        "print(roc_auc_score(y_test, rf_pred))\n",
        "print(roc_auc_score(y_test, gbc_pred))\n",
        "\n",
        "# ------- 답안 제출 ---------\n",
        "\n",
        "# 전체학습데이터로 다시 학습\n",
        "\n",
        "\n",
        "# 제출용 예측\n",
        "\n",
        "# 답안 제출 참고\n",
        "# 아래 코드 예측변수와 수험번호를 개인별로 변경하여 활용\n",
        "pd.DataFrame({'ID': test_id, 'Reached.on.Time_Y.N': gbc_pred}).to_csv('424242.csv', index=False)\n",
        "\n",
        "\n",
        "# 제출 최종 확인\n",
        "print(pd.read_csv(\"./424242.csv\"))\n",
        "\n"
      ]
    }
  ]
}