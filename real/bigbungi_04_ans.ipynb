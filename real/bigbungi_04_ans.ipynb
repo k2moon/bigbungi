{
  "nbformat": 4,
  "nbformat_minor": 0,
  "metadata": {
    "colab": {
      "provenance": [],
      "authorship_tag": "ABX9TyNvFChjNkBQx3XZZK1JEn+z",
      "include_colab_link": true
    },
    "kernelspec": {
      "name": "python3",
      "display_name": "Python 3"
    },
    "language_info": {
      "name": "python"
    }
  },
  "cells": [
    {
      "cell_type": "markdown",
      "metadata": {
        "id": "view-in-github",
        "colab_type": "text"
      },
      "source": [
        "<a href=\"https://colab.research.google.com/github/k2moon/bigbungi/blob/main/real/bigbungi_04_ans.ipynb\" target=\"_parent\"><img src=\"https://colab.research.google.com/assets/colab-badge.svg\" alt=\"Open In Colab\"/></a>"
      ]
    },
    {
      "cell_type": "markdown",
      "source": [
        "# 4회 기출문제\n",
        "---"
      ],
      "metadata": {
        "id": "C9HN8YvV8cKL"
      }
    },
    {
      "cell_type": "markdown",
      "source": [
        "## 작업형 1유형"
      ],
      "metadata": {
        "id": "dxfBKl5c9K8D"
      }
    },
    {
      "cell_type": "markdown",
      "source": [
        "1. age 컬럼의 3사분위수와 1사분위수의 차를 절대값으로 구하고, 소수점 버려서, 정수로 출력"
      ],
      "metadata": {
        "id": "aa-4utC_9PkT"
      }
    },
    {
      "cell_type": "markdown",
      "source": [
        "- DataSet : https://tinyurl.com/4kzxbeuz"
      ],
      "metadata": {
        "id": "FDOqYvNNNlo3"
      }
    },
    {
      "cell_type": "code",
      "source": [
        "import pandas as pd\n",
        "url = 'https://tinyurl.com/4kzxbeuz'\n",
        "df = pd.read_csv(url)\n",
        "print(df.head())"
      ],
      "metadata": {
        "id": "YchP6VBM9ZIN",
        "colab": {
          "base_uri": "https://localhost:8080/",
          "height": 206
        },
        "outputId": "08aef01a-7c36-4cca-b72d-95285908c198"
      },
      "execution_count": 1,
      "outputs": [
        {
          "output_type": "execute_result",
          "data": {
            "text/plain": [
              "     id   age city    f1  f2   f3    f4         f5\n",
              "0  id01   2.0   서울   NaN   0  NaN  ENFJ  91.297791\n",
              "1  id02   9.0   서울  70.0   1  NaN  ENFJ  60.339826\n",
              "2  id03  27.0   서울  61.0   1  NaN  ISTJ  17.252986\n",
              "3  id04  75.0   서울   NaN   2  NaN  INFP  52.667078\n",
              "4  id05  24.0   서울  85.0   2  NaN  ISFJ  29.269869"
            ],
            "text/html": [
              "\n",
              "  <div id=\"df-9803d6ad-b560-400d-a0a3-545ede6f6890\">\n",
              "    <div class=\"colab-df-container\">\n",
              "      <div>\n",
              "<style scoped>\n",
              "    .dataframe tbody tr th:only-of-type {\n",
              "        vertical-align: middle;\n",
              "    }\n",
              "\n",
              "    .dataframe tbody tr th {\n",
              "        vertical-align: top;\n",
              "    }\n",
              "\n",
              "    .dataframe thead th {\n",
              "        text-align: right;\n",
              "    }\n",
              "</style>\n",
              "<table border=\"1\" class=\"dataframe\">\n",
              "  <thead>\n",
              "    <tr style=\"text-align: right;\">\n",
              "      <th></th>\n",
              "      <th>id</th>\n",
              "      <th>age</th>\n",
              "      <th>city</th>\n",
              "      <th>f1</th>\n",
              "      <th>f2</th>\n",
              "      <th>f3</th>\n",
              "      <th>f4</th>\n",
              "      <th>f5</th>\n",
              "    </tr>\n",
              "  </thead>\n",
              "  <tbody>\n",
              "    <tr>\n",
              "      <th>0</th>\n",
              "      <td>id01</td>\n",
              "      <td>2.0</td>\n",
              "      <td>서울</td>\n",
              "      <td>NaN</td>\n",
              "      <td>0</td>\n",
              "      <td>NaN</td>\n",
              "      <td>ENFJ</td>\n",
              "      <td>91.297791</td>\n",
              "    </tr>\n",
              "    <tr>\n",
              "      <th>1</th>\n",
              "      <td>id02</td>\n",
              "      <td>9.0</td>\n",
              "      <td>서울</td>\n",
              "      <td>70.0</td>\n",
              "      <td>1</td>\n",
              "      <td>NaN</td>\n",
              "      <td>ENFJ</td>\n",
              "      <td>60.339826</td>\n",
              "    </tr>\n",
              "    <tr>\n",
              "      <th>2</th>\n",
              "      <td>id03</td>\n",
              "      <td>27.0</td>\n",
              "      <td>서울</td>\n",
              "      <td>61.0</td>\n",
              "      <td>1</td>\n",
              "      <td>NaN</td>\n",
              "      <td>ISTJ</td>\n",
              "      <td>17.252986</td>\n",
              "    </tr>\n",
              "    <tr>\n",
              "      <th>3</th>\n",
              "      <td>id04</td>\n",
              "      <td>75.0</td>\n",
              "      <td>서울</td>\n",
              "      <td>NaN</td>\n",
              "      <td>2</td>\n",
              "      <td>NaN</td>\n",
              "      <td>INFP</td>\n",
              "      <td>52.667078</td>\n",
              "    </tr>\n",
              "    <tr>\n",
              "      <th>4</th>\n",
              "      <td>id05</td>\n",
              "      <td>24.0</td>\n",
              "      <td>서울</td>\n",
              "      <td>85.0</td>\n",
              "      <td>2</td>\n",
              "      <td>NaN</td>\n",
              "      <td>ISFJ</td>\n",
              "      <td>29.269869</td>\n",
              "    </tr>\n",
              "  </tbody>\n",
              "</table>\n",
              "</div>\n",
              "      <button class=\"colab-df-convert\" onclick=\"convertToInteractive('df-9803d6ad-b560-400d-a0a3-545ede6f6890')\"\n",
              "              title=\"Convert this dataframe to an interactive table.\"\n",
              "              style=\"display:none;\">\n",
              "        \n",
              "  <svg xmlns=\"http://www.w3.org/2000/svg\" height=\"24px\"viewBox=\"0 0 24 24\"\n",
              "       width=\"24px\">\n",
              "    <path d=\"M0 0h24v24H0V0z\" fill=\"none\"/>\n",
              "    <path d=\"M18.56 5.44l.94 2.06.94-2.06 2.06-.94-2.06-.94-.94-2.06-.94 2.06-2.06.94zm-11 1L8.5 8.5l.94-2.06 2.06-.94-2.06-.94L8.5 2.5l-.94 2.06-2.06.94zm10 10l.94 2.06.94-2.06 2.06-.94-2.06-.94-.94-2.06-.94 2.06-2.06.94z\"/><path d=\"M17.41 7.96l-1.37-1.37c-.4-.4-.92-.59-1.43-.59-.52 0-1.04.2-1.43.59L10.3 9.45l-7.72 7.72c-.78.78-.78 2.05 0 2.83L4 21.41c.39.39.9.59 1.41.59.51 0 1.02-.2 1.41-.59l7.78-7.78 2.81-2.81c.8-.78.8-2.07 0-2.86zM5.41 20L4 18.59l7.72-7.72 1.47 1.35L5.41 20z\"/>\n",
              "  </svg>\n",
              "      </button>\n",
              "      \n",
              "  <style>\n",
              "    .colab-df-container {\n",
              "      display:flex;\n",
              "      flex-wrap:wrap;\n",
              "      gap: 12px;\n",
              "    }\n",
              "\n",
              "    .colab-df-convert {\n",
              "      background-color: #E8F0FE;\n",
              "      border: none;\n",
              "      border-radius: 50%;\n",
              "      cursor: pointer;\n",
              "      display: none;\n",
              "      fill: #1967D2;\n",
              "      height: 32px;\n",
              "      padding: 0 0 0 0;\n",
              "      width: 32px;\n",
              "    }\n",
              "\n",
              "    .colab-df-convert:hover {\n",
              "      background-color: #E2EBFA;\n",
              "      box-shadow: 0px 1px 2px rgba(60, 64, 67, 0.3), 0px 1px 3px 1px rgba(60, 64, 67, 0.15);\n",
              "      fill: #174EA6;\n",
              "    }\n",
              "\n",
              "    [theme=dark] .colab-df-convert {\n",
              "      background-color: #3B4455;\n",
              "      fill: #D2E3FC;\n",
              "    }\n",
              "\n",
              "    [theme=dark] .colab-df-convert:hover {\n",
              "      background-color: #434B5C;\n",
              "      box-shadow: 0px 1px 3px 1px rgba(0, 0, 0, 0.15);\n",
              "      filter: drop-shadow(0px 1px 2px rgba(0, 0, 0, 0.3));\n",
              "      fill: #FFFFFF;\n",
              "    }\n",
              "  </style>\n",
              "\n",
              "      <script>\n",
              "        const buttonEl =\n",
              "          document.querySelector('#df-9803d6ad-b560-400d-a0a3-545ede6f6890 button.colab-df-convert');\n",
              "        buttonEl.style.display =\n",
              "          google.colab.kernel.accessAllowed ? 'block' : 'none';\n",
              "\n",
              "        async function convertToInteractive(key) {\n",
              "          const element = document.querySelector('#df-9803d6ad-b560-400d-a0a3-545ede6f6890');\n",
              "          const dataTable =\n",
              "            await google.colab.kernel.invokeFunction('convertToInteractive',\n",
              "                                                     [key], {});\n",
              "          if (!dataTable) return;\n",
              "\n",
              "          const docLinkHtml = 'Like what you see? Visit the ' +\n",
              "            '<a target=\"_blank\" href=https://colab.research.google.com/notebooks/data_table.ipynb>data table notebook</a>'\n",
              "            + ' to learn more about interactive tables.';\n",
              "          element.innerHTML = '';\n",
              "          dataTable['output_type'] = 'display_data';\n",
              "          await google.colab.output.renderOutput(dataTable, element);\n",
              "          const docLink = document.createElement('div');\n",
              "          docLink.innerHTML = docLinkHtml;\n",
              "          element.appendChild(docLink);\n",
              "        }\n",
              "      </script>\n",
              "    </div>\n",
              "  </div>\n",
              "  "
            ]
          },
          "metadata": {},
          "execution_count": 1
        }
      ]
    },
    {
      "cell_type": "code",
      "source": [
        "# print(\"1사분위: \",df['age'].quantile(0.25))\n",
        "# print(\"3사분위: \",df['age'].quantile(0.75))\n",
        "\n",
        "result = abs(df['age'].quantile(0.25) - df['age'].quantile(0.75))\n",
        "\n",
        "print(int(result))"
      ],
      "metadata": {
        "colab": {
          "base_uri": "https://localhost:8080/"
        },
        "id": "R7ftuX0zU-d-",
        "outputId": "69f7f577-22e4-401a-d4b8-fa72088d7fda"
      },
      "execution_count": 2,
      "outputs": [
        {
          "output_type": "stream",
          "name": "stdout",
          "text": [
            "50\n"
          ]
        }
      ]
    },
    {
      "cell_type": "markdown",
      "source": [
        "2. (loves반응+wows반응)/(reactions반응) 비율이 0.4보다 크고 0.5보다 작으면서, type 컬럼이 'video'인 데이터의 갯수"
      ],
      "metadata": {
        "id": "TAKJKd1r9cs7"
      }
    },
    {
      "cell_type": "markdown",
      "source": [
        "- DataSet: https://tinyurl.com/y5862f28"
      ],
      "metadata": {
        "id": "NHVmbjgicHxs"
      }
    },
    {
      "cell_type": "code",
      "source": [
        "import pandas as pd\n",
        "url = 'https://tinyurl.com/y5862f28'\n",
        "df = pd.read_csv(url)\n",
        "print(df.head())"
      ],
      "metadata": {
        "id": "H11kh-1T9e5b",
        "colab": {
          "base_uri": "https://localhost:8080/"
        },
        "outputId": "8d8d54ff-52a8-4b77-dbb4-fe23811ce2f8"
      },
      "execution_count": 3,
      "outputs": [
        {
          "output_type": "stream",
          "name": "stdout",
          "text": [
            "   id   type  reactions  comments  shares  likes  loves  wows  hahas  sads  \\\n",
            "0   1  video        529       512     262    432     92     3      1     1   \n",
            "1   2  photo        150         0       0    150      0     0      0     0   \n",
            "2   3  video        227       236      57    204     21     1      1     0   \n",
            "3   4  photo        111         0       0    111      0     0      0     0   \n",
            "4   5  photo        213         0       0    204      9     0      0     0   \n",
            "\n",
            "   angrys  \n",
            "0       0  \n",
            "1       0  \n",
            "2       0  \n",
            "3       0  \n",
            "4       0  \n"
          ]
        }
      ]
    },
    {
      "cell_type": "code",
      "source": [
        "cond1 = (df['loves'] + df['wows'])/ df['reactions'] > 0.4\n",
        "cond2 = (df['loves'] + df['wows'])/ df['reactions'] < 0.5\n",
        "cond3 = df['type'] == 'video'\n",
        "\n",
        "result = len(df[cond1 & cond2 & cond3])\n",
        "print(result)"
      ],
      "metadata": {
        "colab": {
          "base_uri": "https://localhost:8080/"
        },
        "id": "q6OjpJ5JVU0D",
        "outputId": "c953591c-f65b-4dcf-afe8-8ab7a8520d69"
      },
      "execution_count": 4,
      "outputs": [
        {
          "output_type": "stream",
          "name": "stdout",
          "text": [
            "90\n"
          ]
        }
      ]
    },
    {
      "cell_type": "markdown",
      "source": [
        "3.  date_added가 2018년 1월 이면서 country가 United Kingdom 단독 제작인 데이터의 갯수"
      ],
      "metadata": {
        "id": "Dm_S6HZsD0Ez"
      }
    },
    {
      "cell_type": "markdown",
      "source": [
        "- DataSet: https://tinyurl.com/bd48cwsm\n",
        "- DataSet 다운로드 : https://tinyurl.com/vd958vjd"
      ],
      "metadata": {
        "id": "ngcyBCtNNrd1"
      }
    },
    {
      "cell_type": "code",
      "source": [
        "import pandas as pd\n",
        "url = 'https://tinyurl.com/bd48cwsm'\n",
        "df = pd.read_csv(url)\n",
        "print(df.head())"
      ],
      "metadata": {
        "id": "cCWJJFs-D1QS",
        "colab": {
          "base_uri": "https://localhost:8080/"
        },
        "outputId": "1b546faa-66e8-4205-96ff-da991b4890ea"
      },
      "execution_count": 5,
      "outputs": [
        {
          "output_type": "stream",
          "name": "stdout",
          "text": [
            "  show_id     type                  title         director  \\\n",
            "0      s1    Movie   Dick Johnson Is Dead  Kirsten Johnson   \n",
            "1      s2  TV Show          Blood & Water              NaN   \n",
            "2      s3  TV Show              Ganglands  Julien Leclercq   \n",
            "3      s4  TV Show  Jailbirds New Orleans              NaN   \n",
            "4      s5  TV Show           Kota Factory              NaN   \n",
            "\n",
            "                                                cast        country  \\\n",
            "0                                                NaN  United States   \n",
            "1  Ama Qamata, Khosi Ngema, Gail Mabalane, Thaban...   South Africa   \n",
            "2  Sami Bouajila, Tracy Gotoas, Samuel Jouy, Nabi...            NaN   \n",
            "3                                                NaN            NaN   \n",
            "4  Mayur More, Jitendra Kumar, Ranjan Raj, Alam K...          India   \n",
            "\n",
            "           date_added  release_year rating   duration  \\\n",
            "0  September 25, 2021          2020  PG-13     90 min   \n",
            "1  September 24, 2021          2021  TV-MA  2 Seasons   \n",
            "2  September 24, 2021          2021  TV-MA   1 Season   \n",
            "3  September 24, 2021          2021  TV-MA   1 Season   \n",
            "4  September 24, 2021          2021  TV-MA  2 Seasons   \n",
            "\n",
            "                                           listed_in  \n",
            "0                                      Documentaries  \n",
            "1    International TV Shows, TV Dramas, TV Mysteries  \n",
            "2  Crime TV Shows, International TV Shows, TV Act...  \n",
            "3                             Docuseries, Reality TV  \n",
            "4  International TV Shows, Romantic TV Shows, TV ...  \n"
          ]
        }
      ]
    },
    {
      "cell_type": "code",
      "source": [
        "cond1 = df['country'] == \"United Kingdom\"\n",
        "\n",
        "# 날짜형으로 변환 해서 처리\n",
        "df['date_added'] = pd.to_datetime(df['date_added'])\n",
        "df['year'] = df['date_added'].dt.year\n",
        "df['month'] = df['date_added'].dt.month\n",
        "\n",
        "# 답 1\n",
        "cond2 = df['year'] == 2018\n",
        "cond3 = df['month'] == 1\n",
        "\n",
        "result = len(df[cond1 & cond2 & cond3])\n",
        "\n",
        "print(result)"
      ],
      "metadata": {
        "colab": {
          "base_uri": "https://localhost:8080/"
        },
        "id": "fH4Gtd4WVrd-",
        "outputId": "7fe62b32-70aa-4d62-8d71-2fbc257eedf3"
      },
      "execution_count": 6,
      "outputs": [
        {
          "output_type": "stream",
          "name": "stdout",
          "text": [
            "6\n"
          ]
        }
      ]
    },
    {
      "cell_type": "code",
      "source": [
        "# 답2\n",
        "cond2 = df['date_added'] >= '2018-1-1'\n",
        "cond3 = df['date_added'] <= '2018-1-31'\n",
        "\n",
        "result = len(df[cond1 & cond2 & cond3])\n",
        "\n",
        "print(result)"
      ],
      "metadata": {
        "colab": {
          "base_uri": "https://localhost:8080/"
        },
        "id": "FJ9HvZgeWUht",
        "outputId": "5f7a185b-a0eb-430f-cd91-5893c2ad1889"
      },
      "execution_count": 7,
      "outputs": [
        {
          "output_type": "stream",
          "name": "stdout",
          "text": [
            "6\n"
          ]
        }
      ]
    },
    {
      "cell_type": "markdown",
      "source": [
        "## 작업형 2유형\n",
        "\n",
        "### [마케팅] 자동차 시장 세분화\n",
        "- 자동차 회사는 새로운 전략을 수립하기 위해 4개의 시장으로 세분화했습니다.\n",
        "- 기존 고객 분류 자료를 바탕으로 신규 고객이 어떤 분류에 속할지 예측해주세요!\n",
        "- 예측할 값(y): \"Segmentation\" (1,2,3,4)\n",
        "- 평가: Macro f1-score\n",
        "- data: train.csv, test.csv\n",
        "\n",
        "* 결과 제출 양식 : ID, Segmentation"
      ],
      "metadata": {
        "id": "Pg9j_GVZ9fz7"
      }
    },
    {
      "cell_type": "markdown",
      "source": [
        "- DataSet: https://tinyurl.com/y82mvaf2"
      ],
      "metadata": {
        "id": "9JHqFFKDOxQd"
      }
    },
    {
      "cell_type": "code",
      "source": [
        "import pandas as pd\n",
        "import numpy as np\n",
        "\n",
        "url = 'https://tinyurl.com/y82mvaf2'\n",
        "data = pd.read_csv(url)\n",
        "print(data.head().T)\n"
      ],
      "metadata": {
        "colab": {
          "base_uri": "https://localhost:8080/"
        },
        "id": "gf0faiFRUjNW",
        "outputId": "43680e46-fddb-4d7b-ce59-acbb5d79bec4"
      },
      "execution_count": 29,
      "outputs": [
        {
          "output_type": "stream",
          "name": "stdout",
          "text": [
            "                          0         1       2        3           4\n",
            "ID                   462809    466315  461735   461319      460156\n",
            "Gender                 Male    Female    Male     Male        Male\n",
            "Ever_Married             No       Yes     Yes      Yes          No\n",
            "Age                      22        67      67       56          32\n",
            "Graduated                No       Yes     Yes       No         Yes\n",
            "Profession       Healthcare  Engineer  Lawyer   Artist  Healthcare\n",
            "Work_Experience         1.0       1.0     0.0      0.0         1.0\n",
            "Spending_Score          Low       Low    High  Average         Low\n",
            "Family_Size             4.0       1.0     2.0      2.0         3.0\n",
            "Var_1                 Cat_4     Cat_6   Cat_6    Cat_6       Cat_6\n",
            "Segmentation              4         2       2        3           3\n"
          ]
        }
      ]
    },
    {
      "cell_type": "code",
      "execution_count": 33,
      "metadata": {
        "id": "HEIV-WsmrS4y",
        "colab": {
          "base_uri": "https://localhost:8080/"
        },
        "outputId": "4d7cf108-53cf-4a4d-e110-19ac8bf4e3d6"
      },
      "outputs": [
        {
          "output_type": "stream",
          "name": "stdout",
          "text": [
            "                          0         1       2        3           4\n",
            "ID                   462809    466315  461735   461319      460156\n",
            "Gender                 Male    Female    Male     Male        Male\n",
            "Ever_Married             No       Yes     Yes      Yes          No\n",
            "Age                      22        67      67       56          32\n",
            "Graduated                No       Yes     Yes       No         Yes\n",
            "Profession       Healthcare  Engineer  Lawyer   Artist  Healthcare\n",
            "Work_Experience         1.0       1.0     0.0      0.0         1.0\n",
            "Spending_Score          Low       Low    High  Average         Low\n",
            "Family_Size             4.0       1.0     2.0      2.0         3.0\n",
            "Var_1                 Cat_4     Cat_6   Cat_6    Cat_6       Cat_6\n",
            "Segmentation              4         2       2        3           3\n",
            "(6665, 11)\n",
            "<class 'pandas.core.frame.DataFrame'>\n",
            "RangeIndex: 6665 entries, 0 to 6664\n",
            "Data columns (total 11 columns):\n",
            " #   Column           Non-Null Count  Dtype  \n",
            "---  ------           --------------  -----  \n",
            " 0   ID               6665 non-null   int64  \n",
            " 1   Gender           6665 non-null   object \n",
            " 2   Ever_Married     6665 non-null   object \n",
            " 3   Age              6665 non-null   int64  \n",
            " 4   Graduated        6665 non-null   object \n",
            " 5   Profession       6665 non-null   object \n",
            " 6   Work_Experience  6665 non-null   float64\n",
            " 7   Spending_Score   6665 non-null   object \n",
            " 8   Family_Size      6665 non-null   float64\n",
            " 9   Var_1            6665 non-null   object \n",
            " 10  Segmentation     6665 non-null   int64  \n",
            "dtypes: float64(2), int64(3), object(6)\n",
            "memory usage: 572.9+ KB\n",
            "None\n",
            "ID                 0\n",
            "Gender             0\n",
            "Ever_Married       0\n",
            "Age                0\n",
            "Graduated          0\n",
            "Profession         0\n",
            "Work_Experience    0\n",
            "Spending_Score     0\n",
            "Family_Size        0\n",
            "Var_1              0\n",
            "Segmentation       0\n",
            "dtype: int64\n",
            "                  count           mean          std       min       25%  \\\n",
            "ID               6665.0  463519.840960  2566.431740  458982.0  461349.0   \n",
            "Age              6665.0      43.536084    16.524054      18.0      31.0   \n",
            "Work_Experience  6665.0       2.629107     3.405365       0.0       0.0   \n",
            "Family_Size      6665.0       2.841110     1.524743       1.0       2.0   \n",
            "Segmentation     6665.0       2.542836     1.122723       1.0       2.0   \n",
            "\n",
            "                      50%       75%       max  \n",
            "ID               463575.0  465741.0  467974.0  \n",
            "Age                  41.0      53.0      89.0  \n",
            "Work_Experience       1.0       4.0      14.0  \n",
            "Family_Size           2.0       4.0       9.0  \n",
            "Segmentation          3.0       4.0       4.0  \n",
            "4    1757\n",
            "3    1720\n",
            "1    1616\n",
            "2    1572\n",
            "Name: Segmentation, dtype: int64\n",
            "(1333,)\n",
            "      Gender Ever_Married  Age Graduated  Profession  Work_Experience  \\\n",
            "6239    Male           No   51       Yes      Artist              5.0   \n",
            "3210  Female           No   42       Yes    Engineer             11.0   \n",
            "4328  Female          Yes   51       Yes      Artist              6.0   \n",
            "303   Female           No   18        No  Healthcare              9.0   \n",
            "3823  Female          Yes   38        No    Engineer              1.0   \n",
            "\n",
            "     Spending_Score  Family_Size  Var_1  \n",
            "6239            Low          1.0  Cat_6  \n",
            "3210            Low          1.0  Cat_6  \n",
            "4328           High          2.0  Cat_4  \n",
            "303             Low          5.0  Cat_4  \n",
            "3823            Low          1.0  Cat_4  \n",
            "<class 'pandas.core.frame.DataFrame'>\n",
            "Int64Index: 5332 entries, 6239 to 4730\n",
            "Data columns (total 9 columns):\n",
            " #   Column           Non-Null Count  Dtype  \n",
            "---  ------           --------------  -----  \n",
            " 0   Gender           5332 non-null   int64  \n",
            " 1   Ever_Married     5332 non-null   int64  \n",
            " 2   Age              5332 non-null   int64  \n",
            " 3   Graduated        5332 non-null   int64  \n",
            " 4   Profession       5332 non-null   int64  \n",
            " 5   Work_Experience  5332 non-null   float64\n",
            " 6   Spending_Score   5332 non-null   int64  \n",
            " 7   Family_Size      5332 non-null   float64\n",
            " 8   Var_1            5332 non-null   int64  \n",
            "dtypes: float64(2), int64(7)\n",
            "memory usage: 416.6 KB\n",
            "None\n",
            "<class 'pandas.core.frame.DataFrame'>\n",
            "RangeIndex: 5332 entries, 0 to 5331\n",
            "Data columns (total 9 columns):\n",
            " #   Column           Non-Null Count  Dtype  \n",
            "---  ------           --------------  -----  \n",
            " 0   Gender           5332 non-null   float64\n",
            " 1   Ever_Married     5332 non-null   float64\n",
            " 2   Age              5332 non-null   float64\n",
            " 3   Graduated        5332 non-null   float64\n",
            " 4   Profession       5332 non-null   float64\n",
            " 5   Work_Experience  5332 non-null   float64\n",
            " 6   Spending_Score   5332 non-null   float64\n",
            " 7   Family_Size      5332 non-null   float64\n",
            " 8   Var_1            5332 non-null   float64\n",
            "dtypes: float64(9)\n",
            "memory usage: 375.0 KB\n",
            "None\n",
            "0.4971524559247341\n",
            "0.5261998855976184\n",
            "       ID  TravelInsurance\n",
            "0  459405                2\n",
            "1  462795                4\n",
            "2  464033                4\n",
            "3  459661                3\n",
            "4  462407                2\n"
          ]
        }
      ],
      "source": [
        "# 데이터 가져오기 read_csv()\n",
        "df = data.copy()\n",
        "\n",
        "# x_test_data = pd.read_csv(\"data/X_test.csv\")\n",
        "# x_train_data = pd.read_csv(\"data/X_train.csv\")\n",
        "# y_train_data = pd.read_csv(\"data/y_train.csv\")\n",
        "\n",
        "# ------- 데이터 확인 info ---------\n",
        "\n",
        "\n",
        "# 모든 컬럼값 확인 T\n",
        "print(df.head().T)\n",
        "\n",
        "# 행/열 확인 shape (생략가능)\n",
        "print(df.shape)\n",
        "\n",
        "# 요약정보 확인 info()\n",
        "## 데이터타입, 결측치 등 확인, object 범주형\n",
        "### object 범주형 인코딩 확인\n",
        "print(df.info())\n",
        "# 명목형변수 확인\n",
        "# 결측치 없음\n",
        "print(df.isnull().sum())\n",
        "\n",
        "# 기초통계량 확인 describe()\n",
        "## count, mean,std,min, 25%, 50%, 75%, max\n",
        "### 데이터 스케일링 확인, 회귀, 비tree 계열\n",
        "print(df.describe().T)\n",
        "\n",
        "# 타깃값 확인 value_counts, unique\n",
        "## 1차원인지도 확인 (y,)\n",
        "#y_train = df['Segmentation']\n",
        "y_train = df.pop('Segmentation')\n",
        "x_train = df.copy()\n",
        "print(y_train.value_counts())\n",
        "\n",
        "# 테스트용 데이터 분리\n",
        "from sklearn.model_selection import train_test_split\n",
        "x_train, x_test, y_train, y_test = train_test_split(x_train, y_train, test_size=0.2)\n",
        "test_id = x_test.pop('ID')\n",
        "print(test_id.shape)\n",
        "# ------- 데이터 전처리 preprocessing ---------\n",
        "\n",
        "# 불필요한 컬럭 삭제 drop(columns=[])\n",
        "## PK 역할 컬럼 등 삭제\n",
        "\n",
        "x_train = x_train.drop(columns='ID')\n",
        "#x_test = x_test.drop(columns='ID')\n",
        "\n",
        "print(x_train.head())\n",
        "\n",
        "# 결측치 처리하기 fillna()\n",
        "## 임의로 결측치 삭제하지 말 것\n",
        "## 평균, 중앙값, 상황에 따른 값\n",
        "\n",
        "\n",
        "\n",
        "# 범주형 변수 인코딩\n",
        "## 라벨 인코딩 LabelEncoder, 원핫인코딩  OneHotEncoder\n",
        "## 라벨 인코딩(Tree 계열의 분류 알고리즘에 사용)\n",
        "\n",
        "from sklearn.preprocessing import LabelEncoder \n",
        "encoder = LabelEncoder()\n",
        "x_train['Gender'] = encoder.fit_transform(x_train['Gender'])\n",
        "x_train['Ever_Married'] = encoder.fit_transform(x_train['Ever_Married'])\n",
        "x_train['Graduated'] = encoder.fit_transform(x_train['Graduated'])\n",
        "x_train['Profession'] = encoder.fit_transform(x_train['Profession'])\n",
        "x_train['Spending_Score'] = encoder.fit_transform(x_train['Spending_Score'])\n",
        "x_train['Var_1'] = encoder.fit_transform(x_train['Var_1'])\n",
        "\n",
        "x_test['Gender'] = encoder.fit_transform(x_test['Gender'])\n",
        "x_test['Ever_Married'] = encoder.fit_transform(x_test['Ever_Married'])\n",
        "x_test['Graduated'] = encoder.fit_transform(x_test['Graduated'])\n",
        "x_test['Profession'] = encoder.fit_transform(x_test['Profession'])\n",
        "x_test['Spending_Score'] = encoder.fit_transform(x_test['Spending_Score'])\n",
        "x_test['Var_1'] = encoder.fit_transform(x_test['Var_1'])\n",
        "\n",
        "print(x_train.info())\n",
        "\n",
        "# 파생변수 생성\n",
        "## 필요시 생성\n",
        "\n",
        "\n",
        "# 데이터 스케일링\n",
        "## 연속형 변수의 최대, 최소 분포차가 클때\n",
        "## MinMaxScaler, StandardScaler, RobustScaler\n",
        "## test는 train용의로 transform() \n",
        "## Tree 계열 필수는 아님\n",
        "from sklearn.preprocessing import RobustScaler\n",
        "scaler = RobustScaler()\n",
        "x_train = pd.DataFrame(scaler.fit_transform(x_train), columns=x_train.columns)\n",
        "x_test = pd.DataFrame(scaler.transform(x_test), columns=x_test.columns)\n",
        "\n",
        "# 상관관계 확인 corr()\n",
        "## 필요 시 확인\n",
        "#print('>>>>>>>>>>>',x_train.corr())\n",
        "\n",
        "# 전처리 확인 info()\n",
        "print(x_train.info())\n",
        "\n",
        "# ------- 머신러닝 machine learning ---------\n",
        "\n",
        "# 평가용 데이터 분리 model_selection\n",
        "## stratify, stes_size, y값 1차원 확인\n",
        "\n",
        "\n",
        "# 데이터 학습\n",
        "## fit, predict, predict_proba\n",
        "## 분류 XXXClassifier, LogisticRegression\n",
        "## 회귀(예측) XXXRegressor(XXXRegression)\n",
        "## 공통 ensemble\n",
        "## RandomForestXXX : n_estimators (default = 100), max_depth, criterion\n",
        "## criterion : 분할 품질을 측정하는 기능 ()\n",
        "### RandomForestClassifier: criterion{“gini”, “entropy”, “log_loss”}, default=”gini”\n",
        "### RandomForestRegressor: criterion{“mse”, “mae”}, / v1.2 criterion{“squared_error”, “absolute_error”}, default=”squared_error”\n",
        "## GradientBoostingXXX : n_estimators, learning_rate(default =  0.1)\n",
        "from sklearn.ensemble import RandomForestClassifier\n",
        "from sklearn.ensemble import GradientBoostingClassifier\n",
        "\n",
        "rf_model = RandomForestClassifier()\n",
        "rf_model.fit(x_train, y_train)\n",
        "rf_pred = rf_model.predict(x_test)\n",
        "\n",
        "gbc_model = GradientBoostingClassifier()\n",
        "gbc_model.fit(x_train, y_train)\n",
        "gbc_pred = gbc_model.predict(x_test)\n",
        "\n",
        "# 데이터 평가 metrics\n",
        "## 회귀 : MAE, MSE, RMSE, R^2, RMSE는 np.sqrt(MSE값)\n",
        "## 분류 : ROC_AUC, Accuracy(정확도), Precision(정밀도), Recall(재현율)\n",
        "## f1_score() : averageone of [None, 'micro', 'macro', 'weighted'] 필수값\n",
        "from sklearn.metrics import f1_score\n",
        "print(f1_score(y_test, rf_pred, average='macro'))\n",
        "print(f1_score(y_test, gbc_pred, average='macro'))\n",
        "\n",
        "# ------- 답안 제출 ---------\n",
        "\n",
        "# 전체학습데이터로 다시 학습\n",
        "\n",
        "\n",
        "# 제출용 예측\n",
        "\n",
        "# 답안 제출 참고\n",
        "# 아래 코드 예측변수와 수험번호를 개인별로 변경하여 활용\n",
        "pd.DataFrame({'ID': test_id, 'TravelInsurance': gbc_pred}).to_csv('424242.csv', index=False)\n",
        "\n",
        "\n",
        "# 제출 최종 확인\n",
        "print(pd.read_csv(\"./424242.csv\").head())"
      ]
    }
  ]
}