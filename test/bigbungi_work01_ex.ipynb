{
  "nbformat": 4,
  "nbformat_minor": 0,
  "metadata": {
    "colab": {
      "provenance": [],
      "authorship_tag": "ABX9TyM7Mn5g1+2FXSq52poa/7em",
      "include_colab_link": true
    },
    "kernelspec": {
      "name": "python3",
      "display_name": "Python 3"
    },
    "language_info": {
      "name": "python"
    }
  },
  "cells": [
    {
      "cell_type": "markdown",
      "metadata": {
        "id": "view-in-github",
        "colab_type": "text"
      },
      "source": [
        "<a href=\"https://colab.research.google.com/github/k2moon/bigbungi/blob/main/test/bigbungi_work01_ex.ipynb\" target=\"_parent\"><img src=\"https://colab.research.google.com/assets/colab-badge.svg\" alt=\"Open In Colab\"/></a>"
      ]
    },
    {
      "cell_type": "markdown",
      "source": [
        "# 빅분기 작업형 ▶ 제1유형\n",
        "---\n",
        "\n",
        "## 보스턴 DataSet boston.csv\n",
        "-  DataSet ▶ https://tinyurl.com/54kchm3s\n"
      ],
      "metadata": {
        "id": "rz_hstj3caLv"
      }
    },
    {
      "cell_type": "markdown",
      "source": [
        "**DataSet 설명**\n",
        "\n",
        "| No | Colounm | Desc |\n",
        "| ------------ | ------------- | ------------- |\n",
        "| 01 | CRIM  | 자치시(town) 별 1인당 범죄율  |\n",
        "| 02 | ZN  | 25,000 평방피트를 초과하는 거주지역의 비율  |\n",
        "| 03 | INDUS  | 비소매상업지역이 점유하고 있는 토지의 비율  |\n",
        "| 04 | CHAS  | 찰스강에 대한 더미변수(강의 경계에 위치한 경우는 1, 아니면 0)  |\n",
        "| 05 | NOX  | 10ppm 당 농축 일산화질소  |\n",
        "| 06 | RM  | 주택 1가구당 평균 방의 개수  |\n",
        "| 07 | AGE  | 1940년 이전에 건축된 소유주택의 비율   |\n",
        "| 08 | DIS  | 5개의 보스턴 직업센터까지의 접근성 지수  |\n",
        "| 09 | RAD  | 방사형 도로까지의 접근성 지수  |\n",
        "| 10 | TAX  | 10,000 달러 당 재산세율  |\n",
        "| 11 | PTRATIO  | 자치시(town)별 학생/교사 비율  |\n",
        "| 12 | B  | 1000(Bk-0.63)^2, 여기서 Bk는 자치시별 흑인의 비율을 말함  |\n",
        "| 13 | LSTAT  | 모집단의 하위계층의 비율(%)  |\n",
        "| 14 | MEDV  | 본인 소유의 주택가격(중앙값) (단위: $1,000)  |"
      ],
      "metadata": {
        "id": "MnF3Cp4rcb0-"
      }
    },
    {
      "cell_type": "markdown",
      "source": [
        "## 단순한 데이터 분석\n",
        "---"
      ],
      "metadata": {
        "id": "WlRbd7p-hPwn"
      }
    },
    {
      "cell_type": "code",
      "source": [
        "import pandas as pd\n",
        "url = 'https://tinyurl.com/54kchm3s'\n",
        "df = pd.read_csv(url)\n",
        "df.head()"
      ],
      "metadata": {
        "colab": {
          "base_uri": "https://localhost:8080/",
          "height": 206
        },
        "id": "q3BKgmVFh6TP",
        "outputId": "0fce0189-5bbc-4c4f-ec58-c09ec347db81"
      },
      "execution_count": null,
      "outputs": [
        {
          "output_type": "execute_result",
          "data": {
            "text/plain": [
              "      CRIM    ZN  INDUS  CHAS    NOX     RM   AGE     DIS  RAD  TAX  PTRATIO  \\\n",
              "0  0.00632  18.0   2.31     0  0.538  6.575  65.2  4.0900    1  296     15.3   \n",
              "1  0.02731   0.0   7.07     0  0.469  6.421  78.9  4.9671    2  242     17.8   \n",
              "2  0.02729   0.0   7.07     0  0.469  7.185  61.1  4.9671    2  242     17.8   \n",
              "3  0.03237   0.0   2.18     0  0.458  6.998  45.8  6.0622    3  222     18.7   \n",
              "4  0.06905   0.0   2.18     0  0.458  7.147  54.2  6.0622    3  222     18.7   \n",
              "\n",
              "        B  LSTAT  MEDV  \n",
              "0  396.90   4.98  24.0  \n",
              "1  396.90   9.14  21.6  \n",
              "2  392.83   4.03  34.7  \n",
              "3  394.63   2.94  33.4  \n",
              "4  396.90   5.33  36.2  "
            ],
            "text/html": [
              "\n",
              "  <div id=\"df-510c48b8-0c6e-4ada-a5a7-bb6695a4dba9\">\n",
              "    <div class=\"colab-df-container\">\n",
              "      <div>\n",
              "<style scoped>\n",
              "    .dataframe tbody tr th:only-of-type {\n",
              "        vertical-align: middle;\n",
              "    }\n",
              "\n",
              "    .dataframe tbody tr th {\n",
              "        vertical-align: top;\n",
              "    }\n",
              "\n",
              "    .dataframe thead th {\n",
              "        text-align: right;\n",
              "    }\n",
              "</style>\n",
              "<table border=\"1\" class=\"dataframe\">\n",
              "  <thead>\n",
              "    <tr style=\"text-align: right;\">\n",
              "      <th></th>\n",
              "      <th>CRIM</th>\n",
              "      <th>ZN</th>\n",
              "      <th>INDUS</th>\n",
              "      <th>CHAS</th>\n",
              "      <th>NOX</th>\n",
              "      <th>RM</th>\n",
              "      <th>AGE</th>\n",
              "      <th>DIS</th>\n",
              "      <th>RAD</th>\n",
              "      <th>TAX</th>\n",
              "      <th>PTRATIO</th>\n",
              "      <th>B</th>\n",
              "      <th>LSTAT</th>\n",
              "      <th>MEDV</th>\n",
              "    </tr>\n",
              "  </thead>\n",
              "  <tbody>\n",
              "    <tr>\n",
              "      <th>0</th>\n",
              "      <td>0.00632</td>\n",
              "      <td>18.0</td>\n",
              "      <td>2.31</td>\n",
              "      <td>0</td>\n",
              "      <td>0.538</td>\n",
              "      <td>6.575</td>\n",
              "      <td>65.2</td>\n",
              "      <td>4.0900</td>\n",
              "      <td>1</td>\n",
              "      <td>296</td>\n",
              "      <td>15.3</td>\n",
              "      <td>396.90</td>\n",
              "      <td>4.98</td>\n",
              "      <td>24.0</td>\n",
              "    </tr>\n",
              "    <tr>\n",
              "      <th>1</th>\n",
              "      <td>0.02731</td>\n",
              "      <td>0.0</td>\n",
              "      <td>7.07</td>\n",
              "      <td>0</td>\n",
              "      <td>0.469</td>\n",
              "      <td>6.421</td>\n",
              "      <td>78.9</td>\n",
              "      <td>4.9671</td>\n",
              "      <td>2</td>\n",
              "      <td>242</td>\n",
              "      <td>17.8</td>\n",
              "      <td>396.90</td>\n",
              "      <td>9.14</td>\n",
              "      <td>21.6</td>\n",
              "    </tr>\n",
              "    <tr>\n",
              "      <th>2</th>\n",
              "      <td>0.02729</td>\n",
              "      <td>0.0</td>\n",
              "      <td>7.07</td>\n",
              "      <td>0</td>\n",
              "      <td>0.469</td>\n",
              "      <td>7.185</td>\n",
              "      <td>61.1</td>\n",
              "      <td>4.9671</td>\n",
              "      <td>2</td>\n",
              "      <td>242</td>\n",
              "      <td>17.8</td>\n",
              "      <td>392.83</td>\n",
              "      <td>4.03</td>\n",
              "      <td>34.7</td>\n",
              "    </tr>\n",
              "    <tr>\n",
              "      <th>3</th>\n",
              "      <td>0.03237</td>\n",
              "      <td>0.0</td>\n",
              "      <td>2.18</td>\n",
              "      <td>0</td>\n",
              "      <td>0.458</td>\n",
              "      <td>6.998</td>\n",
              "      <td>45.8</td>\n",
              "      <td>6.0622</td>\n",
              "      <td>3</td>\n",
              "      <td>222</td>\n",
              "      <td>18.7</td>\n",
              "      <td>394.63</td>\n",
              "      <td>2.94</td>\n",
              "      <td>33.4</td>\n",
              "    </tr>\n",
              "    <tr>\n",
              "      <th>4</th>\n",
              "      <td>0.06905</td>\n",
              "      <td>0.0</td>\n",
              "      <td>2.18</td>\n",
              "      <td>0</td>\n",
              "      <td>0.458</td>\n",
              "      <td>7.147</td>\n",
              "      <td>54.2</td>\n",
              "      <td>6.0622</td>\n",
              "      <td>3</td>\n",
              "      <td>222</td>\n",
              "      <td>18.7</td>\n",
              "      <td>396.90</td>\n",
              "      <td>5.33</td>\n",
              "      <td>36.2</td>\n",
              "    </tr>\n",
              "  </tbody>\n",
              "</table>\n",
              "</div>\n",
              "      <button class=\"colab-df-convert\" onclick=\"convertToInteractive('df-510c48b8-0c6e-4ada-a5a7-bb6695a4dba9')\"\n",
              "              title=\"Convert this dataframe to an interactive table.\"\n",
              "              style=\"display:none;\">\n",
              "        \n",
              "  <svg xmlns=\"http://www.w3.org/2000/svg\" height=\"24px\"viewBox=\"0 0 24 24\"\n",
              "       width=\"24px\">\n",
              "    <path d=\"M0 0h24v24H0V0z\" fill=\"none\"/>\n",
              "    <path d=\"M18.56 5.44l.94 2.06.94-2.06 2.06-.94-2.06-.94-.94-2.06-.94 2.06-2.06.94zm-11 1L8.5 8.5l.94-2.06 2.06-.94-2.06-.94L8.5 2.5l-.94 2.06-2.06.94zm10 10l.94 2.06.94-2.06 2.06-.94-2.06-.94-.94-2.06-.94 2.06-2.06.94z\"/><path d=\"M17.41 7.96l-1.37-1.37c-.4-.4-.92-.59-1.43-.59-.52 0-1.04.2-1.43.59L10.3 9.45l-7.72 7.72c-.78.78-.78 2.05 0 2.83L4 21.41c.39.39.9.59 1.41.59.51 0 1.02-.2 1.41-.59l7.78-7.78 2.81-2.81c.8-.78.8-2.07 0-2.86zM5.41 20L4 18.59l7.72-7.72 1.47 1.35L5.41 20z\"/>\n",
              "  </svg>\n",
              "      </button>\n",
              "      \n",
              "  <style>\n",
              "    .colab-df-container {\n",
              "      display:flex;\n",
              "      flex-wrap:wrap;\n",
              "      gap: 12px;\n",
              "    }\n",
              "\n",
              "    .colab-df-convert {\n",
              "      background-color: #E8F0FE;\n",
              "      border: none;\n",
              "      border-radius: 50%;\n",
              "      cursor: pointer;\n",
              "      display: none;\n",
              "      fill: #1967D2;\n",
              "      height: 32px;\n",
              "      padding: 0 0 0 0;\n",
              "      width: 32px;\n",
              "    }\n",
              "\n",
              "    .colab-df-convert:hover {\n",
              "      background-color: #E2EBFA;\n",
              "      box-shadow: 0px 1px 2px rgba(60, 64, 67, 0.3), 0px 1px 3px 1px rgba(60, 64, 67, 0.15);\n",
              "      fill: #174EA6;\n",
              "    }\n",
              "\n",
              "    [theme=dark] .colab-df-convert {\n",
              "      background-color: #3B4455;\n",
              "      fill: #D2E3FC;\n",
              "    }\n",
              "\n",
              "    [theme=dark] .colab-df-convert:hover {\n",
              "      background-color: #434B5C;\n",
              "      box-shadow: 0px 1px 3px 1px rgba(0, 0, 0, 0.15);\n",
              "      filter: drop-shadow(0px 1px 2px rgba(0, 0, 0, 0.3));\n",
              "      fill: #FFFFFF;\n",
              "    }\n",
              "  </style>\n",
              "\n",
              "      <script>\n",
              "        const buttonEl =\n",
              "          document.querySelector('#df-510c48b8-0c6e-4ada-a5a7-bb6695a4dba9 button.colab-df-convert');\n",
              "        buttonEl.style.display =\n",
              "          google.colab.kernel.accessAllowed ? 'block' : 'none';\n",
              "\n",
              "        async function convertToInteractive(key) {\n",
              "          const element = document.querySelector('#df-510c48b8-0c6e-4ada-a5a7-bb6695a4dba9');\n",
              "          const dataTable =\n",
              "            await google.colab.kernel.invokeFunction('convertToInteractive',\n",
              "                                                     [key], {});\n",
              "          if (!dataTable) return;\n",
              "\n",
              "          const docLinkHtml = 'Like what you see? Visit the ' +\n",
              "            '<a target=\"_blank\" href=https://colab.research.google.com/notebooks/data_table.ipynb>data table notebook</a>'\n",
              "            + ' to learn more about interactive tables.';\n",
              "          element.innerHTML = '';\n",
              "          dataTable['output_type'] = 'display_data';\n",
              "          await google.colab.output.renderOutput(dataTable, element);\n",
              "          const docLink = document.createElement('div');\n",
              "          docLink.innerHTML = docLinkHtml;\n",
              "          element.appendChild(docLink);\n",
              "        }\n",
              "      </script>\n",
              "    </div>\n",
              "  </div>\n",
              "  "
            ]
          },
          "metadata": {},
          "execution_count": 3
        }
      ]
    },
    {
      "cell_type": "markdown",
      "source": [
        "### Top 10 구하기\n",
        "---"
      ],
      "metadata": {
        "id": "WIYd1i9zhYP-"
      }
    },
    {
      "cell_type": "markdown",
      "source": [
        "문제 : MEDV 컬럼에 대해서 가장 작은 값부터 순서대로 10개행을 출력하시오.(오름차순)"
      ],
      "metadata": {
        "id": "5oDQgpoKsIO_"
      }
    },
    {
      "cell_type": "code",
      "execution_count": null,
      "metadata": {
        "id": "L5tiTrVZcSuV"
      },
      "outputs": [],
      "source": []
    },
    {
      "cell_type": "markdown",
      "source": [
        "문제 : MEDV 컬럼에 대해서 가장 큰 값부터 순서대로 10개행을 출력하시오.(내림차순)"
      ],
      "metadata": {
        "id": "C9mrCLpUubUH"
      }
    },
    {
      "cell_type": "code",
      "source": [],
      "metadata": {
        "id": "jDhq1xenuhfH"
      },
      "execution_count": null,
      "outputs": []
    },
    {
      "cell_type": "markdown",
      "source": [
        "### 결측치 처리\n",
        "---"
      ],
      "metadata": {
        "id": "N2q8OnumwFHe"
      }
    },
    {
      "cell_type": "markdown",
      "source": [
        "문제 : RM 컬럼에 대한 결측치를 평균값으로 대치한 후에 산출된 표준편차 값과 결측치를 삭제한 후에 산출된 표준편차 값의 차이를 구하시오. 단 최종적으로 출력하는 차이는 양수이다."
      ],
      "metadata": {
        "id": "YI9dPG3_wT49"
      }
    },
    {
      "cell_type": "code",
      "source": [],
      "metadata": {
        "id": "KE_4-T65wA9A"
      },
      "execution_count": null,
      "outputs": []
    },
    {
      "cell_type": "markdown",
      "source": [
        "## 이상치값 처리하기\n",
        "---"
      ],
      "metadata": {
        "id": "Wt53UYoC1S3m"
      }
    },
    {
      "cell_type": "markdown",
      "source": [
        "문제 : ZN 컬럼을 대상으로 ZN 값의 평균값에서 표준편자의 1.5배보다 크거나 작은 ZN값의 합계를 구하시오."
      ],
      "metadata": {
        "id": "ri-R7E691TCF"
      }
    },
    {
      "cell_type": "code",
      "source": [],
      "metadata": {
        "id": "x2jQeVJZ1l0n"
      },
      "execution_count": null,
      "outputs": []
    },
    {
      "cell_type": "markdown",
      "source": [
        "### 사분위수 구하기\n",
        "---"
      ],
      "metadata": {
        "id": "4FzIHtZ94ovV"
      }
    },
    {
      "cell_type": "markdown",
      "source": [
        "문제 : CHAS 칼럼과 RAD 컬럼을 제외한 컬럼에서 컬럼별 IQR(Inter Quantiles Range) 구하시오. 단, 출력 구조는 2열, 1열은 컬럼 이름 표시"
      ],
      "metadata": {
        "id": "ap-p4MVc4o6t"
      }
    },
    {
      "cell_type": "code",
      "source": [],
      "metadata": {
        "id": "kSKz0b8H4lRj"
      },
      "execution_count": null,
      "outputs": []
    },
    {
      "cell_type": "code",
      "source": [],
      "metadata": {
        "id": "p5WZSyKy9X6y"
      },
      "execution_count": null,
      "outputs": []
    },
    {
      "cell_type": "markdown",
      "source": [
        "### 순위 구하기\n",
        "---"
      ],
      "metadata": {
        "id": "h9Dz7T3z_Rh1"
      }
    },
    {
      "cell_type": "markdown",
      "source": [
        "문제 : MEDV 칼럼을 기준으로 30번째로 큰 값을 1번~ 29번째 값을 대치한다. 그리고 MEDB 칼럼의 평균값, 중위값, 최솟값, 최댓값 순으로 출력하시오."
      ],
      "metadata": {
        "id": "bZko59M5_Svz"
      }
    },
    {
      "cell_type": "code",
      "source": [],
      "metadata": {
        "id": "nVZiYPWG_tf3"
      },
      "execution_count": null,
      "outputs": []
    },
    {
      "cell_type": "markdown",
      "source": [
        "## 복잡한 데이터 분석\n",
        "---"
      ],
      "metadata": {
        "id": "qqHsLSx3bgGM"
      }
    },
    {
      "cell_type": "markdown",
      "source": [
        "### 그룹별 집계 / 요약 하기\n",
        "---"
      ],
      "metadata": {
        "id": "wDL__P1lbgRx"
      }
    },
    {
      "cell_type": "markdown",
      "source": [
        "문제 : TAX 칼럼이 TAX 칼럼의 중위값보다 큰 데이터를 대상으로, CHAS, RAD 칼럼 순으로 그룹을 지은 후 각 그룹의 데이터 개수를 구하시오. 단, 데이터 개수는 COUNT라는 칼럼으로 출력하시오."
      ],
      "metadata": {
        "id": "XenFCDPFb40o"
      }
    },
    {
      "cell_type": "code",
      "source": [
        "\n"
      ],
      "metadata": {
        "id": "abpjbWLQdEKi"
      },
      "execution_count": null,
      "outputs": []
    },
    {
      "cell_type": "markdown",
      "source": [
        "### 오름차순/ 내림차순 정렬 하기\n",
        "---"
      ],
      "metadata": {
        "id": "zCCQfDg0qzfI"
      }
    },
    {
      "cell_type": "markdown",
      "source": [
        "문제 : TAX 컬럼을 오름차순으로 정렬한 결과와 내림차순으로 정렬한 결과를 각각 구하고 각 순번에 맞는 오름차순과 내림차순의 차이 값을 구하여 분산 값을 출력하시오."
      ],
      "metadata": {
        "id": "SHHqRyRnq6x3"
      }
    },
    {
      "cell_type": "code",
      "source": [
        "\n"
      ],
      "metadata": {
        "id": "Ya8iRzTbrL3Y"
      },
      "execution_count": null,
      "outputs": []
    },
    {
      "cell_type": "markdown",
      "source": [
        "### 스케일링 하기\n",
        "---"
      ],
      "metadata": {
        "id": "GHLJq3hpy0D5"
      }
    },
    {
      "cell_type": "markdown",
      "source": [
        "문제 : MEDV 칼럼을 최소최대척도 MinMaxScaler로 변환 후 0.5보다 큰 값을 가지는 개수를 구하시오.\n"
      ],
      "metadata": {
        "id": "ytshXJs7zEE9"
      }
    },
    {
      "cell_type": "code",
      "source": [],
      "metadata": {
        "id": "AU0qxTAAzC1k"
      },
      "execution_count": null,
      "outputs": []
    },
    {
      "cell_type": "markdown",
      "source": [
        "문제 : DIS 칼럼을 표준화척도 StandardScaler로 변환 후 0.4보다 큰 면서 0.6보다 작은 값들에 대한 평균을 구하시오. 단, 소수점 셋째 자리에서 반올림하여 소수점 들째 자리까지 출력하시오."
      ],
      "metadata": {
        "id": "0A7X2OUr7kr9"
      }
    },
    {
      "cell_type": "markdown",
      "source": [
        "**전체 칼럼으로 작업 : 일반적**"
      ],
      "metadata": {
        "id": "bs5LQzg7PkId"
      }
    },
    {
      "cell_type": "code",
      "source": [],
      "metadata": {
        "id": "eEfBrqbb7lCX"
      },
      "execution_count": null,
      "outputs": []
    },
    {
      "cell_type": "markdown",
      "source": [
        "**DIS 하나의 칼럼으로 작업**"
      ],
      "metadata": {
        "id": "C2PnAxWBPdD8"
      }
    },
    {
      "cell_type": "code",
      "source": [],
      "metadata": {
        "id": "EnchaXAJ8gLx"
      },
      "execution_count": null,
      "outputs": []
    },
    {
      "cell_type": "markdown",
      "source": [
        "**표준화 공식으로 작업**"
      ],
      "metadata": {
        "id": "ZqaAdn2kPxs8"
      }
    },
    {
      "cell_type": "code",
      "source": [],
      "metadata": {
        "id": "yGE_4gFY--Cn"
      },
      "execution_count": null,
      "outputs": []
    },
    {
      "cell_type": "markdown",
      "source": [
        "### 빈도값 구하기\n",
        "---"
      ],
      "metadata": {
        "id": "QwMfnFHE2rlZ"
      }
    },
    {
      "cell_type": "markdown",
      "source": [
        "\n",
        "문제 : AGE 칼럼을 소숫점 첫 번째 자리에서 반올림하고, 가장 많은 비중을 차지하는 AGE 값과 그 개수를 차례대로 출력 하시오. 즉 AGE 칼럼의 최빈값과 그 개수를 출력하시오."
      ],
      "metadata": {
        "id": "n3CRfeyF2rtu"
      }
    },
    {
      "cell_type": "code",
      "source": [],
      "metadata": {
        "id": "aK2t2vdz0zu4"
      },
      "execution_count": null,
      "outputs": []
    },
    {
      "cell_type": "markdown",
      "source": [
        "### 유니크한 값 구하기\n",
        "---"
      ],
      "metadata": {
        "id": "pJg7YDmP61V_"
      }
    },
    {
      "cell_type": "markdown",
      "source": [
        "문제 : 전체 칼럼에서 중복을 제거한 유니크한 값을 구한 후, 컬럼별로 유니크 unique한 값의 개수를 기준으로 평균값을 구하시오."
      ],
      "metadata": {
        "id": "DDhKJADD61fu"
      }
    },
    {
      "cell_type": "code",
      "source": [],
      "metadata": {
        "id": "Or5qcz856Zkt"
      },
      "execution_count": null,
      "outputs": []
    },
    {
      "cell_type": "code",
      "source": [],
      "metadata": {
        "id": "7QAfTdQkSkeM"
      },
      "execution_count": null,
      "outputs": []
    },
    {
      "cell_type": "code",
      "source": [
        "  "
      ],
      "metadata": {
        "id": "fKkS7XT5VAyN"
      },
      "execution_count": null,
      "outputs": []
    },
    {
      "cell_type": "code",
      "source": [],
      "metadata": {
        "id": "CnUH1CvuVrXj"
      },
      "execution_count": null,
      "outputs": []
    }
  ]
}