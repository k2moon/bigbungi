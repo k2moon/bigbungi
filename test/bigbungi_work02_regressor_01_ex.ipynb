{
  "nbformat": 4,
  "nbformat_minor": 0,
  "metadata": {
    "colab": {
      "provenance": [],
      "authorship_tag": "ABX9TyNkg0MHFNwLUizDkdgEDnh3",
      "include_colab_link": true
    },
    "kernelspec": {
      "name": "python3",
      "display_name": "Python 3"
    },
    "language_info": {
      "name": "python"
    }
  },
  "cells": [
    {
      "cell_type": "markdown",
      "metadata": {
        "id": "view-in-github",
        "colab_type": "text"
      },
      "source": [
        "<a href=\"https://colab.research.google.com/github/k2moon/bigbungi/blob/main/test/bigbungi_work02_regressor_01_ex.ipynb\" target=\"_parent\"><img src=\"https://colab.research.google.com/assets/colab-badge.svg\" alt=\"Open In Colab\"/></a>"
      ]
    },
    {
      "cell_type": "markdown",
      "source": [
        "# 작업형 ▶ 제2유형 회귀(예측) 모델 수행하기\n",
        "---\n"
      ],
      "metadata": {
        "id": "C9HN8YvV8cKL"
      }
    },
    {
      "cell_type": "markdown",
      "source": [
        "## 캐글 바이크 수요 예측\n",
        "\n",
        "다음은 Bike Sharing Demand 데이터 세트이다. 주어진 훈련 데이터 세트를 활용하여 대여량를 예측하고 해당 결과를 csv파일로 제출하시오.\n",
        "(제출한 모델의 성능은 R^2 score 평가지표에 따라 채점)\n",
        "\n",
        "* 결과 제출 양식 : PassengerId, Survived"
      ],
      "metadata": {
        "id": "Pg9j_GVZ9fz7"
      }
    },
    {
      "cell_type": "markdown",
      "source": [
        "- Kaggle: https://www.kaggle.com/competitions/bike-sharing-demand\n",
        "- DataSet x_test : https://tinyurl.com/2fucdhv3\n",
        "- DataSet x_train : https://tinyurl.com/4vy3adv5\n",
        "- DataSet y_train : https://tinyurl.com/vr9m327a"
      ],
      "metadata": {
        "id": "9JHqFFKDOxQd"
      }
    },
    {
      "cell_type": "markdown",
      "source": [
        "- 계절 : 1 봄, 2 여름, 3 가을, 4 겨울\n",
        "- 공휴일 : 1 공휴일, 0 평일\n",
        "- 근무일 : 1 근무일, 0 휴일\n",
        "- 날씨 : 1 아주 깨끗, 2 안개와 구름, 3 약간 눈 또는 비, 천둥 번개, 4 아주 많은 비 또는 우박"
      ],
      "metadata": {
        "id": "eKKf5n-FrDQc"
      }
    },
    {
      "cell_type": "code",
      "source": [
        "# 데이터 가져오기 read_csv()\n",
        "import pandas as pd\n",
        "import numpy as np\n",
        "\n",
        "x_test = pd.read_csv(\"https://tinyurl.com/2fucdhv3\", encoding='CP949')\n",
        "# 시간당 자전거 대여량 데이터\n",
        "x_train = pd.read_csv(\"https://tinyurl.com/4vy3adv5\", encoding='CP949')\n",
        "y_train = pd.read_csv(\"https://tinyurl.com/vr9m327a\")"
      ],
      "metadata": {
        "id": "xqtil__a5QDX"
      },
      "execution_count": null,
      "outputs": []
    },
    {
      "cell_type": "code",
      "source": [
        "# 값 확인\n"
      ],
      "metadata": {
        "id": "XdqPyWDJ8nIr"
      },
      "execution_count": 1,
      "outputs": []
    },
    {
      "cell_type": "code",
      "execution_count": null,
      "metadata": {
        "id": "HEIV-WsmrS4y"
      },
      "outputs": [],
      "source": [
        "# ------- 데이터 확인 및 EDA ---------\n",
        "\n",
        "\n",
        "\n",
        "\n",
        "# 답안 제출 참고\n",
        "# #아래 코드 예측변수와 수험번호를 개인별로 변경하여 활용\n",
        "#pd.DataFrame({'cust_id': x_test_data.cust_id, 'gender': pred}).to_csv('424242.csv', index=False)\n",
        "\n",
        "# 제출 최종 확인\n",
        "#print(pd.read_csv(\"data/424242.csv\"))"
      ]
    }
  ]
}