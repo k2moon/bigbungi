{
  "nbformat": 4,
  "nbformat_minor": 0,
  "metadata": {
    "colab": {
      "provenance": [],
      "authorship_tag": "ABX9TyN+Y9NNeNagpFfrSjqq80WD",
      "include_colab_link": true
    },
    "kernelspec": {
      "name": "python3",
      "display_name": "Python 3"
    },
    "language_info": {
      "name": "python"
    }
  },
  "cells": [
    {
      "cell_type": "markdown",
      "metadata": {
        "id": "view-in-github",
        "colab_type": "text"
      },
      "source": [
        "<a href=\"https://colab.research.google.com/github/k2moon/bigbungi/blob/main/test/bigbungi_work01_ans.ipynb\" target=\"_parent\"><img src=\"https://colab.research.google.com/assets/colab-badge.svg\" alt=\"Open In Colab\"/></a>"
      ]
    },
    {
      "cell_type": "markdown",
      "source": [
        "# 빅분기 작업형 ▶ 제1유형\n",
        "---\n",
        "\n",
        "## 보스턴 DataSet boston.csv\n",
        "-  DataSet ▶ https://tinyurl.com/54kchm3s\n"
      ],
      "metadata": {
        "id": "rz_hstj3caLv"
      }
    },
    {
      "cell_type": "markdown",
      "source": [
        "**DataSet 설명**\n",
        "\n",
        "| No | Colounm | Desc |\n",
        "| ------------ | ------------- | ------------- |\n",
        "| 01 | CRIM  | 자치시(town) 별 1인당 범죄율  |\n",
        "| 02 | ZN  | 25,000 평방피트를 초과하는 거주지역의 비율  |\n",
        "| 03 | INDUS  | 비소매상업지역이 점유하고 있는 토지의 비율  |\n",
        "| 04 | CHAS  | 찰스강에 대한 더미변수(강의 경계에 위치한 경우는 1, 아니면 0)  |\n",
        "| 05 | NOX  | 10ppm 당 농축 일산화질소  |\n",
        "| 06 | RM  | 주택 1가구당 평균 방의 개수  |\n",
        "| 07 | AGE  | 1940년 이전에 건축된 소유주택의 비율   |\n",
        "| 08 | DIS  | 5개의 보스턴 직업센터까지의 접근성 지수  |\n",
        "| 09 | RAD  | 방사형 도로까지의 접근성 지수  |\n",
        "| 10 | TAX  | 10,000 달러 당 재산세율  |\n",
        "| 11 | PTRATIO  | 자치시(town)별 학생/교사 비율  |\n",
        "| 12 | B  | 1000(Bk-0.63)^2, 여기서 Bk는 자치시별 흑인의 비율을 말함  |\n",
        "| 13 | LSTAT  | 모집단의 하위계층의 비율(%)  |\n",
        "| 14 | MEDV  | 본인 소유의 주택가격(중앙값) (단위: $1,000)  |"
      ],
      "metadata": {
        "id": "MnF3Cp4rcb0-"
      }
    },
    {
      "cell_type": "markdown",
      "source": [
        "## 단순한 데이터 분석\n",
        "---"
      ],
      "metadata": {
        "id": "WlRbd7p-hPwn"
      }
    },
    {
      "cell_type": "code",
      "source": [
        "import pandas as pd\n",
        "url = 'https://tinyurl.com/54kchm3s'\n",
        "df = pd.read_csv(url)\n",
        "df.head()"
      ],
      "metadata": {
        "colab": {
          "base_uri": "https://localhost:8080/",
          "height": 206
        },
        "id": "q3BKgmVFh6TP",
        "outputId": "0fce0189-5bbc-4c4f-ec58-c09ec347db81"
      },
      "execution_count": 3,
      "outputs": [
        {
          "output_type": "execute_result",
          "data": {
            "text/plain": [
              "      CRIM    ZN  INDUS  CHAS    NOX     RM   AGE     DIS  RAD  TAX  PTRATIO  \\\n",
              "0  0.00632  18.0   2.31     0  0.538  6.575  65.2  4.0900    1  296     15.3   \n",
              "1  0.02731   0.0   7.07     0  0.469  6.421  78.9  4.9671    2  242     17.8   \n",
              "2  0.02729   0.0   7.07     0  0.469  7.185  61.1  4.9671    2  242     17.8   \n",
              "3  0.03237   0.0   2.18     0  0.458  6.998  45.8  6.0622    3  222     18.7   \n",
              "4  0.06905   0.0   2.18     0  0.458  7.147  54.2  6.0622    3  222     18.7   \n",
              "\n",
              "        B  LSTAT  MEDV  \n",
              "0  396.90   4.98  24.0  \n",
              "1  396.90   9.14  21.6  \n",
              "2  392.83   4.03  34.7  \n",
              "3  394.63   2.94  33.4  \n",
              "4  396.90   5.33  36.2  "
            ],
            "text/html": [
              "\n",
              "  <div id=\"df-510c48b8-0c6e-4ada-a5a7-bb6695a4dba9\">\n",
              "    <div class=\"colab-df-container\">\n",
              "      <div>\n",
              "<style scoped>\n",
              "    .dataframe tbody tr th:only-of-type {\n",
              "        vertical-align: middle;\n",
              "    }\n",
              "\n",
              "    .dataframe tbody tr th {\n",
              "        vertical-align: top;\n",
              "    }\n",
              "\n",
              "    .dataframe thead th {\n",
              "        text-align: right;\n",
              "    }\n",
              "</style>\n",
              "<table border=\"1\" class=\"dataframe\">\n",
              "  <thead>\n",
              "    <tr style=\"text-align: right;\">\n",
              "      <th></th>\n",
              "      <th>CRIM</th>\n",
              "      <th>ZN</th>\n",
              "      <th>INDUS</th>\n",
              "      <th>CHAS</th>\n",
              "      <th>NOX</th>\n",
              "      <th>RM</th>\n",
              "      <th>AGE</th>\n",
              "      <th>DIS</th>\n",
              "      <th>RAD</th>\n",
              "      <th>TAX</th>\n",
              "      <th>PTRATIO</th>\n",
              "      <th>B</th>\n",
              "      <th>LSTAT</th>\n",
              "      <th>MEDV</th>\n",
              "    </tr>\n",
              "  </thead>\n",
              "  <tbody>\n",
              "    <tr>\n",
              "      <th>0</th>\n",
              "      <td>0.00632</td>\n",
              "      <td>18.0</td>\n",
              "      <td>2.31</td>\n",
              "      <td>0</td>\n",
              "      <td>0.538</td>\n",
              "      <td>6.575</td>\n",
              "      <td>65.2</td>\n",
              "      <td>4.0900</td>\n",
              "      <td>1</td>\n",
              "      <td>296</td>\n",
              "      <td>15.3</td>\n",
              "      <td>396.90</td>\n",
              "      <td>4.98</td>\n",
              "      <td>24.0</td>\n",
              "    </tr>\n",
              "    <tr>\n",
              "      <th>1</th>\n",
              "      <td>0.02731</td>\n",
              "      <td>0.0</td>\n",
              "      <td>7.07</td>\n",
              "      <td>0</td>\n",
              "      <td>0.469</td>\n",
              "      <td>6.421</td>\n",
              "      <td>78.9</td>\n",
              "      <td>4.9671</td>\n",
              "      <td>2</td>\n",
              "      <td>242</td>\n",
              "      <td>17.8</td>\n",
              "      <td>396.90</td>\n",
              "      <td>9.14</td>\n",
              "      <td>21.6</td>\n",
              "    </tr>\n",
              "    <tr>\n",
              "      <th>2</th>\n",
              "      <td>0.02729</td>\n",
              "      <td>0.0</td>\n",
              "      <td>7.07</td>\n",
              "      <td>0</td>\n",
              "      <td>0.469</td>\n",
              "      <td>7.185</td>\n",
              "      <td>61.1</td>\n",
              "      <td>4.9671</td>\n",
              "      <td>2</td>\n",
              "      <td>242</td>\n",
              "      <td>17.8</td>\n",
              "      <td>392.83</td>\n",
              "      <td>4.03</td>\n",
              "      <td>34.7</td>\n",
              "    </tr>\n",
              "    <tr>\n",
              "      <th>3</th>\n",
              "      <td>0.03237</td>\n",
              "      <td>0.0</td>\n",
              "      <td>2.18</td>\n",
              "      <td>0</td>\n",
              "      <td>0.458</td>\n",
              "      <td>6.998</td>\n",
              "      <td>45.8</td>\n",
              "      <td>6.0622</td>\n",
              "      <td>3</td>\n",
              "      <td>222</td>\n",
              "      <td>18.7</td>\n",
              "      <td>394.63</td>\n",
              "      <td>2.94</td>\n",
              "      <td>33.4</td>\n",
              "    </tr>\n",
              "    <tr>\n",
              "      <th>4</th>\n",
              "      <td>0.06905</td>\n",
              "      <td>0.0</td>\n",
              "      <td>2.18</td>\n",
              "      <td>0</td>\n",
              "      <td>0.458</td>\n",
              "      <td>7.147</td>\n",
              "      <td>54.2</td>\n",
              "      <td>6.0622</td>\n",
              "      <td>3</td>\n",
              "      <td>222</td>\n",
              "      <td>18.7</td>\n",
              "      <td>396.90</td>\n",
              "      <td>5.33</td>\n",
              "      <td>36.2</td>\n",
              "    </tr>\n",
              "  </tbody>\n",
              "</table>\n",
              "</div>\n",
              "      <button class=\"colab-df-convert\" onclick=\"convertToInteractive('df-510c48b8-0c6e-4ada-a5a7-bb6695a4dba9')\"\n",
              "              title=\"Convert this dataframe to an interactive table.\"\n",
              "              style=\"display:none;\">\n",
              "        \n",
              "  <svg xmlns=\"http://www.w3.org/2000/svg\" height=\"24px\"viewBox=\"0 0 24 24\"\n",
              "       width=\"24px\">\n",
              "    <path d=\"M0 0h24v24H0V0z\" fill=\"none\"/>\n",
              "    <path d=\"M18.56 5.44l.94 2.06.94-2.06 2.06-.94-2.06-.94-.94-2.06-.94 2.06-2.06.94zm-11 1L8.5 8.5l.94-2.06 2.06-.94-2.06-.94L8.5 2.5l-.94 2.06-2.06.94zm10 10l.94 2.06.94-2.06 2.06-.94-2.06-.94-.94-2.06-.94 2.06-2.06.94z\"/><path d=\"M17.41 7.96l-1.37-1.37c-.4-.4-.92-.59-1.43-.59-.52 0-1.04.2-1.43.59L10.3 9.45l-7.72 7.72c-.78.78-.78 2.05 0 2.83L4 21.41c.39.39.9.59 1.41.59.51 0 1.02-.2 1.41-.59l7.78-7.78 2.81-2.81c.8-.78.8-2.07 0-2.86zM5.41 20L4 18.59l7.72-7.72 1.47 1.35L5.41 20z\"/>\n",
              "  </svg>\n",
              "      </button>\n",
              "      \n",
              "  <style>\n",
              "    .colab-df-container {\n",
              "      display:flex;\n",
              "      flex-wrap:wrap;\n",
              "      gap: 12px;\n",
              "    }\n",
              "\n",
              "    .colab-df-convert {\n",
              "      background-color: #E8F0FE;\n",
              "      border: none;\n",
              "      border-radius: 50%;\n",
              "      cursor: pointer;\n",
              "      display: none;\n",
              "      fill: #1967D2;\n",
              "      height: 32px;\n",
              "      padding: 0 0 0 0;\n",
              "      width: 32px;\n",
              "    }\n",
              "\n",
              "    .colab-df-convert:hover {\n",
              "      background-color: #E2EBFA;\n",
              "      box-shadow: 0px 1px 2px rgba(60, 64, 67, 0.3), 0px 1px 3px 1px rgba(60, 64, 67, 0.15);\n",
              "      fill: #174EA6;\n",
              "    }\n",
              "\n",
              "    [theme=dark] .colab-df-convert {\n",
              "      background-color: #3B4455;\n",
              "      fill: #D2E3FC;\n",
              "    }\n",
              "\n",
              "    [theme=dark] .colab-df-convert:hover {\n",
              "      background-color: #434B5C;\n",
              "      box-shadow: 0px 1px 3px 1px rgba(0, 0, 0, 0.15);\n",
              "      filter: drop-shadow(0px 1px 2px rgba(0, 0, 0, 0.3));\n",
              "      fill: #FFFFFF;\n",
              "    }\n",
              "  </style>\n",
              "\n",
              "      <script>\n",
              "        const buttonEl =\n",
              "          document.querySelector('#df-510c48b8-0c6e-4ada-a5a7-bb6695a4dba9 button.colab-df-convert');\n",
              "        buttonEl.style.display =\n",
              "          google.colab.kernel.accessAllowed ? 'block' : 'none';\n",
              "\n",
              "        async function convertToInteractive(key) {\n",
              "          const element = document.querySelector('#df-510c48b8-0c6e-4ada-a5a7-bb6695a4dba9');\n",
              "          const dataTable =\n",
              "            await google.colab.kernel.invokeFunction('convertToInteractive',\n",
              "                                                     [key], {});\n",
              "          if (!dataTable) return;\n",
              "\n",
              "          const docLinkHtml = 'Like what you see? Visit the ' +\n",
              "            '<a target=\"_blank\" href=https://colab.research.google.com/notebooks/data_table.ipynb>data table notebook</a>'\n",
              "            + ' to learn more about interactive tables.';\n",
              "          element.innerHTML = '';\n",
              "          dataTable['output_type'] = 'display_data';\n",
              "          await google.colab.output.renderOutput(dataTable, element);\n",
              "          const docLink = document.createElement('div');\n",
              "          docLink.innerHTML = docLinkHtml;\n",
              "          element.appendChild(docLink);\n",
              "        }\n",
              "      </script>\n",
              "    </div>\n",
              "  </div>\n",
              "  "
            ]
          },
          "metadata": {},
          "execution_count": 3
        }
      ]
    },
    {
      "cell_type": "markdown",
      "source": [
        "### Top 10 구하기\n",
        "---"
      ],
      "metadata": {
        "id": "WIYd1i9zhYP-"
      }
    },
    {
      "cell_type": "markdown",
      "source": [
        "문제 : MEDV 컬럼에 대해서 가장 작은 값부터 순서대로 10개행을 출력하시오.(오름차순)"
      ],
      "metadata": {
        "id": "5oDQgpoKsIO_"
      }
    },
    {
      "cell_type": "code",
      "execution_count": 14,
      "metadata": {
        "colab": {
          "base_uri": "https://localhost:8080/"
        },
        "id": "L5tiTrVZcSuV",
        "outputId": "621b5424-2573-473e-c340-056f9150b385"
      },
      "outputs": [
        {
          "output_type": "stream",
          "name": "stdout",
          "text": [
            "398    5.0\n",
            "405    5.0\n",
            "400    5.6\n",
            "399    6.3\n",
            "414    7.0\n",
            "489    7.0\n",
            "401    7.2\n",
            "385    7.2\n",
            "415    7.2\n",
            "387    7.4\n",
            "Name: MEDV, dtype: float64\n"
          ]
        }
      ],
      "source": [
        "data = df.copy()\n",
        "## sort_values() 디폴트 오름 차순\n",
        "data = data.sort_values(by='MEDV', ascending=True)\n",
        "data = data['MEDV']\n",
        "\n",
        "result = data.head(10)\n",
        "print(result)"
      ]
    },
    {
      "cell_type": "markdown",
      "source": [
        "문제 : MEDV 컬럼에 대해서 가장 큰 값부터 순서대로 10개행을 출력하시오.(내림차순)"
      ],
      "metadata": {
        "id": "C9mrCLpUubUH"
      }
    },
    {
      "cell_type": "code",
      "source": [
        "data = df.copy()\n",
        "## sort_values()  ascending=False \n",
        "data = data.sort_values(by='MEDV', ascending=False)\n",
        "data = data['MEDV']\n",
        "\n",
        "result = data.head(10)\n",
        "print(result)"
      ],
      "metadata": {
        "colab": {
          "base_uri": "https://localhost:8080/"
        },
        "id": "jDhq1xenuhfH",
        "outputId": "1ff3357d-c3de-47b6-fba1-8e3529b153ff"
      },
      "execution_count": 17,
      "outputs": [
        {
          "output_type": "stream",
          "name": "stdout",
          "text": [
            "283    50.0\n",
            "225    50.0\n",
            "369    50.0\n",
            "370    50.0\n",
            "371    50.0\n",
            "372    50.0\n",
            "186    50.0\n",
            "204    50.0\n",
            "257    50.0\n",
            "195    50.0\n",
            "Name: MEDV, dtype: float64\n"
          ]
        }
      ]
    },
    {
      "cell_type": "markdown",
      "source": [
        "### 결측치 처리\n",
        "---"
      ],
      "metadata": {
        "id": "N2q8OnumwFHe"
      }
    },
    {
      "cell_type": "markdown",
      "source": [
        "문제 : RM 컬럼에 대한 결측치를 평균값으로 대치한 후에 산출된 표준편차 값과 결측치를 삭제한 후에 산출된 표준편차 값의 차이를 구하시오. 단 최종적으로 출력하는 차이는 양수이다."
      ],
      "metadata": {
        "id": "YI9dPG3_wT49"
      }
    },
    {
      "cell_type": "code",
      "source": [
        "data = df.copy()\n",
        "\n",
        "## isnull().sum()\n",
        "data = data['RM']\n",
        "# print(data.isnull().sum())\n",
        "\n",
        "## fillna(), mean()\n",
        "data_fill = data.fillna(data.mean())\n",
        "\n",
        "## std()\n",
        "std1 = data_fill.std() \n",
        "#print(std1)\n",
        "\n",
        "## dropna()\n",
        "data_drop = data.dropna()\n",
        "std2 = data_drop.std()\n",
        "#print(std2)\n",
        "\n",
        "## abs()\n",
        "result = abs(std1 - std2)\n",
        "print(result)"
      ],
      "metadata": {
        "colab": {
          "base_uri": "https://localhost:8080/"
        },
        "id": "KE_4-T65wA9A",
        "outputId": "38ad243d-3a4b-406e-9ec6-04f8c8cc0b45"
      },
      "execution_count": 29,
      "outputs": [
        {
          "output_type": "stream",
          "name": "stdout",
          "text": [
            "0.010595546094104513\n"
          ]
        }
      ]
    },
    {
      "cell_type": "markdown",
      "source": [
        "## 이상치값 처리하기\n",
        "---"
      ],
      "metadata": {
        "id": "Wt53UYoC1S3m"
      }
    },
    {
      "cell_type": "markdown",
      "source": [
        "문제 : ZN 컬럼을 대상으로 ZN 값의 평균값에서 표준편자의 1.5배보다 크거나 작은 ZN값의 합계를 구하시오."
      ],
      "metadata": {
        "id": "ri-R7E691TCF"
      }
    },
    {
      "cell_type": "code",
      "source": [
        "data = df.copy()\n",
        "\n",
        "data = data['ZN']\n",
        "#print(data.isnull().sum())\n",
        "\n",
        "## mean()\n",
        "data_mean = data.mean()\n",
        "\n",
        "## std()\n",
        "data_std = data.std() \n",
        "#print(std)\n",
        "\n",
        "data_min = data_mean - (1.5 * data_std)\n",
        "data_max = data_mean + (1.5 * data_std)\n",
        "#print(data_min, data_max)\n",
        "\n",
        "## sum()\n",
        "data_min_sum = data[data < data_min].sum()\n",
        "data_max_sum = data[data > data_max].sum()\n",
        "#print(data_min_sum, data_max_sum)\n",
        "\n",
        "result = data_min_sum + data_max_sum\n",
        "print(result)"
      ],
      "metadata": {
        "colab": {
          "base_uri": "https://localhost:8080/"
        },
        "id": "x2jQeVJZ1l0n",
        "outputId": "c2d1716b-fdcf-43a9-e2e4-f0344412ccf0"
      },
      "execution_count": 36,
      "outputs": [
        {
          "output_type": "stream",
          "name": "stdout",
          "text": [
            "3462.5\n"
          ]
        }
      ]
    },
    {
      "cell_type": "markdown",
      "source": [
        "### 사분위수 구하기\n",
        "---"
      ],
      "metadata": {
        "id": "4FzIHtZ94ovV"
      }
    },
    {
      "cell_type": "markdown",
      "source": [
        "문제 : CHAS 칼럼과 RAD 컬럼을 제외한 컬럼에서 컬럼별 IQR(Inter Quantiles Range) 구하시오. 단, 출력 구조는 2열, 1열은 컬럼 이름 표시"
      ],
      "metadata": {
        "id": "ap-p4MVc4o6t"
      }
    },
    {
      "cell_type": "code",
      "source": [
        "data = df.copy()\n",
        "\n",
        "## drop()\n",
        "data = data.drop(columns=['CHAS', 'RAD'])\n",
        "#print(data.info())\n",
        "\n",
        "## describe()\n",
        "data_desc = data.describe()\n",
        "#print(data_desc.loc['25%'])\n",
        "#print(data_desc.loc['75%'])\n",
        "\n",
        "q1 = data_desc.loc['25%']\n",
        "q3 = data_desc.loc['75%']\n",
        "\n",
        "result = q3 - q1\n",
        "print(result)"
      ],
      "metadata": {
        "colab": {
          "base_uri": "https://localhost:8080/"
        },
        "id": "kSKz0b8H4lRj",
        "outputId": "622246a8-d6b1-48f0-951a-68f695bf0696"
      },
      "execution_count": 72,
      "outputs": [
        {
          "output_type": "stream",
          "name": "stdout",
          "text": [
            "CRIM         3.595038\n",
            "ZN          12.500000\n",
            "INDUS       12.910000\n",
            "NOX          0.175000\n",
            "RM           0.736000\n",
            "AGE         49.050000\n",
            "DIS          3.088250\n",
            "TAX        387.000000\n",
            "PTRATIO      2.800000\n",
            "B           20.847500\n",
            "LSTAT       10.005000\n",
            "MEDV         7.975000\n",
            "dtype: float64\n"
          ]
        }
      ]
    },
    {
      "cell_type": "code",
      "source": [
        "## quantile()\n",
        "q1 = data.quantile(.25)\n",
        "q3 = data.quantile(.75)\n",
        "\n",
        "result = q3 -q1\n",
        "print(result)"
      ],
      "metadata": {
        "colab": {
          "base_uri": "https://localhost:8080/"
        },
        "id": "p5WZSyKy9X6y",
        "outputId": "0ccef1ae-3233-47d6-c1fc-c7405bd287da"
      },
      "execution_count": 69,
      "outputs": [
        {
          "output_type": "stream",
          "name": "stdout",
          "text": [
            "CRIM         3.595038\n",
            "ZN          12.500000\n",
            "INDUS       12.910000\n",
            "NOX          0.175000\n",
            "RM           0.736000\n",
            "AGE         49.050000\n",
            "DIS          3.088250\n",
            "TAX        387.000000\n",
            "PTRATIO      2.800000\n",
            "B           20.847500\n",
            "LSTAT       10.005000\n",
            "MEDV         7.975000\n",
            "dtype: float64\n"
          ]
        }
      ]
    },
    {
      "cell_type": "markdown",
      "source": [
        "### 순위 구하기\n",
        "---"
      ],
      "metadata": {
        "id": "h9Dz7T3z_Rh1"
      }
    },
    {
      "cell_type": "markdown",
      "source": [
        "문제 : MEDV 칼럼을 기준으로 30번째로 큰 값을 1번~ 29번째 값을 대치한다. 그리고 MEDB 칼럼의 평균값, 중위값, 최솟값, 최댓값 순으로 출력하시오."
      ],
      "metadata": {
        "id": "bZko59M5_Svz"
      }
    },
    {
      "cell_type": "code",
      "source": [
        "data = df.copy()\n",
        "\n",
        "## isnull().sum()\n",
        "data = data['MEDV']\n",
        "#print(data.isnull().sum())\n",
        "\n",
        "## sort_values()\n",
        "data = data.sort_values(ascending=False)\n",
        "\n",
        "v = data.iloc[29]\n",
        "data.iloc[:29] = v\n",
        "\n",
        "print(data.mean())\n",
        "print(data.median())\n",
        "print(data.min())\n",
        "print(data.max())"
      ],
      "metadata": {
        "colab": {
          "base_uri": "https://localhost:8080/"
        },
        "id": "nVZiYPWG_tf3",
        "outputId": "762a8c8f-1e32-4af4-e4a0-b0d9e8d81818"
      },
      "execution_count": 77,
      "outputs": [
        {
          "output_type": "stream",
          "name": "stdout",
          "text": [
            "22.1796442687747\n",
            "21.2\n",
            "5.0\n",
            "41.7\n"
          ]
        }
      ]
    },
    {
      "cell_type": "markdown",
      "source": [
        "## 복잡한 데이터 분석\n",
        "---"
      ],
      "metadata": {
        "id": "qqHsLSx3bgGM"
      }
    },
    {
      "cell_type": "markdown",
      "source": [
        "### 그룹별 집계 / 요약 하기\n",
        "---"
      ],
      "metadata": {
        "id": "wDL__P1lbgRx"
      }
    },
    {
      "cell_type": "markdown",
      "source": [
        "문제 : TAX 칼럼이 TAX 칼럼의 중위값보다 큰 데이터를 대상으로, CHAS, RAD 칼럼 순으로 그룹을 지은 후 각 그룹의 데이터 개수를 구하시오. 단, 데이터 개수는 COUNT라는 칼럼으로 출력하시오."
      ],
      "metadata": {
        "id": "XenFCDPFb40o"
      }
    },
    {
      "cell_type": "code",
      "source": [
        "data = df.copy()\n",
        "\n",
        "## median()\n",
        "tax_median = data['TAX'].median()\n",
        "#print(tax_median)\n",
        "\n",
        "#print(data['TAX'] > tax_median)\n",
        "data = data[data['TAX'] > tax_median]\n",
        "#print(data['TAX'].min())\n",
        "\n",
        "#data = data[['CHAS','RAD']]\n",
        "#print(data.head())\n",
        "\n",
        "## groupby(그룹핑컬럼)[작업컬럼].집계요약()\n",
        "data_gr = data.groupby(['CHAS','RAD'])\n",
        "#print(data_gr)\n",
        "\n",
        "## groupby().count()\n",
        "result = data_gr['CHAS'].count()\n",
        "#result = data_gr['RAD'].count()\n",
        "#result = data_gr['TAX'].count()\n",
        "print(result)\n"
      ],
      "metadata": {
        "colab": {
          "base_uri": "https://localhost:8080/"
        },
        "id": "abpjbWLQdEKi",
        "outputId": "9d04d139-9364-446e-b30f-934088479189"
      },
      "execution_count": 101,
      "outputs": [
        {
          "output_type": "stream",
          "name": "stdout",
          "text": [
            "CHAS  RAD\n",
            "0     1        3\n",
            "      2        2\n",
            "      3        5\n",
            "      4       33\n",
            "      5       51\n",
            "      6       17\n",
            "      24     124\n",
            "1     5        7\n",
            "      24       8\n",
            "Name: TAX, dtype: int64\n"
          ]
        }
      ]
    },
    {
      "cell_type": "markdown",
      "source": [
        "### 오름차순/ 내림차순 정렬 하기\n",
        "---"
      ],
      "metadata": {
        "id": "zCCQfDg0qzfI"
      }
    },
    {
      "cell_type": "markdown",
      "source": [
        "문제 : TAX 컬럼을 오름차순으로 정렬한 결과와 내림차순으로 정렬한 결과를 각각 구하고 각 순번에 맞는 오름차순과 내림차순의 차이 값을 구하여 분산 값을 출력하시오."
      ],
      "metadata": {
        "id": "SHHqRyRnq6x3"
      }
    },
    {
      "cell_type": "code",
      "source": [
        "data = df.copy()\n",
        "\n",
        "data = data['TAX']\n",
        "\n",
        "## sort_values()\n",
        "data_asc = data.sort_values(ascending=True)\n",
        "data_desc = data.sort_values(ascending=False)\n",
        "\n",
        "#print(data_asc.head(1))\n",
        "#print(data_desc.head(1))\n",
        "print((data_asc - data_desc).iloc[0])\n",
        "print(data_asc.iloc[0], data_desc.iloc[0])\n",
        "print(data_asc.iloc[0] - data_desc.iloc[0])\n",
        "\n",
        "## reset_index()\n",
        "data_asc = data_asc.reset_index(drop=True)\n",
        "data_desc = data_desc.reset_index(drop=True)\n",
        "\n",
        "## concat()\n",
        "data = pd.concat([data_asc, data_desc], axis=1)\n",
        "#print(data.head())\n",
        "\n",
        "## var()\n",
        "result = (data_asc - data_desc).var()\n",
        "print(result)\n",
        "\n",
        "## 차이의 절대값\n",
        "result = abs(data_asc - data_desc).var()\n",
        "print(result)\n"
      ],
      "metadata": {
        "colab": {
          "base_uri": "https://localhost:8080/"
        },
        "id": "Ya8iRzTbrL3Y",
        "outputId": "20cad5e8-c825-4f71-a8a9-aae086ebbe2d"
      },
      "execution_count": 134,
      "outputs": [
        {
          "output_type": "stream",
          "name": "stdout",
          "text": [
            "0\n",
            "187 711\n",
            "-524\n",
            "101954.72475247525\n",
            "28490.598645951555\n"
          ]
        }
      ]
    },
    {
      "cell_type": "markdown",
      "source": [
        "### 스케일링 하기\n",
        "---"
      ],
      "metadata": {
        "id": "GHLJq3hpy0D5"
      }
    },
    {
      "cell_type": "markdown",
      "source": [
        "문제 : MEDV 칼럼을 최소최대척도 MinMaxScaler로 변환 후 0.5보다 큰 값을 가지는 개수를 구하시오.\n"
      ],
      "metadata": {
        "id": "ytshXJs7zEE9"
      }
    },
    {
      "cell_type": "code",
      "source": [
        "data = df.copy()\n",
        "\n",
        "## sklearn.preprocessing\n",
        "from sklearn.preprocessing import MinMaxScaler\n",
        "\n",
        "scaler = MinMaxScaler()\n",
        "data_minmax = scaler.fit_transform(data)\n",
        "print(type(data_minmax))\n",
        "\n",
        "## DataFrame()\n",
        "data = pd.DataFrame(data_minmax, columns=data.columns)\n",
        "data = data['MEDV']\n",
        "\n",
        "## count()\n",
        "result = data[(data > 0.5)].count()\n",
        "print(result)\n"
      ],
      "metadata": {
        "colab": {
          "base_uri": "https://localhost:8080/"
        },
        "id": "AU0qxTAAzC1k",
        "outputId": "6d81fae4-2bca-4b95-c8d5-e4b22311f179"
      },
      "execution_count": 147,
      "outputs": [
        {
          "output_type": "stream",
          "name": "stdout",
          "text": [
            "106\n"
          ]
        }
      ]
    },
    {
      "cell_type": "markdown",
      "source": [
        "문제 : DIS 칼럼을 표준화척도 StandardScaler로 변환 후 0.4보다 큰 면서 0.6보다 작은 값들에 대한 평균을 구하시오. 단, 소수점 셋째 자리에서 반올림하여 소수점 들째 자리까지 출력하시오."
      ],
      "metadata": {
        "id": "0A7X2OUr7kr9"
      }
    },
    {
      "cell_type": "markdown",
      "source": [
        "**전체 칼럼으로 작업 : 일반적**"
      ],
      "metadata": {
        "id": "bs5LQzg7PkId"
      }
    },
    {
      "cell_type": "code",
      "source": [
        "data = df.copy()\n",
        "\n",
        "## sklearn.preprocessing\n",
        "from sklearn.preprocessing import StandardScaler\n",
        "\n",
        "scaler = StandardScaler()\n",
        "data_std = scaler.fit_transform(data)\n",
        "\n",
        "## DataFrame()\n",
        "data_df = pd.DataFrame(data_minmax, columns=data.columns)\n",
        "#print(data.head(3))\n",
        "data_dis = data_df['DIS']\n",
        "\n",
        "## count()\n",
        "count_dis = data_dis[(data_dis > 0.4) & (data_dis < 0.6)].count()\n",
        "\n",
        "## mean()\n",
        "mean_dis = data_dis[(data_dis > 0.4) & (data_dis < 0.6)].mean()\n",
        "\n",
        "result = round(mean_dis,2)\n",
        "print(result)"
      ],
      "metadata": {
        "colab": {
          "base_uri": "https://localhost:8080/"
        },
        "id": "eEfBrqbb7lCX",
        "outputId": "8ad21369-1afd-48f4-a709-0dee0ec8a488"
      },
      "execution_count": 214,
      "outputs": [
        {
          "output_type": "stream",
          "name": "stdout",
          "text": [
            "72\n"
          ]
        }
      ]
    },
    {
      "cell_type": "markdown",
      "source": [
        "**DIS 하나의 칼럼으로 작업**"
      ],
      "metadata": {
        "id": "C2PnAxWBPdD8"
      }
    },
    {
      "cell_type": "code",
      "source": [
        "data = df.copy()\n",
        "data = data['DIS']\n",
        "\n",
        "## sklearn.preprocessing\n",
        "import numpy as np\n",
        "from sklearn.preprocessing import StandardScaler\n",
        "\n",
        "data = np.array(data).reshape(-1,1)\n",
        "scaler = StandardScaler()\n",
        "data_std = scaler.fit_transform(data)\n",
        "\n",
        "## DataFrame()\n",
        "data_df = pd.DataFrame(data_std)\n",
        "print(data_df.head())\n",
        "\n",
        "data_dis = data_df.iloc[:, 0]\n",
        "\n",
        "## mean()\n",
        "count_dis = data_dis[(data_dis > 0.4) & (data_dis < 0.6)].count()\n",
        "\n",
        "## mean()\n",
        "mean_dis = data_dis[(data_dis > 0.4) & (data_dis < 0.6)].mean()\n",
        "\n",
        "result = round(mean_dis,2)\n",
        "print(result)"
      ],
      "metadata": {
        "colab": {
          "base_uri": "https://localhost:8080/"
        },
        "id": "EnchaXAJ8gLx",
        "outputId": "4ad6e94e-1224-460a-a71c-79073b9b013f"
      },
      "execution_count": 215,
      "outputs": [
        {
          "output_type": "stream",
          "name": "stdout",
          "text": [
            "          0\n",
            "0  0.140214\n",
            "1  0.557160\n",
            "2  0.557160\n",
            "3  1.077737\n",
            "4  1.077737\n",
            "0.48\n"
          ]
        }
      ]
    },
    {
      "cell_type": "markdown",
      "source": [
        "**표준화 공식으로 작업**"
      ],
      "metadata": {
        "id": "ZqaAdn2kPxs8"
      }
    },
    {
      "cell_type": "code",
      "source": [
        "data = df.copy()\n",
        "data = data['DIS']\n",
        "\n",
        "# numpy와 pandas 편차는 자유도가 다름, pandas = 1\n",
        "data_std = (data - data.mean())/data.std(ddof=0)\n",
        "\n",
        "## DataFrame()\n",
        "data_df = pd.DataFrame(data_std)\n",
        "print(data_df.head())\n",
        "\n",
        "data_dis = data_df.iloc[:, 0]\n",
        "\n",
        "## mean()\n",
        "count_dis = data_dis[(data_dis > 0.4) & (data_dis < 0.6)].count()\n",
        "\n",
        "## mean()\n",
        "mean_dis = data_dis[(data_dis > 0.4) & (data_dis < 0.6)].mean()\n",
        "\n",
        "result = round(mean_dis,2)\n",
        "print(result)"
      ],
      "metadata": {
        "colab": {
          "base_uri": "https://localhost:8080/"
        },
        "id": "yGE_4gFY--Cn",
        "outputId": "6b42f2b5-bf8a-46ea-99dd-4e0089eb8c05"
      },
      "execution_count": 219,
      "outputs": [
        {
          "output_type": "stream",
          "name": "stdout",
          "text": [
            "        DIS\n",
            "0  0.140214\n",
            "1  0.557160\n",
            "2  0.557160\n",
            "3  1.077737\n",
            "4  1.077737\n",
            "0.48\n"
          ]
        }
      ]
    },
    {
      "cell_type": "markdown",
      "source": [
        "### 빈도값 구하기\n",
        "---"
      ],
      "metadata": {
        "id": "QwMfnFHE2rlZ"
      }
    },
    {
      "cell_type": "markdown",
      "source": [
        "\n",
        "문제 : AGE 칼럼을 소숫점 첫 번째 자리에서 반올림하고, 가장 많은 비중을 차지하는 AGE 값과 그 개수를 차례대로 출력 하시오. 즉 AGE 칼럼의 최빈값과 그 개수를 출력하시오."
      ],
      "metadata": {
        "id": "n3CRfeyF2rtu"
      }
    },
    {
      "cell_type": "code",
      "source": [
        "data = df.copy()\n",
        "\n",
        "data = data['AGE']\n",
        "#print(data.head())\n",
        "\n",
        "## round()\n",
        "data_round = round(data,0)\n",
        "#print(data_round.head())\n",
        "\n",
        "## value_counts()\n",
        "data_count = data_round.value_counts()\n",
        "#print(data_count.head())\n",
        "\n",
        "## sort_values()\n",
        "data_sort = data_count.sort_values(ascending=False)\n",
        "\n",
        "## head(), reset_index()\n",
        "data_reset_index = data_sort.head(1).reset_index()\n",
        "\n",
        "result = (data_reset_index.iloc[0,0], data_reset_index.iloc[0,1])\n",
        "print(result)"
      ],
      "metadata": {
        "colab": {
          "base_uri": "https://localhost:8080/"
        },
        "id": "aK2t2vdz0zu4",
        "outputId": "284cfb48-dd25-4a75-cf1c-6fb858b65b2a"
      },
      "execution_count": 159,
      "outputs": [
        {
          "output_type": "stream",
          "name": "stdout",
          "text": [
            "(100.0, 43)\n"
          ]
        }
      ]
    },
    {
      "cell_type": "markdown",
      "source": [
        "### 유니크한 값 구하기\n",
        "---"
      ],
      "metadata": {
        "id": "pJg7YDmP61V_"
      }
    },
    {
      "cell_type": "markdown",
      "source": [
        "문제 : 전체 칼럼에서 중복을 제거한 유니크한 값을 구한 후, 컬럼별로 유니크 unique한 값의 개수를 기준으로 평균값을 구하시오."
      ],
      "metadata": {
        "id": "DDhKJADD61fu"
      }
    },
    {
      "cell_type": "code",
      "source": [
        "data = df.copy()\n",
        "\n",
        "## pd.columns\n",
        "data_cols = data.columns\n",
        "#print(data.columns)\n",
        "for i in data_cols:\n",
        "  #print(i)\n",
        "  pass\n",
        "\n",
        "## Series.unique()\n",
        "uniq = data['CRIM'].unique()\n",
        "uniq_len = len(uniq)\n",
        "uniq_sum = sum(uniq)\n",
        "uniq_mean  = uniq_sum /uniq_len\n",
        "print(uniq_mean, uniq.mean())\n",
        "\n",
        "## loop :  for\n",
        "for i in data_cols:\n",
        "  uniq = data[i].unique()\n",
        "  uniq_len = len(uniq)\n",
        "  uniq_sum = sum(uniq)\n",
        "  uniq_mean  = uniq_sum /uniq_len\n",
        "  print(uniq_mean, uniq.mean())\n",
        "  \n",
        "## >> ? 이게 맞는 것인가?\n"
      ],
      "metadata": {
        "colab": {
          "base_uri": "https://localhost:8080/"
        },
        "id": "Or5qcz856Zkt",
        "outputId": "77ea3c2c-10ae-42f0-c703-28442419dcaa"
      },
      "execution_count": 235,
      "outputs": [
        {
          "output_type": "stream",
          "name": "stdout",
          "text": [
            "3.599393273809525 3.599393273809524\n",
            "3.599393273809525 3.599393273809524\n",
            "47.15384615384615 47.15384615384615\n",
            "6.129999999999999 6.130000000000001\n",
            "0.5 0.5\n",
            "0.5172827160493828 0.5172827160493827\n",
            "nan nan\n",
            "62.308146067415684 62.308146067415734\n",
            "3.4200242718446607 3.4200242718446603\n",
            "6.666666666666667 6.666666666666667\n",
            "313.45454545454544 313.45454545454544\n",
            "17.476086956521737 17.47608695652174\n",
            "340.4255742296917 340.4255742296919\n",
            "12.885406593406593 12.885406593406591\n",
            "23.145414847161575 23.14541484716157\n"
          ]
        }
      ]
    },
    {
      "cell_type": "code",
      "source": [
        "## RM 처리\n",
        "data_rm = data['RM']\n",
        "print(data_rm.isnull().sum())\n",
        "\n",
        "## fillna()\n",
        "data_rm = data_rm.fillna(data_rm.mean())\n",
        "print(data_rm.isnull().sum())\n",
        "\n",
        "uniq = data_rm.unique()\n",
        "uniq_len = len(uniq)\n",
        "uniq_sum = sum(uniq)\n",
        "uniq_mean  = uniq_sum /uniq_len\n",
        "print(uniq_mean, uniq.mean())"
      ],
      "metadata": {
        "colab": {
          "base_uri": "https://localhost:8080/"
        },
        "id": "7QAfTdQkSkeM",
        "outputId": "2c67100f-6c97-4f8d-d09c-ca9965547c25"
      },
      "execution_count": 243,
      "outputs": [
        {
          "output_type": "stream",
          "name": "stdout",
          "text": [
            "15\n",
            "0\n",
            "434 2732.989101832997\n",
            "6.297209912057597 6.29720991205759\n"
          ]
        }
      ]
    },
    {
      "cell_type": "code",
      "source": [
        "data = df.copy()\n",
        "\n",
        "## pd.columns\n",
        "data_cols = data.columns\n",
        "\n",
        "## loop :  for\n",
        "uniq_sum = 0\n",
        "for i in data_cols:\n",
        "  uniq = len(data[i].unique())\n",
        "  #print(uniq)\n",
        "  uniq_sum += uniq\n",
        "\n",
        "print(uniq_sum)\n",
        "\n",
        "result = uniq_sum / len(data_cols)\n",
        "print(result)  "
      ],
      "metadata": {
        "colab": {
          "base_uri": "https://localhost:8080/"
        },
        "id": "fKkS7XT5VAyN",
        "outputId": "27fb68ea-3896-4e15-9e9e-ba2518ed93dc"
      },
      "execution_count": 248,
      "outputs": [
        {
          "output_type": "stream",
          "name": "stdout",
          "text": [
            "3053\n",
            "218.07142857142858\n"
          ]
        }
      ]
    },
    {
      "cell_type": "code",
      "source": [
        "df.info()"
      ],
      "metadata": {
        "colab": {
          "base_uri": "https://localhost:8080/"
        },
        "id": "CnUH1CvuVrXj",
        "outputId": "98d452db-48c3-4117-c399-43299916d337"
      },
      "execution_count": 246,
      "outputs": [
        {
          "output_type": "stream",
          "name": "stdout",
          "text": [
            "<class 'pandas.core.frame.DataFrame'>\n",
            "RangeIndex: 506 entries, 0 to 505\n",
            "Data columns (total 14 columns):\n",
            " #   Column   Non-Null Count  Dtype  \n",
            "---  ------   --------------  -----  \n",
            " 0   CRIM     506 non-null    float64\n",
            " 1   ZN       506 non-null    float64\n",
            " 2   INDUS    506 non-null    float64\n",
            " 3   CHAS     506 non-null    int64  \n",
            " 4   NOX      506 non-null    float64\n",
            " 5   RM       491 non-null    float64\n",
            " 6   AGE      506 non-null    float64\n",
            " 7   DIS      506 non-null    float64\n",
            " 8   RAD      506 non-null    int64  \n",
            " 9   TAX      506 non-null    int64  \n",
            " 10  PTRATIO  506 non-null    float64\n",
            " 11  B        506 non-null    float64\n",
            " 12  LSTAT    506 non-null    float64\n",
            " 13  MEDV     506 non-null    float64\n",
            "dtypes: float64(11), int64(3)\n",
            "memory usage: 55.5 KB\n"
          ]
        }
      ]
    }
  ]
}