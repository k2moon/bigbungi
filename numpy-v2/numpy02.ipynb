{
  "cells": [
    {
      "cell_type": "markdown",
      "metadata": {
        "id": "view-in-github",
        "colab_type": "text"
      },
      "source": [
        "<a href=\"https://colab.research.google.com/github/k2moon/bigbungi/blob/main/numpy-v2/numpy02.ipynb\" target=\"_parent\"><img src=\"https://colab.research.google.com/assets/colab-badge.svg\" alt=\"Open In Colab\"/></a>"
      ]
    },
    {
      "cell_type": "markdown",
      "metadata": {
        "school_cell_uuid": "4e7a40fb49b24c27ba1c62ef2f52ecc4",
        "id": "R0TqWXEfOGVc"
      },
      "source": [
        "# 넘파이의 자료형"
      ]
    },
    {
      "cell_type": "markdown",
      "metadata": {
        "school_cell_uuid": "fe1695a18e6f49a5aede6e03f1457f41",
        "id": "XGVqYOX8OGVi"
      },
      "source": [
        "## 넘파이의 자료형 dtype"
      ]
    },
    {
      "cell_type": "markdown",
      "metadata": {
        "school_cell_uuid": "febc877ad92f4d9aa32063d5700b2bd7",
        "id": "Tc9eEEJcOGVi"
      },
      "source": [
        "- 넘파이의 배열 즉, `ndarray`클래스는 원소가 모두 같은 자료형\n",
        "- `array` 명령으로 배열을 만들 때 자료형을 명시적으로 적용하려면 `dtype` 인수를 사용\n",
        "- `dtype` 인수가 없으면 주어진 데이터를 저장할 수 있는 자료형을 스스로 유추\n",
        "- 만들어진 배열의 자료형을 알아내려면 `dtype` 속성 확인"
      ]
    },
    {
      "cell_type": "code",
      "execution_count": 2,
      "metadata": {
        "colab": {
          "base_uri": "https://localhost:8080/",
          "height": 36
        },
        "id": "cj0nZh8yOGVj",
        "outputId": "1d9d16c5-2e96-43ff-8404-00046ed5e5fb"
      },
      "outputs": [
        {
          "output_type": "execute_result",
          "data": {
            "text/plain": [
              "'1.23.5'"
            ],
            "application/vnd.google.colaboratory.intrinsic+json": {
              "type": "string"
            }
          },
          "metadata": {},
          "execution_count": 2
        }
      ],
      "source": [
        "import numpy as np\n",
        "# 경고 메시지 숨기기\n",
        "#import warnings\n",
        "#warnings.filterwarnings(action='ignore')\n",
        "np.__version__"
      ]
    },
    {
      "cell_type": "code",
      "execution_count": null,
      "metadata": {
        "school_cell_uuid": "9134e74d7b074bbf978d365e658c7c42",
        "id": "D_eaDo-2OGVl",
        "outputId": "788eb2b8-f2f6-4386-9eb1-a56dbc724750"
      },
      "outputs": [
        {
          "data": {
            "text/plain": [
              "dtype('int32')"
            ]
          },
          "execution_count": 3,
          "metadata": {},
          "output_type": "execute_result"
        }
      ],
      "source": [
        "x = np.array([1, 2, 3])\n",
        "x.dtype"
      ]
    },
    {
      "cell_type": "code",
      "execution_count": null,
      "metadata": {
        "school_cell_uuid": "30680991c7bb4857ac85c1b4693d207a",
        "id": "-nzc8-27OGVl",
        "outputId": "424e6f16-8a14-430f-94cd-2baec02eb12a"
      },
      "outputs": [
        {
          "data": {
            "text/plain": [
              "dtype('float64')"
            ]
          },
          "execution_count": 4,
          "metadata": {},
          "output_type": "execute_result"
        }
      ],
      "source": [
        "x = np.array([1.0, 2.0, 3.0])\n",
        "x.dtype"
      ]
    },
    {
      "cell_type": "code",
      "execution_count": null,
      "metadata": {
        "school_cell_uuid": "39de98abd11c427495aaa1eb907e677d",
        "id": "HfEvb3aVOGVm",
        "outputId": "9f19b742-a6b1-4336-a87e-38ad8504505e"
      },
      "outputs": [
        {
          "data": {
            "text/plain": [
              "dtype('float64')"
            ]
          },
          "execution_count": 5,
          "metadata": {},
          "output_type": "execute_result"
        }
      ],
      "source": [
        "x = np.array([1, 2, 3.0])\n",
        "x.dtype"
      ]
    },
    {
      "cell_type": "markdown",
      "metadata": {
        "school_cell_uuid": "4be2f0907d3b4b50a10b3dd7be321c07",
        "id": "g05yoKBHOGVm"
      },
      "source": [
        "### dtype 표\n",
        "- `dtype` 인수로 지정할 자료형은 다음 표에 보인것과 같은 \"dtype 접두사\"로 시작하는 문자열\n",
        "- 뒤에 오는 숫자는 바이트 수 혹은 글자 수를 의미, `f8`은 8바이트(64비트) 부동소수점 실수, `U4` 는 4글자 유니코드 문자열\n",
        "- 숫자를 생략하면 운영체제에 따라 알맞은 크기를 지정"
      ]
    },
    {
      "cell_type": "markdown",
      "metadata": {
        "school_cell_uuid": "5b61d2f3a3a843c5ad1f7b2b9584c6fd",
        "id": "_uTt9CyCOGVn"
      },
      "source": [
        "| dtype 접두사 | 설명 | 사용 예 |\n",
        "|-|-|-|\n",
        "| `b` | 불리언 | `b` (참 혹은 거짓) |\n",
        "| `i` | 정수 | `i8` (64비트) |\n",
        "| `u` | 부호 없는 정수 | `u8` (64비트) |\n",
        "| `f` | 부동소수점 | `f8` (64비트) |\n",
        "| `c` | 복소 부동소수점 | `c16` (128비트) |\n",
        "| `O` | 객체 | `0` (객체에 대한 포인터) |\n",
        "| `S` | 바이트 문자열 | `S24` (24 글자) |\n",
        "| `U` | 유니코드 문자열 | `U24` (24 유니코드 글자) |"
      ]
    },
    {
      "cell_type": "code",
      "execution_count": null,
      "metadata": {
        "school_cell_uuid": "ff8c50f45c624eccbdfe2b51116da467",
        "id": "2esJeNl1OGVn",
        "outputId": "6abe0668-64c5-4390-eb9a-9966f89918dc"
      },
      "outputs": [
        {
          "data": {
            "text/plain": [
              "(dtype('float32'), array([1., 2., 3.], dtype=float32))"
            ]
          },
          "execution_count": 10,
          "metadata": {},
          "output_type": "execute_result"
        }
      ],
      "source": [
        "x = np.array([1, 2, 3], dtype='f')\n",
        "x.dtype, x"
      ]
    },
    {
      "cell_type": "code",
      "execution_count": null,
      "metadata": {
        "school_cell_uuid": "6d26e85b2d694b44919f76a7ab9925aa",
        "id": "PDnOCL8ROGVn",
        "outputId": "fc43ba04-b5be-4bb0-a254-bc74466197bc"
      },
      "outputs": [
        {
          "data": {
            "text/plain": [
              "3.0"
            ]
          },
          "execution_count": 7,
          "metadata": {},
          "output_type": "execute_result"
        }
      ],
      "source": [
        "x[0] + x[1]"
      ]
    },
    {
      "cell_type": "code",
      "execution_count": null,
      "metadata": {
        "school_cell_uuid": "e1e98736aba64814ba4f164236752ff8",
        "id": "2thiGL8bOGVo",
        "outputId": "42cd2ce6-1792-4252-bfc1-a70a3ab1a3f6"
      },
      "outputs": [
        {
          "data": {
            "text/plain": [
              "(dtype('<U1'), array(['홍', '길', '동'], dtype='<U1'))"
            ]
          },
          "execution_count": 12,
          "metadata": {},
          "output_type": "execute_result"
        }
      ],
      "source": [
        "x = np.array(['홍', '길', '동'], dtype='U')\n",
        "x.dtype, x"
      ]
    },
    {
      "cell_type": "code",
      "execution_count": null,
      "metadata": {
        "school_cell_uuid": "0dc7fe8448034c1187b8d53ffb8604bb",
        "id": "u71pCjNQOGVo",
        "outputId": "ed3e74d4-6ed5-4a35-8c57-9e928bf5c68f"
      },
      "outputs": [
        {
          "data": {
            "text/plain": [
              "'홍길동'"
            ]
          },
          "execution_count": 13,
          "metadata": {},
          "output_type": "execute_result"
        }
      ],
      "source": [
        "x[0] + x[1] + x[2]"
      ]
    },
    {
      "cell_type": "markdown",
      "metadata": {
        "school_cell_uuid": "59469678d34a455d88825371f2ba4b10",
        "id": "416m5JC_OGVo"
      },
      "source": [
        "## `Inf`와 `NaN`"
      ]
    },
    {
      "cell_type": "markdown",
      "metadata": {
        "id": "O069aJq4OGVp"
      },
      "source": [
        "- `Inf` : 무한대\n",
        "- 'NaN` : 정의할 수 없는 수"
      ]
    },
    {
      "cell_type": "code",
      "execution_count": null,
      "metadata": {
        "id": "Rv1ftJVsOGVp",
        "outputId": "f4ca874b-6129-4646-ee50-71084abcc75e"
      },
      "outputs": [
        {
          "name": "stderr",
          "output_type": "stream",
          "text": [
            "C:\\Users\\1\\AppData\\Local\\Temp\\ipykernel_5544\\2787428192.py:2: RuntimeWarning: divide by zero encountered in divide\n",
            "  np.array([10]) / 0\n"
          ]
        },
        {
          "data": {
            "text/plain": [
              "array([inf])"
            ]
          },
          "execution_count": 19,
          "metadata": {},
          "output_type": "execute_result"
        }
      ],
      "source": [
        "# inf\n",
        "np.array([10]) / 0"
      ]
    },
    {
      "cell_type": "code",
      "execution_count": null,
      "metadata": {
        "id": "gn_yq5ezOGVp"
      },
      "outputs": [],
      "source": [
        "import warnings\n",
        "# 경고 메시지 숨기기\n",
        "warnings.filterwarnings(action='ignore')"
      ]
    },
    {
      "cell_type": "code",
      "execution_count": null,
      "metadata": {
        "id": "yKaOLUiOOGVp",
        "outputId": "e26cc1a9-1a1f-4053-9143-4555ebd621c9"
      },
      "outputs": [
        {
          "data": {
            "text/plain": [
              "array([nan])"
            ]
          },
          "execution_count": 21,
          "metadata": {},
          "output_type": "execute_result"
        }
      ],
      "source": [
        "# nan\n",
        "np.array([0]) / 0"
      ]
    },
    {
      "cell_type": "code",
      "execution_count": null,
      "metadata": {
        "school_cell_uuid": "b4ed693f975a4d7da05af4252d47f30d",
        "id": "86XKXoJaOGVq",
        "outputId": "aa08f1b9-d81f-4ccc-f88e-68208510ca5e"
      },
      "outputs": [
        {
          "data": {
            "text/plain": [
              "array([  0.,  inf, -inf,  nan])"
            ]
          },
          "execution_count": 22,
          "metadata": {},
          "output_type": "execute_result"
        }
      ],
      "source": [
        "np.array([0, 1, -1, 0]) / np.array([1, 0, 0, 0])"
      ]
    },
    {
      "cell_type": "code",
      "execution_count": null,
      "metadata": {
        "school_cell_uuid": "0ecf09051db4488f8bb7831bc0a46ee4",
        "id": "mEVdbSSHOGVq",
        "outputId": "7d17a341-f0ce-4d69-fd06-34cef5cf86ef"
      },
      "outputs": [
        {
          "data": {
            "text/plain": [
              "-inf"
            ]
          },
          "execution_count": 25,
          "metadata": {},
          "output_type": "execute_result"
        }
      ],
      "source": [
        "np.log(0)"
      ]
    },
    {
      "cell_type": "code",
      "execution_count": null,
      "metadata": {
        "school_cell_uuid": "3e564112200a45c097123f09688375a1",
        "id": "NpZwOFCWOGVq",
        "outputId": "02c04819-a467-46b1-8c36-87531cbf4f4e"
      },
      "outputs": [
        {
          "data": {
            "text/plain": [
              "(inf, 0.0)"
            ]
          },
          "execution_count": 28,
          "metadata": {},
          "output_type": "execute_result"
        }
      ],
      "source": [
        "np.exp(np.inf), np.exp(-np.inf)"
      ]
    },
    {
      "cell_type": "markdown",
      "metadata": {
        "school_cell_uuid": "1cdcb42b3e724cff877530732ddf7d46",
        "id": "EtNbp00cOGVq"
      },
      "source": [
        "## 다양한 배열 생성"
      ]
    },
    {
      "cell_type": "markdown",
      "metadata": {
        "school_cell_uuid": "42a8ae213d734409a35527275c0b4264",
        "id": "edLrV6kHOGVq"
      },
      "source": [
        "\n",
        "* `zeros`, `ones`\n",
        "* `zeros_like`, `ones_like`\n",
        "* `empty`\n",
        "* `arange`\n",
        "* `linspace`, `logspace`"
      ]
    },
    {
      "cell_type": "markdown",
      "metadata": {
        "id": "Wxx44i6fOGVr"
      },
      "source": [
        "### `zeros`"
      ]
    },
    {
      "cell_type": "markdown",
      "metadata": {
        "school_cell_uuid": "7c79b2111e3e438eb66470e15acc0c78",
        "id": "xdJQ4U3yOGVr"
      },
      "source": [
        "- 크기가 정해져 있고 모든 값이 0인 배열을 생성"
      ]
    },
    {
      "cell_type": "code",
      "execution_count": null,
      "metadata": {
        "school_cell_uuid": "0450ddaee8694b2d8297b1b15035182b",
        "id": "8_aTKJogOGVr",
        "outputId": "5fdf1b53-fdf3-4c7f-c4c5-6d986f143d61"
      },
      "outputs": [
        {
          "data": {
            "text/plain": [
              "array([0., 0., 0., 0., 0.])"
            ]
          },
          "execution_count": 29,
          "metadata": {},
          "output_type": "execute_result"
        }
      ],
      "source": [
        "a = np.zeros(5)\n",
        "a"
      ]
    },
    {
      "cell_type": "markdown",
      "metadata": {
        "school_cell_uuid": "128099e12e224f7daa7967d737681571",
        "id": "ocbxgi05OGVr"
      },
      "source": [
        "- tuple or list로 다차원 배열 생성"
      ]
    },
    {
      "cell_type": "code",
      "execution_count": null,
      "metadata": {
        "school_cell_uuid": "4f578f16747a471aafb9094e27f897d9",
        "id": "yjkfyCK3OGVr",
        "outputId": "3b7c01ed-daa1-4f28-e7d0-b13ebb171494"
      },
      "outputs": [
        {
          "data": {
            "text/plain": [
              "(array([[0., 0., 0.],\n",
              "        [0., 0., 0.]]),\n",
              " array([[0., 0., 0.],\n",
              "        [0., 0., 0.]]))"
            ]
          },
          "execution_count": 33,
          "metadata": {},
          "output_type": "execute_result"
        }
      ],
      "source": [
        "a = np.zeros((2, 3))\n",
        "b = np.zeros([2, 3])\n",
        "a, b"
      ]
    },
    {
      "cell_type": "markdown",
      "metadata": {
        "school_cell_uuid": "ff1a3dc84bd44470820a5c0b34e3b437",
        "id": "a3v45ml4OGVr"
      },
      "source": [
        "- `dtype` 지정 가능"
      ]
    },
    {
      "cell_type": "code",
      "execution_count": null,
      "metadata": {
        "school_cell_uuid": "0638b07330ae4cd48dc4b928b51c274e",
        "id": "VqrV6HsHOGVr",
        "outputId": "e7cb7e82-232f-4c77-aac6-e40b17311cc9"
      },
      "outputs": [
        {
          "data": {
            "text/plain": [
              "array([[0, 0],\n",
              "       [0, 0],\n",
              "       [0, 0]], dtype=int32)"
            ]
          },
          "execution_count": 35,
          "metadata": {},
          "output_type": "execute_result"
        }
      ],
      "source": [
        "a = np.zeros((3, 2), dtype=\"i\")\n",
        "a"
      ]
    },
    {
      "cell_type": "markdown",
      "metadata": {
        "id": "fMtl4EqROGVs"
      },
      "source": [
        "### ones"
      ]
    },
    {
      "cell_type": "markdown",
      "metadata": {
        "school_cell_uuid": "278bf302cf734be6a097281158512c1e",
        "id": "eW0fS7cdOGVs"
      },
      "source": [
        "- 1로 초기화된 배열을 생성"
      ]
    },
    {
      "cell_type": "code",
      "execution_count": null,
      "metadata": {
        "school_cell_uuid": "3c4d0f3f2ff84ac39390ced7385db2d2",
        "id": "oaM_7krbOGVs",
        "outputId": "07749fd9-e5e1-48d2-afba-24e47b2fdb77"
      },
      "outputs": [
        {
          "data": {
            "text/plain": [
              "array([[[1, 1, 1, 1],\n",
              "        [1, 1, 1, 1],\n",
              "        [1, 1, 1, 1]],\n",
              "\n",
              "       [[1, 1, 1, 1],\n",
              "        [1, 1, 1, 1],\n",
              "        [1, 1, 1, 1]]], dtype=int64)"
            ]
          },
          "execution_count": 36,
          "metadata": {},
          "output_type": "execute_result"
        }
      ],
      "source": [
        "a = np.ones((2, 3, 4), dtype=\"i8\")\n",
        "a"
      ]
    },
    {
      "cell_type": "markdown",
      "metadata": {
        "id": "6-ZDa_jIOGVs"
      },
      "source": [
        "### `zeros_like`, `ones_like`"
      ]
    },
    {
      "cell_type": "markdown",
      "metadata": {
        "school_cell_uuid": "31a0e99a37ce4b04a48c1c6ab5d0722e",
        "id": "fqZSXQfgOGVs"
      },
      "source": [
        "- 다른 배열과 같은 크기의 배열을 생성"
      ]
    },
    {
      "cell_type": "code",
      "execution_count": null,
      "metadata": {
        "school_cell_uuid": "27dc216486b1400e81701bf57a5bc3ec",
        "id": "6HgqVqf4OGVs",
        "outputId": "d35a517b-6a0e-4c78-85e9-045f2aa983aa"
      },
      "outputs": [
        {
          "data": {
            "text/plain": [
              "(array([[0., 0., 0.],\n",
              "        [0., 0., 0.]], dtype=float32),\n",
              " array([[1., 1., 1.],\n",
              "        [1., 1., 1.]], dtype=float32))"
            ]
          },
          "execution_count": 39,
          "metadata": {},
          "output_type": "execute_result"
        }
      ],
      "source": [
        "a = np.array([\n",
        "    [1,2,3],\n",
        "    [4,5,6]\n",
        "])\n",
        "b = np.zeros_like(a, dtype=\"f\")\n",
        "c = np.ones_like(a, dtype=\"f\")\n",
        "b,c"
      ]
    },
    {
      "cell_type": "markdown",
      "metadata": {
        "id": "zR26HEdxOGVt"
      },
      "source": [
        "### `empty`"
      ]
    },
    {
      "cell_type": "markdown",
      "metadata": {
        "school_cell_uuid": "7c81a8dce91e4bcf9160223928d6f52f",
        "id": "O-g77-ADOGVt"
      },
      "source": [
        "- 빠르게 새열을 생성 하기 위해 초기화 하지 않은 배열 생성\n",
        "- 생성된 배열에는 기존에 메모리에 저장되어 있는 값은 쓰레기 값"
      ]
    },
    {
      "cell_type": "code",
      "execution_count": null,
      "metadata": {
        "school_cell_uuid": "37614cdedd624fa28a0f54441845892a",
        "id": "9eY6XhfBOGVt",
        "outputId": "2b7e056a-66ba-49f9-9869-89764e4867f1"
      },
      "outputs": [
        {
          "data": {
            "text/plain": [
              "array([[4.67296746e-307, 1.69121096e-306, 1.89146896e-307],\n",
              "       [7.56571288e-307, 3.11525958e-307, 1.24610723e-306],\n",
              "       [1.29061142e-306, 1.29061142e-306, 5.53353523e-322]])"
            ]
          },
          "execution_count": 41,
          "metadata": {},
          "output_type": "execute_result"
        }
      ],
      "source": [
        "a = np.empty((3, 3))\n",
        "a"
      ]
    },
    {
      "cell_type": "markdown",
      "metadata": {
        "id": "GrwS9zE-OGVy"
      },
      "source": [
        "### `arange`"
      ]
    },
    {
      "cell_type": "markdown",
      "metadata": {
        "school_cell_uuid": "269accf0732f43be8912260ceb0a6609",
        "id": "dpF-dG-ROGVy"
      },
      "source": [
        "- 파이썬의 `range` 함수"
      ]
    },
    {
      "cell_type": "code",
      "execution_count": null,
      "metadata": {
        "school_cell_uuid": "b732c7a3553247be989a6e35d79fb83a",
        "id": "O5f9AjZMOGVy",
        "outputId": "c25d712c-7d98-4700-8c34-2ae723858117"
      },
      "outputs": [
        {
          "data": {
            "text/plain": [
              "array([0, 1, 2, 3, 4, 5, 6, 7, 8, 9])"
            ]
          },
          "execution_count": 42,
          "metadata": {},
          "output_type": "execute_result"
        }
      ],
      "source": [
        "np.arange(10)  # 0 .. n-1"
      ]
    },
    {
      "cell_type": "code",
      "execution_count": null,
      "metadata": {
        "school_cell_uuid": "d0cb5cefda834591987ce4dd5174644b",
        "id": "ISPXngzVOGVz",
        "outputId": "7dca9458-9ff6-4662-d507-cf1be17dfd50"
      },
      "outputs": [
        {
          "data": {
            "text/plain": [
              "array([1, 3, 5, 7, 9])"
            ]
          },
          "execution_count": 44,
          "metadata": {},
          "output_type": "execute_result"
        }
      ],
      "source": [
        "np.arange(1, 10, 2)  # 시작, 끝(포함하지 않음), 단계"
      ]
    },
    {
      "cell_type": "markdown",
      "metadata": {
        "id": "7eAUr5uCOGVz"
      },
      "source": [
        "### `linspace`, `logspace`"
      ]
    },
    {
      "cell_type": "markdown",
      "metadata": {
        "school_cell_uuid": "4320ced2361c452286d820e0d3f8cbfc",
        "id": "zw-6qC3ZOGVz"
      },
      "source": [
        "- `linspace` , `logspace` 명령은 선형 구간 혹은 로그 구간을 지정한 구간의 수만큼 분할 값으로 배열 생성"
      ]
    },
    {
      "cell_type": "code",
      "execution_count": null,
      "metadata": {
        "school_cell_uuid": "7e36ecf98ff347eda7659c2d5455b690",
        "id": "SYJLjW9VOGVz",
        "outputId": "352f5e85-21f0-469e-f524-727679ba8884"
      },
      "outputs": [
        {
          "data": {
            "text/plain": [
              "array([  0.,  25.,  50.,  75., 100.])"
            ]
          },
          "execution_count": 45,
          "metadata": {},
          "output_type": "execute_result"
        }
      ],
      "source": [
        "np.linspace(0, 100, 5)  # 시작, 끝(포함), 갯수"
      ]
    },
    {
      "cell_type": "code",
      "execution_count": null,
      "metadata": {
        "id": "Tv4Y-6vKOGVz",
        "outputId": "d324f0dd-3d4e-4a4e-d33a-1674e67577d7"
      },
      "outputs": [
        {
          "data": {
            "text/plain": [
              "array([ 1.25892541,  1.58489319,  1.99526231,  2.51188643,  3.16227766,\n",
              "        3.98107171,  5.01187234,  6.30957344,  7.94328235, 10.        ])"
            ]
          },
          "execution_count": 46,
          "metadata": {},
          "output_type": "execute_result"
        }
      ],
      "source": [
        "np.logspace(0.1, 1, 10)"
      ]
    },
    {
      "cell_type": "markdown",
      "metadata": {
        "school_cell_uuid": "cb988d063cd840b68a59d818c9f9d05f",
        "id": "1iKgkFVGOGV0"
      },
      "source": [
        "## 전치 연산 `T`"
      ]
    },
    {
      "cell_type": "markdown",
      "metadata": {
        "school_cell_uuid": "853b2b53a6bc44548ed80a81cde207e3",
        "id": "yUL5jjPbOGV0"
      },
      "source": [
        "- 2차원 배열의 전치(transpose) 연산은 행과 열을 바꾸는 작업"
      ]
    },
    {
      "cell_type": "code",
      "execution_count": null,
      "metadata": {
        "school_cell_uuid": "67ac6fc81b6c49a1854e86e7ed258cb0",
        "id": "7uGTF7XeOGV0",
        "outputId": "5be8cf5c-2d7a-4cc2-8b08-af2304576c60"
      },
      "outputs": [
        {
          "data": {
            "text/plain": [
              "array([[1, 2, 3],\n",
              "       [4, 5, 6]])"
            ]
          },
          "execution_count": 47,
          "metadata": {},
          "output_type": "execute_result"
        }
      ],
      "source": [
        "a = np.array([[1, 2, 3], [4, 5, 6]])\n",
        "a"
      ]
    },
    {
      "cell_type": "code",
      "execution_count": null,
      "metadata": {
        "school_cell_uuid": "bbf3f0afd4054d158fe959a3df08e254",
        "id": "HQHVuBlqOGV0",
        "outputId": "744b4e5b-f7e1-4cb4-8136-55a37837746f"
      },
      "outputs": [
        {
          "data": {
            "text/plain": [
              "array([[1, 4],\n",
              "       [2, 5],\n",
              "       [3, 6]])"
            ]
          },
          "execution_count": 48,
          "metadata": {},
          "output_type": "execute_result"
        }
      ],
      "source": [
        "a.T"
      ]
    },
    {
      "cell_type": "markdown",
      "metadata": {
        "school_cell_uuid": "e051247ba49240a79a260dc42ea0eec8",
        "id": "sHXk3IrsOGV0"
      },
      "source": [
        "## 배열의 크기 변형 `reshape`"
      ]
    },
    {
      "cell_type": "markdown",
      "metadata": {
        "school_cell_uuid": "801fa3c18fae453084b3da2c5fb3f671",
        "id": "UCpAK44yOGV0"
      },
      "source": [
        "- 배열의 차원 변경\n",
        "- (12,1) -> (3,4) -> (2, 6) -> (4,3)"
      ]
    },
    {
      "cell_type": "code",
      "execution_count": 3,
      "metadata": {
        "school_cell_uuid": "8b76f25bf4684e0b97520db76f09688e",
        "colab": {
          "base_uri": "https://localhost:8080/"
        },
        "id": "G78Aes-6OGV1",
        "outputId": "eeb0fd51-26a2-4098-da1f-8deccb01cd4c"
      },
      "outputs": [
        {
          "output_type": "execute_result",
          "data": {
            "text/plain": [
              "((12,), array([ 0,  1,  2,  3,  4,  5,  6,  7,  8,  9, 10, 11]))"
            ]
          },
          "metadata": {},
          "execution_count": 3
        }
      ],
      "source": [
        "a = np.arange(12)\n",
        "a.shape, a"
      ]
    },
    {
      "cell_type": "code",
      "execution_count": 4,
      "metadata": {
        "school_cell_uuid": "0652bfe7847a4c1fa3bbcc77623598dc",
        "colab": {
          "base_uri": "https://localhost:8080/"
        },
        "id": "5fI9XPHMOGV1",
        "outputId": "e81dab0f-7758-429d-8794-79fced547a61"
      },
      "outputs": [
        {
          "output_type": "execute_result",
          "data": {
            "text/plain": [
              "(array([[ 0,  1,  2,  3],\n",
              "        [ 4,  5,  6,  7],\n",
              "        [ 8,  9, 10, 11]]),\n",
              " array([[ 0,  1,  2,  3],\n",
              "        [ 4,  5,  6,  7],\n",
              "        [ 8,  9, 10, 11]]))"
            ]
          },
          "metadata": {},
          "execution_count": 4
        }
      ],
      "source": [
        "b = a.reshape(3, 4)\n",
        "b, b"
      ]
    },
    {
      "cell_type": "code",
      "execution_count": null,
      "metadata": {
        "id": "6hwfhdQyOGV1",
        "outputId": "25e6007e-64c6-4f4b-807f-1c55d125aae3"
      },
      "outputs": [
        {
          "data": {
            "text/plain": [
              "((2, 6),\n",
              " array([[ 0,  1,  2,  3,  4,  5],\n",
              "        [ 6,  7,  8,  9, 10, 11]]))"
            ]
          },
          "execution_count": 57,
          "metadata": {},
          "output_type": "execute_result"
        }
      ],
      "source": [
        "c = b.reshape(2, 6)\n",
        "c.shape, c"
      ]
    },
    {
      "cell_type": "code",
      "execution_count": null,
      "metadata": {
        "id": "PhLNibc7OGV1",
        "outputId": "38ba1d32-7c32-42db-eff4-49689e6f1b08"
      },
      "outputs": [
        {
          "data": {
            "text/plain": [
              "((4, 3),\n",
              " array([[ 0,  1,  2],\n",
              "        [ 3,  4,  5],\n",
              "        [ 6,  7,  8],\n",
              "        [ 9, 10, 11]]))"
            ]
          },
          "execution_count": 58,
          "metadata": {},
          "output_type": "execute_result"
        }
      ],
      "source": [
        "d = c.reshape(4, 3)\n",
        "d.shape, d"
      ]
    },
    {
      "cell_type": "markdown",
      "metadata": {
        "school_cell_uuid": "6e46b05e869747b1ae07074efebe4597",
        "id": "rA8CPGWSOGV2"
      },
      "source": [
        "- -1의 사용"
      ]
    },
    {
      "cell_type": "code",
      "execution_count": null,
      "metadata": {
        "school_cell_uuid": "f04885d56e174f638ef35803c0057597",
        "id": "g32o0e2IOGV2",
        "outputId": "29d250c1-5345-4226-f831-2a6ef0c3e5de"
      },
      "outputs": [
        {
          "data": {
            "text/plain": [
              "array([[ 0,  1,  2,  3],\n",
              "       [ 4,  5,  6,  7],\n",
              "       [ 8,  9, 10, 11]])"
            ]
          },
          "execution_count": 27,
          "metadata": {},
          "output_type": "execute_result"
        }
      ],
      "source": [
        "a.reshape(3, -1)"
      ]
    },
    {
      "cell_type": "code",
      "execution_count": null,
      "metadata": {
        "school_cell_uuid": "81f66a4782c74011a5143a10cb21728b",
        "id": "3yCYOs26OGV2",
        "outputId": "d7b11a12-d2e7-4be5-ad79-f5812bf883e1"
      },
      "outputs": [
        {
          "data": {
            "text/plain": [
              "array([[[ 0,  1,  2],\n",
              "        [ 3,  4,  5]],\n",
              "\n",
              "       [[ 6,  7,  8],\n",
              "        [ 9, 10, 11]]])"
            ]
          },
          "execution_count": 28,
          "metadata": {},
          "output_type": "execute_result"
        }
      ],
      "source": [
        "a.reshape(2, 2, -1)"
      ]
    },
    {
      "cell_type": "code",
      "execution_count": null,
      "metadata": {
        "school_cell_uuid": "1aa82c72705f4adca24100997b321ec8",
        "id": "_1_bMgsyOGV2",
        "outputId": "3fe57b14-6584-4f5f-daf2-e62a90ccb647"
      },
      "outputs": [
        {
          "data": {
            "text/plain": [
              "array([[[ 0,  1],\n",
              "        [ 2,  3],\n",
              "        [ 4,  5]],\n",
              "\n",
              "       [[ 6,  7],\n",
              "        [ 8,  9],\n",
              "        [10, 11]]])"
            ]
          },
          "execution_count": 29,
          "metadata": {},
          "output_type": "execute_result"
        }
      ],
      "source": [
        "a.reshape(2, -1, 2)"
      ]
    },
    {
      "cell_type": "markdown",
      "metadata": {
        "id": "6hHkBOT3OGV2"
      },
      "source": [
        "### `flatten` or `ravel`"
      ]
    },
    {
      "cell_type": "markdown",
      "metadata": {
        "school_cell_uuid": "8c338a382a704ee8b4ecb1f14639b9a5",
        "id": "Sqm0WbaEOGV3"
      },
      "source": [
        "- 다차원 배열을 무조건 1차원으로 변경"
      ]
    },
    {
      "cell_type": "code",
      "source": [
        "b"
      ],
      "metadata": {
        "colab": {
          "base_uri": "https://localhost:8080/"
        },
        "id": "558BxgCuQpfc",
        "outputId": "f97b6d7a-d875-49f5-84f6-e995680453dd"
      },
      "execution_count": 6,
      "outputs": [
        {
          "output_type": "execute_result",
          "data": {
            "text/plain": [
              "array([[ 0,  1,  2,  3],\n",
              "       [ 4,  5,  6,  7],\n",
              "       [ 8,  9, 10, 11]])"
            ]
          },
          "metadata": {},
          "execution_count": 6
        }
      ]
    },
    {
      "cell_type": "code",
      "execution_count": 5,
      "metadata": {
        "school_cell_uuid": "da52ccdff6824783a9151e544f3910c4",
        "colab": {
          "base_uri": "https://localhost:8080/"
        },
        "id": "5tzCsbzyOGV3",
        "outputId": "1dd0a868-39c1-470c-bcc4-4308fe5530d0"
      },
      "outputs": [
        {
          "output_type": "execute_result",
          "data": {
            "text/plain": [
              "array([ 0,  1,  2,  3,  4,  5,  6,  7,  8,  9, 10, 11])"
            ]
          },
          "metadata": {},
          "execution_count": 5
        }
      ],
      "source": [
        "b.flatten()"
      ]
    },
    {
      "cell_type": "code",
      "execution_count": 7,
      "metadata": {
        "colab": {
          "base_uri": "https://localhost:8080/"
        },
        "id": "OULMYXkQOGV3",
        "outputId": "b5082d8b-38cb-4618-fc62-fb5d63ed3fbb"
      },
      "outputs": [
        {
          "output_type": "execute_result",
          "data": {
            "text/plain": [
              "array([ 0,  1,  2,  3,  4,  5,  6,  7,  8,  9, 10, 11])"
            ]
          },
          "metadata": {},
          "execution_count": 7
        }
      ],
      "source": [
        "b.ravel()"
      ]
    },
    {
      "cell_type": "markdown",
      "metadata": {
        "school_cell_uuid": "7449061930ec4f969f45cfbb9f4d7827",
        "id": "igBqqIHoOGV3"
      },
      "source": [
        "### 배열 사용에서 주의할 점\n",
        "- 길이가 5인 1차원 배열과 행\n",
        "- 열의 갯수가 (5,1)인 2차원 배열 또는 행\n",
        "- 열의 갯수가 (1, 5)인 2차원 배열\n",
        "- 데이터가 같아도 엄연히 다른 객체"
      ]
    },
    {
      "cell_type": "code",
      "execution_count": 8,
      "metadata": {
        "school_cell_uuid": "32555d00be434211a940618642f9e2eb",
        "colab": {
          "base_uri": "https://localhost:8080/"
        },
        "id": "iRGapViBOGV3",
        "outputId": "cad0565a-4b55-4290-eb53-3e1a7405b5a3"
      },
      "outputs": [
        {
          "output_type": "execute_result",
          "data": {
            "text/plain": [
              "array([0, 1, 2, 3, 4])"
            ]
          },
          "metadata": {},
          "execution_count": 8
        }
      ],
      "source": [
        "x = np.arange(5)\n",
        "x"
      ]
    },
    {
      "cell_type": "code",
      "execution_count": 9,
      "metadata": {
        "school_cell_uuid": "efe31ebd189642e2a303e12e7c1a73d3",
        "colab": {
          "base_uri": "https://localhost:8080/"
        },
        "id": "UckT0rxYOGV3",
        "outputId": "6ac529e0-befa-469a-c216-7d4f0c492de2"
      },
      "outputs": [
        {
          "output_type": "execute_result",
          "data": {
            "text/plain": [
              "array([[0, 1, 2, 3, 4]])"
            ]
          },
          "metadata": {},
          "execution_count": 9
        }
      ],
      "source": [
        "x.reshape(1, 5)"
      ]
    },
    {
      "cell_type": "code",
      "execution_count": 10,
      "metadata": {
        "school_cell_uuid": "efe31ebd189642e2a303e12e7c1a73d3",
        "colab": {
          "base_uri": "https://localhost:8080/"
        },
        "id": "ER2BSjOHOGV4",
        "outputId": "3203acd6-fbf9-4128-f46f-af04a83a7e31"
      },
      "outputs": [
        {
          "output_type": "execute_result",
          "data": {
            "text/plain": [
              "array([[0],\n",
              "       [1],\n",
              "       [2],\n",
              "       [3],\n",
              "       [4]])"
            ]
          },
          "metadata": {},
          "execution_count": 10
        }
      ],
      "source": [
        "x.reshape(5, 1)"
      ]
    },
    {
      "cell_type": "markdown",
      "metadata": {
        "id": "UK6TiOKXOGV4"
      },
      "source": [
        "### `newaxis`"
      ]
    },
    {
      "cell_type": "markdown",
      "metadata": {
        "school_cell_uuid": "daed5b308d1042898d77660217a6a9b8",
        "id": "8jkEqBYwOGV4"
      },
      "source": [
        "- 배열에 대해 차원만 1차원 증가"
      ]
    },
    {
      "cell_type": "code",
      "execution_count": 11,
      "metadata": {
        "school_cell_uuid": "e612956a1722400091c08ba9bcc7bc6a",
        "colab": {
          "base_uri": "https://localhost:8080/"
        },
        "id": "wE4s6MT_OGV4",
        "outputId": "ea418383-67d0-4bdd-ed37-20be17765313"
      },
      "outputs": [
        {
          "output_type": "execute_result",
          "data": {
            "text/plain": [
              "array([[0],\n",
              "       [1],\n",
              "       [2],\n",
              "       [3],\n",
              "       [4]])"
            ]
          },
          "metadata": {},
          "execution_count": 11
        }
      ],
      "source": [
        "x[:, np.newaxis] # (5, 1)"
      ]
    },
    {
      "cell_type": "code",
      "source": [
        "x[np.newaxis, :] # (1, 5)"
      ],
      "metadata": {
        "colab": {
          "base_uri": "https://localhost:8080/"
        },
        "id": "Dbsh8hPkRXU6",
        "outputId": "a8782e44-1ed0-474a-f582-daa6f7db1617"
      },
      "execution_count": 12,
      "outputs": [
        {
          "output_type": "execute_result",
          "data": {
            "text/plain": [
              "array([[0, 1, 2, 3, 4]])"
            ]
          },
          "metadata": {},
          "execution_count": 12
        }
      ]
    },
    {
      "cell_type": "markdown",
      "metadata": {
        "school_cell_uuid": "4b3e0edbc5e7492796eac84d7a5e2257",
        "id": "wrKphFRCOGV4"
      },
      "source": [
        "## 배열 연결"
      ]
    },
    {
      "cell_type": "markdown",
      "metadata": {
        "school_cell_uuid": "2af818f0ef1e42ffad476c9c4695274a",
        "id": "3ayWGPEDOGV5"
      },
      "source": [
        "행의 수나 열의 수가 같은 두 개 이상의 배열을 연결하여(concatenate) 더 큰 배열을 만들 때는 다음과 같은 명령을 사용\n",
        "\n",
        "* `hstack`\n",
        "* `vstack`\n",
        "* `dstack`\n",
        "* `stack`\n",
        "* `tile`"
      ]
    },
    {
      "cell_type": "markdown",
      "metadata": {
        "id": "-ZKHz4XZOGV5"
      },
      "source": [
        "### `hstack`"
      ]
    },
    {
      "cell_type": "markdown",
      "metadata": {
        "school_cell_uuid": "bf7a339a3dbf4c1888da5f1c65d0a4df",
        "id": "a6EZr8DoOGV5"
      },
      "source": [
        "- 행의 수가 같은 두 개 이상의 배열을 옆으로 연결\n",
        "- 열의 수가 더 많은 배열 생성\n",
        "- 연결할 배열은 하나의 리스트에 담아서 전달"
      ]
    },
    {
      "cell_type": "code",
      "execution_count": 13,
      "metadata": {
        "school_cell_uuid": "88a84a888e994a3bbf68e0430ac79860",
        "colab": {
          "base_uri": "https://localhost:8080/"
        },
        "id": "45V8N_-wOGV5",
        "outputId": "b1ab4f13-9805-462f-97c8-f54621cb179b"
      },
      "outputs": [
        {
          "output_type": "execute_result",
          "data": {
            "text/plain": [
              "array([[1., 1., 1.],\n",
              "       [1., 1., 1.]])"
            ]
          },
          "metadata": {},
          "execution_count": 13
        }
      ],
      "source": [
        "h1 = np.ones((2, 3))\n",
        "h1"
      ]
    },
    {
      "cell_type": "code",
      "execution_count": 14,
      "metadata": {
        "school_cell_uuid": "d8d4aadda3634cefb9c9f93248d28dec",
        "colab": {
          "base_uri": "https://localhost:8080/"
        },
        "id": "EOmk3QrHOGV5",
        "outputId": "089206ff-70a8-4995-fa3c-dc11007d7210"
      },
      "outputs": [
        {
          "output_type": "execute_result",
          "data": {
            "text/plain": [
              "array([[0., 0.],\n",
              "       [0., 0.]])"
            ]
          },
          "metadata": {},
          "execution_count": 14
        }
      ],
      "source": [
        "h2 = np.zeros((2, 2))\n",
        "h2"
      ]
    },
    {
      "cell_type": "code",
      "execution_count": 32,
      "metadata": {
        "school_cell_uuid": "55da73c949884fcdbb8a7244be95ecc3",
        "colab": {
          "base_uri": "https://localhost:8080/"
        },
        "id": "Y7pzmCL4OGV5",
        "outputId": "9c0603bd-595a-446b-86f1-5f6949231a5e"
      },
      "outputs": [
        {
          "output_type": "execute_result",
          "data": {
            "text/plain": [
              "((2, 5),\n",
              " array([[1., 1., 1., 0., 0.],\n",
              "        [1., 1., 1., 0., 0.]]))"
            ]
          },
          "metadata": {},
          "execution_count": 32
        }
      ],
      "source": [
        "h = np.hstack([h1, h2])\n",
        "h.shape, h"
      ]
    },
    {
      "cell_type": "markdown",
      "metadata": {
        "id": "ZFApwP9hOGV6"
      },
      "source": [
        "### `vstack`"
      ]
    },
    {
      "cell_type": "markdown",
      "metadata": {
        "school_cell_uuid": "45b042132e8242ee83a82ea8b76ae52e",
        "id": "h8ldFK-SOGV6"
      },
      "source": [
        "- 열의 수가 같은 두 개 이상의 배열을 위아래로 연결\n",
        "- 행의 수가 더 많은 배열 생성\n",
        "- 연결할 배열은 하나의 리스트에 담아서 전달"
      ]
    },
    {
      "cell_type": "code",
      "execution_count": 16,
      "metadata": {
        "school_cell_uuid": "9a90c72a781a446eab015b05d0521cd5",
        "colab": {
          "base_uri": "https://localhost:8080/"
        },
        "id": "BTTmjiZyOGV6",
        "outputId": "633c2807-e544-436a-e2c1-556533eeb21f"
      },
      "outputs": [
        {
          "output_type": "execute_result",
          "data": {
            "text/plain": [
              "array([[1., 1., 1.],\n",
              "       [1., 1., 1.]])"
            ]
          },
          "metadata": {},
          "execution_count": 16
        }
      ],
      "source": [
        "v1 = np.ones((2, 3))\n",
        "v1"
      ]
    },
    {
      "cell_type": "code",
      "execution_count": 17,
      "metadata": {
        "school_cell_uuid": "087a1f7e8cd74acc95060ebd02261437",
        "colab": {
          "base_uri": "https://localhost:8080/"
        },
        "id": "5tQrGtZ1OGV6",
        "outputId": "afc96063-a7b8-4bc7-c457-95410778395c"
      },
      "outputs": [
        {
          "output_type": "execute_result",
          "data": {
            "text/plain": [
              "array([[0., 0., 0.],\n",
              "       [0., 0., 0.],\n",
              "       [0., 0., 0.]])"
            ]
          },
          "metadata": {},
          "execution_count": 17
        }
      ],
      "source": [
        "v2 = np.zeros((3, 3))\n",
        "v2"
      ]
    },
    {
      "cell_type": "code",
      "execution_count": 31,
      "metadata": {
        "school_cell_uuid": "30bccce9ef044067b14d7bd6ee5179da",
        "colab": {
          "base_uri": "https://localhost:8080/"
        },
        "id": "yQYpElSwOGV6",
        "outputId": "f4067f6f-b44a-4bfe-e248-220127b530eb"
      },
      "outputs": [
        {
          "output_type": "execute_result",
          "data": {
            "text/plain": [
              "((5, 3),\n",
              " array([[1., 1., 1.],\n",
              "        [1., 1., 1.],\n",
              "        [0., 0., 0.],\n",
              "        [0., 0., 0.],\n",
              "        [0., 0., 0.]]))"
            ]
          },
          "metadata": {},
          "execution_count": 31
        }
      ],
      "source": [
        "v = np.vstack([v1, v2])\n",
        "v.shape, v"
      ]
    },
    {
      "cell_type": "markdown",
      "metadata": {
        "id": "QUaleRQqOGV7"
      },
      "source": [
        "### `dstack`"
      ]
    },
    {
      "cell_type": "markdown",
      "metadata": {
        "school_cell_uuid": "a95f8e68c8954378a6bfa672e632fce0",
        "id": "cpNn0fynOGV7"
      },
      "source": [
        "- 제3의 축 즉, 행이나 열이 아닌 깊이(depth) 방향으로 연결\n",
        "- 가장 안쪽의 원소의 차원이 증가"
      ]
    },
    {
      "cell_type": "code",
      "execution_count": 19,
      "metadata": {
        "school_cell_uuid": "27186ffea90b42c1b35559f4ffb8c262",
        "colab": {
          "base_uri": "https://localhost:8080/"
        },
        "id": "u0vhvS2zOGV7",
        "outputId": "5dd68a3b-a41f-4a65-8870-483b1b7be2bf"
      },
      "outputs": [
        {
          "output_type": "execute_result",
          "data": {
            "text/plain": [
              "array([[1., 1., 1., 1.],\n",
              "       [1., 1., 1., 1.],\n",
              "       [1., 1., 1., 1.]])"
            ]
          },
          "metadata": {},
          "execution_count": 19
        }
      ],
      "source": [
        "d1 = np.ones((3, 4))\n",
        "d1"
      ]
    },
    {
      "cell_type": "code",
      "execution_count": 33,
      "metadata": {
        "school_cell_uuid": "ea73e674615a4adab9381f357c7c98f8",
        "colab": {
          "base_uri": "https://localhost:8080/"
        },
        "id": "V4MykZitOGV7",
        "outputId": "df1c907c-cf0a-48b7-d0d2-a191870fbea7"
      },
      "outputs": [
        {
          "output_type": "execute_result",
          "data": {
            "text/plain": [
              "array([[0., 0., 0., 0.],\n",
              "       [0., 0., 0., 0.],\n",
              "       [0., 0., 0., 0.]])"
            ]
          },
          "metadata": {},
          "execution_count": 33
        }
      ],
      "source": [
        "d2 = np.zeros((3, 4))\n",
        "d2"
      ]
    },
    {
      "cell_type": "code",
      "execution_count": 37,
      "metadata": {
        "school_cell_uuid": "0978be1cd9d44954a83e9e132be02c42",
        "colab": {
          "base_uri": "https://localhost:8080/"
        },
        "id": "d062JabmOGV7",
        "outputId": "e7f2920a-07a6-498c-fe5d-c92578713ea4"
      },
      "outputs": [
        {
          "output_type": "execute_result",
          "data": {
            "text/plain": [
              "((3, 4, 2),\n",
              " array([[[1., 0.],\n",
              "         [1., 0.],\n",
              "         [1., 0.],\n",
              "         [1., 0.]],\n",
              " \n",
              "        [[1., 0.],\n",
              "         [1., 0.],\n",
              "         [1., 0.],\n",
              "         [1., 0.]],\n",
              " \n",
              "        [[1., 0.],\n",
              "         [1., 0.],\n",
              "         [1., 0.],\n",
              "         [1., 0.]]]))"
            ]
          },
          "metadata": {},
          "execution_count": 37
        }
      ],
      "source": [
        "d = np.dstack([d1, d2])\n",
        "d.shape, d"
      ]
    },
    {
      "cell_type": "markdown",
      "metadata": {
        "id": "bzQH9aEYOGV8"
      },
      "source": [
        "### `stack`"
      ]
    },
    {
      "cell_type": "markdown",
      "metadata": {
        "school_cell_uuid": "6e5f1e0e45f94e95ad2e05ff4f172c69",
        "id": "XRwUrbJROGV8"
      },
      "source": [
        "- 사용자가 지정한 차원(축으로) 배열을 연결\n",
        "- `axis` 인수를 사용\n",
        "- 디폴트 인수값은 0"
      ]
    },
    {
      "cell_type": "code",
      "execution_count": 39,
      "metadata": {
        "school_cell_uuid": "564cc3e527fb4afeafe8b9d091e5fd22",
        "colab": {
          "base_uri": "https://localhost:8080/"
        },
        "id": "pcXLriZHOGV8",
        "outputId": "140842e1-2b14-40e8-e748-25698c36dcf4"
      },
      "outputs": [
        {
          "output_type": "execute_result",
          "data": {
            "text/plain": [
              "((2, 3, 4),\n",
              " array([[[1., 1., 1., 1.],\n",
              "         [1., 1., 1., 1.],\n",
              "         [1., 1., 1., 1.]],\n",
              " \n",
              "        [[0., 0., 0., 0.],\n",
              "         [0., 0., 0., 0.],\n",
              "         [0., 0., 0., 0.]]]))"
            ]
          },
          "metadata": {},
          "execution_count": 39
        }
      ],
      "source": [
        "s = np.stack([d1, d2])\n",
        "s.shape, s"
      ]
    },
    {
      "cell_type": "code",
      "execution_count": 40,
      "metadata": {
        "school_cell_uuid": "97b1f59e6c47453bbdfe416e01575868",
        "colab": {
          "base_uri": "https://localhost:8080/"
        },
        "id": "rWoaBHygOGV8",
        "outputId": "eb54089f-6393-4e81-921c-e918c34de1d0"
      },
      "outputs": [
        {
          "output_type": "execute_result",
          "data": {
            "text/plain": [
              "((2, 3, 4),\n",
              " array([[[1., 1., 1., 1.],\n",
              "         [1., 1., 1., 1.],\n",
              "         [1., 1., 1., 1.]],\n",
              " \n",
              "        [[0., 0., 0., 0.],\n",
              "         [0., 0., 0., 0.],\n",
              "         [0., 0., 0., 0.]]]))"
            ]
          },
          "metadata": {},
          "execution_count": 40
        }
      ],
      "source": [
        "s = np.stack([d1, d2], axis=0)\n",
        "s.shape, s"
      ]
    },
    {
      "cell_type": "markdown",
      "metadata": {
        "school_cell_uuid": "a0c4da583b854d0b8b8d99803ab2aba2",
        "id": "XphkmH0YOGV8"
      },
      "source": [
        "- `axis` 인수가 1이면 두번째 차원으로 새로운 차원이 삽입"
      ]
    },
    {
      "cell_type": "code",
      "execution_count": 43,
      "metadata": {
        "school_cell_uuid": "bd36c52ba54e4effa63767b54b403c37",
        "scrolled": true,
        "colab": {
          "base_uri": "https://localhost:8080/"
        },
        "id": "ZOMjdoY0OGV8",
        "outputId": "06336fc3-129f-4600-c7c2-22cf991d67f0"
      },
      "outputs": [
        {
          "output_type": "execute_result",
          "data": {
            "text/plain": [
              "((3, 2, 4),\n",
              " array([[[1., 1., 1., 1.],\n",
              "         [0., 0., 0., 0.]],\n",
              " \n",
              "        [[1., 1., 1., 1.],\n",
              "         [0., 0., 0., 0.]],\n",
              " \n",
              "        [[1., 1., 1., 1.],\n",
              "         [0., 0., 0., 0.]]]))"
            ]
          },
          "metadata": {},
          "execution_count": 43
        }
      ],
      "source": [
        "s = np.stack([d1, d2], axis=1)\n",
        "s.shape, s"
      ]
    },
    {
      "cell_type": "markdown",
      "metadata": {
        "school_cell_uuid": "a0c4da583b854d0b8b8d99803ab2aba2",
        "id": "xvFmsm8vZoaJ"
      },
      "source": [
        "- `axis` 인수가 2이면 세번째 차원으로 새로운 차원이 삽입"
      ]
    },
    {
      "cell_type": "code",
      "execution_count": 44,
      "metadata": {
        "school_cell_uuid": "60dde750853a4cdd82f38b2bc4990215",
        "colab": {
          "base_uri": "https://localhost:8080/"
        },
        "id": "kvfdTqfcOGV9",
        "outputId": "c636f0ac-9a09-4e30-bb91-54abdc011f8f"
      },
      "outputs": [
        {
          "output_type": "execute_result",
          "data": {
            "text/plain": [
              "((3, 4, 2),\n",
              " array([[[1., 0.],\n",
              "         [1., 0.],\n",
              "         [1., 0.],\n",
              "         [1., 0.]],\n",
              " \n",
              "        [[1., 0.],\n",
              "         [1., 0.],\n",
              "         [1., 0.],\n",
              "         [1., 0.]],\n",
              " \n",
              "        [[1., 0.],\n",
              "         [1., 0.],\n",
              "         [1., 0.],\n",
              "         [1., 0.]]]))"
            ]
          },
          "metadata": {},
          "execution_count": 44
        }
      ],
      "source": [
        "s = np.stack([d1, d2], axis=2)\n",
        "s.shape, s"
      ]
    },
    {
      "cell_type": "markdown",
      "metadata": {
        "id": "ZErDll8rOGV-"
      },
      "source": [
        "### `tile`"
      ]
    },
    {
      "cell_type": "markdown",
      "metadata": {
        "school_cell_uuid": "5e4bded6885249ba9c2aa05e7e6fa4df",
        "id": "SfBbAVdSOGV-"
      },
      "source": [
        "- 동일한 배열을 반복하여 연결"
      ]
    },
    {
      "cell_type": "code",
      "execution_count": 45,
      "metadata": {
        "school_cell_uuid": "1d16457e5bee4d788fc845103e0aa963",
        "colab": {
          "base_uri": "https://localhost:8080/"
        },
        "id": "mxowwiQ5OGV-",
        "outputId": "3d35a76f-dff7-41c0-a1d0-0c6e5075c821"
      },
      "outputs": [
        {
          "output_type": "execute_result",
          "data": {
            "text/plain": [
              "array([[0, 1, 2, 0, 1, 2],\n",
              "       [3, 4, 5, 3, 4, 5]])"
            ]
          },
          "metadata": {},
          "execution_count": 45
        }
      ],
      "source": [
        "a = np.array([[0, 1, 2], [3, 4, 5]])\n",
        "np.tile(a, 2)"
      ]
    },
    {
      "cell_type": "code",
      "execution_count": 46,
      "metadata": {
        "school_cell_uuid": "83f17209217c46fbb3973f6c0f910c74",
        "colab": {
          "base_uri": "https://localhost:8080/"
        },
        "id": "wSl2V_T4OGV-",
        "outputId": "d22ab412-ce42-4b62-db93-42cc776213aa"
      },
      "outputs": [
        {
          "output_type": "execute_result",
          "data": {
            "text/plain": [
              "array([[0, 1, 2, 0, 1, 2],\n",
              "       [3, 4, 5, 3, 4, 5],\n",
              "       [0, 1, 2, 0, 1, 2],\n",
              "       [3, 4, 5, 3, 4, 5],\n",
              "       [0, 1, 2, 0, 1, 2],\n",
              "       [3, 4, 5, 3, 4, 5]])"
            ]
          },
          "metadata": {},
          "execution_count": 46
        }
      ],
      "source": [
        "np.tile(a, (3, 2))"
      ]
    },
    {
      "cell_type": "markdown",
      "metadata": {
        "bootstrap": {
          "panel": {
            "class": "panel-default"
          }
        },
        "school_cell_uuid": "13b232d1b9fc4a818706fce49816d44c",
        "id": "yXdkOPK-OGV_"
      },
      "source": [
        "**연습**\n",
        "- 지금까지 공부한 명령어를 사용하여 다음과 같은 배열을 만들어라.\n",
        "\n",
        "```\n",
        "array([[   0.,    0.,    0.,    1.,    1.],\n",
        "       [   0.,    0.,    0.,    1.,    1.],\n",
        "       [   0.,    0.,    0.,    1.,    1.],\n",
        "       [  10.,   20.,   30.,   40.,   50.],\n",
        "       [  60.,   70.,   80.,   90.,  100.],\n",
        "       [ 110.,  120.,  130.,  140.,  150.],\n",
        "       [   0.,    0.,    0.,    1.,    1.],\n",
        "       [   0.,    0.,    0.,    1.,    1.],\n",
        "       [   0.,    0.,    0.,    1.,    1.],\n",
        "       [  10.,   20.,   30.,   40.,   50.],\n",
        "       [  60.,   70.,   80.,   90.,  100.],\n",
        "       [ 110.,  120.,  130.,  140.,  150.]])\n",
        "```\n"
      ]
    },
    {
      "cell_type": "code",
      "source": [
        "a = np.zeros((3,3))\n",
        "a"
      ],
      "metadata": {
        "colab": {
          "base_uri": "https://localhost:8080/"
        },
        "id": "TA5ATpDwbDjS",
        "outputId": "1edf71a0-7bc2-409d-a7e4-198287138d14"
      },
      "execution_count": 50,
      "outputs": [
        {
          "output_type": "execute_result",
          "data": {
            "text/plain": [
              "array([[0., 0., 0.],\n",
              "       [0., 0., 0.],\n",
              "       [0., 0., 0.]])"
            ]
          },
          "metadata": {},
          "execution_count": 50
        }
      ]
    },
    {
      "cell_type": "code",
      "source": [
        "b = np.ones((3,2))\n",
        "b"
      ],
      "metadata": {
        "colab": {
          "base_uri": "https://localhost:8080/"
        },
        "id": "SwRqF5NqbZuT",
        "outputId": "fb13360a-411f-4a9b-d6ac-ea833adfb441"
      },
      "execution_count": 58,
      "outputs": [
        {
          "output_type": "execute_result",
          "data": {
            "text/plain": [
              "array([[1., 1.],\n",
              "       [1., 1.],\n",
              "       [1., 1.]])"
            ]
          },
          "metadata": {},
          "execution_count": 58
        }
      ]
    },
    {
      "cell_type": "code",
      "source": [
        "c = np.hstack([a,b])\n",
        "c"
      ],
      "metadata": {
        "colab": {
          "base_uri": "https://localhost:8080/"
        },
        "id": "Oq58rZAGbgw1",
        "outputId": "0dc537a4-7f89-417e-9363-9e6ced5099e5"
      },
      "execution_count": 61,
      "outputs": [
        {
          "output_type": "execute_result",
          "data": {
            "text/plain": [
              "array([[0., 0., 0., 1., 1.],\n",
              "       [0., 0., 0., 1., 1.],\n",
              "       [0., 0., 0., 1., 1.]])"
            ]
          },
          "metadata": {},
          "execution_count": 61
        }
      ]
    },
    {
      "cell_type": "code",
      "source": [
        "d = np.arange(10,160,10)\n",
        "d"
      ],
      "metadata": {
        "colab": {
          "base_uri": "https://localhost:8080/"
        },
        "id": "xf7cjl93b0Dm",
        "outputId": "076162be-4743-4ff9-a0e9-aff27b09ff57"
      },
      "execution_count": 65,
      "outputs": [
        {
          "output_type": "execute_result",
          "data": {
            "text/plain": [
              "array([ 10,  20,  30,  40,  50,  60,  70,  80,  90, 100, 110, 120, 130,\n",
              "       140, 150])"
            ]
          },
          "metadata": {},
          "execution_count": 65
        }
      ]
    },
    {
      "cell_type": "code",
      "source": [
        "e = d.reshape(3,-1)\n",
        "e"
      ],
      "metadata": {
        "colab": {
          "base_uri": "https://localhost:8080/"
        },
        "id": "GfKfIkDMcJlP",
        "outputId": "683bad87-eb79-4da3-b62f-82ac4db37d2f"
      },
      "execution_count": 67,
      "outputs": [
        {
          "output_type": "execute_result",
          "data": {
            "text/plain": [
              "array([[ 10,  20,  30,  40,  50],\n",
              "       [ 60,  70,  80,  90, 100],\n",
              "       [110, 120, 130, 140, 150]])"
            ]
          },
          "metadata": {},
          "execution_count": 67
        }
      ]
    },
    {
      "cell_type": "code",
      "source": [
        "rs = np.vstack([c,e,c,e])\n",
        "rs"
      ],
      "metadata": {
        "colab": {
          "base_uri": "https://localhost:8080/"
        },
        "id": "dzjnTOZDcYKH",
        "outputId": "a76c3233-4e38-4145-f7ae-af46e5f131bd"
      },
      "execution_count": 68,
      "outputs": [
        {
          "output_type": "execute_result",
          "data": {
            "text/plain": [
              "array([[  0.,   0.,   0.,   1.,   1.],\n",
              "       [  0.,   0.,   0.,   1.,   1.],\n",
              "       [  0.,   0.,   0.,   1.,   1.],\n",
              "       [ 10.,  20.,  30.,  40.,  50.],\n",
              "       [ 60.,  70.,  80.,  90., 100.],\n",
              "       [110., 120., 130., 140., 150.],\n",
              "       [  0.,   0.,   0.,   1.,   1.],\n",
              "       [  0.,   0.,   0.,   1.,   1.],\n",
              "       [  0.,   0.,   0.,   1.,   1.],\n",
              "       [ 10.,  20.,  30.,  40.,  50.],\n",
              "       [ 60.,  70.,  80.,  90., 100.],\n",
              "       [110., 120., 130., 140., 150.]])"
            ]
          },
          "metadata": {},
          "execution_count": 68
        }
      ]
    },
    {
      "cell_type": "markdown",
      "metadata": {
        "school_cell_uuid": "5465714ae41645b6a226efc93dd02611",
        "id": "_M_q-loeOGV_"
      },
      "source": [
        "## 2차원 그리드 포인트 생성"
      ]
    },
    {
      "cell_type": "markdown",
      "metadata": {
        "school_cell_uuid": "75adf0b409f642cda6d64fdbf9e49ce1",
        "id": "gaG8pjGgOGV_"
      },
      "source": [
        "- 변수가 2개인 2차원 함수의 그래프를 그리거나 표를 작성하려면 2차원 영역에 대한 (x,y) 좌표값 쌍\n",
        "- 그리드 포인트(grid point)를 생성\n",
        "- $$ (x,y) = (0,0), (0,1), (0,2), (0,3), (0,4), (1,0), \\cdots (2,4) $$"
      ]
    },
    {
      "cell_type": "markdown",
      "metadata": {
        "id": "dI387H3YOGV_"
      },
      "source": [
        "### `meshgrid`"
      ]
    },
    {
      "cell_type": "markdown",
      "metadata": {
        "id": "gNIL70m2OGV_"
      },
      "source": [
        "- 가로축의 점들과 세로축의 점을 나타내는 두 벡터를 인수로 받아서 이 사각형 영역을 이루는 조합을 출력\n",
        "- 결과는 그리드 포인트의 x 값만을 표시하는 행렬과 y 값만을 표시하는 행렬 두 개로 분리하여 출력"
      ]
    },
    {
      "cell_type": "code",
      "execution_count": 69,
      "metadata": {
        "school_cell_uuid": "8d387a1bc14e41c5b9adf44f74afaba6",
        "colab": {
          "base_uri": "https://localhost:8080/"
        },
        "id": "G6tYgQYfOGV_",
        "outputId": "1dab04d6-c917-47ee-bd00-b139ade0ed18"
      },
      "outputs": [
        {
          "output_type": "execute_result",
          "data": {
            "text/plain": [
              "array([0, 1, 2])"
            ]
          },
          "metadata": {},
          "execution_count": 69
        }
      ],
      "source": [
        "x = np.arange(3)\n",
        "x"
      ]
    },
    {
      "cell_type": "code",
      "execution_count": 70,
      "metadata": {
        "school_cell_uuid": "9d7b6a3b179e43d582c3702152493a93",
        "colab": {
          "base_uri": "https://localhost:8080/"
        },
        "id": "gGtkowc-OGWA",
        "outputId": "49b26168-da88-49e1-985e-92156643220f"
      },
      "outputs": [
        {
          "output_type": "execute_result",
          "data": {
            "text/plain": [
              "array([0, 1, 2, 3, 4])"
            ]
          },
          "metadata": {},
          "execution_count": 70
        }
      ],
      "source": [
        "y = np.arange(5)\n",
        "y"
      ]
    },
    {
      "cell_type": "code",
      "execution_count": 71,
      "metadata": {
        "school_cell_uuid": "ca8b7103ddfa4f45bfbb401dcf9ccfe3",
        "id": "Tmp1JPgdOGWA"
      },
      "outputs": [],
      "source": [
        "X, Y = np.meshgrid(x, y)"
      ]
    },
    {
      "cell_type": "code",
      "execution_count": 72,
      "metadata": {
        "school_cell_uuid": "55aea931e469439ba1cfb19bc0112883",
        "colab": {
          "base_uri": "https://localhost:8080/"
        },
        "id": "kQJBeD_nOGWA",
        "outputId": "9cd6b5cc-4a9e-497a-d522-269fede1e43c"
      },
      "outputs": [
        {
          "output_type": "execute_result",
          "data": {
            "text/plain": [
              "array([[0, 1, 2],\n",
              "       [0, 1, 2],\n",
              "       [0, 1, 2],\n",
              "       [0, 1, 2],\n",
              "       [0, 1, 2]])"
            ]
          },
          "metadata": {},
          "execution_count": 72
        }
      ],
      "source": [
        "X"
      ]
    },
    {
      "cell_type": "code",
      "execution_count": 73,
      "metadata": {
        "school_cell_uuid": "8e47bd26749d472386486f92dcb16b3e",
        "colab": {
          "base_uri": "https://localhost:8080/"
        },
        "id": "gueb2Vq1OGWA",
        "outputId": "bdb7cedf-8bbb-4d57-b760-47dfa481b4d9"
      },
      "outputs": [
        {
          "output_type": "execute_result",
          "data": {
            "text/plain": [
              "array([[0, 0, 0],\n",
              "       [1, 1, 1],\n",
              "       [2, 2, 2],\n",
              "       [3, 3, 3],\n",
              "       [4, 4, 4]])"
            ]
          },
          "metadata": {},
          "execution_count": 73
        }
      ],
      "source": [
        "Y"
      ]
    },
    {
      "cell_type": "code",
      "execution_count": 74,
      "metadata": {
        "school_cell_uuid": "f0ff0762ce1345569d860643683e14e4",
        "colab": {
          "base_uri": "https://localhost:8080/"
        },
        "id": "byvtsVPiOGWA",
        "outputId": "4dfb9da6-31da-43ed-9fba-7e923905c897"
      },
      "outputs": [
        {
          "output_type": "execute_result",
          "data": {
            "text/plain": [
              "[[(0, 0), (1, 0), (2, 0)],\n",
              " [(0, 1), (1, 1), (2, 1)],\n",
              " [(0, 2), (1, 2), (2, 2)],\n",
              " [(0, 3), (1, 3), (2, 3)],\n",
              " [(0, 4), (1, 4), (2, 4)]]"
            ]
          },
          "metadata": {},
          "execution_count": 74
        }
      ],
      "source": [
        "[list(zip(x, y)) for x, y in zip(X, Y)]"
      ]
    },
    {
      "cell_type": "code",
      "source": [
        "import matplotlib.pyplot as plt\n",
        "plt.grid(True)\n",
        "plt.scatter(X, Y, linewidths=10);"
      ],
      "metadata": {
        "colab": {
          "base_uri": "https://localhost:8080/",
          "height": 430
        },
        "id": "duN-wibVdWYW",
        "outputId": "946a6dbc-35f9-466f-ebd4-1ec4d3704c44"
      },
      "execution_count": 77,
      "outputs": [
        {
          "output_type": "display_data",
          "data": {
            "text/plain": [
              "<Figure size 640x480 with 1 Axes>"
            ],
            "image/png": "[encoded data removed]"
          },
          "metadata": {}
        }
      ]
    }
  ],
  "metadata": {
    "celltoolbar": "Edit Metadata",
    "kernelspec": {
      "display_name": "Python 3 (ipykernel)",
      "language": "python",
      "name": "python3"
    },
    "language_info": {
      "codemirror_mode": {
        "name": "ipython",
        "version": 3
      },
      "file_extension": ".py",
      "mimetype": "text/x-python",
      "name": "python",
      "nbconvert_exporter": "python",
      "pygments_lexer": "ipython3",
      "version": "3.11.5"
    },
    "colab": {
      "provenance": [],
      "include_colab_link": true
    }
  },
  "nbformat": 4,
  "nbformat_minor": 0
}