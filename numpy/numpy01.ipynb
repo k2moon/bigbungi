{
  "cells": [
    {
      "cell_type": "markdown",
      "metadata": {
        "id": "view-in-github",
        "colab_type": "text"
      },
      "source": [
        "<a href=\"https://colab.research.google.com/github/k2moon/bigbungi/blob/main/numpy/numpy01.ipynb\" target=\"_parent\"><img src=\"https://colab.research.google.com/assets/colab-badge.svg\" alt=\"Open In Colab\"/></a>"
      ]
    },
    {
      "cell_type": "markdown",
      "metadata": {
        "school_cell_uuid": "1d5d014482ab49ad8d4028b5ce0dcdeb",
        "id": "u1PUN9mdHh1r"
      },
      "source": [
        "# 3.1 넘파이 배열"
      ]
    },
    {
      "cell_type": "markdown",
      "metadata": {
        "id": "1hZMj3rAHh1x"
      },
      "source": [
        "```\n",
        "넘파이(NumPy)\n",
        "```"
      ]
    },
    {
      "cell_type": "markdown",
      "metadata": {
        "school_cell_uuid": "f7843625353f44dea6e562e075d86228",
        "id": "djI0KeK3Hh1y"
      },
      "source": [
        "많은 숫자 데이터를 하나의 변수에 넣고 관리 할 때 리스트는 속도가 느리고 메모리를 많이 차지하는 단점이 있다. 배열(array)을 사용하면 적은 메모리로 많은 데이터를 빠르게 처리할 수 있다. 배열은 리스트와 비슷하지만 다음과 같은 점에서 다르다.\n",
        "\n",
        "1. 모든 원소가 같은 자료형이어야 한다.\n",
        "2. 원소의 갯수를 바꿀 수 없다."
      ]
    },
    {
      "cell_type": "markdown",
      "metadata": {
        "school_cell_uuid": "cfb0244956b14316a7c8f49bcd4e204a",
        "id": "_qQf8X86Hh1z"
      },
      "source": [
        "파이썬은 자체적으로 배열 자료형을 제공하지 않는다. 따라서 배열을 구현한 다른 패키지를 임포트해야 한다. 파이썬에서 배열을 사용하기 위한 표준 패키지는 넘파이(NumPy)다."
      ]
    },
    {
      "cell_type": "markdown",
      "metadata": {
        "id": "CynPTQtPHh1z"
      },
      "source": [
        "```\n",
        "`ndarray`\n",
        "```"
      ]
    },
    {
      "cell_type": "markdown",
      "metadata": {
        "school_cell_uuid": "1a178fe5cc2b4334a27a43bf5b003ad6",
        "id": "li1mgNr1Hh1z"
      },
      "source": [
        "넘파이는 수치해석용 파이썬 패키지이다. 다차원의 배열 자료구조 클래스인 `ndarray` 클래스를 지원하며 벡터와 행렬을 사용하는 선형대수 계산에 주로 사용된다. 내부적으로는 BLAS 라이브러리와 LAPACK 라이브러리를 사용하고 있으며 C로 구현된 CPython에서만 사용할 수 있다. \n",
        "\n",
        "넘파이의 배열 연산은 C로 구현된 내부 반복문을 사용하기 때문에 파이썬 반복문에 비해 속도가 빠르며 벡터화 연산(vectorized operation)을 이용하여 간단한 코드로도 복잡한 선형 대수 연산을 수행할 수 있다. 또한 배열 인덱싱(array indexing)을 사용한 질의(Query) 기능을 이용하여 간단한 코드로도 복잡한 수식을 계산할 수 있다."
      ]
    },
    {
      "cell_type": "markdown",
      "metadata": {
        "school_cell_uuid": "e3b31d1562df432198df5f1a4e74f992",
        "id": "G1qZhEl4Hh10"
      },
      "source": [
        "## 넘파이 패키지 임포트"
      ]
    },
    {
      "cell_type": "markdown",
      "metadata": {
        "school_cell_uuid": "f666b97051b94071a2b004d589c3ba33",
        "id": "O3ldQXTNHh10"
      },
      "source": [
        "배열을 사용하기 위해서는 우선 다음과 같이 넘파이 패키지를 임포트한다. 넘파이는 np라는 이름으로 임포트하는 것이 관례이다."
      ]
    },
    {
      "cell_type": "code",
      "execution_count": null,
      "metadata": {
        "school_cell_uuid": "7dcc7126d45b41569e7f8271381184dc",
        "id": "7aiDLIp-Hh11"
      },
      "outputs": [],
      "source": [
        "import numpy as np"
      ]
    },
    {
      "cell_type": "markdown",
      "metadata": {
        "school_cell_uuid": "ee071c08f58c41f68f4b6da25ebecccd",
        "id": "uA_pDUzmHh12"
      },
      "source": [
        "## 1차원 배열 만들기"
      ]
    },
    {
      "cell_type": "markdown",
      "metadata": {
        "id": "tf5IUU3pHh13"
      },
      "source": [
        "```{margin}\n",
        "`array`\n",
        "```"
      ]
    },
    {
      "cell_type": "markdown",
      "metadata": {
        "school_cell_uuid": "e56e2a3ee38045f7ade1c9d0269aba19",
        "id": "q0t_x3BKHh13"
      },
      "source": [
        "넘파이의 `array` 함수에 리스트를 넣으면 `ndarray` 클래스 객체 즉, 배열로 변환해 준다. 따라서 1 차원 배열을 만드는 방법은 다음과 같다."
      ]
    },
    {
      "cell_type": "code",
      "execution_count": null,
      "metadata": {
        "school_cell_uuid": "afeba59dccfe4175b4d3369a1e88b525",
        "id": "_f9bXH-XHh13",
        "outputId": "bbac2e15-1379-46be-a63c-e5f7b6b7be0d"
      },
      "outputs": [
        {
          "data": {
            "text/plain": [
              "array([0, 1, 2, 3, 4, 5, 6, 7, 8, 9])"
            ]
          },
          "execution_count": 2,
          "metadata": {},
          "output_type": "execute_result"
        }
      ],
      "source": [
        "ar = np.array([0, 1, 2, 3, 4, 5, 6, 7, 8, 9])\n",
        "ar"
      ]
    },
    {
      "cell_type": "markdown",
      "metadata": {
        "school_cell_uuid": "288889aa9d304d9197d37c76a9e9e69f",
        "id": "ZsVFMK-eHh14"
      },
      "source": [
        "리스트와 비슷해 보이지만 `type` 명령으로 자료형을 살펴보면 ndarray임을 알 수 있다."
      ]
    },
    {
      "cell_type": "code",
      "execution_count": null,
      "metadata": {
        "school_cell_uuid": "a6194df0afae4814bf2cdd90ab68ceab",
        "id": "LBBpF5KYHh14",
        "outputId": "2e2a118d-3d7a-4c40-8191-a01c7bf10eda"
      },
      "outputs": [
        {
          "data": {
            "text/plain": [
              "numpy.ndarray"
            ]
          },
          "execution_count": 3,
          "metadata": {},
          "output_type": "execute_result"
        }
      ],
      "source": [
        "type(ar)"
      ]
    },
    {
      "cell_type": "markdown",
      "metadata": {
        "school_cell_uuid": "ab6c357116f1457d95520f03d84d09f2",
        "id": "sIY1E__lHh15"
      },
      "source": [
        "만들어진 `ndarray` 객체의 표현식(representation)을 보면 바깥쪽에 array()란 것이 붙어 있을 뿐 리스트와 동일한 구조처럼 보인다. 그러나 배열 객체와 리스트 객체는 많은 차이가 있다. \n",
        "\n",
        "우선 리스트 클래스 객체는 각각의 원소가 다른 자료형이 될 수 있다. 그러나 배열 객체 객체는 C언어의 배열처럼 연속적인 메모리 배치를 가지기 때문에 모든 원소가 같은 자료형이어야 한다. 이러한 제약사항이 있는 대신 원소에 대한 접근과 반복문 실행이 빨라진다."
      ]
    },
    {
      "cell_type": "markdown",
      "metadata": {
        "school_cell_uuid": "48a3dc367a26446b996d746f901aa219",
        "id": "Z00LMusvHh15"
      },
      "source": [
        "## 벡터화 연산"
      ]
    },
    {
      "cell_type": "markdown",
      "metadata": {
        "id": "5e8SvRpUHh15"
      },
      "source": [
        "```{margin}\n",
        "벡터화 연산(vectorized operation)\n",
        "```"
      ]
    },
    {
      "cell_type": "markdown",
      "metadata": {
        "school_cell_uuid": "194b49dd2d754adf84543561635c43f8",
        "id": "zk98IdKtHh16"
      },
      "source": [
        "배열 객체는 배열의 각 원소에 대한 반복 연산을 하나의 명령어로 처리하는 벡터화 연산(vectorized operation)을 지원한다. 예를 들어 다음처럼 여러개의 데이터를 모두 2배 해야 하는 경우를 생각하자. "
      ]
    },
    {
      "cell_type": "code",
      "execution_count": null,
      "metadata": {
        "school_cell_uuid": "f0b12731085740e0ba726b012447f86a",
        "id": "PiduI4kuHh17"
      },
      "outputs": [],
      "source": [
        "data = [0, 1, 2, 3, 4, 5, 6, 7, 8, 9]"
      ]
    },
    {
      "cell_type": "markdown",
      "metadata": {
        "school_cell_uuid": "a09ae0694f3e48d78f4e69311f986c8a",
        "id": "FpBv3nElHh19"
      },
      "source": [
        "for 반복문을 사용하면 다음과 같이 구현할 수 있다."
      ]
    },
    {
      "cell_type": "code",
      "execution_count": null,
      "metadata": {
        "school_cell_uuid": "7dffaa9dc59e40cc89b9f2360f227193",
        "id": "0ZNeaWAhHh19",
        "outputId": "068b9801-0a5b-4840-ab3f-d9c6451fed22"
      },
      "outputs": [
        {
          "data": {
            "text/plain": [
              "[0, 2, 4, 6, 8, 10, 12, 14, 16, 18]"
            ]
          },
          "execution_count": 5,
          "metadata": {},
          "output_type": "execute_result"
        }
      ],
      "source": [
        "answer = []\n",
        "for di in data:\n",
        "    answer.append(2 * di)\n",
        "answer"
      ]
    },
    {
      "cell_type": "markdown",
      "metadata": {
        "school_cell_uuid": "aeb067be23cf4c72acc470ef7aecea50",
        "id": "ikKCKykMHh1-"
      },
      "source": [
        "하지만 벡터화 연산을 사용하면 다음과 같이 for 반복문이 없이 한번의 연산으로 할 수 있다. 계산 속도도 반복문을 사용할 때 보다 훨씬 빠르다."
      ]
    },
    {
      "cell_type": "code",
      "execution_count": null,
      "metadata": {
        "school_cell_uuid": "2ed2bac262574db28eabe979e1dfe7f1",
        "id": "oXdDY2FXHh1-",
        "outputId": "72381901-59c0-4d4e-ba90-66c91227e0d9"
      },
      "outputs": [
        {
          "data": {
            "text/plain": [
              "array([0, 1, 2, 3, 4, 5, 6, 7, 8, 9])"
            ]
          },
          "execution_count": 6,
          "metadata": {},
          "output_type": "execute_result"
        }
      ],
      "source": [
        "x = np.array(data)\n",
        "x"
      ]
    },
    {
      "cell_type": "code",
      "execution_count": null,
      "metadata": {
        "school_cell_uuid": "d6fc4d077406403185e13e3b93188e63",
        "id": "BFw0QqHsHh1-",
        "outputId": "7e274e68-e307-4260-bcf0-02bb287e0165"
      },
      "outputs": [
        {
          "data": {
            "text/plain": [
              "array([ 0,  2,  4,  6,  8, 10, 12, 14, 16, 18])"
            ]
          },
          "execution_count": 7,
          "metadata": {},
          "output_type": "execute_result"
        }
      ],
      "source": [
        "2 * x"
      ]
    },
    {
      "cell_type": "markdown",
      "metadata": {
        "school_cell_uuid": "7d9078be25c14571bd0c662e15fd8b0d",
        "id": "LChH3I5aHh1-"
      },
      "source": [
        "참고로 일반적인 리스트 객체에 정수를 곱하면 객체의 크기가 정수배 만큼으로 증가한다."
      ]
    },
    {
      "cell_type": "code",
      "execution_count": null,
      "metadata": {
        "school_cell_uuid": "a7938d441f6f447ea4f75e2a318693ca",
        "id": "jzQoL9c2Hh1_",
        "outputId": "a13a821b-f055-41d5-f8f9-4ebac91ba6ba"
      },
      "outputs": [
        {
          "name": "stdout",
          "output_type": "stream",
          "text": [
            "[0, 1, 2, 3, 4, 5, 6, 7, 8, 9, 0, 1, 2, 3, 4, 5, 6, 7, 8, 9]\n"
          ]
        }
      ],
      "source": [
        "L = [0, 1, 2, 3, 4, 5, 6, 7, 8, 9]\n",
        "print(2 * L)"
      ]
    },
    {
      "cell_type": "markdown",
      "metadata": {
        "school_cell_uuid": "4d67dfa48a7c4f58b1602a44709e61d5",
        "id": "lFSabpq9Hh1_"
      },
      "source": [
        "벡터화 연산은 비교 연산과 논리 연산을 포함한 모든 종류의 수학 연산에 대해 적용된다. 선형 대수에 적용되는 벡터화 연산에 대해서는 나중에 보다 자세히 설명한다."
      ]
    },
    {
      "cell_type": "code",
      "execution_count": null,
      "metadata": {
        "school_cell_uuid": "8deee9a63356446a97383cf4fb221eed",
        "id": "cCTMbXyHHh1_"
      },
      "outputs": [],
      "source": [
        "a = np.array([1, 2, 3])\n",
        "b = np.array([10, 20, 30])"
      ]
    },
    {
      "cell_type": "code",
      "execution_count": null,
      "metadata": {
        "school_cell_uuid": "98792bb1ad1e447fa7356fb22aa40d86",
        "id": "Vd1tSh3DHh1_",
        "outputId": "b62ade49-5483-45e1-b08b-af780298fa32"
      },
      "outputs": [
        {
          "data": {
            "text/plain": [
              "array([12, 24, 36])"
            ]
          },
          "execution_count": 10,
          "metadata": {},
          "output_type": "execute_result"
        }
      ],
      "source": [
        "2 * a + b"
      ]
    },
    {
      "cell_type": "code",
      "execution_count": null,
      "metadata": {
        "school_cell_uuid": "26477a92c60342778fb4991f7bc36026",
        "id": "NAJEjqt7Hh2A",
        "outputId": "28a5111a-ab96-464a-a242-a991a8791ef7"
      },
      "outputs": [
        {
          "data": {
            "text/plain": [
              "array([False,  True, False])"
            ]
          },
          "execution_count": 11,
          "metadata": {},
          "output_type": "execute_result"
        }
      ],
      "source": [
        "a == 2"
      ]
    },
    {
      "cell_type": "code",
      "execution_count": null,
      "metadata": {
        "school_cell_uuid": "a7654eee079a404fa1aef17ddc0554ca",
        "id": "ovhanRcKHh2A",
        "outputId": "7a10308b-59c3-45c7-9947-75baeca3281f"
      },
      "outputs": [
        {
          "data": {
            "text/plain": [
              "array([False,  True,  True])"
            ]
          },
          "execution_count": 12,
          "metadata": {},
          "output_type": "execute_result"
        }
      ],
      "source": [
        "b > 10"
      ]
    },
    {
      "cell_type": "code",
      "execution_count": null,
      "metadata": {
        "school_cell_uuid": "682f4db02aaa4edd8f3235a0d56934a5",
        "id": "-4VqEvxeHh2A",
        "outputId": "95341120-6fd2-475e-ada2-0e21def55896"
      },
      "outputs": [
        {
          "data": {
            "text/plain": [
              "array([False,  True, False])"
            ]
          },
          "execution_count": 13,
          "metadata": {},
          "output_type": "execute_result"
        }
      ],
      "source": [
        "(a == 2) & (b > 10)"
      ]
    },
    {
      "cell_type": "markdown",
      "metadata": {
        "school_cell_uuid": "ebc04b8bb8fa41bba5a41fddd3bf8666",
        "id": "IQIq9BfxHh2A"
      },
      "source": [
        "## 2차원 배열 만들기"
      ]
    },
    {
      "cell_type": "markdown",
      "metadata": {
        "school_cell_uuid": "378f0b8ae4634096ad09c417627b2061",
        "id": "RpeN2NAbHh2B"
      },
      "source": [
        "`ndarray` 는 N-dimensional Array의 약자이다. 이름 그대로 1차원 배열 이외에도 2차원 배열, 3차원 배열 등의 다차원 배열 자료 구조를 지원한다. \n",
        "2차원 배열은 행렬(matrix)이라고 하는데 행렬에서는 가로줄을 행(row)이라고 하고 세로줄을 열(column)이라고 부른다.\n",
        "\n",
        "다음과 같이 리스트의 리스트(list of list)를 이용하면 2차원 배열을 생성할 수 있다. 안쪽 리스트의 길이는 행렬의 열의 수 즉, 가로 크기가 되고 바깥쪽 리스트의 길이는 행렬의 행의 수, 즉 세로 크기가 된다. 예를 들어 2개의 행과 3개의 열을 가지는 2 x 3 배열은 다음과 같이 만든다."
      ]
    },
    {
      "cell_type": "code",
      "execution_count": null,
      "metadata": {
        "school_cell_uuid": "797f19075e4f4003b382715c1d6e9138",
        "id": "qnyy_hPFHh2B",
        "outputId": "ce9f6c04-60b3-4ade-a66a-bb91300e18d4"
      },
      "outputs": [
        {
          "data": {
            "text/plain": [
              "array([[0, 1, 2],\n",
              "       [3, 4, 5]])"
            ]
          },
          "execution_count": 14,
          "metadata": {},
          "output_type": "execute_result"
        }
      ],
      "source": [
        "c = np.array([[0, 1, 2], [3, 4, 5]])  # 2 x 3 array\n",
        "c"
      ]
    },
    {
      "cell_type": "markdown",
      "metadata": {
        "school_cell_uuid": "66edc3a371b54b3fa6498e132e5ac1eb",
        "id": "J2FDp67-Hh2B"
      },
      "source": [
        "2차원 배열의 행과 열의 갯수는 다음처럼 구한다."
      ]
    },
    {
      "cell_type": "code",
      "execution_count": null,
      "metadata": {
        "school_cell_uuid": "1630c5bd29cc4b07998cfe5ff7814f45",
        "id": "i3Eel5AdHh2B",
        "outputId": "1630d70e-aafd-4845-8b35-d5ac4cf15b44"
      },
      "outputs": [
        {
          "data": {
            "text/plain": [
              "2"
            ]
          },
          "execution_count": 15,
          "metadata": {},
          "output_type": "execute_result"
        }
      ],
      "source": [
        "# 행의 갯수\n",
        "len(c)"
      ]
    },
    {
      "cell_type": "code",
      "execution_count": null,
      "metadata": {
        "school_cell_uuid": "75e93d35ef5c463dad24eef20d3f3e31",
        "id": "sTyb4XW3Hh2B",
        "outputId": "27cea5df-36a6-490b-b8dc-23b3d811e6e5"
      },
      "outputs": [
        {
          "data": {
            "text/plain": [
              "3"
            ]
          },
          "execution_count": 16,
          "metadata": {},
          "output_type": "execute_result"
        }
      ],
      "source": [
        "# 열의 갯수\n",
        "len(c[0])"
      ]
    },
    {
      "cell_type": "markdown",
      "metadata": {
        "bootstrap": {
          "panel": {
            "class": "panel-default"
          }
        },
        "school_cell_uuid": "99f97f40b7574ec59bbdc76cce36733c",
        "id": "TPYwILnfHh2N"
      },
      "source": [
        "````{admonition} 연습 문제 1\n",
        "\n",
        "넘파이를 사용하여 다음과 같은 행렬을 만든다.\n",
        "\n",
        "```\n",
        "10 20 30 40\n",
        "50 60 70 80\n",
        "```\n",
        "````"
      ]
    },
    {
      "cell_type": "markdown",
      "metadata": {
        "school_cell_uuid": "bc89de5ce6a940338743361ca3e7daff",
        "id": "NqD5ZdtzHh2O"
      },
      "source": [
        "## 3차원 배열 만들기"
      ]
    },
    {
      "cell_type": "markdown",
      "metadata": {
        "school_cell_uuid": "efadb2d4c81a4a6b87f55661b01da5e7",
        "id": "4joX4JVBHh2O"
      },
      "source": [
        "리스트의 리스트의 리스트를 이용하면 3차원 배열도 생성할 수 있다. 크기를 나타낼 때는 가장 바깥쪽 리스트의 길이부터 가장 안쪽 리스트 길이의 순서로 표시한다. 예를 들어 2 x 3 x 4 배열은 다음과 같이 만든다."
      ]
    },
    {
      "cell_type": "code",
      "execution_count": null,
      "metadata": {
        "school_cell_uuid": "fedd59bc2e414e72a285d8d9aee29faf",
        "id": "X2fAmgBXHh2O"
      },
      "outputs": [],
      "source": [
        "d = np.array([[[1, 2, 3, 4],\n",
        "               [5, 6, 7, 8],\n",
        "               [9, 10, 11, 12]],\n",
        "              [[11, 12, 13, 14],\n",
        "               [15, 16, 17, 18],\n",
        "               [19, 20, 21, 22]]])   # 2 x 3 x 4 array"
      ]
    },
    {
      "cell_type": "markdown",
      "metadata": {
        "school_cell_uuid": "c6f7e632b6d046efac91acedd7bad09a",
        "id": "a6tM3eu8Hh2P"
      },
      "source": [
        "3차원 배열의 깊이, 행, 열은 다음과 같이 구할 수 있다."
      ]
    },
    {
      "cell_type": "code",
      "execution_count": null,
      "metadata": {
        "school_cell_uuid": "228226e0146340f3b4d170833fa561a5",
        "id": "mIhyJ8cuHh2P",
        "outputId": "3d26597a-8281-4548-b558-42fbebbe7098"
      },
      "outputs": [
        {
          "data": {
            "text/plain": [
              "(2, 3, 4)"
            ]
          },
          "execution_count": 18,
          "metadata": {},
          "output_type": "execute_result"
        }
      ],
      "source": [
        "len(d), len(d[0]), len(d[0][0])"
      ]
    },
    {
      "cell_type": "markdown",
      "metadata": {
        "school_cell_uuid": "435df86b52ed4804ac61ac2cbba9c59c",
        "id": "XkVMqY0_Hh2P"
      },
      "source": [
        "## 배열의 차원과 크기 알아내기"
      ]
    },
    {
      "cell_type": "markdown",
      "metadata": {
        "id": "XrM7b10dHh2P"
      },
      "source": [
        "```{margin}\n",
        "`ndim`\n",
        "```"
      ]
    },
    {
      "cell_type": "markdown",
      "metadata": {
        "id": "Fgdh-m9SHh2Q"
      },
      "source": [
        "```{margin}\n",
        "`shape`\n",
        "```"
      ]
    },
    {
      "cell_type": "markdown",
      "metadata": {
        "school_cell_uuid": "a834daa613a145cf809cf4633040773a",
        "id": "gri3fFNJHh2Q"
      },
      "source": [
        "배열의 차원 및 크기를 구하는 더 간단한 방법은 배열의 `ndim` 속성과 `shape` 속성을 이용하는 것이다. `ndim` 속성은 배열의 차원, `shape` 속성은 배열의 크기를 반환한다."
      ]
    },
    {
      "cell_type": "code",
      "execution_count": null,
      "metadata": {
        "school_cell_uuid": "0fb769f05ec249cf9e7d2c20941c37b9",
        "id": "xGDCtIo0Hh2Q",
        "outputId": "7772e158-fab0-44ed-bb1f-2cda359be06d"
      },
      "outputs": [
        {
          "name": "stdout",
          "output_type": "stream",
          "text": [
            "1\n",
            "(3,)\n"
          ]
        }
      ],
      "source": [
        "# a = np.array([1, 2, 3])\n",
        "print(a.ndim)\n",
        "print(a.shape)"
      ]
    },
    {
      "cell_type": "code",
      "execution_count": null,
      "metadata": {
        "school_cell_uuid": "2ccbbe5bccd140a181e95e16b97799e6",
        "id": "8IqVfOqAHh2R",
        "outputId": "3d994857-b013-4119-82e5-6abf6e218236"
      },
      "outputs": [
        {
          "name": "stdout",
          "output_type": "stream",
          "text": [
            "2\n",
            "(2, 3)\n"
          ]
        }
      ],
      "source": [
        "# c = np.array([[0, 1, 2], [3, 4, 5]])\n",
        "print(c.ndim)\n",
        "print(c.shape)"
      ]
    },
    {
      "cell_type": "code",
      "execution_count": null,
      "metadata": {
        "school_cell_uuid": "ef5aa51881654bbfb1efb1d3e9b27b55",
        "id": "fW5C6zCfHh2R",
        "outputId": "1b935879-8afc-4cb6-ca9c-6b3434f317ed"
      },
      "outputs": [
        {
          "name": "stdout",
          "output_type": "stream",
          "text": [
            "3\n",
            "(2, 3, 4)\n"
          ]
        }
      ],
      "source": [
        "print(d.ndim)\n",
        "print(d.shape)"
      ]
    },
    {
      "cell_type": "markdown",
      "metadata": {
        "school_cell_uuid": "d4755f7878e541e7bb13e019ff9a9083",
        "id": "OUIn_vYxHh2R"
      },
      "source": [
        "## 배열의 인덱싱"
      ]
    },
    {
      "cell_type": "markdown",
      "metadata": {
        "school_cell_uuid": "ad44a47e3f2f4eb6956a2be0fece6f3f",
        "id": "bHg822SKHh2R"
      },
      "source": [
        "일차원 배열의 인덱싱은 리스트의 인덱싱과 같다. "
      ]
    },
    {
      "cell_type": "code",
      "execution_count": null,
      "metadata": {
        "school_cell_uuid": "f7a6485287dc428c80fd57426c8bbffa",
        "id": "skvvAVy3Hh2S"
      },
      "outputs": [],
      "source": [
        "a = np.array([0, 1, 2, 3, 4])"
      ]
    },
    {
      "cell_type": "code",
      "execution_count": null,
      "metadata": {
        "school_cell_uuid": "19a6dcba1b9b4a719a192a6dd4daea0d",
        "id": "jBWIn22gHh2S",
        "outputId": "63c9890f-cf7d-4be7-f9f1-29d3ee09d7f0"
      },
      "outputs": [
        {
          "data": {
            "text/plain": [
              "2"
            ]
          },
          "execution_count": 23,
          "metadata": {},
          "output_type": "execute_result"
        }
      ],
      "source": [
        "a[2]"
      ]
    },
    {
      "cell_type": "code",
      "execution_count": null,
      "metadata": {
        "school_cell_uuid": "c34f99447c0a495aa1a5ffd62a07dd84",
        "id": "t3DBu6TnHh2S",
        "outputId": "f5684040-47a8-4a27-ebd5-020432fb0946"
      },
      "outputs": [
        {
          "data": {
            "text/plain": [
              "4"
            ]
          },
          "execution_count": 24,
          "metadata": {},
          "output_type": "execute_result"
        }
      ],
      "source": [
        "a[-1]"
      ]
    },
    {
      "cell_type": "markdown",
      "metadata": {
        "id": "_VtYv4MUHh2S"
      },
      "source": [
        "```{margin}\n",
        "축(axis)\n",
        "```"
      ]
    },
    {
      "cell_type": "markdown",
      "metadata": {
        "school_cell_uuid": "738eb68556a74178bea7c08a1ed83df8",
        "id": "Pm9Ac8FfHh2T"
      },
      "source": [
        "다차원 배열일 때는 다음과 같이 콤마(comma ,)를 사용하여 접근할 수 있다. 콤마로 구분된 차원을 축(axis)이라고도 한다. 그래프의 x축과 y축을 떠올리면 될 것이다."
      ]
    },
    {
      "cell_type": "code",
      "execution_count": null,
      "metadata": {
        "school_cell_uuid": "9576398b7fcf4e4e95739ba9643f782c",
        "id": "uGkf22bXHh2T",
        "outputId": "deb7879f-aeaf-40cf-8d2c-69a492b415a8"
      },
      "outputs": [
        {
          "data": {
            "text/plain": [
              "array([[0, 1, 2],\n",
              "       [3, 4, 5]])"
            ]
          },
          "execution_count": 25,
          "metadata": {},
          "output_type": "execute_result"
        }
      ],
      "source": [
        "a = np.array([[0, 1, 2], [3, 4, 5]])\n",
        "a"
      ]
    },
    {
      "cell_type": "code",
      "execution_count": null,
      "metadata": {
        "school_cell_uuid": "3db29f4a615749fbbe5d95c211ff8b44",
        "id": "6XsX4tkVHh2T",
        "outputId": "0a41bc8e-92e3-487e-c1af-b94b6ae44d18"
      },
      "outputs": [
        {
          "data": {
            "text/plain": [
              "0"
            ]
          },
          "execution_count": 26,
          "metadata": {},
          "output_type": "execute_result"
        }
      ],
      "source": [
        "a[0, 0]  # 첫번째 행의 첫번째 열"
      ]
    },
    {
      "cell_type": "code",
      "execution_count": null,
      "metadata": {
        "school_cell_uuid": "5c1286972e914d98a09fed0e20443a2c",
        "id": "W4fBjdw3Hh2T",
        "outputId": "ef8083ad-b9bd-4338-cec6-f365a5f9d0df"
      },
      "outputs": [
        {
          "data": {
            "text/plain": [
              "1"
            ]
          },
          "execution_count": 27,
          "metadata": {},
          "output_type": "execute_result"
        }
      ],
      "source": [
        "a[0, 1]  # 첫번째 행의 두번째 열"
      ]
    },
    {
      "cell_type": "code",
      "execution_count": null,
      "metadata": {
        "school_cell_uuid": "83fac0298f70445c9d7a65a373c4780a",
        "id": "UwBpQ5f2Hh2T",
        "outputId": "3a3e4a02-0e8e-4a50-e130-915eba666462"
      },
      "outputs": [
        {
          "data": {
            "text/plain": [
              "5"
            ]
          },
          "execution_count": 28,
          "metadata": {},
          "output_type": "execute_result"
        }
      ],
      "source": [
        "a[-1, -1]  # 마지막 행의 마지막 열"
      ]
    },
    {
      "cell_type": "markdown",
      "metadata": {
        "school_cell_uuid": "f657419442c941f786574146a89c39db",
        "id": "gXD1zBqBHh2U"
      },
      "source": [
        "## 배열 슬라이싱"
      ]
    },
    {
      "cell_type": "markdown",
      "metadata": {
        "school_cell_uuid": "d0b3eb8e9625482ab825b6ebb701c69c",
        "id": "KyI9oGLGHh2U"
      },
      "source": [
        "배열 객체로 구현한 다차원 배열의 원소 중 복수 개를 접근하려면 일반적인 파이썬 슬라이싱(slicing)과 comma(,)를 함께 사용하면 된다."
      ]
    },
    {
      "cell_type": "code",
      "execution_count": null,
      "metadata": {
        "school_cell_uuid": "1ea4a86c5ab34105bfaf76fb7eb56e86",
        "id": "Z-Psy1qJHh2U",
        "outputId": "e0d02968-9a9c-433d-86b6-5aa9ed9fd62f"
      },
      "outputs": [
        {
          "data": {
            "text/plain": [
              "array([[0, 1, 2, 3],\n",
              "       [4, 5, 6, 7]])"
            ]
          },
          "execution_count": 29,
          "metadata": {},
          "output_type": "execute_result"
        }
      ],
      "source": [
        "a = np.array([[0, 1, 2, 3], [4, 5, 6, 7]])\n",
        "a"
      ]
    },
    {
      "cell_type": "code",
      "execution_count": null,
      "metadata": {
        "school_cell_uuid": "bfea4995adda4a0382bada20bc976a78",
        "id": "kWOVG1WbHh2U",
        "outputId": "9c37f7d7-0e00-42f6-ce54-773008e6970c"
      },
      "outputs": [
        {
          "data": {
            "text/plain": [
              "array([0, 1, 2, 3])"
            ]
          },
          "execution_count": 30,
          "metadata": {},
          "output_type": "execute_result"
        }
      ],
      "source": [
        "a[0, :]  # 첫번째 행 전체"
      ]
    },
    {
      "cell_type": "code",
      "execution_count": null,
      "metadata": {
        "school_cell_uuid": "54129ca14dfa46acb37258649dc4fbf0",
        "id": "exYRcZpeHh2U",
        "outputId": "7fe73572-d047-4eac-d76b-1865b352bdaa"
      },
      "outputs": [
        {
          "data": {
            "text/plain": [
              "array([1, 5])"
            ]
          },
          "execution_count": 31,
          "metadata": {},
          "output_type": "execute_result"
        }
      ],
      "source": [
        "a[:, 1]  # 두번째 열 전체"
      ]
    },
    {
      "cell_type": "code",
      "execution_count": null,
      "metadata": {
        "school_cell_uuid": "feb44b302247499eb76a58b904231483",
        "id": "o8B_l6CWHh2V",
        "outputId": "22ad25d6-656d-4cef-cc31-42336c9aca31"
      },
      "outputs": [
        {
          "data": {
            "text/plain": [
              "array([5, 6, 7])"
            ]
          },
          "execution_count": 32,
          "metadata": {},
          "output_type": "execute_result"
        }
      ],
      "source": [
        "a[1, 1:]  # 두번째 행의 두번째 열부터 끝열까지"
      ]
    },
    {
      "cell_type": "code",
      "execution_count": null,
      "metadata": {
        "school_cell_uuid": "feb44b302247499eb76a58b904231483",
        "id": "b5elpvVbHh2V",
        "outputId": "9a9e9b5c-c295-42c4-e4f7-91415c322e5c"
      },
      "outputs": [
        {
          "data": {
            "text/plain": [
              "array([[0, 1],\n",
              "       [4, 5]])"
            ]
          },
          "execution_count": 33,
          "metadata": {},
          "output_type": "execute_result"
        }
      ],
      "source": [
        "a[:2, :2]"
      ]
    },
    {
      "cell_type": "markdown",
      "metadata": {
        "bootstrap": {
          "panel": {
            "class": "panel-default"
          }
        },
        "school_cell_uuid": "bfbc3bb02fa04461bffff66bf2d96fb8",
        "id": "LgMV-j9wHh2V"
      },
      "source": [
        "````{admonition} 연습 문제 2\n",
        "\n",
        "다음 행렬과 같은 행렬이 있다.\n",
        "\n",
        "```\n",
        "m = np.array([[ 0,  1,  2,  3,  4],\n",
        "            [ 5,  6,  7,  8,  9],\n",
        "            [10, 11, 12, 13, 14]])\n",
        "```\n",
        "\n",
        "1. 이 행렬에서 값 7 을 인덱싱한다.\n",
        "2. 이 행렬에서 값 14 을 인덱싱한다.\n",
        "3. 이 행렬에서 배열 [6, 7] 을 슬라이싱한다.\n",
        "4. 이 행렬에서 배열 [7, 12] 을 슬라이싱한다.\n",
        "5. 이 행렬에서 배열 [[3, 4], [8, 9]] 을 슬라이싱한다.\n",
        "````"
      ]
    },
    {
      "cell_type": "markdown",
      "metadata": {
        "school_cell_uuid": "2b04625edebb49ce8af7c00153172289",
        "id": "T_zO743CHh2V"
      },
      "source": [
        "## 배열 인덱싱"
      ]
    },
    {
      "cell_type": "markdown",
      "metadata": {
        "id": "meApLplSHh2V"
      },
      "source": [
        "```{margin}\n",
        "배열 인덱싱(array indexing)\n",
        "```"
      ]
    },
    {
      "cell_type": "markdown",
      "metadata": {
        "school_cell_uuid": "cc146df0c9264066b015e5de670df9ef",
        "id": "aKr_B1nvHh2W"
      },
      "source": [
        "넘파이 배열 객체의 또다른 강력한 기능은 팬시 인덱싱(fancy indexing)이라고도 부르는 배열 인덱싱(array indexing) 방법이다. 인덱싱이라는 이름이 붙었지만 사실은 데이터베이스의 질의(Query) 기능을 수행한다. 배열 인덱싱에서는 대괄호(Bracket, [])안의 인덱스 정보로 숫자나 슬라이스가 아니라 위치 정보를 나타내는 또 다른 `ndarray` 배열을 받을 수 있다. 여기에서는 이 배열을 편의상 인덱스 배열이라고 부르겠다. 배열 인덱싱의 방식에은 불리언(Boolean) 배열 방식과 정수 배열 방식 두가지가 있다."
      ]
    },
    {
      "cell_type": "markdown",
      "metadata": {
        "school_cell_uuid": "1c77e028d6464214bba1143b460c42a3",
        "id": "9ofFQ9KCHh2W"
      },
      "source": [
        "먼저 불리안 배열 인덱싱 방식은 인덱스 배열의 원소가 True, False 두 값으로만 구성되며 인덱스 배열의 크기가 원래 ndarray 객체의 크기와 같아야 한다.\n",
        "\n",
        "예를 들어 다음과 같은 1차원 `ndarray`에서 짝수인 원소만 골라내려면 짝수인 원소에 대응하는 인덱스 값이 True이고 홀수인 원소에 대응하는 인덱스 값이 False인 인덱스 배열을 넣으면 된다."
      ]
    },
    {
      "cell_type": "code",
      "execution_count": null,
      "metadata": {
        "school_cell_uuid": "229c36ab3d0243e1b35039a3eb61843b",
        "id": "idXoudWaHh2W",
        "outputId": "580efcd2-dfbf-4d3f-ad84-9e413b97d3ee"
      },
      "outputs": [
        {
          "data": {
            "text/plain": [
              "array([0, 2, 4, 6, 8])"
            ]
          },
          "execution_count": 43,
          "metadata": {},
          "output_type": "execute_result"
        }
      ],
      "source": [
        "a = np.array([0, 1, 2, 3, 4, 5, 6, 7, 8, 9])\n",
        "idx = np.array([True, False, True, False, True,\n",
        "               False, True, False, True, False])\n",
        "a[idx]"
      ]
    },
    {
      "cell_type": "markdown",
      "metadata": {
        "school_cell_uuid": "f8e440768c02451fae3c4c1b82054379",
        "id": "2iCt1dU1Hh2W"
      },
      "source": [
        "조건문 연산을 사용하면 다음과 같이 간단히 쓸 수 있다."
      ]
    },
    {
      "cell_type": "code",
      "execution_count": null,
      "metadata": {
        "school_cell_uuid": "24e11eda2d6c4f1c9322c1d99270b110",
        "id": "ilUXKxlyHh2W",
        "outputId": "44b5408a-5b35-4447-c302-6dfdbdd5a2bf"
      },
      "outputs": [
        {
          "data": {
            "text/plain": [
              "array([0, 1, 0, 1, 0, 1, 0, 1, 0, 1], dtype=int32)"
            ]
          },
          "execution_count": 35,
          "metadata": {},
          "output_type": "execute_result"
        }
      ],
      "source": [
        "a % 2"
      ]
    },
    {
      "cell_type": "code",
      "execution_count": null,
      "metadata": {
        "school_cell_uuid": "24e11eda2d6c4f1c9322c1d99270b110",
        "id": "0TgBDzpqHh2X",
        "outputId": "add6f26f-06b2-4a42-95a0-33de7d998418"
      },
      "outputs": [
        {
          "data": {
            "text/plain": [
              "array([ True, False,  True, False,  True, False,  True, False,  True,\n",
              "       False])"
            ]
          },
          "execution_count": 36,
          "metadata": {},
          "output_type": "execute_result"
        }
      ],
      "source": [
        "a % 2 == 0"
      ]
    },
    {
      "cell_type": "code",
      "execution_count": null,
      "metadata": {
        "school_cell_uuid": "24e11eda2d6c4f1c9322c1d99270b110",
        "id": "r_mA1UBsHh2X",
        "outputId": "d2e0417a-fe5d-4574-aea4-3ad67fb6babf"
      },
      "outputs": [
        {
          "data": {
            "text/plain": [
              "array([0, 2, 4, 6, 8])"
            ]
          },
          "execution_count": 37,
          "metadata": {},
          "output_type": "execute_result"
        }
      ],
      "source": [
        "a[a % 2 == 0]"
      ]
    },
    {
      "cell_type": "markdown",
      "metadata": {
        "school_cell_uuid": "8dddb10b268d4959bd377704e5cc0c73",
        "id": "oWC6_rFeHh2X"
      },
      "source": [
        "정수 배열 인덱싱에서는 인덱스 배열의 원소 각각이 원래 `ndarray` 객체 원소 하나를 가리키는 인덱스 정수이여야 한다.\n",
        "예를 들어 1차원 배열에서 홀수번째 원소만 골라내는 것은 다음과 같다"
      ]
    },
    {
      "cell_type": "code",
      "execution_count": null,
      "metadata": {
        "school_cell_uuid": "d3450c62bcf346838f5084b261bdd4a4",
        "id": "nsH0lWlFHh2X",
        "outputId": "250c64d6-833c-4cca-f30b-3e8311ab95dc"
      },
      "outputs": [
        {
          "data": {
            "text/plain": [
              "array([11, 33, 55, 77, 99])"
            ]
          },
          "execution_count": 38,
          "metadata": {},
          "output_type": "execute_result"
        }
      ],
      "source": [
        "a = np.array([11, 22, 33, 44, 55, 66, 77, 88, 99])\n",
        "idx = np.array([0, 2, 4, 6, 8])\n",
        "a[idx]"
      ]
    },
    {
      "cell_type": "markdown",
      "metadata": {
        "school_cell_uuid": "6639a282bf6f4fa5b0db092af7705abe",
        "id": "X7cGpcIVHh2Y"
      },
      "source": [
        "이 때는 배열 인덱스의 크기가 원래의 배열 크기와 달라도 상관없다. 같은 원소를 반복해서 가리키는 경우에는 배열 인덱스가 원래의 배열보다 더 커지기도 한다."
      ]
    },
    {
      "cell_type": "code",
      "execution_count": null,
      "metadata": {
        "school_cell_uuid": "e0d44d88947b445a829eff3a626d0f41",
        "id": "fd34RJsfHh2Y",
        "outputId": "d86fe1bd-bc77-40cb-9300-75ac795d86ff"
      },
      "outputs": [
        {
          "data": {
            "text/plain": [
              "array([11, 11, 11, 11, 11, 11, 22, 22, 22, 22, 22, 33, 33, 33, 33, 33])"
            ]
          },
          "execution_count": 39,
          "metadata": {},
          "output_type": "execute_result"
        }
      ],
      "source": [
        "a = np.array([11, 22, 33, 44, 55, 66, 77, 88, 99])\n",
        "idx = np.array([0, 0, 0, 0, 0, 0, 1, 1, 1, 1, 1, 2, 2, 2, 2, 2])\n",
        "a[idx]"
      ]
    },
    {
      "cell_type": "markdown",
      "metadata": {
        "school_cell_uuid": "5eac3dc885ae43a29c1e02aa32bc5f55",
        "id": "Q906jqc1Hh2Y"
      },
      "source": [
        "배열 인덱싱은 다차원 배열의 각 차원에 대해서도 할 수 있다."
      ]
    },
    {
      "cell_type": "code",
      "execution_count": null,
      "metadata": {
        "school_cell_uuid": "7150f017d94848af886bb9783aa0337b",
        "id": "5tbxHIqIHh2Y",
        "outputId": "4080d47b-2acd-4cd2-b238-c7549cb58e27"
      },
      "outputs": [
        {
          "data": {
            "text/plain": [
              "array([[ 1,  2,  3,  4],\n",
              "       [ 5,  6,  7,  8],\n",
              "       [ 9, 10, 11, 12]])"
            ]
          },
          "execution_count": 40,
          "metadata": {},
          "output_type": "execute_result"
        }
      ],
      "source": [
        "a = np.array([[1, 2, 3, 4], [5, 6, 7, 8], [9, 10, 11, 12]])\n",
        "a"
      ]
    },
    {
      "cell_type": "code",
      "execution_count": null,
      "metadata": {
        "school_cell_uuid": "2f482ef754064b7399bc7128276bdb25",
        "id": "FewSOeuiHh2Y",
        "outputId": "26a8c665-69ed-4d86-a258-d4c6dd81152c"
      },
      "outputs": [
        {
          "data": {
            "text/plain": [
              "array([[ 1,  4],\n",
              "       [ 5,  8],\n",
              "       [ 9, 12]])"
            ]
          },
          "execution_count": 41,
          "metadata": {},
          "output_type": "execute_result"
        }
      ],
      "source": [
        "a[:, [True, False, False, True]]"
      ]
    },
    {
      "cell_type": "code",
      "execution_count": null,
      "metadata": {
        "school_cell_uuid": "adf49263d3be41d389ef9a4a475d65ad",
        "id": "VBanvUMcHh2Z",
        "outputId": "86af1096-11b8-456d-831f-ff1322ba6b19"
      },
      "outputs": [
        {
          "data": {
            "text/plain": [
              "array([[ 9, 10, 11, 12],\n",
              "       [ 1,  2,  3,  4],\n",
              "       [ 5,  6,  7,  8]])"
            ]
          },
          "execution_count": 42,
          "metadata": {},
          "output_type": "execute_result"
        }
      ],
      "source": [
        "a[[2, 0, 1], :]"
      ]
    },
    {
      "cell_type": "markdown",
      "metadata": {
        "bootstrap": {
          "panel": {
            "class": "panel-default"
          }
        },
        "school_cell_uuid": "bfbc3bb02fa04461bffff66bf2d96fb8",
        "id": "2IDgyp4lHh2Z"
      },
      "source": [
        "````{admonition} 연습 문제 3\n",
        "\n",
        "다음 행렬과 같은 배열이 있다.\n",
        "\n",
        "```\n",
        "x = np.array([1, 2, 3, 4, 5, 6, 7, 8, 9, 10,\n",
        "             11, 12, 13, 14, 15, 16, 17, 18, 19, 20])\n",
        "```\n",
        "\n",
        "1. 이 배열에서 3의 배수를 찾아라.\n",
        "2. 이 배열에서 4로 나누면 1이 남는 수를 찾아라.\n",
        "3. 이 배열에서 3으로 나누면 나누어지고 4로 나누면 1이 남는 수를 찾아라.\n",
        "````"
      ]
    },
    {
      "cell_type": "code",
      "execution_count": null,
      "metadata": {
        "id": "eL9JxzP-Hh2Z"
      },
      "outputs": [],
      "source": []
    }
  ],
  "metadata": {
    "celltoolbar": "Edit Metadata",
    "kernelspec": {
      "display_name": "Python 3",
      "language": "python",
      "name": "python3"
    },
    "language_info": {
      "codemirror_mode": {
        "name": "ipython",
        "version": 3
      },
      "file_extension": ".py",
      "mimetype": "text/x-python",
      "name": "python",
      "nbconvert_exporter": "python",
      "pygments_lexer": "ipython3",
      "version": "3.7.6"
    },
    "colab": {
      "provenance": [],
      "include_colab_link": true
    }
  },
  "nbformat": 4,
  "nbformat_minor": 0
}