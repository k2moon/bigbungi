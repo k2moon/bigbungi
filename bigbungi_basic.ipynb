{
  "nbformat": 4,
  "nbformat_minor": 0,
  "metadata": {
    "colab": {
      "provenance": [],
      "authorship_tag": "ABX9TyOaputs7ywzg+OZayyhAug8",
      "include_colab_link": true
    },
    "kernelspec": {
      "name": "python3",
      "display_name": "Python 3"
    },
    "language_info": {
      "name": "python"
    }
  },
  "cells": [
    {
      "cell_type": "markdown",
      "metadata": {
        "id": "view-in-github",
        "colab_type": "text"
      },
      "source": [
        "<a href=\"https://colab.research.google.com/github/k2moon/bigbungi/blob/main/bigbungi_basic.ipynb\" target=\"_parent\"><img src=\"https://colab.research.google.com/assets/colab-badge.svg\" alt=\"Open In Colab\"/></a>"
      ]
    },
    {
      "cell_type": "markdown",
      "source": [
        "# 빅분기 실기 - 기본"
      ],
      "metadata": {
        "id": "zbmjNIXQIQGn"
      }
    },
    {
      "cell_type": "markdown",
      "source": [
        "## 절차\n",
        "0. python, pandas, numpy\n",
        "1. 데이터 준비 및 기본 확인\n",
        "2. 데이터 관찰 및 가공\n",
        "3. 데이턴 분리\n",
        "4. 데이터 훈련 및 평가\n",
        "5. 결과 출력 및 저장\n"
      ],
      "metadata": {
        "id": "SZY9JBj7IRoG"
      }
    },
    {
      "cell_type": "markdown",
      "source": [
        "# python, pandas, numpy\n",
        "\n",
        "## python"
      ],
      "metadata": {
        "id": "lnCoJc28neSA"
      }
    },
    {
      "cell_type": "code",
      "source": [
        "# round() 반올림\n",
        "f = 3.1459\n",
        "round(f, 2)\n",
        "\n",
        "# len() 길이\n",
        "s = 'hello'\n",
        "len(s)"
      ],
      "metadata": {
        "colab": {
          "base_uri": "https://localhost:8080/"
        },
        "id": "tnLKIgbUteMp",
        "outputId": "aaa40a99-2044-4575-cd52-4210d3ccac9e"
      },
      "execution_count": 4,
      "outputs": [
        {
          "output_type": "execute_result",
          "data": {
            "text/plain": [
              "5"
            ]
          },
          "metadata": {},
          "execution_count": 4
        }
      ]
    },
    {
      "cell_type": "markdown",
      "source": [
        "## pandas, numpy\n"
      ],
      "metadata": {
        "id": "4jLYLNx_nzEY"
      }
    },
    {
      "cell_type": "code",
      "source": [
        "# import\n",
        "import pandas as pd\n",
        "import numpy as np\n",
        "\n",
        "# read_csv()\n",
        "data = 'http://thedata.kr/down/dataset/mtcars.csv'\n",
        "df = pd.read_csv(data)\n",
        "df.head(1)"
      ],
      "metadata": {
        "colab": {
          "base_uri": "https://localhost:8080/",
          "height": 80
        },
        "id": "joL0vwW-n54W",
        "outputId": "988d0225-4181-4e8f-c94b-3ae4dfe72eef"
      },
      "execution_count": 6,
      "outputs": [
        {
          "output_type": "execute_result",
          "data": {
            "text/plain": [
              "  Unnamed: 0   mpg  cyl   disp   hp  drat    wt   qsec  vs      am gear  carb\n",
              "0  Mazda RX4  21.0  6.0  160.0  110   3.9  2.62  16.46   0  manual    4     4"
            ],
            "text/html": [
              "\n",
              "  <div id=\"df-1660674e-1366-4be2-a102-7d207d279c72\">\n",
              "    <div class=\"colab-df-container\">\n",
              "      <div>\n",
              "<style scoped>\n",
              "    .dataframe tbody tr th:only-of-type {\n",
              "        vertical-align: middle;\n",
              "    }\n",
              "\n",
              "    .dataframe tbody tr th {\n",
              "        vertical-align: top;\n",
              "    }\n",
              "\n",
              "    .dataframe thead th {\n",
              "        text-align: right;\n",
              "    }\n",
              "</style>\n",
              "<table border=\"1\" class=\"dataframe\">\n",
              "  <thead>\n",
              "    <tr style=\"text-align: right;\">\n",
              "      <th></th>\n",
              "      <th>Unnamed: 0</th>\n",
              "      <th>mpg</th>\n",
              "      <th>cyl</th>\n",
              "      <th>disp</th>\n",
              "      <th>hp</th>\n",
              "      <th>drat</th>\n",
              "      <th>wt</th>\n",
              "      <th>qsec</th>\n",
              "      <th>vs</th>\n",
              "      <th>am</th>\n",
              "      <th>gear</th>\n",
              "      <th>carb</th>\n",
              "    </tr>\n",
              "  </thead>\n",
              "  <tbody>\n",
              "    <tr>\n",
              "      <th>0</th>\n",
              "      <td>Mazda RX4</td>\n",
              "      <td>21.0</td>\n",
              "      <td>6.0</td>\n",
              "      <td>160.0</td>\n",
              "      <td>110</td>\n",
              "      <td>3.9</td>\n",
              "      <td>2.62</td>\n",
              "      <td>16.46</td>\n",
              "      <td>0</td>\n",
              "      <td>manual</td>\n",
              "      <td>4</td>\n",
              "      <td>4</td>\n",
              "    </tr>\n",
              "  </tbody>\n",
              "</table>\n",
              "</div>\n",
              "      <button class=\"colab-df-convert\" onclick=\"convertToInteractive('df-1660674e-1366-4be2-a102-7d207d279c72')\"\n",
              "              title=\"Convert this dataframe to an interactive table.\"\n",
              "              style=\"display:none;\">\n",
              "        \n",
              "  <svg xmlns=\"http://www.w3.org/2000/svg\" height=\"24px\"viewBox=\"0 0 24 24\"\n",
              "       width=\"24px\">\n",
              "    <path d=\"M0 0h24v24H0V0z\" fill=\"none\"/>\n",
              "    <path d=\"M18.56 5.44l.94 2.06.94-2.06 2.06-.94-2.06-.94-.94-2.06-.94 2.06-2.06.94zm-11 1L8.5 8.5l.94-2.06 2.06-.94-2.06-.94L8.5 2.5l-.94 2.06-2.06.94zm10 10l.94 2.06.94-2.06 2.06-.94-2.06-.94-.94-2.06-.94 2.06-2.06.94z\"/><path d=\"M17.41 7.96l-1.37-1.37c-.4-.4-.92-.59-1.43-.59-.52 0-1.04.2-1.43.59L10.3 9.45l-7.72 7.72c-.78.78-.78 2.05 0 2.83L4 21.41c.39.39.9.59 1.41.59.51 0 1.02-.2 1.41-.59l7.78-7.78 2.81-2.81c.8-.78.8-2.07 0-2.86zM5.41 20L4 18.59l7.72-7.72 1.47 1.35L5.41 20z\"/>\n",
              "  </svg>\n",
              "      </button>\n",
              "      \n",
              "  <style>\n",
              "    .colab-df-container {\n",
              "      display:flex;\n",
              "      flex-wrap:wrap;\n",
              "      gap: 12px;\n",
              "    }\n",
              "\n",
              "    .colab-df-convert {\n",
              "      background-color: #E8F0FE;\n",
              "      border: none;\n",
              "      border-radius: 50%;\n",
              "      cursor: pointer;\n",
              "      display: none;\n",
              "      fill: #1967D2;\n",
              "      height: 32px;\n",
              "      padding: 0 0 0 0;\n",
              "      width: 32px;\n",
              "    }\n",
              "\n",
              "    .colab-df-convert:hover {\n",
              "      background-color: #E2EBFA;\n",
              "      box-shadow: 0px 1px 2px rgba(60, 64, 67, 0.3), 0px 1px 3px 1px rgba(60, 64, 67, 0.15);\n",
              "      fill: #174EA6;\n",
              "    }\n",
              "\n",
              "    [theme=dark] .colab-df-convert {\n",
              "      background-color: #3B4455;\n",
              "      fill: #D2E3FC;\n",
              "    }\n",
              "\n",
              "    [theme=dark] .colab-df-convert:hover {\n",
              "      background-color: #434B5C;\n",
              "      box-shadow: 0px 1px 3px 1px rgba(0, 0, 0, 0.15);\n",
              "      filter: drop-shadow(0px 1px 2px rgba(0, 0, 0, 0.3));\n",
              "      fill: #FFFFFF;\n",
              "    }\n",
              "  </style>\n",
              "\n",
              "      <script>\n",
              "        const buttonEl =\n",
              "          document.querySelector('#df-1660674e-1366-4be2-a102-7d207d279c72 button.colab-df-convert');\n",
              "        buttonEl.style.display =\n",
              "          google.colab.kernel.accessAllowed ? 'block' : 'none';\n",
              "\n",
              "        async function convertToInteractive(key) {\n",
              "          const element = document.querySelector('#df-1660674e-1366-4be2-a102-7d207d279c72');\n",
              "          const dataTable =\n",
              "            await google.colab.kernel.invokeFunction('convertToInteractive',\n",
              "                                                     [key], {});\n",
              "          if (!dataTable) return;\n",
              "\n",
              "          const docLinkHtml = 'Like what you see? Visit the ' +\n",
              "            '<a target=\"_blank\" href=https://colab.research.google.com/notebooks/data_table.ipynb>data table notebook</a>'\n",
              "            + ' to learn more about interactive tables.';\n",
              "          element.innerHTML = '';\n",
              "          dataTable['output_type'] = 'display_data';\n",
              "          await google.colab.output.renderOutput(dataTable, element);\n",
              "          const docLink = document.createElement('div');\n",
              "          docLink.innerHTML = docLinkHtml;\n",
              "          element.appendChild(docLink);\n",
              "        }\n",
              "      </script>\n",
              "    </div>\n",
              "  </div>\n",
              "  "
            ]
          },
          "metadata": {},
          "execution_count": 6
        }
      ]
    },
    {
      "cell_type": "code",
      "source": [
        "mpg_pd = df.iloc[:, 1]\n",
        "mpg_np = np.array(mpg_pd)\n",
        "\n",
        "# mean\n",
        "print(mpg_pd.mean(), mpg_np.mean())"
      ],
      "metadata": {
        "colab": {
          "base_uri": "https://localhost:8080/"
        },
        "id": "o3NDnQloob5X",
        "outputId": "076f520f-336e-455b-f066-93b2ad7b9241"
      },
      "execution_count": null,
      "outputs": [
        {
          "output_type": "stream",
          "name": "stdout",
          "text": [
            "20.090625000000003 20.090625000000003\n"
          ]
        }
      ]
    },
    {
      "cell_type": "code",
      "source": [
        "\n",
        "# var - (pandas:표본분산), (numpy:모분산)\n",
        "print(mpg_pd.var(), mpg_np.var())\n",
        "\n",
        "# var(ddof) - (pandas:ddof=1), (numpy:ddof=0)\n",
        "print(mpg_pd.var(ddof=0), mpg_np.var())\n",
        "print(mpg_pd.var(), mpg_np.var(ddof=1))"
      ],
      "metadata": {
        "colab": {
          "base_uri": "https://localhost:8080/"
        },
        "id": "LB1EZgoRvdXa",
        "outputId": "c0123403-eff0-4b98-ade0-7b915af568f0"
      },
      "execution_count": null,
      "outputs": [
        {
          "output_type": "stream",
          "name": "stdout",
          "text": [
            "36.32410282258064 35.188974609374995\n",
            "35.188974609374995 35.188974609374995\n",
            "36.32410282258064 36.32410282258064\n"
          ]
        }
      ]
    },
    {
      "cell_type": "code",
      "source": [
        "# std - (pandas:표본표준편차), (numpy:모표준편차)\n",
        "print(mpg_pd.std(), mpg_np.std())\n",
        "\n",
        "# std(ddof) - (pandas:ddof=1), (numpy:ddof=0)\n",
        "print(mpg_pd.std(ddof=0), mpg_np.std())\n",
        "print(mpg_pd.std(), mpg_np.std(ddof=1))"
      ],
      "metadata": {
        "colab": {
          "base_uri": "https://localhost:8080/"
        },
        "id": "CL0nzQQgvhsv",
        "outputId": "0029584f-0c02-4063-83ec-4fb247e942bc"
      },
      "execution_count": null,
      "outputs": [
        {
          "output_type": "stream",
          "name": "stdout",
          "text": [
            "6.026948052089104 5.932029552301218\n",
            "5.932029552301218 5.932029552301218\n",
            "6.026948052089104 6.026948052089104\n"
          ]
        }
      ]
    },
    {
      "cell_type": "code",
      "source": [
        "# size\n",
        "print(mpg_pd.size)\n",
        "\n",
        "# count()\n",
        "print('hello'.count('l'), mpg_pd.count())"
      ],
      "metadata": {
        "colab": {
          "base_uri": "https://localhost:8080/"
        },
        "id": "o5cUZa_AvpSo",
        "outputId": "fc84dfe0-9300-4533-b142-8c9a9ab2f3f2"
      },
      "execution_count": null,
      "outputs": [
        {
          "output_type": "stream",
          "name": "stdout",
          "text": [
            "32\n",
            "2 32\n"
          ]
        }
      ]
    },
    {
      "cell_type": "code",
      "source": [
        "# sort_index(ascending=False)\n",
        "print(mpg_pd.sort_index().head())\n",
        "\n",
        "# sort_values(ascending=False)\n",
        "print(mpg_pd.sort_values().head())"
      ],
      "metadata": {
        "colab": {
          "base_uri": "https://localhost:8080/"
        },
        "id": "d_Q_KpEPvxde",
        "outputId": "b70a167b-8118-4b1c-c4c8-d9a19e7be3d6"
      },
      "execution_count": null,
      "outputs": [
        {
          "output_type": "stream",
          "name": "stdout",
          "text": [
            "0    21.0\n",
            "1    21.0\n",
            "2    22.8\n",
            "3    21.4\n",
            "4    18.7\n",
            "Name: mpg, dtype: float64\n",
            "15    10.4\n",
            "14    10.4\n",
            "23    13.3\n",
            "6     14.3\n",
            "16    14.7\n",
            "Name: mpg, dtype: float64\n"
          ]
        }
      ]
    },
    {
      "cell_type": "code",
      "source": [
        "# drop(index or col , axis = 0 or 1)\n",
        "# drop(index=index_name)\n",
        "# drop(columns=col_name)"
      ],
      "metadata": {
        "id": "hERjAUSAwedy"
      },
      "execution_count": null,
      "outputs": []
    },
    {
      "cell_type": "markdown",
      "source": [
        "## 기본 실습 데이터 - mtcars dataset\n",
        "- 32종의 자동차의 디자인과 성능 특성, 연료 소모량(연비) 정보등으로 구성\n",
        "- https://zetawiki.com/wiki/Mtcars_%EB%8D%B0%EC%9D%B4%ED%84%B0%EC%85%8B"
      ],
      "metadata": {
        "id": "RuKJLRRNIReO"
      }
    },
    {
      "cell_type": "markdown",
      "source": [
        "## 데이터 준비 및 기본 확인 Read CSV"
      ],
      "metadata": {
        "id": "OwmIWZU4LMDf"
      }
    },
    {
      "cell_type": "code",
      "execution_count": 7,
      "metadata": {
        "id": "JFFe2dTeIBGD"
      },
      "outputs": [],
      "source": [
        "import pandas as pd\n",
        "import numpy as np\n",
        "\n",
        "data = 'http://thedata.kr/down/dataset/mtcars.csv'\n",
        "df = pd.read_csv(data)"
      ]
    },
    {
      "cell_type": "code",
      "source": [
        "# dir\n",
        "print(dir(df))"
      ],
      "metadata": {
        "colab": {
          "base_uri": "https://localhost:8080/"
        },
        "id": "rRfFF7zHN2DH",
        "outputId": "4b0b1744-6cd1-43c1-f423-ee315b46662e"
      },
      "execution_count": null,
      "outputs": [
        {
          "output_type": "stream",
          "name": "stdout",
          "text": [
            "['T', '_AXIS_LEN', '_AXIS_ORDERS', '_AXIS_TO_AXIS_NUMBER', '_HANDLED_TYPES', '__abs__', '__add__', '__and__', '__annotations__', '__array__', '__array_priority__', '__array_ufunc__', '__array_wrap__', '__bool__', '__class__', '__contains__', '__copy__', '__dataframe__', '__deepcopy__', '__delattr__', '__delitem__', '__dict__', '__dir__', '__divmod__', '__doc__', '__eq__', '__finalize__', '__floordiv__', '__format__', '__ge__', '__getattr__', '__getattribute__', '__getitem__', '__getstate__', '__gt__', '__hash__', '__iadd__', '__iand__', '__ifloordiv__', '__imod__', '__imul__', '__init__', '__init_subclass__', '__invert__', '__ior__', '__ipow__', '__isub__', '__iter__', '__itruediv__', '__ixor__', '__le__', '__len__', '__lt__', '__matmul__', '__mod__', '__module__', '__mul__', '__ne__', '__neg__', '__new__', '__nonzero__', '__or__', '__pos__', '__pow__', '__radd__', '__rand__', '__rdivmod__', '__reduce__', '__reduce_ex__', '__repr__', '__rfloordiv__', '__rmatmul__', '__rmod__', '__rmul__', '__ror__', '__round__', '__rpow__', '__rsub__', '__rtruediv__', '__rxor__', '__setattr__', '__setitem__', '__setstate__', '__sizeof__', '__str__', '__sub__', '__subclasshook__', '__truediv__', '__weakref__', '__xor__', '_accessors', '_accum_func', '_add_numeric_operations', '_agg_by_level', '_agg_examples_doc', '_agg_summary_and_see_also_doc', '_align_frame', '_align_series', '_append', '_arith_method', '_as_manager', '_attrs', '_box_col_values', '_can_fast_transpose', '_check_inplace_and_allows_duplicate_labels', '_check_inplace_setting', '_check_is_chained_assignment_possible', '_check_label_or_level_ambiguity', '_check_setitem_copy', '_clear_item_cache', '_clip_with_one_bound', '_clip_with_scalar', '_cmp_method', '_combine_frame', '_consolidate', '_consolidate_inplace', '_construct_axes_dict', '_construct_axes_from_arguments', '_construct_result', '_constructor', '_constructor_sliced', '_convert', '_count_level', '_data', '_dir_additions', '_dir_deletions', '_dispatch_frame_op', '_drop_axis', '_drop_labels_or_levels', '_ensure_valid_index', '_find_valid_index', '_flags', '_from_arrays', '_get_agg_axis', '_get_axis', '_get_axis_name', '_get_axis_number', '_get_axis_resolvers', '_get_block_manager_axis', '_get_bool_data', '_get_cleaned_column_resolvers', '_get_column_array', '_get_index_resolvers', '_get_item_cache', '_get_label_or_level_values', '_get_numeric_data', '_get_value', '_getitem_bool_array', '_getitem_multilevel', '_gotitem', '_hidden_attrs', '_indexed_same', '_info_axis', '_info_axis_name', '_info_axis_number', '_info_repr', '_init_mgr', '_inplace_method', '_internal_names', '_internal_names_set', '_is_copy', '_is_homogeneous_type', '_is_label_or_level_reference', '_is_label_reference', '_is_level_reference', '_is_mixed_type', '_is_view', '_iset_item', '_iset_item_mgr', '_iset_not_inplace', '_item_cache', '_iter_column_arrays', '_ixs', '_join_compat', '_logical_func', '_logical_method', '_maybe_cache_changed', '_maybe_update_cacher', '_metadata', '_mgr', '_min_count_stat_function', '_needs_reindex_multi', '_protect_consolidate', '_reduce', '_reduce_axis1', '_reindex_axes', '_reindex_columns', '_reindex_index', '_reindex_multi', '_reindex_with_indexers', '_rename', '_replace_columnwise', '_repr_data_resource_', '_repr_fits_horizontal_', '_repr_fits_vertical_', '_repr_html_', '_repr_latex_', '_reset_cache', '_reset_cacher', '_sanitize_column', '_series', '_set_axis', '_set_axis_name', '_set_axis_nocheck', '_set_is_copy', '_set_item', '_set_item_frame_value', '_set_item_mgr', '_set_value', '_setitem_array', '_setitem_frame', '_setitem_slice', '_slice', '_stat_axis', '_stat_axis_name', '_stat_axis_number', '_stat_function', '_stat_function_ddof', '_take', '_take_with_is_copy', '_to_dict_of_blocks', '_typ', '_update_inplace', '_validate_dtype', '_values', '_where', 'abs', 'add', 'add_prefix', 'add_suffix', 'agg', 'aggregate', 'align', 'all', 'am', 'any', 'append', 'apply', 'applymap', 'asfreq', 'asof', 'assign', 'astype', 'at', 'at_time', 'attrs', 'axes', 'backfill', 'between_time', 'bfill', 'bool', 'boxplot', 'carb', 'clip', 'columns', 'combine', 'combine_first', 'compare', 'convert_dtypes', 'copy', 'corr', 'corrwith', 'count', 'cov', 'cummax', 'cummin', 'cumprod', 'cumsum', 'cyl', 'describe', 'diff', 'disp', 'div', 'divide', 'dot', 'drat', 'drop', 'drop_duplicates', 'droplevel', 'dropna', 'dtypes', 'duplicated', 'empty', 'eq', 'equals', 'eval', 'ewm', 'expanding', 'explode', 'ffill', 'fillna', 'filter', 'first', 'first_valid_index', 'flags', 'floordiv', 'from_dict', 'from_records', 'ge', 'gear', 'get', 'groupby', 'gt', 'head', 'hist', 'hp', 'iat', 'idxmax', 'idxmin', 'iloc', 'index', 'infer_objects', 'info', 'insert', 'interpolate', 'isetitem', 'isin', 'isna', 'isnull', 'items', 'iteritems', 'iterrows', 'itertuples', 'join', 'keys', 'kurt', 'kurtosis', 'last', 'last_valid_index', 'le', 'loc', 'lookup', 'lt', 'mad', 'mask', 'max', 'mean', 'median', 'melt', 'memory_usage', 'merge', 'min', 'mod', 'mode', 'mpg', 'mul', 'multiply', 'ndim', 'ne', 'nlargest', 'notna', 'notnull', 'nsmallest', 'nunique', 'pad', 'pct_change', 'pipe', 'pivot', 'pivot_table', 'plot', 'pop', 'pow', 'prod', 'product', 'qsec', 'quantile', 'query', 'radd', 'rank', 'rdiv', 'reindex', 'reindex_like', 'rename', 'rename_axis', 'reorder_levels', 'replace', 'resample', 'reset_index', 'rfloordiv', 'rmod', 'rmul', 'rolling', 'round', 'rpow', 'rsub', 'rtruediv', 'sample', 'select_dtypes', 'sem', 'set_axis', 'set_flags', 'set_index', 'shape', 'shift', 'size', 'skew', 'slice_shift', 'sort_index', 'sort_values', 'squeeze', 'stack', 'std', 'style', 'sub', 'subtract', 'sum', 'swapaxes', 'swaplevel', 'tail', 'take', 'to_clipboard', 'to_csv', 'to_dict', 'to_excel', 'to_feather', 'to_gbq', 'to_hdf', 'to_html', 'to_json', 'to_latex', 'to_markdown', 'to_numpy', 'to_orc', 'to_parquet', 'to_period', 'to_pickle', 'to_records', 'to_sql', 'to_stata', 'to_string', 'to_timestamp', 'to_xarray', 'to_xml', 'transform', 'transpose', 'truediv', 'truncate', 'tz_convert', 'tz_localize', 'unstack', 'update', 'value_counts', 'values', 'var', 'vs', 'where', 'wt', 'xs']\n"
          ]
        }
      ]
    },
    {
      "cell_type": "code",
      "source": [
        "# type\n",
        "print(type(df))"
      ],
      "metadata": {
        "colab": {
          "base_uri": "https://localhost:8080/"
        },
        "id": "P9zTPP1SNyFg",
        "outputId": "bdbbdbcb-7637-4e6f-8662-3cd77c59176f"
      },
      "execution_count": null,
      "outputs": [
        {
          "output_type": "stream",
          "name": "stdout",
          "text": [
            "<class 'pandas.core.frame.DataFrame'>\n"
          ]
        }
      ]
    },
    {
      "cell_type": "code",
      "source": [
        "# info()\n",
        "print(df.info())"
      ],
      "metadata": {
        "colab": {
          "base_uri": "https://localhost:8080/"
        },
        "id": "PYwZpxd7M8FR",
        "outputId": "db9fd238-4825-40aa-cfbd-9bdc26e09193"
      },
      "execution_count": null,
      "outputs": [
        {
          "output_type": "stream",
          "name": "stdout",
          "text": [
            "<class 'pandas.core.frame.DataFrame'>\n",
            "RangeIndex: 32 entries, 0 to 31\n",
            "Data columns (total 12 columns):\n",
            " #   Column      Non-Null Count  Dtype  \n",
            "---  ------      --------------  -----  \n",
            " 0   Unnamed: 0  32 non-null     object \n",
            " 1   mpg         32 non-null     float64\n",
            " 2   cyl         30 non-null     float64\n",
            " 3   disp        32 non-null     float64\n",
            " 4   hp          32 non-null     int64  \n",
            " 5   drat        32 non-null     float64\n",
            " 6   wt          32 non-null     float64\n",
            " 7   qsec        31 non-null     float64\n",
            " 8   vs          32 non-null     int64  \n",
            " 9   am          32 non-null     object \n",
            " 10  gear        32 non-null     object \n",
            " 11  carb        32 non-null     int64  \n",
            "dtypes: float64(6), int64(3), object(3)\n",
            "memory usage: 3.1+ KB\n",
            "None\n"
          ]
        }
      ]
    },
    {
      "cell_type": "code",
      "source": [
        "# head(), tail()\n",
        "print(df.head())\n",
        "print(df.tail())"
      ],
      "metadata": {
        "colab": {
          "base_uri": "https://localhost:8080/"
        },
        "id": "nW73k702UjCJ",
        "outputId": "069bfda4-c737-4dcf-ab80-af1d0d7e7825"
      },
      "execution_count": null,
      "outputs": [
        {
          "output_type": "stream",
          "name": "stdout",
          "text": [
            "          Unnamed: 0   mpg  cyl   disp   hp  drat     wt   qsec  vs      am  \\\n",
            "0          Mazda RX4  21.0  6.0  160.0  110  3.90  2.620  16.46   0  manual   \n",
            "1      Mazda RX4 Wag  21.0  6.0  160.0  110  3.90  2.875  17.02   0  manual   \n",
            "2         Datsun 710  22.8  4.0  108.0   93  3.85  2.320  18.61   1  manual   \n",
            "3     Hornet 4 Drive  21.4  6.0  258.0  110  3.08  3.215   0.10   1    auto   \n",
            "4  Hornet Sportabout  18.7  8.0  360.0  175  3.15  3.440  17.02   0    auto   \n",
            "\n",
            "  gear  carb  \n",
            "0    4     4  \n",
            "1    4     4  \n",
            "2    4     1  \n",
            "3    3     1  \n",
            "4    3     2  \n",
            "        Unnamed: 0   mpg  cyl   disp   hp  drat     wt  qsec  vs      am gear  \\\n",
            "27    Lotus Europa  30.4  4.0   95.1  113  3.77  1.513  16.9   1  manual    5   \n",
            "28  Ford Pantera L  15.8  8.0  351.0  264  4.22  3.170  14.5   0  manual   *5   \n",
            "29    Ferrari Dino  19.7  6.0  145.0  175  3.62  2.770  15.5   0  manual    5   \n",
            "30   Maserati Bora  15.0  8.0  301.0  335  3.54  3.570  14.6   0  manual    5   \n",
            "31      Volvo 142E  21.4  4.0  121.0  109  4.11  2.780  18.6   1  manual    4   \n",
            "\n",
            "    carb  \n",
            "27     2  \n",
            "28     4  \n",
            "29     6  \n",
            "30     8  \n",
            "31     2  \n"
          ]
        }
      ]
    },
    {
      "cell_type": "code",
      "source": [
        "# shape\n",
        "print(df.shape)"
      ],
      "metadata": {
        "colab": {
          "base_uri": "https://localhost:8080/"
        },
        "id": "ytPXuQ-jNPb9",
        "outputId": "ce7888ca-53f5-4253-aae3-69219d446b32"
      },
      "execution_count": null,
      "outputs": [
        {
          "output_type": "stream",
          "name": "stdout",
          "text": [
            "(32, 12)\n"
          ]
        }
      ]
    },
    {
      "cell_type": "code",
      "source": [
        "# size\n",
        "print(df.size)"
      ],
      "metadata": {
        "colab": {
          "base_uri": "https://localhost:8080/"
        },
        "id": "IOxtIvmbxzKe",
        "outputId": "65c59c76-ec27-4e35-d6bd-7346367f437c"
      },
      "execution_count": null,
      "outputs": [
        {
          "output_type": "stream",
          "name": "stdout",
          "text": [
            "384\n"
          ]
        }
      ]
    },
    {
      "cell_type": "code",
      "source": [
        "# count()\n",
        "print(df.count())"
      ],
      "metadata": {
        "colab": {
          "base_uri": "https://localhost:8080/"
        },
        "id": "FT43_gxqx6WY",
        "outputId": "7637a090-244a-4edf-9206-23d97ad59602"
      },
      "execution_count": null,
      "outputs": [
        {
          "output_type": "stream",
          "name": "stdout",
          "text": [
            "Unnamed: 0    32\n",
            "mpg           32\n",
            "cyl           30\n",
            "disp          32\n",
            "hp            32\n",
            "drat          32\n",
            "wt            32\n",
            "qsec          31\n",
            "vs            32\n",
            "am            32\n",
            "gear          32\n",
            "carb          32\n",
            "dtype: int64\n"
          ]
        }
      ]
    },
    {
      "cell_type": "code",
      "source": [
        "# index\n",
        "print(df.index)"
      ],
      "metadata": {
        "colab": {
          "base_uri": "https://localhost:8080/"
        },
        "id": "4EhKzoCiyA-E",
        "outputId": "8a553022-e272-4587-e10d-055fbd5a8a79"
      },
      "execution_count": null,
      "outputs": [
        {
          "output_type": "stream",
          "name": "stdout",
          "text": [
            "RangeIndex(start=0, stop=32, step=1)\n"
          ]
        }
      ]
    },
    {
      "cell_type": "code",
      "source": [
        "# columns\n",
        "print(df.columns)"
      ],
      "metadata": {
        "colab": {
          "base_uri": "https://localhost:8080/"
        },
        "id": "ZyFiRUMsNVir",
        "outputId": "2b2c1902-5f93-46c3-9828-967696ec53b8"
      },
      "execution_count": null,
      "outputs": [
        {
          "output_type": "stream",
          "name": "stdout",
          "text": [
            "Index(['Unnamed: 0', 'mpg', 'cyl', 'disp', 'hp', 'drat', 'wt', 'qsec', 'vs',\n",
            "       'am', 'gear', 'carb'],\n",
            "      dtype='object')\n"
          ]
        }
      ]
    },
    {
      "cell_type": "code",
      "source": [
        "# describe() - 숫자만\n",
        "print(df.describe())"
      ],
      "metadata": {
        "colab": {
          "base_uri": "https://localhost:8080/"
        },
        "id": "yTUh92FGNke6",
        "outputId": "49824a0f-f890-43d1-fc7a-3b3bf62aea40"
      },
      "execution_count": null,
      "outputs": [
        {
          "output_type": "stream",
          "name": "stdout",
          "text": [
            "             mpg        cyl        disp          hp       drat         wt  \\\n",
            "count  32.000000  30.000000   32.000000   32.000000  32.000000  32.000000   \n",
            "mean   20.090625   7.600000  230.721875  146.687500   3.596563   3.217250   \n",
            "std     6.026948   8.194195  123.938694   68.562868   0.534679   0.978457   \n",
            "min    10.400000   4.000000   71.100000   52.000000   2.760000   1.513000   \n",
            "25%    15.425000   4.000000  120.825000   96.500000   3.080000   2.581250   \n",
            "50%    19.200000   6.000000  196.300000  123.000000   3.695000   3.325000   \n",
            "75%    22.800000   8.000000  326.000000  180.000000   3.920000   3.610000   \n",
            "max    33.900000  50.000000  472.000000  335.000000   4.930000   5.424000   \n",
            "\n",
            "             qsec         vs     carb  \n",
            "count   31.000000  32.000000  32.0000  \n",
            "mean    19.866774   0.437500   2.8125  \n",
            "std     15.310469   0.504016   1.6152  \n",
            "min      0.100000   0.000000   1.0000  \n",
            "25%     16.785000   0.000000   2.0000  \n",
            "50%     17.600000   0.000000   2.0000  \n",
            "75%     18.755000   1.000000   4.0000  \n",
            "max    100.000000   1.000000   8.0000  \n"
          ]
        }
      ]
    },
    {
      "cell_type": "code",
      "source": [
        "# help()\n",
        "#print(help(df.describe))"
      ],
      "metadata": {
        "id": "YiPGRQGJOfPM"
      },
      "execution_count": null,
      "outputs": []
    },
    {
      "cell_type": "code",
      "source": [
        "# unique()\n",
        "print(df['gear'].unique())"
      ],
      "metadata": {
        "colab": {
          "base_uri": "https://localhost:8080/"
        },
        "id": "2kawvMHQOlGM",
        "outputId": "7005cb42-fcdb-4120-87ce-04be83274449"
      },
      "execution_count": null,
      "outputs": [
        {
          "output_type": "stream",
          "name": "stdout",
          "text": [
            "['4' '3' '*3' '5' '*5']\n"
          ]
        }
      ]
    },
    {
      "cell_type": "code",
      "source": [
        "# corr  (-1 ~ 1 , heatmap)\n",
        "print(df.corr())"
      ],
      "metadata": {
        "colab": {
          "base_uri": "https://localhost:8080/"
        },
        "id": "IIV1_IkCPqJW",
        "outputId": "d2706a30-237c-4abc-ef6c-0ce928c6a44b"
      },
      "execution_count": null,
      "outputs": [
        {
          "output_type": "stream",
          "name": "stdout",
          "text": [
            "           mpg       cyl      disp        hp      drat        wt      qsec  \\\n",
            "mpg   1.000000 -0.460227 -0.847551 -0.776168  0.681172 -0.867659  0.013668   \n",
            "cyl  -0.460227  1.000000  0.544876  0.323293 -0.372671  0.533690 -0.012755   \n",
            "disp -0.847551  0.544876  1.000000  0.790949 -0.710214  0.887980  0.181810   \n",
            "hp   -0.776168  0.323293  0.790949  1.000000 -0.448759  0.658748  0.010807   \n",
            "drat  0.681172 -0.372671 -0.710214 -0.448759  1.000000 -0.712441 -0.120283   \n",
            "wt   -0.867659  0.533690  0.887980  0.658748 -0.712441  1.000000  0.093900   \n",
            "qsec  0.013668 -0.012755  0.181810  0.010807 -0.120283  0.093900  1.000000   \n",
            "vs    0.664039 -0.323960 -0.710416 -0.723097  0.440278 -0.554916 -0.112146   \n",
            "carb -0.550925  0.239980  0.394977  0.749812 -0.090790  0.427606 -0.120312   \n",
            "\n",
            "            vs      carb  \n",
            "mpg   0.664039 -0.550925  \n",
            "cyl  -0.323960  0.239980  \n",
            "disp -0.710416  0.394977  \n",
            "hp   -0.723097  0.749812  \n",
            "drat  0.440278 -0.090790  \n",
            "wt   -0.554916  0.427606  \n",
            "qsec -0.112146 -0.120312  \n",
            "vs    1.000000 -0.569607  \n",
            "carb -0.569607  1.000000  \n"
          ]
        },
        {
          "output_type": "stream",
          "name": "stderr",
          "text": [
            "<ipython-input-20-06f7ace32fa3>:2: FutureWarning: The default value of numeric_only in DataFrame.corr is deprecated. In a future version, it will default to False. Select only valid columns or specify the value of numeric_only to silence this warning.\n",
            "  print(df.corr())\n"
          ]
        }
      ]
    },
    {
      "cell_type": "code",
      "source": [
        "# corr()\n",
        "df[['mpg','hp']].corr()"
      ],
      "metadata": {
        "colab": {
          "base_uri": "https://localhost:8080/",
          "height": 112
        },
        "id": "qYHn0trxycaK",
        "outputId": "9fef5d42-f803-4d97-a3d4-6851d3afa1d3"
      },
      "execution_count": null,
      "outputs": [
        {
          "output_type": "execute_result",
          "data": {
            "text/plain": [
              "          mpg        hp\n",
              "mpg  1.000000 -0.776168\n",
              "hp  -0.776168  1.000000"
            ],
            "text/html": [
              "\n",
              "  <div id=\"df-4257c886-86f8-4cdc-9e14-8005f400a9a7\">\n",
              "    <div class=\"colab-df-container\">\n",
              "      <div>\n",
              "<style scoped>\n",
              "    .dataframe tbody tr th:only-of-type {\n",
              "        vertical-align: middle;\n",
              "    }\n",
              "\n",
              "    .dataframe tbody tr th {\n",
              "        vertical-align: top;\n",
              "    }\n",
              "\n",
              "    .dataframe thead th {\n",
              "        text-align: right;\n",
              "    }\n",
              "</style>\n",
              "<table border=\"1\" class=\"dataframe\">\n",
              "  <thead>\n",
              "    <tr style=\"text-align: right;\">\n",
              "      <th></th>\n",
              "      <th>mpg</th>\n",
              "      <th>hp</th>\n",
              "    </tr>\n",
              "  </thead>\n",
              "  <tbody>\n",
              "    <tr>\n",
              "      <th>mpg</th>\n",
              "      <td>1.000000</td>\n",
              "      <td>-0.776168</td>\n",
              "    </tr>\n",
              "    <tr>\n",
              "      <th>hp</th>\n",
              "      <td>-0.776168</td>\n",
              "      <td>1.000000</td>\n",
              "    </tr>\n",
              "  </tbody>\n",
              "</table>\n",
              "</div>\n",
              "      <button class=\"colab-df-convert\" onclick=\"convertToInteractive('df-4257c886-86f8-4cdc-9e14-8005f400a9a7')\"\n",
              "              title=\"Convert this dataframe to an interactive table.\"\n",
              "              style=\"display:none;\">\n",
              "        \n",
              "  <svg xmlns=\"http://www.w3.org/2000/svg\" height=\"24px\"viewBox=\"0 0 24 24\"\n",
              "       width=\"24px\">\n",
              "    <path d=\"M0 0h24v24H0V0z\" fill=\"none\"/>\n",
              "    <path d=\"M18.56 5.44l.94 2.06.94-2.06 2.06-.94-2.06-.94-.94-2.06-.94 2.06-2.06.94zm-11 1L8.5 8.5l.94-2.06 2.06-.94-2.06-.94L8.5 2.5l-.94 2.06-2.06.94zm10 10l.94 2.06.94-2.06 2.06-.94-2.06-.94-.94-2.06-.94 2.06-2.06.94z\"/><path d=\"M17.41 7.96l-1.37-1.37c-.4-.4-.92-.59-1.43-.59-.52 0-1.04.2-1.43.59L10.3 9.45l-7.72 7.72c-.78.78-.78 2.05 0 2.83L4 21.41c.39.39.9.59 1.41.59.51 0 1.02-.2 1.41-.59l7.78-7.78 2.81-2.81c.8-.78.8-2.07 0-2.86zM5.41 20L4 18.59l7.72-7.72 1.47 1.35L5.41 20z\"/>\n",
              "  </svg>\n",
              "      </button>\n",
              "      \n",
              "  <style>\n",
              "    .colab-df-container {\n",
              "      display:flex;\n",
              "      flex-wrap:wrap;\n",
              "      gap: 12px;\n",
              "    }\n",
              "\n",
              "    .colab-df-convert {\n",
              "      background-color: #E8F0FE;\n",
              "      border: none;\n",
              "      border-radius: 50%;\n",
              "      cursor: pointer;\n",
              "      display: none;\n",
              "      fill: #1967D2;\n",
              "      height: 32px;\n",
              "      padding: 0 0 0 0;\n",
              "      width: 32px;\n",
              "    }\n",
              "\n",
              "    .colab-df-convert:hover {\n",
              "      background-color: #E2EBFA;\n",
              "      box-shadow: 0px 1px 2px rgba(60, 64, 67, 0.3), 0px 1px 3px 1px rgba(60, 64, 67, 0.15);\n",
              "      fill: #174EA6;\n",
              "    }\n",
              "\n",
              "    [theme=dark] .colab-df-convert {\n",
              "      background-color: #3B4455;\n",
              "      fill: #D2E3FC;\n",
              "    }\n",
              "\n",
              "    [theme=dark] .colab-df-convert:hover {\n",
              "      background-color: #434B5C;\n",
              "      box-shadow: 0px 1px 3px 1px rgba(0, 0, 0, 0.15);\n",
              "      filter: drop-shadow(0px 1px 2px rgba(0, 0, 0, 0.3));\n",
              "      fill: #FFFFFF;\n",
              "    }\n",
              "  </style>\n",
              "\n",
              "      <script>\n",
              "        const buttonEl =\n",
              "          document.querySelector('#df-4257c886-86f8-4cdc-9e14-8005f400a9a7 button.colab-df-convert');\n",
              "        buttonEl.style.display =\n",
              "          google.colab.kernel.accessAllowed ? 'block' : 'none';\n",
              "\n",
              "        async function convertToInteractive(key) {\n",
              "          const element = document.querySelector('#df-4257c886-86f8-4cdc-9e14-8005f400a9a7');\n",
              "          const dataTable =\n",
              "            await google.colab.kernel.invokeFunction('convertToInteractive',\n",
              "                                                     [key], {});\n",
              "          if (!dataTable) return;\n",
              "\n",
              "          const docLinkHtml = 'Like what you see? Visit the ' +\n",
              "            '<a target=\"_blank\" href=https://colab.research.google.com/notebooks/data_table.ipynb>data table notebook</a>'\n",
              "            + ' to learn more about interactive tables.';\n",
              "          element.innerHTML = '';\n",
              "          dataTable['output_type'] = 'display_data';\n",
              "          await google.colab.output.renderOutput(dataTable, element);\n",
              "          const docLink = document.createElement('div');\n",
              "          docLink.innerHTML = docLinkHtml;\n",
              "          element.appendChild(docLink);\n",
              "        }\n",
              "      </script>\n",
              "    </div>\n",
              "  </div>\n",
              "  "
            ]
          },
          "metadata": {},
          "execution_count": 66
        }
      ]
    },
    {
      "cell_type": "markdown",
      "source": [
        "## 데이터 관찰 및 가공 Preprocessing(전처리)\n",
        "\n",
        "### 전처리 절차\n",
        "1. 불필요한 열 삭제\n",
        "2. 결측치 처리\n",
        "3. 이상치 처리 - object\n",
        "4. 이상치 처리 - number\n",
        "5. 정규화 작업\n",
        "6. 인코딩 작업\n",
        "7. 파생변수 생성\n",
        "\n"
      ],
      "metadata": {
        "id": "4PwjsJMJRU-g"
      }
    },
    {
      "cell_type": "code",
      "source": [
        "df_copy = df.copy()"
      ],
      "metadata": {
        "id": "r49QKIZDXJyJ"
      },
      "execution_count": 8,
      "outputs": []
    },
    {
      "cell_type": "code",
      "source": [
        "#불필요한 열 삭제\n",
        "#df = df.drop('Unnamed: 0', axis=1)\n",
        "df = df.drop(columns='Unnamed: 0')\n",
        "df.head()"
      ],
      "metadata": {
        "colab": {
          "base_uri": "https://localhost:8080/",
          "height": 206
        },
        "id": "NP-LxGtyVeoZ",
        "outputId": "9e85fecd-4f5f-4a0b-ac99-94f605607e9f"
      },
      "execution_count": 9,
      "outputs": [
        {
          "output_type": "execute_result",
          "data": {
            "text/plain": [
              "    mpg  cyl   disp   hp  drat     wt   qsec  vs      am gear  carb\n",
              "0  21.0  6.0  160.0  110  3.90  2.620  16.46   0  manual    4     4\n",
              "1  21.0  6.0  160.0  110  3.90  2.875  17.02   0  manual    4     4\n",
              "2  22.8  4.0  108.0   93  3.85  2.320  18.61   1  manual    4     1\n",
              "3  21.4  6.0  258.0  110  3.08  3.215   0.10   1    auto    3     1\n",
              "4  18.7  8.0  360.0  175  3.15  3.440  17.02   0    auto    3     2"
            ],
            "text/html": [
              "\n",
              "  <div id=\"df-a1dadf39-5071-4d76-a848-b904d7b8d5ac\">\n",
              "    <div class=\"colab-df-container\">\n",
              "      <div>\n",
              "<style scoped>\n",
              "    .dataframe tbody tr th:only-of-type {\n",
              "        vertical-align: middle;\n",
              "    }\n",
              "\n",
              "    .dataframe tbody tr th {\n",
              "        vertical-align: top;\n",
              "    }\n",
              "\n",
              "    .dataframe thead th {\n",
              "        text-align: right;\n",
              "    }\n",
              "</style>\n",
              "<table border=\"1\" class=\"dataframe\">\n",
              "  <thead>\n",
              "    <tr style=\"text-align: right;\">\n",
              "      <th></th>\n",
              "      <th>mpg</th>\n",
              "      <th>cyl</th>\n",
              "      <th>disp</th>\n",
              "      <th>hp</th>\n",
              "      <th>drat</th>\n",
              "      <th>wt</th>\n",
              "      <th>qsec</th>\n",
              "      <th>vs</th>\n",
              "      <th>am</th>\n",
              "      <th>gear</th>\n",
              "      <th>carb</th>\n",
              "    </tr>\n",
              "  </thead>\n",
              "  <tbody>\n",
              "    <tr>\n",
              "      <th>0</th>\n",
              "      <td>21.0</td>\n",
              "      <td>6.0</td>\n",
              "      <td>160.0</td>\n",
              "      <td>110</td>\n",
              "      <td>3.90</td>\n",
              "      <td>2.620</td>\n",
              "      <td>16.46</td>\n",
              "      <td>0</td>\n",
              "      <td>manual</td>\n",
              "      <td>4</td>\n",
              "      <td>4</td>\n",
              "    </tr>\n",
              "    <tr>\n",
              "      <th>1</th>\n",
              "      <td>21.0</td>\n",
              "      <td>6.0</td>\n",
              "      <td>160.0</td>\n",
              "      <td>110</td>\n",
              "      <td>3.90</td>\n",
              "      <td>2.875</td>\n",
              "      <td>17.02</td>\n",
              "      <td>0</td>\n",
              "      <td>manual</td>\n",
              "      <td>4</td>\n",
              "      <td>4</td>\n",
              "    </tr>\n",
              "    <tr>\n",
              "      <th>2</th>\n",
              "      <td>22.8</td>\n",
              "      <td>4.0</td>\n",
              "      <td>108.0</td>\n",
              "      <td>93</td>\n",
              "      <td>3.85</td>\n",
              "      <td>2.320</td>\n",
              "      <td>18.61</td>\n",
              "      <td>1</td>\n",
              "      <td>manual</td>\n",
              "      <td>4</td>\n",
              "      <td>1</td>\n",
              "    </tr>\n",
              "    <tr>\n",
              "      <th>3</th>\n",
              "      <td>21.4</td>\n",
              "      <td>6.0</td>\n",
              "      <td>258.0</td>\n",
              "      <td>110</td>\n",
              "      <td>3.08</td>\n",
              "      <td>3.215</td>\n",
              "      <td>0.10</td>\n",
              "      <td>1</td>\n",
              "      <td>auto</td>\n",
              "      <td>3</td>\n",
              "      <td>1</td>\n",
              "    </tr>\n",
              "    <tr>\n",
              "      <th>4</th>\n",
              "      <td>18.7</td>\n",
              "      <td>8.0</td>\n",
              "      <td>360.0</td>\n",
              "      <td>175</td>\n",
              "      <td>3.15</td>\n",
              "      <td>3.440</td>\n",
              "      <td>17.02</td>\n",
              "      <td>0</td>\n",
              "      <td>auto</td>\n",
              "      <td>3</td>\n",
              "      <td>2</td>\n",
              "    </tr>\n",
              "  </tbody>\n",
              "</table>\n",
              "</div>\n",
              "      <button class=\"colab-df-convert\" onclick=\"convertToInteractive('df-a1dadf39-5071-4d76-a848-b904d7b8d5ac')\"\n",
              "              title=\"Convert this dataframe to an interactive table.\"\n",
              "              style=\"display:none;\">\n",
              "        \n",
              "  <svg xmlns=\"http://www.w3.org/2000/svg\" height=\"24px\"viewBox=\"0 0 24 24\"\n",
              "       width=\"24px\">\n",
              "    <path d=\"M0 0h24v24H0V0z\" fill=\"none\"/>\n",
              "    <path d=\"M18.56 5.44l.94 2.06.94-2.06 2.06-.94-2.06-.94-.94-2.06-.94 2.06-2.06.94zm-11 1L8.5 8.5l.94-2.06 2.06-.94-2.06-.94L8.5 2.5l-.94 2.06-2.06.94zm10 10l.94 2.06.94-2.06 2.06-.94-2.06-.94-.94-2.06-.94 2.06-2.06.94z\"/><path d=\"M17.41 7.96l-1.37-1.37c-.4-.4-.92-.59-1.43-.59-.52 0-1.04.2-1.43.59L10.3 9.45l-7.72 7.72c-.78.78-.78 2.05 0 2.83L4 21.41c.39.39.9.59 1.41.59.51 0 1.02-.2 1.41-.59l7.78-7.78 2.81-2.81c.8-.78.8-2.07 0-2.86zM5.41 20L4 18.59l7.72-7.72 1.47 1.35L5.41 20z\"/>\n",
              "  </svg>\n",
              "      </button>\n",
              "      \n",
              "  <style>\n",
              "    .colab-df-container {\n",
              "      display:flex;\n",
              "      flex-wrap:wrap;\n",
              "      gap: 12px;\n",
              "    }\n",
              "\n",
              "    .colab-df-convert {\n",
              "      background-color: #E8F0FE;\n",
              "      border: none;\n",
              "      border-radius: 50%;\n",
              "      cursor: pointer;\n",
              "      display: none;\n",
              "      fill: #1967D2;\n",
              "      height: 32px;\n",
              "      padding: 0 0 0 0;\n",
              "      width: 32px;\n",
              "    }\n",
              "\n",
              "    .colab-df-convert:hover {\n",
              "      background-color: #E2EBFA;\n",
              "      box-shadow: 0px 1px 2px rgba(60, 64, 67, 0.3), 0px 1px 3px 1px rgba(60, 64, 67, 0.15);\n",
              "      fill: #174EA6;\n",
              "    }\n",
              "\n",
              "    [theme=dark] .colab-df-convert {\n",
              "      background-color: #3B4455;\n",
              "      fill: #D2E3FC;\n",
              "    }\n",
              "\n",
              "    [theme=dark] .colab-df-convert:hover {\n",
              "      background-color: #434B5C;\n",
              "      box-shadow: 0px 1px 3px 1px rgba(0, 0, 0, 0.15);\n",
              "      filter: drop-shadow(0px 1px 2px rgba(0, 0, 0, 0.3));\n",
              "      fill: #FFFFFF;\n",
              "    }\n",
              "  </style>\n",
              "\n",
              "      <script>\n",
              "        const buttonEl =\n",
              "          document.querySelector('#df-a1dadf39-5071-4d76-a848-b904d7b8d5ac button.colab-df-convert');\n",
              "        buttonEl.style.display =\n",
              "          google.colab.kernel.accessAllowed ? 'block' : 'none';\n",
              "\n",
              "        async function convertToInteractive(key) {\n",
              "          const element = document.querySelector('#df-a1dadf39-5071-4d76-a848-b904d7b8d5ac');\n",
              "          const dataTable =\n",
              "            await google.colab.kernel.invokeFunction('convertToInteractive',\n",
              "                                                     [key], {});\n",
              "          if (!dataTable) return;\n",
              "\n",
              "          const docLinkHtml = 'Like what you see? Visit the ' +\n",
              "            '<a target=\"_blank\" href=https://colab.research.google.com/notebooks/data_table.ipynb>data table notebook</a>'\n",
              "            + ' to learn more about interactive tables.';\n",
              "          element.innerHTML = '';\n",
              "          dataTable['output_type'] = 'display_data';\n",
              "          await google.colab.output.renderOutput(dataTable, element);\n",
              "          const docLink = document.createElement('div');\n",
              "          docLink.innerHTML = docLinkHtml;\n",
              "          element.appendChild(docLink);\n",
              "        }\n",
              "      </script>\n",
              "    </div>\n",
              "  </div>\n",
              "  "
            ]
          },
          "metadata": {},
          "execution_count": 9
        }
      ]
    },
    {
      "cell_type": "code",
      "source": [
        "#결측치 처리\n",
        "print(df.isnull().sum()) # 확인"
      ],
      "metadata": {
        "colab": {
          "base_uri": "https://localhost:8080/"
        },
        "id": "Lk7foCnqyxpo",
        "outputId": "8115d2ff-e5d9-4d2d-cd85-7f7abe3adf0e"
      },
      "execution_count": 10,
      "outputs": [
        {
          "output_type": "stream",
          "name": "stdout",
          "text": [
            "mpg     0\n",
            "cyl     2\n",
            "disp    0\n",
            "hp      0\n",
            "drat    0\n",
            "wt      0\n",
            "qsec    1\n",
            "vs      0\n",
            "am      0\n",
            "gear    0\n",
            "carb    0\n",
            "dtype: int64\n"
          ]
        }
      ]
    },
    {
      "cell_type": "code",
      "source": [
        "## cyl mean 처리 fillna(value)\n",
        "cyl_mean = df['cyl'].mean()\n",
        "df['cyl'] = df['cyl'].fillna(cyl_mean)\n",
        "#df.head()\n",
        "## qsec median 처리\n",
        "qsec_median = df['qsec'].median()\n",
        "df['qsec'] = df['qsec'].fillna(qsec_median)\n",
        "\n",
        "## 확인\n",
        "print(df.isnull().sum())"
      ],
      "metadata": {
        "colab": {
          "base_uri": "https://localhost:8080/"
        },
        "id": "bkJFPAddXgzR",
        "outputId": "da723b60-7358-43b8-9d3c-cb0bd0899d6b"
      },
      "execution_count": 11,
      "outputs": [
        {
          "output_type": "stream",
          "name": "stdout",
          "text": [
            "mpg     0\n",
            "cyl     0\n",
            "disp    0\n",
            "hp      0\n",
            "drat    0\n",
            "wt      0\n",
            "qsec    0\n",
            "vs      0\n",
            "am      0\n",
            "gear    0\n",
            "carb    0\n",
            "dtype: int64\n"
          ]
        }
      ]
    },
    {
      "cell_type": "code",
      "source": [
        "#잘못된 값 처리 - object\n",
        "df.info()"
      ],
      "metadata": {
        "colab": {
          "base_uri": "https://localhost:8080/"
        },
        "id": "Wyp9h_dTaggS",
        "outputId": "84f436a7-ca46-4ab0-a7df-582a16a9b0f2"
      },
      "execution_count": null,
      "outputs": [
        {
          "output_type": "stream",
          "name": "stdout",
          "text": [
            "<class 'pandas.core.frame.DataFrame'>\n",
            "RangeIndex: 32 entries, 0 to 31\n",
            "Data columns (total 11 columns):\n",
            " #   Column  Non-Null Count  Dtype  \n",
            "---  ------  --------------  -----  \n",
            " 0   mpg     32 non-null     float64\n",
            " 1   cyl     32 non-null     float64\n",
            " 2   disp    32 non-null     float64\n",
            " 3   hp      32 non-null     int64  \n",
            " 4   drat    32 non-null     float64\n",
            " 5   wt      32 non-null     float64\n",
            " 6   qsec    32 non-null     float64\n",
            " 7   vs      32 non-null     int64  \n",
            " 8   am      32 non-null     object \n",
            " 9   gear    32 non-null     object \n",
            " 10  carb    32 non-null     int64  \n",
            "dtypes: float64(6), int64(3), object(2)\n",
            "memory usage: 2.9+ KB\n"
          ]
        }
      ]
    },
    {
      "cell_type": "code",
      "source": [
        "#이상치 처리 - object\n",
        "#df['hp'].unique()\n",
        "df['am'].unique()\n",
        "df['gear'].unique() # *3, *5 처리 필요 => 3, 5\n",
        "#df['gear'].replace('*3','3').replace('*4','4').head()\n",
        "# or\n",
        "df['gear'] = df['gear'].str.replace('*','', regex=True)\n",
        "df['gear'].unique()"
      ],
      "metadata": {
        "colab": {
          "base_uri": "https://localhost:8080/"
        },
        "id": "pbF0pHudbhFb",
        "outputId": "8cf979a3-67e5-4a7d-c46e-d45c256ba5e0"
      },
      "execution_count": 12,
      "outputs": [
        {
          "output_type": "execute_result",
          "data": {
            "text/plain": [
              "array(['4', '3', '5'], dtype=object)"
            ]
          },
          "metadata": {},
          "execution_count": 12
        }
      ]
    },
    {
      "cell_type": "code",
      "source": [
        "df = df_copy\n",
        "df['cyl'].plot(kind='box') # 시험장에서는 그림 출력 불가함"
      ],
      "metadata": {
        "colab": {
          "base_uri": "https://localhost:8080/",
          "height": 449
        },
        "id": "iIbvQQv5bZ6v",
        "outputId": "0ed50e4a-a8d4-4176-d85e-a1f5e7312b09"
      },
      "execution_count": null,
      "outputs": [
        {
          "output_type": "execute_result",
          "data": {
            "text/plain": [
              "<Axes: >"
            ]
          },
          "metadata": {},
          "execution_count": 82
        },
        {
          "output_type": "display_data",
          "data": {
            "text/plain": [
              "<Figure size 640x480 with 1 Axes>"
            ],
            "image/png": "[encoded data removed]"
          },
          "metadata": {}
        }
      ]
    },
    {
      "cell_type": "code",
      "source": [
        "#이상치 처리 - number\n",
        "# IQR : 1.5 * IQR\n",
        "# cyl 처리\n",
        "# describe() 사용\n",
        "col = 'cyl'\n",
        "df_desc = df.describe()\n",
        "q1 = df_desc[col].loc['25%']\n",
        "q3 = df_desc[col].loc['75%']\n",
        "df_iqr =  q3 - q1 \n",
        "print(q1, q3, df_iqr) # 4.0 8.0 4.0\n",
        "iqr_min = q1 - df_iqr * 1.5\n",
        "iqr_max = q3 + df_iqr * 1.5\n",
        "print(iqr_max, iqr_min) # 14.0 -2.0\n",
        "cond_min = df[col] < iqr_min\n",
        "cond_max = df[col] >iqr_max\n",
        "df.loc[cond_min] # x\n",
        "df.loc[cond_max] # 14 row\n",
        "df.loc[14,col] = iqr_max\n",
        "print(df.loc[14, col])"
      ],
      "metadata": {
        "colab": {
          "base_uri": "https://localhost:8080/"
        },
        "id": "aL6FMysrQ9UQ",
        "outputId": "5f81d7e6-847c-4ece-ae1b-6e159c62129c"
      },
      "execution_count": 13,
      "outputs": [
        {
          "output_type": "stream",
          "name": "stdout",
          "text": [
            "4.0 8.0 4.0\n",
            "14.0 -2.0\n",
            "14.0\n"
          ]
        }
      ]
    },
    {
      "cell_type": "code",
      "source": [
        "df['hp'].plot(kind='box') # 시험장에서는 그림 출력 불가함"
      ],
      "metadata": {
        "colab": {
          "base_uri": "https://localhost:8080/",
          "height": 448
        },
        "id": "j-F1BOAXf-tT",
        "outputId": "22a81d2a-49f3-4042-e670-fe2722820fbf"
      },
      "execution_count": null,
      "outputs": [
        {
          "output_type": "execute_result",
          "data": {
            "text/plain": [
              "<Axes: >"
            ]
          },
          "metadata": {},
          "execution_count": 98
        },
        {
          "output_type": "display_data",
          "data": {
            "text/plain": [
              "<Figure size 640x480 with 1 Axes>"
            ],
            "image/png": "[encoded data removed]"
          },
          "metadata": {}
        }
      ]
    },
    {
      "cell_type": "code",
      "source": [
        "# IQR : 1.5 * IQR\n",
        "# hp 처리\n",
        "# quantile() 사용\n",
        "col = 'hp'\n",
        "q1 = df[col].quantile(.25)\n",
        "q3 = df[col].quantile(.75)\n",
        "iqr = q3 - q1 # 205.175\n",
        "print(q1, q3, iqr) # 96.5 180.0 83.5\n",
        "iqr_min = q1 - iqr * 1.5\n",
        "iqr_max = q3 + iqr * 1.5\n",
        "print(iqr_min, iqr_max) #-28.75 305.25\n",
        "cond_min = df[col] < iqr_min\n",
        "cond_max = df[col] >iqr_max\n",
        "print(df.loc[cond_min]) # x\n",
        "print(df.loc[cond_max]) # 30 row\n",
        "df.loc[30,col] = iqr_max\n",
        "print(df.loc[30, col]) # 305.25"
      ],
      "metadata": {
        "colab": {
          "base_uri": "https://localhost:8080/"
        },
        "id": "t4h9top-XD9W",
        "outputId": "1095491a-e1be-4b5a-f9ec-0b6150150f7e"
      },
      "execution_count": 14,
      "outputs": [
        {
          "output_type": "stream",
          "name": "stdout",
          "text": [
            "96.5 180.0 83.5\n",
            "-28.75 305.25\n",
            "Empty DataFrame\n",
            "Columns: [mpg, cyl, disp, hp, drat, wt, qsec, vs, am, gear, carb]\n",
            "Index: []\n",
            "     mpg  cyl   disp   hp  drat    wt  qsec  vs      am gear  carb\n",
            "30  15.0  8.0  301.0  335  3.54  3.57  14.6   0  manual    5     8\n",
            "305.25\n"
          ]
        }
      ]
    },
    {
      "cell_type": "code",
      "source": [
        "#정규화 작업 Data scaling\n",
        "# Standard scaling 평균=0, 편차=1\n",
        "from sklearn.preprocessing import StandardScaler\n",
        "\n",
        "temp = df[['qsec']] # sklearn 2차원 data 필요\n",
        "scaler = StandardScaler()\n",
        "rs = scaler.fit_transform(temp) # numpy.ndarray\n",
        "print(rs[0:5])"
      ],
      "metadata": {
        "colab": {
          "base_uri": "https://localhost:8080/"
        },
        "id": "yP4rhjHmYMYM",
        "outputId": "16957061-4d17-41b3-bdf7-4ef92bc72e62"
      },
      "execution_count": null,
      "outputs": [
        {
          "output_type": "stream",
          "name": "stdout",
          "text": [
            "[[-0.22619087]\n",
            " [-0.18900998]\n",
            " [-0.08344282]\n",
            " [-1.31240394]\n",
            " [-0.18900998]]\n"
          ]
        }
      ]
    },
    {
      "cell_type": "code",
      "source": [
        "#정규화 작업 Data scaling\n",
        "# Min-Max scaling min=0,max=1\n",
        "from sklearn.preprocessing import MinMaxScaler\n",
        "\n",
        "temp = df[['qsec']] # sklearn 2차원 data 필요\n",
        "scaler = MinMaxScaler()\n",
        "rs = scaler.fit_transform(temp) # numpy.ndarray\n",
        "print(rs[0:5])"
      ],
      "metadata": {
        "colab": {
          "base_uri": "https://localhost:8080/"
        },
        "id": "slpp39cihhBl",
        "outputId": "ab7051ac-fb53-449b-c9f0-2c2a117b98dc"
      },
      "execution_count": null,
      "outputs": [
        {
          "output_type": "stream",
          "name": "stdout",
          "text": [
            "[[0.16376376]\n",
            " [0.16936937]\n",
            " [0.18528529]\n",
            " [0.        ]\n",
            " [0.16936937]]\n"
          ]
        }
      ]
    },
    {
      "cell_type": "code",
      "source": [
        "#정규화 작업 Data scaling\n",
        "# Robust scaling median=0,iqr=1\n",
        "from sklearn.preprocessing import RobustScaler\n",
        "\n",
        "temp = df[['qsec']] # sklearn 2차원 data 필요\n",
        "scaler = RobustScaler()\n",
        "rs = scaler.fit_transform(temp) # numpy.ndarray\n",
        "print(rs[0:5])"
      ],
      "metadata": {
        "colab": {
          "base_uri": "https://localhost:8080/"
        },
        "id": "ejOZxzJRhu9e",
        "outputId": "f2895321-b84d-4d6c-979f-678e00448f16"
      },
      "execution_count": null,
      "outputs": [
        {
          "output_type": "stream",
          "name": "stdout",
          "text": [
            "[[-0.5786802 ]\n",
            " [-0.29441624]\n",
            " [ 0.51269036]\n",
            " [-8.88324873]\n",
            " [-0.29441624]]\n"
          ]
        }
      ]
    },
    {
      "cell_type": "code",
      "source": [
        "# 타입 변경하기 astype()\n",
        "#df['gear'] = df['gear'].str.replace('*','')\n",
        "df['gear'] = df['gear'].astype('int32') \n",
        "df['gear'].info()"
      ],
      "metadata": {
        "colab": {
          "base_uri": "https://localhost:8080/"
        },
        "id": "bwLa9gkFRvF4",
        "outputId": "b0aebfb4-8fc3-4dd0-d0d1-03664def8544"
      },
      "execution_count": 19,
      "outputs": [
        {
          "output_type": "stream",
          "name": "stdout",
          "text": [
            "<class 'pandas.core.series.Series'>\n",
            "RangeIndex: 32 entries, 0 to 31\n",
            "Series name: gear\n",
            "Non-Null Count  Dtype\n",
            "--------------  -----\n",
            "32 non-null     int32\n",
            "dtypes: int32(1)\n",
            "memory usage: 256.0 bytes\n"
          ]
        }
      ]
    },
    {
      "cell_type": "code",
      "source": [
        "# 인코딩 작업 encoding 범주형 -> 숫자\n",
        "# 원핫 인코딩 : One-Hot Encoding pd.get_dummies()\n",
        "# 범주형 변수에 고유한 순서가 없고 모든 범주가 ​​동일하게 구별되는 경우 또는 범주형 변수가 독립적이라고 가정하는 알고리즘\n",
        "# 고유한 범주의 수가 많은 경우 원-핫 인코딩으로 인해 고차원 데이터가 생성되어 희소성 및 계산 문제가 발생\n",
        "# 로지스틱회귀, 신경망, k-NN\n",
        "print(df['am'].unique()) \n",
        "pd.get_dummies(df) # 범주형만 수행, sklearn OneHotEncoder() 범주형, 연속형 모두 수행\n",
        "pd.get_dummies(df['am'], drop_first=True).head() # drop_first=True 0, 1 중 한개로 처리\n",
        "pd.get_dummies(df['am']).head() # 0 1 로 2개로 처리 "
      ],
      "metadata": {
        "colab": {
          "base_uri": "https://localhost:8080/",
          "height": 224
        },
        "id": "ktpgbUr2osOH",
        "outputId": "09d11353-0e39-4473-e451-f88d5a4052f4"
      },
      "execution_count": 83,
      "outputs": [
        {
          "output_type": "stream",
          "name": "stdout",
          "text": [
            "['manual' 'auto']\n"
          ]
        },
        {
          "output_type": "execute_result",
          "data": {
            "text/plain": [
              "   auto  manual\n",
              "0     0       1\n",
              "1     0       1\n",
              "2     0       1\n",
              "3     1       0\n",
              "4     1       0"
            ],
            "text/html": [
              "\n",
              "  <div id=\"df-8005a040-7b77-4a54-9cf2-9718cfefe9f1\">\n",
              "    <div class=\"colab-df-container\">\n",
              "      <div>\n",
              "<style scoped>\n",
              "    .dataframe tbody tr th:only-of-type {\n",
              "        vertical-align: middle;\n",
              "    }\n",
              "\n",
              "    .dataframe tbody tr th {\n",
              "        vertical-align: top;\n",
              "    }\n",
              "\n",
              "    .dataframe thead th {\n",
              "        text-align: right;\n",
              "    }\n",
              "</style>\n",
              "<table border=\"1\" class=\"dataframe\">\n",
              "  <thead>\n",
              "    <tr style=\"text-align: right;\">\n",
              "      <th></th>\n",
              "      <th>auto</th>\n",
              "      <th>manual</th>\n",
              "    </tr>\n",
              "  </thead>\n",
              "  <tbody>\n",
              "    <tr>\n",
              "      <th>0</th>\n",
              "      <td>0</td>\n",
              "      <td>1</td>\n",
              "    </tr>\n",
              "    <tr>\n",
              "      <th>1</th>\n",
              "      <td>0</td>\n",
              "      <td>1</td>\n",
              "    </tr>\n",
              "    <tr>\n",
              "      <th>2</th>\n",
              "      <td>0</td>\n",
              "      <td>1</td>\n",
              "    </tr>\n",
              "    <tr>\n",
              "      <th>3</th>\n",
              "      <td>1</td>\n",
              "      <td>0</td>\n",
              "    </tr>\n",
              "    <tr>\n",
              "      <th>4</th>\n",
              "      <td>1</td>\n",
              "      <td>0</td>\n",
              "    </tr>\n",
              "  </tbody>\n",
              "</table>\n",
              "</div>\n",
              "      <button class=\"colab-df-convert\" onclick=\"convertToInteractive('df-8005a040-7b77-4a54-9cf2-9718cfefe9f1')\"\n",
              "              title=\"Convert this dataframe to an interactive table.\"\n",
              "              style=\"display:none;\">\n",
              "        \n",
              "  <svg xmlns=\"http://www.w3.org/2000/svg\" height=\"24px\"viewBox=\"0 0 24 24\"\n",
              "       width=\"24px\">\n",
              "    <path d=\"M0 0h24v24H0V0z\" fill=\"none\"/>\n",
              "    <path d=\"M18.56 5.44l.94 2.06.94-2.06 2.06-.94-2.06-.94-.94-2.06-.94 2.06-2.06.94zm-11 1L8.5 8.5l.94-2.06 2.06-.94-2.06-.94L8.5 2.5l-.94 2.06-2.06.94zm10 10l.94 2.06.94-2.06 2.06-.94-2.06-.94-.94-2.06-.94 2.06-2.06.94z\"/><path d=\"M17.41 7.96l-1.37-1.37c-.4-.4-.92-.59-1.43-.59-.52 0-1.04.2-1.43.59L10.3 9.45l-7.72 7.72c-.78.78-.78 2.05 0 2.83L4 21.41c.39.39.9.59 1.41.59.51 0 1.02-.2 1.41-.59l7.78-7.78 2.81-2.81c.8-.78.8-2.07 0-2.86zM5.41 20L4 18.59l7.72-7.72 1.47 1.35L5.41 20z\"/>\n",
              "  </svg>\n",
              "      </button>\n",
              "      \n",
              "  <style>\n",
              "    .colab-df-container {\n",
              "      display:flex;\n",
              "      flex-wrap:wrap;\n",
              "      gap: 12px;\n",
              "    }\n",
              "\n",
              "    .colab-df-convert {\n",
              "      background-color: #E8F0FE;\n",
              "      border: none;\n",
              "      border-radius: 50%;\n",
              "      cursor: pointer;\n",
              "      display: none;\n",
              "      fill: #1967D2;\n",
              "      height: 32px;\n",
              "      padding: 0 0 0 0;\n",
              "      width: 32px;\n",
              "    }\n",
              "\n",
              "    .colab-df-convert:hover {\n",
              "      background-color: #E2EBFA;\n",
              "      box-shadow: 0px 1px 2px rgba(60, 64, 67, 0.3), 0px 1px 3px 1px rgba(60, 64, 67, 0.15);\n",
              "      fill: #174EA6;\n",
              "    }\n",
              "\n",
              "    [theme=dark] .colab-df-convert {\n",
              "      background-color: #3B4455;\n",
              "      fill: #D2E3FC;\n",
              "    }\n",
              "\n",
              "    [theme=dark] .colab-df-convert:hover {\n",
              "      background-color: #434B5C;\n",
              "      box-shadow: 0px 1px 3px 1px rgba(0, 0, 0, 0.15);\n",
              "      filter: drop-shadow(0px 1px 2px rgba(0, 0, 0, 0.3));\n",
              "      fill: #FFFFFF;\n",
              "    }\n",
              "  </style>\n",
              "\n",
              "      <script>\n",
              "        const buttonEl =\n",
              "          document.querySelector('#df-8005a040-7b77-4a54-9cf2-9718cfefe9f1 button.colab-df-convert');\n",
              "        buttonEl.style.display =\n",
              "          google.colab.kernel.accessAllowed ? 'block' : 'none';\n",
              "\n",
              "        async function convertToInteractive(key) {\n",
              "          const element = document.querySelector('#df-8005a040-7b77-4a54-9cf2-9718cfefe9f1');\n",
              "          const dataTable =\n",
              "            await google.colab.kernel.invokeFunction('convertToInteractive',\n",
              "                                                     [key], {});\n",
              "          if (!dataTable) return;\n",
              "\n",
              "          const docLinkHtml = 'Like what you see? Visit the ' +\n",
              "            '<a target=\"_blank\" href=https://colab.research.google.com/notebooks/data_table.ipynb>data table notebook</a>'\n",
              "            + ' to learn more about interactive tables.';\n",
              "          element.innerHTML = '';\n",
              "          dataTable['output_type'] = 'display_data';\n",
              "          await google.colab.output.renderOutput(dataTable, element);\n",
              "          const docLink = document.createElement('div');\n",
              "          docLink.innerHTML = docLinkHtml;\n",
              "          element.appendChild(docLink);\n",
              "        }\n",
              "      </script>\n",
              "    </div>\n",
              "  </div>\n",
              "  "
            ]
          },
          "metadata": {},
          "execution_count": 83
        }
      ]
    },
    {
      "cell_type": "code",
      "source": [
        "# 인코딩 작업 encoding 범주형 -> 숫자\n",
        "# 원핫 인코딩 : One-Hot Encoding OneHotEncoder()\n",
        "from sklearn.preprocessing import OneHotEncoder\n",
        "temp = df[['am']]\n",
        "#print(temp)\n",
        "encoder = OneHotEncoder()\n",
        "encoder.fit(temp)\n",
        "rs = encoder.transform(temp).toarray() # ndarray\n",
        "cols = encoder.get_feature_names_out() # 추가할 컬럼명\n",
        "df_am = pd.DataFrame(rs,columns=cols)\n",
        "df_am.head()"
      ],
      "metadata": {
        "colab": {
          "base_uri": "https://localhost:8080/",
          "height": 206
        },
        "id": "ReVqGydg2Fqa",
        "outputId": "8c0dfbef-567d-46d4-a245-196d1375a4ff"
      },
      "execution_count": 78,
      "outputs": [
        {
          "output_type": "execute_result",
          "data": {
            "text/plain": [
              "   am_auto  am_manual\n",
              "0      0.0        1.0\n",
              "1      0.0        1.0\n",
              "2      0.0        1.0\n",
              "3      1.0        0.0\n",
              "4      1.0        0.0"
            ],
            "text/html": [
              "\n",
              "  <div id=\"df-db4b3ca4-3662-43f2-917f-d7dea739a7fb\">\n",
              "    <div class=\"colab-df-container\">\n",
              "      <div>\n",
              "<style scoped>\n",
              "    .dataframe tbody tr th:only-of-type {\n",
              "        vertical-align: middle;\n",
              "    }\n",
              "\n",
              "    .dataframe tbody tr th {\n",
              "        vertical-align: top;\n",
              "    }\n",
              "\n",
              "    .dataframe thead th {\n",
              "        text-align: right;\n",
              "    }\n",
              "</style>\n",
              "<table border=\"1\" class=\"dataframe\">\n",
              "  <thead>\n",
              "    <tr style=\"text-align: right;\">\n",
              "      <th></th>\n",
              "      <th>am_auto</th>\n",
              "      <th>am_manual</th>\n",
              "    </tr>\n",
              "  </thead>\n",
              "  <tbody>\n",
              "    <tr>\n",
              "      <th>0</th>\n",
              "      <td>0.0</td>\n",
              "      <td>1.0</td>\n",
              "    </tr>\n",
              "    <tr>\n",
              "      <th>1</th>\n",
              "      <td>0.0</td>\n",
              "      <td>1.0</td>\n",
              "    </tr>\n",
              "    <tr>\n",
              "      <th>2</th>\n",
              "      <td>0.0</td>\n",
              "      <td>1.0</td>\n",
              "    </tr>\n",
              "    <tr>\n",
              "      <th>3</th>\n",
              "      <td>1.0</td>\n",
              "      <td>0.0</td>\n",
              "    </tr>\n",
              "    <tr>\n",
              "      <th>4</th>\n",
              "      <td>1.0</td>\n",
              "      <td>0.0</td>\n",
              "    </tr>\n",
              "  </tbody>\n",
              "</table>\n",
              "</div>\n",
              "      <button class=\"colab-df-convert\" onclick=\"convertToInteractive('df-db4b3ca4-3662-43f2-917f-d7dea739a7fb')\"\n",
              "              title=\"Convert this dataframe to an interactive table.\"\n",
              "              style=\"display:none;\">\n",
              "        \n",
              "  <svg xmlns=\"http://www.w3.org/2000/svg\" height=\"24px\"viewBox=\"0 0 24 24\"\n",
              "       width=\"24px\">\n",
              "    <path d=\"M0 0h24v24H0V0z\" fill=\"none\"/>\n",
              "    <path d=\"M18.56 5.44l.94 2.06.94-2.06 2.06-.94-2.06-.94-.94-2.06-.94 2.06-2.06.94zm-11 1L8.5 8.5l.94-2.06 2.06-.94-2.06-.94L8.5 2.5l-.94 2.06-2.06.94zm10 10l.94 2.06.94-2.06 2.06-.94-2.06-.94-.94-2.06-.94 2.06-2.06.94z\"/><path d=\"M17.41 7.96l-1.37-1.37c-.4-.4-.92-.59-1.43-.59-.52 0-1.04.2-1.43.59L10.3 9.45l-7.72 7.72c-.78.78-.78 2.05 0 2.83L4 21.41c.39.39.9.59 1.41.59.51 0 1.02-.2 1.41-.59l7.78-7.78 2.81-2.81c.8-.78.8-2.07 0-2.86zM5.41 20L4 18.59l7.72-7.72 1.47 1.35L5.41 20z\"/>\n",
              "  </svg>\n",
              "      </button>\n",
              "      \n",
              "  <style>\n",
              "    .colab-df-container {\n",
              "      display:flex;\n",
              "      flex-wrap:wrap;\n",
              "      gap: 12px;\n",
              "    }\n",
              "\n",
              "    .colab-df-convert {\n",
              "      background-color: #E8F0FE;\n",
              "      border: none;\n",
              "      border-radius: 50%;\n",
              "      cursor: pointer;\n",
              "      display: none;\n",
              "      fill: #1967D2;\n",
              "      height: 32px;\n",
              "      padding: 0 0 0 0;\n",
              "      width: 32px;\n",
              "    }\n",
              "\n",
              "    .colab-df-convert:hover {\n",
              "      background-color: #E2EBFA;\n",
              "      box-shadow: 0px 1px 2px rgba(60, 64, 67, 0.3), 0px 1px 3px 1px rgba(60, 64, 67, 0.15);\n",
              "      fill: #174EA6;\n",
              "    }\n",
              "\n",
              "    [theme=dark] .colab-df-convert {\n",
              "      background-color: #3B4455;\n",
              "      fill: #D2E3FC;\n",
              "    }\n",
              "\n",
              "    [theme=dark] .colab-df-convert:hover {\n",
              "      background-color: #434B5C;\n",
              "      box-shadow: 0px 1px 3px 1px rgba(0, 0, 0, 0.15);\n",
              "      filter: drop-shadow(0px 1px 2px rgba(0, 0, 0, 0.3));\n",
              "      fill: #FFFFFF;\n",
              "    }\n",
              "  </style>\n",
              "\n",
              "      <script>\n",
              "        const buttonEl =\n",
              "          document.querySelector('#df-db4b3ca4-3662-43f2-917f-d7dea739a7fb button.colab-df-convert');\n",
              "        buttonEl.style.display =\n",
              "          google.colab.kernel.accessAllowed ? 'block' : 'none';\n",
              "\n",
              "        async function convertToInteractive(key) {\n",
              "          const element = document.querySelector('#df-db4b3ca4-3662-43f2-917f-d7dea739a7fb');\n",
              "          const dataTable =\n",
              "            await google.colab.kernel.invokeFunction('convertToInteractive',\n",
              "                                                     [key], {});\n",
              "          if (!dataTable) return;\n",
              "\n",
              "          const docLinkHtml = 'Like what you see? Visit the ' +\n",
              "            '<a target=\"_blank\" href=https://colab.research.google.com/notebooks/data_table.ipynb>data table notebook</a>'\n",
              "            + ' to learn more about interactive tables.';\n",
              "          element.innerHTML = '';\n",
              "          dataTable['output_type'] = 'display_data';\n",
              "          await google.colab.output.renderOutput(dataTable, element);\n",
              "          const docLink = document.createElement('div');\n",
              "          docLink.innerHTML = docLinkHtml;\n",
              "          element.appendChild(docLink);\n",
              "        }\n",
              "      </script>\n",
              "    </div>\n",
              "  </div>\n",
              "  "
            ]
          },
          "metadata": {},
          "execution_count": 78
        }
      ]
    },
    {
      "cell_type": "code",
      "source": [
        "# sparse_output=True 희소 행렬\n",
        "# 행렬의 값이 대부분 '0'인 행렬을 희소행렬(Sparse matrix) \n",
        "# 행렬의 값이 대부분 '0이 아닌 값'을 가지는 경우 밀집행렬(Dense matrix) \n",
        "# https://rfriend.tistory.com/551\n",
        "from sklearn.preprocessing import OneHotEncoder\n",
        "temp = df[['am']]\n",
        "#print(temp)\n",
        "encoder = OneHotEncoder(sparse_output=True)\n",
        "rs = encoder.fit_transform(temp)\n",
        "print(rs.data)"
      ],
      "metadata": {
        "colab": {
          "base_uri": "https://localhost:8080/"
        },
        "id": "nUswl08t5R-L",
        "outputId": "e200fc0e-67a6-49de-c7cc-5796dc81f14a"
      },
      "execution_count": null,
      "outputs": [
        {
          "output_type": "stream",
          "name": "stdout",
          "text": [
            "[1. 1. 1. 1. 1. 1. 1. 1. 1. 1. 1. 1. 1. 1. 1. 1. 1. 1. 1. 1. 1. 1. 1. 1.\n",
            " 1. 1. 1. 1. 1. 1. 1. 1.]\n"
          ]
        }
      ]
    },
    {
      "cell_type": "code",
      "source": [
        "# 인코딩 작업 encoding 범주형 -> 숫자\n",
        "# 라벨 인코딩 : Label Encoding \n",
        "# 범주형 변수에 고유한 순서 또는 계층 구조가 있고 해당 정보가 문제와 관련된 경우\n",
        "# 결정트리, 랜덤포레스트, 그래디언트부스팅\n",
        "from sklearn.preprocessing import LabelEncoder\n",
        "temp = df['am']\n",
        "encoder = LabelEncoder()\n",
        "rs = encoder.fit_transform(temp)\n",
        "print(rs)\n"
      ],
      "metadata": {
        "id": "BpIUIu4o16ep",
        "colab": {
          "base_uri": "https://localhost:8080/"
        },
        "outputId": "2c8c3d79-5a2f-4183-849c-3ced27379abb"
      },
      "execution_count": null,
      "outputs": [
        {
          "output_type": "stream",
          "name": "stdout",
          "text": [
            "[1 1 1 0 0 0 0 0 0 0 0 0 0 0 0 0 0 1 1 1 0 0 0 0 0 1 1 1 1 1 1 1]\n"
          ]
        }
      ]
    },
    {
      "cell_type": "code",
      "source": [
        "# 수동 Replace\n",
        "df['am_new'] = df['am'].replace('manual', 0).replace('auto',1)"
      ],
      "metadata": {
        "id": "cG8pbbQsZQgJ"
      },
      "execution_count": 15,
      "outputs": []
    },
    {
      "cell_type": "code",
      "source": [
        "#파생변수 생성\n",
        "# wt열 3.3이상이면 1, 미만 0\n",
        "df['wt'].head()\n",
        "cond = df['wt'] < 3.3\n",
        "df.loc[cond, 'wt'].head()\n",
        "df.loc[cond,'wt_class'] = 0\n",
        "df.loc[~cond,'wt_class'] = 1\n",
        "df['wt_class'].head()"
      ],
      "metadata": {
        "id": "I21P0i34ovJ1",
        "colab": {
          "base_uri": "https://localhost:8080/"
        },
        "outputId": "0930ba6f-1a37-4351-a06d-7ffe4a6cfe7a"
      },
      "execution_count": 16,
      "outputs": [
        {
          "output_type": "execute_result",
          "data": {
            "text/plain": [
              "0    0.0\n",
              "1    0.0\n",
              "2    0.0\n",
              "3    0.0\n",
              "4    1.0\n",
              "Name: wt_class, dtype: float64"
            ]
          },
          "metadata": {},
          "execution_count": 16
        }
      ]
    },
    {
      "cell_type": "code",
      "source": [
        "#파생변수 생성\n",
        "# qsec열 1/4 mile -> 1mile 단위로\n",
        "df['qsec_4'] = df['qsec'] * 4\n",
        "print(df['qsec'].head(3))\n",
        "print(df['qsec_4'].head(3))"
      ],
      "metadata": {
        "colab": {
          "base_uri": "https://localhost:8080/"
        },
        "id": "mwI1uoUTIN-u",
        "outputId": "93035f4c-eeb2-4121-c197-13a62f7b5779"
      },
      "execution_count": 17,
      "outputs": [
        {
          "output_type": "stream",
          "name": "stdout",
          "text": [
            "0    16.46\n",
            "1    17.02\n",
            "2    18.61\n",
            "Name: qsec, dtype: float64\n",
            "0    65.84\n",
            "1    68.08\n",
            "2    74.44\n",
            "Name: qsec_4, dtype: float64\n"
          ]
        }
      ]
    },
    {
      "cell_type": "markdown",
      "source": [
        "## 데이터 분리\n",
        "- 학습 데이트\n",
        "- 테스트 데이\n",
        "- x_train, x_test, y_train, y_test"
      ],
      "metadata": {
        "id": "hG0Vhq5CRVIo"
      }
    },
    {
      "cell_type": "code",
      "source": [
        "df.info()"
      ],
      "metadata": {
        "colab": {
          "base_uri": "https://localhost:8080/"
        },
        "id": "PG_rnJoxZnq4",
        "outputId": "6505d9e6-7950-4b8d-d42d-82c73f1e81c4"
      },
      "execution_count": 20,
      "outputs": [
        {
          "output_type": "stream",
          "name": "stdout",
          "text": [
            "<class 'pandas.core.frame.DataFrame'>\n",
            "RangeIndex: 32 entries, 0 to 31\n",
            "Data columns (total 14 columns):\n",
            " #   Column    Non-Null Count  Dtype  \n",
            "---  ------    --------------  -----  \n",
            " 0   mpg       32 non-null     float64\n",
            " 1   cyl       32 non-null     float64\n",
            " 2   disp      32 non-null     float64\n",
            " 3   hp        32 non-null     float64\n",
            " 4   drat      32 non-null     float64\n",
            " 5   wt        32 non-null     float64\n",
            " 6   qsec      32 non-null     float64\n",
            " 7   vs        32 non-null     int64  \n",
            " 8   am        32 non-null     object \n",
            " 9   gear      32 non-null     int32  \n",
            " 10  carb      32 non-null     int64  \n",
            " 11  am_new    32 non-null     int64  \n",
            " 12  wt_class  32 non-null     float64\n",
            " 13  qsec_4    32 non-null     float64\n",
            "dtypes: float64(9), int32(1), int64(3), object(1)\n",
            "memory usage: 3.5+ KB\n"
          ]
        }
      ]
    },
    {
      "cell_type": "code",
      "source": [
        "from sklearn.model_selection import train_test_split\n",
        "\n",
        "# 레이블 선택\n",
        "Y = df.loc[:,'mpg']\n",
        "# 데이터 선택\n",
        "X = df.loc[:,'cyl':'qsec_4']\n",
        "# 불필요 데이터 제거\n",
        "X = X.drop(columns=['wt', 'qsec','am'])\n",
        "X.head()"
      ],
      "metadata": {
        "colab": {
          "base_uri": "https://localhost:8080/",
          "height": 206
        },
        "id": "eG68dtSbJHrK",
        "outputId": "3c9f1f27-25de-4da6-9311-9687073504a8"
      },
      "execution_count": 21,
      "outputs": [
        {
          "output_type": "execute_result",
          "data": {
            "text/plain": [
              "   cyl   disp     hp  drat  vs  gear  carb  am_new  wt_class  qsec_4\n",
              "0  6.0  160.0  110.0  3.90   0     4     4       0       0.0   65.84\n",
              "1  6.0  160.0  110.0  3.90   0     4     4       0       0.0   68.08\n",
              "2  4.0  108.0   93.0  3.85   1     4     1       0       0.0   74.44\n",
              "3  6.0  258.0  110.0  3.08   1     3     1       1       0.0    0.40\n",
              "4  8.0  360.0  175.0  3.15   0     3     2       1       1.0   68.08"
            ],
            "text/html": [
              "\n",
              "  <div id=\"df-ab693d0d-db73-4d19-a6f6-14ca0482c081\">\n",
              "    <div class=\"colab-df-container\">\n",
              "      <div>\n",
              "<style scoped>\n",
              "    .dataframe tbody tr th:only-of-type {\n",
              "        vertical-align: middle;\n",
              "    }\n",
              "\n",
              "    .dataframe tbody tr th {\n",
              "        vertical-align: top;\n",
              "    }\n",
              "\n",
              "    .dataframe thead th {\n",
              "        text-align: right;\n",
              "    }\n",
              "</style>\n",
              "<table border=\"1\" class=\"dataframe\">\n",
              "  <thead>\n",
              "    <tr style=\"text-align: right;\">\n",
              "      <th></th>\n",
              "      <th>cyl</th>\n",
              "      <th>disp</th>\n",
              "      <th>hp</th>\n",
              "      <th>drat</th>\n",
              "      <th>vs</th>\n",
              "      <th>gear</th>\n",
              "      <th>carb</th>\n",
              "      <th>am_new</th>\n",
              "      <th>wt_class</th>\n",
              "      <th>qsec_4</th>\n",
              "    </tr>\n",
              "  </thead>\n",
              "  <tbody>\n",
              "    <tr>\n",
              "      <th>0</th>\n",
              "      <td>6.0</td>\n",
              "      <td>160.0</td>\n",
              "      <td>110.0</td>\n",
              "      <td>3.90</td>\n",
              "      <td>0</td>\n",
              "      <td>4</td>\n",
              "      <td>4</td>\n",
              "      <td>0</td>\n",
              "      <td>0.0</td>\n",
              "      <td>65.84</td>\n",
              "    </tr>\n",
              "    <tr>\n",
              "      <th>1</th>\n",
              "      <td>6.0</td>\n",
              "      <td>160.0</td>\n",
              "      <td>110.0</td>\n",
              "      <td>3.90</td>\n",
              "      <td>0</td>\n",
              "      <td>4</td>\n",
              "      <td>4</td>\n",
              "      <td>0</td>\n",
              "      <td>0.0</td>\n",
              "      <td>68.08</td>\n",
              "    </tr>\n",
              "    <tr>\n",
              "      <th>2</th>\n",
              "      <td>4.0</td>\n",
              "      <td>108.0</td>\n",
              "      <td>93.0</td>\n",
              "      <td>3.85</td>\n",
              "      <td>1</td>\n",
              "      <td>4</td>\n",
              "      <td>1</td>\n",
              "      <td>0</td>\n",
              "      <td>0.0</td>\n",
              "      <td>74.44</td>\n",
              "    </tr>\n",
              "    <tr>\n",
              "      <th>3</th>\n",
              "      <td>6.0</td>\n",
              "      <td>258.0</td>\n",
              "      <td>110.0</td>\n",
              "      <td>3.08</td>\n",
              "      <td>1</td>\n",
              "      <td>3</td>\n",
              "      <td>1</td>\n",
              "      <td>1</td>\n",
              "      <td>0.0</td>\n",
              "      <td>0.40</td>\n",
              "    </tr>\n",
              "    <tr>\n",
              "      <th>4</th>\n",
              "      <td>8.0</td>\n",
              "      <td>360.0</td>\n",
              "      <td>175.0</td>\n",
              "      <td>3.15</td>\n",
              "      <td>0</td>\n",
              "      <td>3</td>\n",
              "      <td>2</td>\n",
              "      <td>1</td>\n",
              "      <td>1.0</td>\n",
              "      <td>68.08</td>\n",
              "    </tr>\n",
              "  </tbody>\n",
              "</table>\n",
              "</div>\n",
              "      <button class=\"colab-df-convert\" onclick=\"convertToInteractive('df-ab693d0d-db73-4d19-a6f6-14ca0482c081')\"\n",
              "              title=\"Convert this dataframe to an interactive table.\"\n",
              "              style=\"display:none;\">\n",
              "        \n",
              "  <svg xmlns=\"http://www.w3.org/2000/svg\" height=\"24px\"viewBox=\"0 0 24 24\"\n",
              "       width=\"24px\">\n",
              "    <path d=\"M0 0h24v24H0V0z\" fill=\"none\"/>\n",
              "    <path d=\"M18.56 5.44l.94 2.06.94-2.06 2.06-.94-2.06-.94-.94-2.06-.94 2.06-2.06.94zm-11 1L8.5 8.5l.94-2.06 2.06-.94-2.06-.94L8.5 2.5l-.94 2.06-2.06.94zm10 10l.94 2.06.94-2.06 2.06-.94-2.06-.94-.94-2.06-.94 2.06-2.06.94z\"/><path d=\"M17.41 7.96l-1.37-1.37c-.4-.4-.92-.59-1.43-.59-.52 0-1.04.2-1.43.59L10.3 9.45l-7.72 7.72c-.78.78-.78 2.05 0 2.83L4 21.41c.39.39.9.59 1.41.59.51 0 1.02-.2 1.41-.59l7.78-7.78 2.81-2.81c.8-.78.8-2.07 0-2.86zM5.41 20L4 18.59l7.72-7.72 1.47 1.35L5.41 20z\"/>\n",
              "  </svg>\n",
              "      </button>\n",
              "      \n",
              "  <style>\n",
              "    .colab-df-container {\n",
              "      display:flex;\n",
              "      flex-wrap:wrap;\n",
              "      gap: 12px;\n",
              "    }\n",
              "\n",
              "    .colab-df-convert {\n",
              "      background-color: #E8F0FE;\n",
              "      border: none;\n",
              "      border-radius: 50%;\n",
              "      cursor: pointer;\n",
              "      display: none;\n",
              "      fill: #1967D2;\n",
              "      height: 32px;\n",
              "      padding: 0 0 0 0;\n",
              "      width: 32px;\n",
              "    }\n",
              "\n",
              "    .colab-df-convert:hover {\n",
              "      background-color: #E2EBFA;\n",
              "      box-shadow: 0px 1px 2px rgba(60, 64, 67, 0.3), 0px 1px 3px 1px rgba(60, 64, 67, 0.15);\n",
              "      fill: #174EA6;\n",
              "    }\n",
              "\n",
              "    [theme=dark] .colab-df-convert {\n",
              "      background-color: #3B4455;\n",
              "      fill: #D2E3FC;\n",
              "    }\n",
              "\n",
              "    [theme=dark] .colab-df-convert:hover {\n",
              "      background-color: #434B5C;\n",
              "      box-shadow: 0px 1px 3px 1px rgba(0, 0, 0, 0.15);\n",
              "      filter: drop-shadow(0px 1px 2px rgba(0, 0, 0, 0.3));\n",
              "      fill: #FFFFFF;\n",
              "    }\n",
              "  </style>\n",
              "\n",
              "      <script>\n",
              "        const buttonEl =\n",
              "          document.querySelector('#df-ab693d0d-db73-4d19-a6f6-14ca0482c081 button.colab-df-convert');\n",
              "        buttonEl.style.display =\n",
              "          google.colab.kernel.accessAllowed ? 'block' : 'none';\n",
              "\n",
              "        async function convertToInteractive(key) {\n",
              "          const element = document.querySelector('#df-ab693d0d-db73-4d19-a6f6-14ca0482c081');\n",
              "          const dataTable =\n",
              "            await google.colab.kernel.invokeFunction('convertToInteractive',\n",
              "                                                     [key], {});\n",
              "          if (!dataTable) return;\n",
              "\n",
              "          const docLinkHtml = 'Like what you see? Visit the ' +\n",
              "            '<a target=\"_blank\" href=https://colab.research.google.com/notebooks/data_table.ipynb>data table notebook</a>'\n",
              "            + ' to learn more about interactive tables.';\n",
              "          element.innerHTML = '';\n",
              "          dataTable['output_type'] = 'display_data';\n",
              "          await google.colab.output.renderOutput(dataTable, element);\n",
              "          const docLink = document.createElement('div');\n",
              "          docLink.innerHTML = docLinkHtml;\n",
              "          element.appendChild(docLink);\n",
              "        }\n",
              "      </script>\n",
              "    </div>\n",
              "  </div>\n",
              "  "
            ]
          },
          "metadata": {},
          "execution_count": 21
        }
      ]
    },
    {
      "cell_type": "code",
      "source": [
        "# train_test_split()\n",
        "x_train, x_test, y_train, y_test = train_test_split(X, Y, test_size=0.3, random_state=42)\n",
        "print(x_train.head(3))\n",
        "print(y_train.head(3))"
      ],
      "metadata": {
        "colab": {
          "base_uri": "https://localhost:8080/"
        },
        "id": "9rtgAqAnJmdB",
        "outputId": "5db8c23e-f2c2-4c4f-8940-49fff8d9ab96"
      },
      "execution_count": null,
      "outputs": [
        {
          "output_type": "stream",
          "name": "stdout",
          "text": [
            "    cyl   disp     hp  drat  vs  am  gear  carb  wt_class  qsec_4\n",
            "4   8.0  360.0  175.0  3.15   0   0     3     2       1.0   68.08\n",
            "16  8.0  440.0  230.0  3.23   0   0     3     4       1.0   69.68\n",
            "5   6.0  225.0  105.0  2.76   1   0     3     1       1.0   80.88\n",
            "4     18.7\n",
            "16    14.7\n",
            "5     18.1\n",
            "Name: mpg, dtype: float64\n"
          ]
        }
      ]
    },
    {
      "cell_type": "markdown",
      "source": [
        "## 데이터 훈련 및 평가\n",
        "\n",
        "### 모델링 modeling\n",
        "- 종속 변수에 따라 예측(회귀) or 분류 모델\n",
        "- 연속형 종속 변수 : 예측(회귀)\n",
        "- 범주형 종속 변수 : 분류\n",
        "\n",
        "### 평가\n",
        "- 예측, 또는 분류한 값이 믿을 수 있는 가 확인 하는 작업\n",
        "- 회귀 : MAE, MSE, RMSE, 결정계수 R^2\n",
        "- 분류 : ROC-AUC, 정확도, 정밀도, 재현율"
      ],
      "metadata": {
        "id": "zL-Z6oGhRVSA"
      }
    },
    {
      "cell_type": "markdown",
      "source": [
        "### 예측(회귀) 모델링\n",
        "- LinearRegression\n",
        "- RandomForestRegressor\n",
        "- XGBRegressor\n",
        "- 평가 : MAE, MSE, RMSE, 결정계수 R^2"
      ],
      "metadata": {
        "id": "zway3nAqloAB"
      }
    },
    {
      "cell_type": "code",
      "source": [
        "# mpg 연속형 변수 : 예측(회귀)\n",
        "from sklearn.linear_model import LinearRegression\n",
        "\n",
        "# model\n",
        "model = LinearRegression()\n",
        "\n",
        "# training\n",
        "model.fit(x_train, y_train)\n",
        "\n",
        "# prediction\n",
        "pred_train = model.predict(x_train)\n",
        "pred_test = model.predict(x_test)"
      ],
      "metadata": {
        "id": "ScQCp7w6ZODp"
      },
      "execution_count": null,
      "outputs": []
    },
    {
      "cell_type": "code",
      "source": [
        "# 절편, 회귀 계수 값 확인\n",
        "dir(model)\n",
        "# 절편\n",
        "print(model.intercept_)\n",
        "# 회귀 계수\n",
        "print(model.coef_)"
      ],
      "metadata": {
        "colab": {
          "base_uri": "https://localhost:8080/"
        },
        "id": "6uQIKnaaaspx",
        "outputId": "52068ec4-fb74-4563-f551-c22d98ff7035"
      },
      "execution_count": null,
      "outputs": [
        {
          "output_type": "stream",
          "name": "stdout",
          "text": [
            "17.234618087115336 [-3.30176941e-01 -4.95463133e-04 -3.27970822e-02  2.23619046e+00\n",
            "  4.12190478e-01  1.86461373e+00  1.18870352e+00 -1.10863938e+00\n",
            "  3.07616913e-01 -1.25185835e-02]\n"
          ]
        }
      ]
    },
    {
      "cell_type": "code",
      "source": [
        "# 평가 결정계수\n",
        "print(model.score(x_train, y_train))\n",
        "print(model.score(x_test, y_test))"
      ],
      "metadata": {
        "colab": {
          "base_uri": "https://localhost:8080/"
        },
        "id": "D91ZK4N2eVu2",
        "outputId": "12462ed2-9aa8-4cec-edf7-c82b8a8bd291"
      },
      "execution_count": null,
      "outputs": [
        {
          "output_type": "stream",
          "name": "stdout",
          "text": [
            "0.8401133678838211\n",
            "0.7210108966598392\n"
          ]
        }
      ]
    },
    {
      "cell_type": "code",
      "source": [
        "# 평가 모듈 metric\n",
        "# 결정 계수는 1, Error들은 0에 가까울 수록 좋은 성능\n",
        "from sklearn.metrics import r2_score, mean_absolute_error, mean_squared_error\n",
        "import numpy as np\n",
        "\n",
        "print(r2_score(y_train, pred_train), r2_score(y_test, pred_test))\n",
        "print(mean_absolute_error(y_train, pred_train), mean_absolute_error(y_test, pred_test))\n",
        "print(mean_squared_error(y_train, pred_train), mean_squared_error(y_test, pred_test))\n",
        "print(np.sqrt(mean_squared_error(y_train, pred_train)), np.sqrt(mean_squared_error(y_test, pred_test)))\n"
      ],
      "metadata": {
        "colab": {
          "base_uri": "https://localhost:8080/"
        },
        "id": "KyFHuigVet38",
        "outputId": "6cc35102-1660-44bb-a38d-9703117c62af"
      },
      "execution_count": null,
      "outputs": [
        {
          "output_type": "stream",
          "name": "stdout",
          "text": [
            "0.8401133678838211 0.7210108966598392\n",
            "1.896913460353686 2.3882706542281538\n",
            "5.7014912324066955 9.481751565029036\n",
            "2.3877795610999555 3.079245291468193\n"
          ]
        }
      ]
    },
    {
      "cell_type": "code",
      "source": [
        "# 랜덤 포레스트 회귀 RandomForestRegressor\n",
        "from sklearn.ensemble import RandomForestRegressor\n",
        "from sklearn.metrics import r2_score, mean_absolute_error, mean_squared_error\n",
        "import numpy as np\n",
        "\n",
        "model = RandomForestRegressor(random_state=42)\n",
        "model.fit(x_train, y_train)\n",
        "\n",
        "pred_train = model.predict(x_train)\n",
        "pred_test = model.predict(x_test)\n",
        "\n",
        "print(r2_score(y_train, pred_train), r2_score(y_test, pred_test))\n",
        "print(mean_absolute_error(y_train, pred_train), mean_absolute_error(y_test, pred_test))\n",
        "print(mean_squared_error(y_train, pred_train), mean_squared_error(y_test, pred_test))\n",
        "print(np.sqrt(mean_squared_error(y_train, pred_train)), np.sqrt(mean_squared_error(y_test, pred_test)))"
      ],
      "metadata": {
        "colab": {
          "base_uri": "https://localhost:8080/"
        },
        "id": "cKWOXtaEgh_D",
        "outputId": "e266b109-0057-4c57-f2ef-93c202d8ba4f"
      },
      "execution_count": null,
      "outputs": [
        {
          "output_type": "stream",
          "name": "stdout",
          "text": [
            "0.9633461642575233 0.925147904584521\n",
            "0.8605454545454431 1.2280000000000015\n",
            "1.307060636363603 2.5439308000000085\n",
            "1.143267526156325 1.5949704699460767\n"
          ]
        }
      ]
    },
    {
      "cell_type": "code",
      "source": [
        "# 랜덤 포레스트 회귀 RandomForestRegressor\n",
        "# 문제에서 평가 지표 MAE => criterion, 트리 갯수 1000개(기본 100개) => n_estimators\n",
        "# 현재 시험(6회) criterion='mae'\n",
        "from sklearn.ensemble import RandomForestRegressor\n",
        "from sklearn.metrics import r2_score, mean_absolute_error, mean_squared_error\n",
        "import numpy as np\n",
        "\n",
        "model = RandomForestRegressor(n_estimators=1000,criterion='absolute_error', random_state=42)\n",
        "model.fit(x_train, y_train)\n",
        "\n",
        "pred_train = model.predict(x_train)\n",
        "pred_test = model.predict(x_test)\n",
        "\n",
        "print(r2_score(y_train, pred_train), r2_score(y_test, pred_test))\n",
        "print(mean_absolute_error(y_train, pred_train), mean_absolute_error(y_test, pred_test))\n",
        "print(mean_squared_error(y_train, pred_train), mean_squared_error(y_test, pred_test))\n",
        "print(np.sqrt(mean_squared_error(y_train, pred_train)), np.sqrt(mean_squared_error(y_test, pred_test)))"
      ],
      "metadata": {
        "colab": {
          "base_uri": "https://localhost:8080/"
        },
        "id": "bTaSdzNagiLT",
        "outputId": "eb9747c1-746c-4a8f-859e-c36b1e3fc16b"
      },
      "execution_count": null,
      "outputs": [
        {
          "output_type": "stream",
          "name": "stdout",
          "text": [
            "0.9643897277701767 0.9182712619350253\n",
            "0.8655090909089861 1.3023850000000268\n",
            "1.2698475927269741 2.7776410647500382\n",
            "1.1268751451367511 1.6666256522536902\n"
          ]
        }
      ]
    },
    {
      "cell_type": "code",
      "source": [
        "# 랜덤 포레스트 회귀 XGBRegressor\n",
        "# 문제에서 평가 지표 MAE => criterion, 트리 갯수 1000개(기본 100개) => n_estimators\n",
        "# 다수의 약한 분류기를 묶어 병렬 처리\n",
        "from xgboost import XGBRegressor\n",
        "from sklearn.metrics import r2_score, mean_absolute_error, mean_squared_error\n",
        "import numpy as np\n",
        "\n",
        "model = XGBRegressor(random_state=42)\n",
        "model.fit(x_train, y_train)\n",
        "\n",
        "pred_train = model.predict(x_train)\n",
        "pred_test = model.predict(x_test)\n",
        "\n",
        "print(r2_score(y_train, pred_train), r2_score(y_test, pred_test))\n",
        "print(mean_absolute_error(y_train, pred_train), mean_absolute_error(y_test, pred_test))\n",
        "print(mean_squared_error(y_train, pred_train), mean_squared_error(y_test, pred_test))\n",
        "print(np.sqrt(mean_squared_error(y_train, pred_train)), np.sqrt(mean_squared_error(y_test, pred_test)))"
      ],
      "metadata": {
        "colab": {
          "base_uri": "https://localhost:8080/"
        },
        "id": "eE8s9oegk-9f",
        "outputId": "36adf955-3980-426e-c78c-50e4dfee621c"
      },
      "execution_count": 58,
      "outputs": [
        {
          "output_type": "stream",
          "name": "stdout",
          "text": [
            "0.9999977142547066 -0.19824356440512103\n",
            "0.00046884423301724547 0.30027799938688987\n",
            "5.289327951733786e-07 0.29956089110128026\n",
            "0.0007272776603013313 0.5473215609687602\n"
          ]
        }
      ]
    },
    {
      "cell_type": "markdown",
      "source": [
        "### 분류 모델링\n",
        "- DecisionTreeClassifier\n",
        "- RandomForestClassifier\n",
        "- LogisticRegression\n",
        "- 평가 : ROC-AUC(roc_auc_score), 정확도(accuracy_score), 정밀도(precision_socre), 재현율(recall_score) \n",
        "- 평가 : 모두 1에 가까워야 좋은 성능"
      ],
      "metadata": {
        "id": "uY5Vnvg8lxeo"
      }
    },
    {
      "cell_type": "code",
      "source": [
        "from sklearn.model_selection import train_test_split\n",
        "\n",
        "# 레이블 선택\n",
        "Y = df.loc[:,'am_new']\n",
        "# 데이터 선택\n",
        "X = df.loc[:,'cyl':'qsec_4']\n",
        "# 불필요 데이터 제거\n",
        "X = X.drop(columns=['wt', 'qsec','am_new'])\n",
        "X.head()\n"
      ],
      "metadata": {
        "colab": {
          "base_uri": "https://localhost:8080/",
          "height": 206
        },
        "id": "3-e3gi9_lwr5",
        "outputId": "fe8d9102-708e-4bbb-9bed-4482e2738ea7"
      },
      "execution_count": 29,
      "outputs": [
        {
          "output_type": "execute_result",
          "data": {
            "text/plain": [
              "   cyl   disp     hp  drat  vs  gear  carb  wt_class  qsec_4\n",
              "0  6.0  160.0  110.0  3.90   0     4     4       0.0   65.84\n",
              "1  6.0  160.0  110.0  3.90   0     4     4       0.0   68.08\n",
              "2  4.0  108.0   93.0  3.85   1     4     1       0.0   74.44\n",
              "3  6.0  258.0  110.0  3.08   1     3     1       0.0    0.40\n",
              "4  8.0  360.0  175.0  3.15   0     3     2       1.0   68.08"
            ],
            "text/html": [
              "\n",
              "  <div id=\"df-0fe124d9-36ce-4d87-a6e2-29da6b4b63a4\">\n",
              "    <div class=\"colab-df-container\">\n",
              "      <div>\n",
              "<style scoped>\n",
              "    .dataframe tbody tr th:only-of-type {\n",
              "        vertical-align: middle;\n",
              "    }\n",
              "\n",
              "    .dataframe tbody tr th {\n",
              "        vertical-align: top;\n",
              "    }\n",
              "\n",
              "    .dataframe thead th {\n",
              "        text-align: right;\n",
              "    }\n",
              "</style>\n",
              "<table border=\"1\" class=\"dataframe\">\n",
              "  <thead>\n",
              "    <tr style=\"text-align: right;\">\n",
              "      <th></th>\n",
              "      <th>cyl</th>\n",
              "      <th>disp</th>\n",
              "      <th>hp</th>\n",
              "      <th>drat</th>\n",
              "      <th>vs</th>\n",
              "      <th>gear</th>\n",
              "      <th>carb</th>\n",
              "      <th>wt_class</th>\n",
              "      <th>qsec_4</th>\n",
              "    </tr>\n",
              "  </thead>\n",
              "  <tbody>\n",
              "    <tr>\n",
              "      <th>0</th>\n",
              "      <td>6.0</td>\n",
              "      <td>160.0</td>\n",
              "      <td>110.0</td>\n",
              "      <td>3.90</td>\n",
              "      <td>0</td>\n",
              "      <td>4</td>\n",
              "      <td>4</td>\n",
              "      <td>0.0</td>\n",
              "      <td>65.84</td>\n",
              "    </tr>\n",
              "    <tr>\n",
              "      <th>1</th>\n",
              "      <td>6.0</td>\n",
              "      <td>160.0</td>\n",
              "      <td>110.0</td>\n",
              "      <td>3.90</td>\n",
              "      <td>0</td>\n",
              "      <td>4</td>\n",
              "      <td>4</td>\n",
              "      <td>0.0</td>\n",
              "      <td>68.08</td>\n",
              "    </tr>\n",
              "    <tr>\n",
              "      <th>2</th>\n",
              "      <td>4.0</td>\n",
              "      <td>108.0</td>\n",
              "      <td>93.0</td>\n",
              "      <td>3.85</td>\n",
              "      <td>1</td>\n",
              "      <td>4</td>\n",
              "      <td>1</td>\n",
              "      <td>0.0</td>\n",
              "      <td>74.44</td>\n",
              "    </tr>\n",
              "    <tr>\n",
              "      <th>3</th>\n",
              "      <td>6.0</td>\n",
              "      <td>258.0</td>\n",
              "      <td>110.0</td>\n",
              "      <td>3.08</td>\n",
              "      <td>1</td>\n",
              "      <td>3</td>\n",
              "      <td>1</td>\n",
              "      <td>0.0</td>\n",
              "      <td>0.40</td>\n",
              "    </tr>\n",
              "    <tr>\n",
              "      <th>4</th>\n",
              "      <td>8.0</td>\n",
              "      <td>360.0</td>\n",
              "      <td>175.0</td>\n",
              "      <td>3.15</td>\n",
              "      <td>0</td>\n",
              "      <td>3</td>\n",
              "      <td>2</td>\n",
              "      <td>1.0</td>\n",
              "      <td>68.08</td>\n",
              "    </tr>\n",
              "  </tbody>\n",
              "</table>\n",
              "</div>\n",
              "      <button class=\"colab-df-convert\" onclick=\"convertToInteractive('df-0fe124d9-36ce-4d87-a6e2-29da6b4b63a4')\"\n",
              "              title=\"Convert this dataframe to an interactive table.\"\n",
              "              style=\"display:none;\">\n",
              "        \n",
              "  <svg xmlns=\"http://www.w3.org/2000/svg\" height=\"24px\"viewBox=\"0 0 24 24\"\n",
              "       width=\"24px\">\n",
              "    <path d=\"M0 0h24v24H0V0z\" fill=\"none\"/>\n",
              "    <path d=\"M18.56 5.44l.94 2.06.94-2.06 2.06-.94-2.06-.94-.94-2.06-.94 2.06-2.06.94zm-11 1L8.5 8.5l.94-2.06 2.06-.94-2.06-.94L8.5 2.5l-.94 2.06-2.06.94zm10 10l.94 2.06.94-2.06 2.06-.94-2.06-.94-.94-2.06-.94 2.06-2.06.94z\"/><path d=\"M17.41 7.96l-1.37-1.37c-.4-.4-.92-.59-1.43-.59-.52 0-1.04.2-1.43.59L10.3 9.45l-7.72 7.72c-.78.78-.78 2.05 0 2.83L4 21.41c.39.39.9.59 1.41.59.51 0 1.02-.2 1.41-.59l7.78-7.78 2.81-2.81c.8-.78.8-2.07 0-2.86zM5.41 20L4 18.59l7.72-7.72 1.47 1.35L5.41 20z\"/>\n",
              "  </svg>\n",
              "      </button>\n",
              "      \n",
              "  <style>\n",
              "    .colab-df-container {\n",
              "      display:flex;\n",
              "      flex-wrap:wrap;\n",
              "      gap: 12px;\n",
              "    }\n",
              "\n",
              "    .colab-df-convert {\n",
              "      background-color: #E8F0FE;\n",
              "      border: none;\n",
              "      border-radius: 50%;\n",
              "      cursor: pointer;\n",
              "      display: none;\n",
              "      fill: #1967D2;\n",
              "      height: 32px;\n",
              "      padding: 0 0 0 0;\n",
              "      width: 32px;\n",
              "    }\n",
              "\n",
              "    .colab-df-convert:hover {\n",
              "      background-color: #E2EBFA;\n",
              "      box-shadow: 0px 1px 2px rgba(60, 64, 67, 0.3), 0px 1px 3px 1px rgba(60, 64, 67, 0.15);\n",
              "      fill: #174EA6;\n",
              "    }\n",
              "\n",
              "    [theme=dark] .colab-df-convert {\n",
              "      background-color: #3B4455;\n",
              "      fill: #D2E3FC;\n",
              "    }\n",
              "\n",
              "    [theme=dark] .colab-df-convert:hover {\n",
              "      background-color: #434B5C;\n",
              "      box-shadow: 0px 1px 3px 1px rgba(0, 0, 0, 0.15);\n",
              "      filter: drop-shadow(0px 1px 2px rgba(0, 0, 0, 0.3));\n",
              "      fill: #FFFFFF;\n",
              "    }\n",
              "  </style>\n",
              "\n",
              "      <script>\n",
              "        const buttonEl =\n",
              "          document.querySelector('#df-0fe124d9-36ce-4d87-a6e2-29da6b4b63a4 button.colab-df-convert');\n",
              "        buttonEl.style.display =\n",
              "          google.colab.kernel.accessAllowed ? 'block' : 'none';\n",
              "\n",
              "        async function convertToInteractive(key) {\n",
              "          const element = document.querySelector('#df-0fe124d9-36ce-4d87-a6e2-29da6b4b63a4');\n",
              "          const dataTable =\n",
              "            await google.colab.kernel.invokeFunction('convertToInteractive',\n",
              "                                                     [key], {});\n",
              "          if (!dataTable) return;\n",
              "\n",
              "          const docLinkHtml = 'Like what you see? Visit the ' +\n",
              "            '<a target=\"_blank\" href=https://colab.research.google.com/notebooks/data_table.ipynb>data table notebook</a>'\n",
              "            + ' to learn more about interactive tables.';\n",
              "          element.innerHTML = '';\n",
              "          dataTable['output_type'] = 'display_data';\n",
              "          await google.colab.output.renderOutput(dataTable, element);\n",
              "          const docLink = document.createElement('div');\n",
              "          docLink.innerHTML = docLinkHtml;\n",
              "          element.appendChild(docLink);\n",
              "        }\n",
              "      </script>\n",
              "    </div>\n",
              "  </div>\n",
              "  "
            ]
          },
          "metadata": {},
          "execution_count": 29
        }
      ]
    },
    {
      "cell_type": "code",
      "source": [
        "# train_test_split()\n",
        "x_train, x_test, y_train, y_test = train_test_split(X, Y, test_size=0.3, random_state=42)\n",
        "print(x_train.head(3))\n",
        "print(y_train.head(3))"
      ],
      "metadata": {
        "colab": {
          "base_uri": "https://localhost:8080/"
        },
        "id": "37euDtW-a4r6",
        "outputId": "c31b54ef-7c29-43ad-96c9-253017b4d68b"
      },
      "execution_count": 30,
      "outputs": [
        {
          "output_type": "stream",
          "name": "stdout",
          "text": [
            "    cyl   disp     hp  drat  vs  gear  carb  wt_class  qsec_4\n",
            "4   8.0  360.0  175.0  3.15   0     3     2       1.0   68.08\n",
            "16  8.0  440.0  230.0  3.23   0     3     4       1.0   69.68\n",
            "5   6.0  225.0  105.0  2.76   1     3     1       1.0   80.88\n",
            "4     1\n",
            "16    1\n",
            "5     1\n",
            "Name: am_new, dtype: int64\n"
          ]
        }
      ]
    },
    {
      "cell_type": "code",
      "source": [
        "# 훈련 DecisionTreeClassifier\n",
        "from sklearn.tree import DecisionTreeClassifier\n",
        "\n",
        "model = DecisionTreeClassifier(random_state=42)\n",
        "model.fit(x_train, y_train)\n",
        "\n",
        "pred_test = model.predict(x_test)"
      ],
      "metadata": {
        "id": "i-BOSnLlbqi3"
      },
      "execution_count": 43,
      "outputs": []
    },
    {
      "cell_type": "code",
      "source": [
        "# 평가 - 문제에서 주어 지는 평가 사용\n",
        "from sklearn.metrics import roc_auc_score, accuracy_score, precision_score, recall_score\n",
        "\n",
        "print(roc_auc_score(y_test, pred_test))\n",
        "print(accuracy_score(y_test, pred_test))\n",
        "print(precision_score(y_test, pred_test))\n",
        "print(recall_score(y_test, pred_test))"
      ],
      "metadata": {
        "colab": {
          "base_uri": "https://localhost:8080/"
        },
        "id": "dumyrGBKcnon",
        "outputId": "8d18cec9-79cc-44b9-8b06-7d35dd0c92b8"
      },
      "execution_count": 44,
      "outputs": [
        {
          "output_type": "stream",
          "name": "stdout",
          "text": [
            "0.7000000000000001\n",
            "0.7\n",
            "0.6666666666666666\n",
            "0.8\n"
          ]
        }
      ]
    },
    {
      "cell_type": "code",
      "source": [
        "# 훈련 RandomForestClassifier\n",
        "from sklearn.ensemble import RandomForestClassifier\n",
        "\n",
        "model = RandomForestClassifier(random_state=42)\n",
        "model.fit(x_train, y_train)\n",
        "\n",
        "pred_test = model.predict(x_test)"
      ],
      "metadata": {
        "id": "q3ds3iypdlki"
      },
      "execution_count": 41,
      "outputs": []
    },
    {
      "cell_type": "code",
      "source": [
        "# 평가 - 문제에서 주어 지는 평가 사용\n",
        "from sklearn.metrics import roc_auc_score, accuracy_score, precision_score, recall_score\n",
        "\n",
        "print(roc_auc_score(y_test, pred_test))\n",
        "print(accuracy_score(y_test, pred_test))\n",
        "print(precision_score(y_test, pred_test))\n",
        "print(recall_score(y_test, pred_test))"
      ],
      "metadata": {
        "colab": {
          "base_uri": "https://localhost:8080/"
        },
        "id": "5BKZbj0beBMW",
        "outputId": "a8171dcb-94d3-44f8-9f97-ad9a69c63672"
      },
      "execution_count": 46,
      "outputs": [
        {
          "output_type": "stream",
          "name": "stdout",
          "text": [
            "0.7000000000000001\n",
            "0.7\n",
            "0.6666666666666666\n",
            "0.8\n"
          ]
        }
      ]
    },
    {
      "cell_type": "code",
      "source": [
        "# 훈련 LogisticRegression\n",
        "from sklearn.linear_model import LogisticRegression\n",
        "\n",
        "model = LogisticRegression(max_iter=500,random_state=42) # ConvergenceWarnin 시 max_iter 값 늘려주기\n",
        "model.fit(x_train, y_train)\n",
        "\n",
        "pred_test = model.predict(x_test)"
      ],
      "metadata": {
        "id": "k8qzIYZle84d"
      },
      "execution_count": 65,
      "outputs": []
    },
    {
      "cell_type": "code",
      "source": [
        "# 평가 - 문제에서 주어 지는 평가 사용\n",
        "from sklearn.metrics import roc_auc_score, accuracy_score, precision_score, recall_score\n",
        "\n",
        "print(roc_auc_score(y_test, pred_test))\n",
        "print(accuracy_score(y_test, pred_test))\n",
        "print(precision_score(y_test, pred_test))\n",
        "print(recall_score(y_test, pred_test))"
      ],
      "metadata": {
        "colab": {
          "base_uri": "https://localhost:8080/"
        },
        "id": "QHLadIZxfFMv",
        "outputId": "01bd247b-4cad-443d-9269-09d7929018f8"
      },
      "execution_count": 64,
      "outputs": [
        {
          "output_type": "stream",
          "name": "stdout",
          "text": [
            "0.9\n",
            "0.9\n",
            "1.0\n",
            "0.8\n"
          ]
        }
      ]
    },
    {
      "cell_type": "code",
      "source": [
        "# 훈련 XGBClassifier\n",
        "from xgboost import XGBClassifier\n",
        "\n",
        "model = XGBClassifier(random_state=42) \n",
        "model.fit(x_train, y_train)\n",
        "\n",
        "pred_test = model.predict(x_test)\n",
        "proba_test = model.predict_proba(x_test) # 분류 확률 값 (0확률, 1확률)"
      ],
      "metadata": {
        "id": "ja6uCNKZgZPF"
      },
      "execution_count": 86,
      "outputs": []
    },
    {
      "cell_type": "code",
      "source": [
        "print(proba_test[:5])"
      ],
      "metadata": {
        "colab": {
          "base_uri": "https://localhost:8080/"
        },
        "id": "RHJ6v_rvoKR6",
        "outputId": "e3684f8c-83e5-4c5c-ef29-0bdb17b7fc20"
      },
      "execution_count": 88,
      "outputs": [
        {
          "output_type": "stream",
          "name": "stdout",
          "text": [
            "[[0.22745252 0.7725475 ]\n",
            " [0.03111327 0.96888673]\n",
            " [0.03111327 0.96888673]\n",
            " [0.8808216  0.11917841]\n",
            " [0.8586019  0.14139809]]\n"
          ]
        }
      ]
    },
    {
      "cell_type": "code",
      "source": [
        "# 평가 - 문제에서 주어 지는 평가 사용\n",
        "from sklearn.metrics import roc_auc_score, accuracy_score, precision_score, recall_score\n",
        "\n",
        "print(roc_auc_score(y_test, pred_test))\n",
        "print(accuracy_score(y_test, pred_test))\n",
        "print(precision_score(y_test, pred_test))\n",
        "print(recall_score(y_test, pred_test))"
      ],
      "metadata": {
        "colab": {
          "base_uri": "https://localhost:8080/"
        },
        "id": "IiBunr0vj_UX",
        "outputId": "7e0bf4d6-13fc-43df-8f21-396ea812b669"
      },
      "execution_count": 61,
      "outputs": [
        {
          "output_type": "stream",
          "name": "stdout",
          "text": [
            "0.7000000000000001\n",
            "0.7\n",
            "0.6666666666666666\n",
            "0.8\n"
          ]
        }
      ]
    },
    {
      "cell_type": "markdown",
      "source": [
        "##결과 출력 및 저장\n",
        "- 결과 출력 : print()\n",
        "- 결과 파일 저장 : pd.DataFrame(pred_test).to_csv('data/수험번호.csv', index=False)"
      ],
      "metadata": {
        "id": "5BQliRXHRVbw"
      }
    },
    {
      "cell_type": "code",
      "source": [],
      "metadata": {
        "id": "Phi-9OYHPyyI"
      },
      "execution_count": null,
      "outputs": []
    }
  ]
}