{
  "nbformat": 4,
  "nbformat_minor": 0,
  "metadata": {
    "colab": {
      "provenance": [],
      "authorship_tag": "ABX9TyO6xzejO+EFxOU+W2UH0cBb",
      "include_colab_link": true
    },
    "kernelspec": {
      "name": "python3",
      "display_name": "Python 3"
    },
    "language_info": {
      "name": "python"
    }
  },
  "cells": [
    {
      "cell_type": "markdown",
      "metadata": {
        "id": "view-in-github",
        "colab_type": "text"
      },
      "source": [
        "<a href=\"https://colab.research.google.com/github/k2moon/bigbungi/blob/main/bigbungi_work03_basic.ipynb\" target=\"_parent\"><img src=\"https://colab.research.google.com/assets/colab-badge.svg\" alt=\"Open In Colab\"/></a>"
      ]
    },
    {
      "cell_type": "markdown",
      "source": [
        "# 빅데이터 분석기사 실기 작업형 3\n",
        "\n",
        "\n"
      ],
      "metadata": {
        "id": "9lggYIVnuWUD"
      }
    },
    {
      "cell_type": "markdown",
      "source": [
        "![가설과검증](https://mblogthumb-phinf.pstatic.net/MjAyMTA5MjJfMjk1/MDAxNjMyMjk1NDA3OTE4.JcVkux-1fTe7gYD3E2uzDlE86wexdVcfdhG22eJ4hpQg.Yy0FYlGhQQHenA3zEEtJtjCMXctDL7GaMQZk0wo-7Ocg.PNG.awess0me/image.png?type=w800)\n",
        "- 이미지 참조 [책으로 자본주의에서 잘 살아나기](https://m.blog.naver.com/PostView.naver?blogId=awess0me&logNo=222513273296&targetKeyword=&targetRecommendationCode=2)"
      ],
      "metadata": {
        "id": "k548XH9dZrhR"
      }
    },
    {
      "cell_type": "markdown",
      "source": [
        "# 표본 통계량, 표준오차, 중심극한정리\n",
        "\n",
        "- 표본 평균의 분포는 정규 분포에 근사\n",
        "- 모집단의 분포는 상관이 없음\n",
        "- 표본을 추출하는 모집단이 서로 독립적이라면 여러 모집단에서 추출한 표본이더라도 표본 평균의 분포는 정규 분포에 근사 => 중심극한정리"
      ],
      "metadata": {
        "id": "iAziLrKqaprl"
      }
    },
    {
      "cell_type": "markdown",
      "source": [
        "## 용어\n",
        "\n",
        "- 모집단 : 우리가 알고 싶은 데이터\n",
        "- 모수 : 모집단의 분포가 가지는 특성값\n",
        "- → 모집단 분포 묘사 가능. (평균, 분산, 표준편차, 모비율 등..)\n",
        "- → 정확히 아는건 불가능하여 잘 추정할수 있는 방법이 필요\n",
        "- 표본 : 모집단의 부분집합\n",
        "-  → ※ 랜덤하게 뽑아야 하는게 가장 중요한 특성 (추출시마다 다른 값으로 구성 필요)\n",
        "\n",
        "- 표본통계량 : 추출된 표본들을 통계적으로 기술한것으로 모수의 추정치. (표본 평균, 표본 표준편차, 표본 비율..)\n",
        "- → 전수조사 불가로 모수 구하려고 표본(sample) 조사하되, 추정이기 때문에 **`표준오차`** 발생\n",
        "\n",
        "- 표준오차 : 표본 통계량의 표준 편차\n",
        "- 표본은 추출할때마다 구성요소 값 바뀌므로 표본 통계량 값도 매번 변함\n",
        "- 모집단  → 모수\n",
        "- 표본  → 표본 통계량\n"
      ],
      "metadata": {
        "id": "jM0j13b0c0eZ"
      }
    },
    {
      "cell_type": "markdown",
      "source": [
        "## 검정 통계량(test statistic)과 분포\n",
        "\n",
        "- 통계적 가설의 진위여부 검정위해 '표본으로부터 계산'하는 통계량\n",
        "- 통계적 비교 분석시 분포 사용 => t, z, F,... 분포"
      ],
      "metadata": {
        "id": "LZLyLysueF-l"
      }
    },
    {
      "cell_type": "markdown",
      "source": [
        "## 1개 집단 Z분포(표준정규분포), T분포 개념과 차이\n",
        "\n",
        "> Z 분포 : 표준정규분포 (standard normal distribution)\n",
        "- 표본갯수가 충분 or 모집단 분산(표준편차)를 아는 경우\n",
        "- 표본 개수가 충분할 때(n 30 이상), 중심극한정리에 의해, 독립적 확률변수들의 평균은 정규분포에 가까워지고, 2개의 매개변수 평균 μ과 표준편차 σ에 대해 모형이 결정되고, 이때의 분포를 $N(μ,σ^2)$​ 표기\n",
        "- $ z = \\frac{{x - \\mu}}{{\\frac{{\\sigma}}{{\\sqrt{n}}}}} $\n",
        "- 평균 0, 표준편차 1\n",
        "\n",
        "> T 분포\n",
        "- 정규 분포의 평균 측정시 주로 사용,\n",
        "- 모집단의 표준편차 모를때\n",
        "- 표본갯수가 불충분 할때\n",
        "- 보통 N< 30 (T distribution)\n",
        "- 모집단의 표준편차 모를때는 N> 30도 사용\n",
        "- $ t = \\frac{{x - \\mu}}{{\\frac{{s}}{{\\sqrt{n}}}}} $\n",
        "- x = 측정치, μ = 평균, s/(√n) = 표준오차, n-1 = 자유도\n",
        "\n",
        "###  Z 분포와 T 분포 차이\n",
        "- 표보샘플 수 n\n"
      ],
      "metadata": {
        "id": "TPCD3U-4nNIt"
      }
    },
    {
      "cell_type": "markdown",
      "source": [
        "# 귀무가설-단측/양측검정 차이\n",
        "- one tailed 나 two tailed 를 선택하느냐에 따라 검증 결과가 달라 짐\n",
        "- 방향성에 따라 결정 됨\n",
        "-  대립가설의 주장이 방향성을 가지면 단측검정(one-sided test)\n",
        "- 방향성 갖지 않으면 양측검정(two-sided test)\n",
        "\n"
      ],
      "metadata": {
        "id": "s4B3NBqvnRzE"
      }
    },
    {
      "cell_type": "markdown",
      "source": [
        "### 가설 설정 : 귀무가설(H0)과 대립가설(H1) 단측검정\n",
        "- 귀무가설(H0): μ >= 0\n",
        "- 대립가설(H1): μ < 0\n",
        "\n",
        "**귀무가설 해석**\n",
        "- 귀무가설(H0): μ >= 0 -> μ가 음수이면서 희귀한 검정통계량값이 나오는 경우에 기각, alternative='less'\n",
        "- 귀무가설(H0): μ <= 0 -> μ가 양수이면서 희귀한 검정통계량값이 나오 는경우에 기각, alternative='greater'\n",
        "\n",
        "\n",
        "**가설 설정 : 귀무가설(H0)과 대립가설(H1) 양측검정**\n",
        "- 귀무가설(H0): μ = 0\n",
        "- 대립가설(H1): μ < 0, μ > 0\n",
        "\n",
        "**귀무가설 해석**\n",
        "- 귀무가설(H0): μ = 0 μ가 부호 상관 없이 희귀한 검정통계량값이 나오는 경우에 기각, , alternative='two-sided'"
      ],
      "metadata": {
        "id": "TUQrjLoxcQl4"
      }
    },
    {
      "cell_type": "markdown",
      "source": [
        "# 2개 집단 비교- 표본 독립여부별 검정 방법 차이\n",
        "- 통계에서 등분산, 이분산은 두 집단을 비교하고, 유의미한 차이가 있는지를 확인하는 자주 사용되는 비교 추론\n",
        "- (예시) A, B 세대의 평균 차이가 유의미 한지,  A, B 지역의  고등학생 게임시간의 차이가 유의미한지 등 추론\n",
        "- 집단이 하나가 아니므로 등분산, 이분산, 집단의 독립여부가  중요\n",
        "- 등분산 여부에 따라 t, f 분포 산정 공식이 달라짐\n",
        "- 두 집단 표본이 비독립적 => 대응 표본 검정, dependent(paired) sample t-test\n",
        ">결론  →\n",
        "> - 2개 모집단 가설 검정시 Z검정이나 T검정을 이용하는데\n",
        "> -  1) 표본이 독립적인지와  2) 집단별 모분산 동일여부로 계산 식이 달라지므로 주의\n",
        "> -  3개 집단 이상인 경우, F검정 이용\n",
        "> -  비독립적 => 대응 표본 검정, dependent(paired) sample t-test\n"
      ],
      "metadata": {
        "id": "IALCbngtyewz"
      }
    },
    {
      "cell_type": "markdown",
      "source": [
        "## 표본 독립적인 경우(independent sample t-test) - 등분산과 이분산\n",
        "\n",
        "###  등분산(Equal Variance) : 각 집단의 분산이 같은 경우\n",
        "- 보통 모집단 표준편차(분산) 알기는 어렵기 때문에 t-test를 이용\n",
        "- 하지만 시험에서는 문제를 주의 깊게 봐야 함\n",
        "\n",
        "###  이분산(Equal Variance) : 각 집단의 분산이 다른 경우\n",
        "- 분산이 같은지 다른지 확인위해 F검정 이용\n",
        "- t-test 실제 가설검증 위한 사전 단계로 필요\n",
        "- 분산 검정과 연결 됨\n",
        "- 비정규, 이분산은 수험범위 넘어 섬\n"
      ],
      "metadata": {
        "id": "iKiT477K4nzq"
      }
    },
    {
      "cell_type": "markdown",
      "source": [
        "## 표본 비독립적인 경우(dependent sample) - 등분산과 이분산\n",
        "\n",
        "###  등분산(Equal Variance) : 각 집단의 분산이 같은 경우\n",
        "- 보통 모집단 표준편차(분산) 알기는 어렵기 때문에 t-test를 이용\n",
        "\n",
        "###  이분산(Equal Variance) : 각 집단의 분산이 다른 경우\n",
        "- 분산이 같은지 다른지 확인위해 F검정 이용\n",
        "- t-test 실제 가설검증 위한 사전 단계로 필요\n",
        "- 분산 검정과 연결 됨\n",
        "\n",
        "\n",
        "## 표본 비독립적인 경우(dependent sample t-test) - 대응표본 t검정, parired t-test\n",
        "- 조사대상 개체가 같고 표본수가 같은 경우\n",
        "- 전후 개념이 있는 경우가 많음\n",
        "- 모집단은 1개임\n",
        "- 근력 운동 저후 기록차이, 약 복용 전후 차이,\n"
      ],
      "metadata": {
        "id": "-0PMc9v845Rz"
      }
    },
    {
      "cell_type": "markdown",
      "source": [
        "# 가설과 검정\n",
        "\n",
        "## 검정(Test)과 모수 추정(Parameter Estimation)\n",
        "\n",
        "### 기본 전제\n",
        "- 분석할 데이터는 표본(Sample)\n",
        "- 이 표본은 어떤 확률 분포를 따르는 확률 변수(Random Variable)에서 추출됨\n",
        "- 이 확률 변수가 따르는 확률 분포를 알아내는 것이 데이터 분석의 핵심 과제\n",
        "\n",
        "### 분포 검정(Distribution Test)\n",
        "- 확률 변수의 분포에 대한 가설(hypothesis)이 맞는지 틀리는지를 확인하는 확률 변수의 분포 검정(distribution test)\n",
        "- '분석을 하기 위한 데이터가 정규분포로부터 생성된 것인가?',확률 변수의 분포가 정규 분포(Normal Distribution)라는 것 검정 =>  정규성 검정(normality test)\n",
        "- '분석을 하기 위한 두 집단의 데이터가 등분산인가?',두 집단의 확률 변수의 분산이 같다라는 것 검정 =>  등분산성 검정(variance test)\n",
        "\n"
      ],
      "metadata": {
        "id": "XqNlp1BnknIX"
      }
    },
    {
      "cell_type": "markdown",
      "source": [
        "## 가설 검정\n",
        "\n",
        "- 귀무가설, 대립가설\n",
        "- 검정통계량\n",
        "- 유의확률, p-value"
      ],
      "metadata": {
        "id": "-3EVIHh-kiOq"
      }
    },
    {
      "cell_type": "markdown",
      "source": [
        "\n",
        "\n",
        "## 가설검정의 과정\n",
        "\n",
        "### 1 가설 설정\n",
        "- 귀무가설(H0)과 대립가설(H1)을 설정\n",
        "\n",
        "### 2 유의수준 설정\n",
        "- 유의수준(α)을 결정\n",
        "- 유의수준은 귀무가설을 기각하는 기준이 되는 확률값\n",
        "- 일반적으로 0.05(5%) 또는 0.01(1%)이 사용\n",
        "\n",
        "### 3 검정 통계량 계산\n",
        "- 적절한 통계량을 사용하여 데이터에서 계산\n",
        "- 검정 통계량은 주로 표본 평균, 표본 비율, 표본 분산 등 사용\n",
        "- z통계량 : 정규 분포, 데이터가 크거나 모분산을 아는 경우, 표준오차 σ /√n\n",
        "- t통계량 : t분포 (평균 검정), 표본이 적고 모분산을 모르는 경우, 표준분산 s 사용(자유도 n-1), 표준오차 s /√n\n",
        "- 베르누이 확률변수(성공,실패, 1,0) : 이항 분포\n",
        "- $χ^2$ 통계량 : $χ^2$ 분포, 정규 분포의 제곱합, t 분포의 분산 검정\n",
        "- F통계량 : F분포, 두 $χ^2$ 분포의 샘플의 정규화된 비율, t 분포 샘플의 제곱 분포\n",
        "\n",
        "### 4 유의확률 계산\n",
        "- 검정 통계량으로부터 유의확률(p-value)을 계산\n",
        "- 유의확률은 귀무가설이 참일 때, 해당 검정 통계량이 나타날 확률을 의미\n",
        "\n",
        "### 5 결론 도출\n",
        "- 유의확률과 설정한 유의수준을 비교하여 귀무가설을 기각 채택 결정\n",
        "- 유의확률이 유의수준보다 작으면 귀무가설을 기각\n",
        "- 유의확률이 유의수준보다 크면 귀무가설 채택"
      ],
      "metadata": {
        "id": "quzdGFKXxh1Y"
      }
    },
    {
      "cell_type": "markdown",
      "source": [
        "### stats 모듈 확인\n",
        "- 특별히 언급 없으면 scipy.stats 모듈 함수 임\n",
        "- 특별히 언급 없으면 유의수준 α = 0.05 (5%)\n",
        "- [데이터 마님](https://www.datamanim.com/dataset/97_scipy/scipy.html)"
      ],
      "metadata": {
        "id": "9JhNJch4fUVF"
      }
    },
    {
      "cell_type": "code",
      "source": [
        "# 검정 결과 확인 함수\n",
        "def result(pv, a=0.05):\n",
        "  if pv < a:\n",
        "    print(f'p-value {round(pv, 4)}이 유의수준 {a} 보다 작으므로 귀무가설을 기각한다.')\n",
        "  else:\n",
        "    print(f'p-value {round(pv, 4)}이 유의수준 {a} 보다 크므로 귀무가설을 채택한다.')"
      ],
      "metadata": {
        "id": "9n2rhRpq61Dx"
      },
      "execution_count": null,
      "outputs": []
    },
    {
      "cell_type": "markdown",
      "source": [
        "## 이항 검정\n",
        "- **binomtest(k, n, p=0.5, alternative='two-sided')**\n",
        "- 매번의 시도에서 실험결과는 성공과 실패의 두가지로 나타남(베르누이 분포)\n",
        "- 성공확률 p 는 모든 시도에서 동일\n",
        "- n 번의 실험이 독립적으로 수행\n"
      ],
      "metadata": {
        "id": "7_ZJNriOwJLh"
      }
    },
    {
      "cell_type": "code",
      "source": [
        "import scipy as sp\n",
        "#help(sp.stats.binomtest)"
      ],
      "metadata": {
        "id": "toDuVxypF3gU"
      },
      "execution_count": null,
      "outputs": []
    },
    {
      "cell_type": "code",
      "source": [
        "import numpy as np\n",
        "import scipy as sp\n",
        "\n",
        "# binomtest(k, n, p=0.5, alternative='two-sided')\n",
        "# N: 총 시도 횟수\n",
        "# x: 검정통계량. 1이 나온 횟수\n",
        "# p: 귀무가설의 μ값\n",
        "# alternative: 양측검정인 경우에는 'two-sided', 단측검정인 경우에는 'less' 또는 'greater'\n",
        "\n",
        "# 귀무가설 : 동전의 앞면 나올 확률은 μ = 0.5\n",
        "# 대립가설 : 동전의 앞면 나올 확률은μ > 0.5  or μ < 0.5\n",
        "# 양측 검증\n",
        "\n",
        "N = 10\n",
        "mu_0 = 0.5\n",
        "np.random.seed(42)\n",
        "n = sp.stats.bernoulli(mu_0).rvs(N) # 베르누이 시뮬레이션(동전)\n",
        "x = np.count_nonzero(n)\n",
        "print(x)\n",
        "\n",
        "rs = sp.stats.binomtest(x, N) # BinomTestResult(k=6, n=10, alternative='two-sided', statistic=0.6, pvalue=0.75390625)\n",
        "st = rs.statistic # 통계량\n",
        "pv = rs.pvalue\n",
        "print(st, pv)\n",
        "result(pv)"
      ],
      "metadata": {
        "colab": {
          "base_uri": "https://localhost:8080/"
        },
        "id": "MVWGAO-qzdkk",
        "outputId": "54ff530d-3e28-484f-cc50-9958a6ca824a"
      },
      "execution_count": null,
      "outputs": [
        {
          "output_type": "stream",
          "name": "stdout",
          "text": [
            "6\n",
            "0.6 0.75390625\n",
            "0.7539 값이 유의수준보다 크므로 귀무가설을 채택한다.\n"
          ]
        }
      ]
    },
    {
      "cell_type": "markdown",
      "source": [
        "## 정규성 검정 - 샤피로\n",
        "- **shapiro(x) : 데이터가 큰 경우 warning**\n",
        "- 데이터가 정규 분포를 따르는 지 검정\n",
        "- **귀무가설 : 데이터는 정규성을 가진다**\n",
        "\n"
      ],
      "metadata": {
        "id": "5PuvG0GGH67Q"
      }
    },
    {
      "cell_type": "markdown",
      "source": [
        "### shapiro(x) 확인"
      ],
      "metadata": {
        "id": "tS57QUvyPB6m"
      }
    },
    {
      "cell_type": "code",
      "source": [
        "import scipy as sp\n",
        "#help(sp.stats.shapiro)"
      ],
      "metadata": {
        "id": "sUngqkElJE0U"
      },
      "execution_count": null,
      "outputs": []
    },
    {
      "cell_type": "markdown",
      "source": [
        "### 정규분포 데이터 정규성 검정"
      ],
      "metadata": {
        "id": "UIPpwbzcPG5u"
      }
    },
    {
      "cell_type": "code",
      "source": [
        "import numpy as np\n",
        "import pandas as pd\n",
        "import scipy as sp\n",
        "import matplotlib.pyplot as plt\n",
        "\n",
        "\n",
        "# 정규 분포에서 데이터 생성\n",
        "x = np.random.randn(300)\n",
        "df = pd.DataFrame(x)\n",
        "plt.hist(df)"
      ],
      "metadata": {
        "colab": {
          "base_uri": "https://localhost:8080/",
          "height": 522
        },
        "id": "2UKuvzYCLyt9",
        "outputId": "c80311dd-e04b-48f5-aabf-344dac2f76e9"
      },
      "execution_count": null,
      "outputs": [
        {
          "output_type": "execute_result",
          "data": {
            "text/plain": [
              "(array([ 2.,  7., 31., 69., 80., 74., 24., 10.,  2.,  1.]),\n",
              " array([-3.24126734, -2.53186746, -1.82246757, -1.11306769, -0.40366781,\n",
              "         0.30573208,  1.01513196,  1.72453184,  2.43393172,  3.14333161,\n",
              "         3.85273149]),\n",
              " <BarContainer object of 10 artists>)"
            ]
          },
          "metadata": {},
          "execution_count": 40
        },
        {
          "output_type": "display_data",
          "data": {
            "text/plain": [
              "<Figure size 640x480 with 1 Axes>"
            ],
            "image/png": "[encoded data removed]"
          },
          "metadata": {}
        }
      ]
    },
    {
      "cell_type": "code",
      "source": [
        "# 정규성 검증\n",
        "rs = sp.stats.shapiro(x)\n",
        "st = rs.statistic\n",
        "pv = rs.pvalue\n",
        "print(st, pv)\n",
        "result(pv)"
      ],
      "metadata": {
        "colab": {
          "base_uri": "https://localhost:8080/"
        },
        "id": "R1bU3w4uNjBn",
        "outputId": "692a1e02-45af-4e89-ad37-9cb0194d86e1"
      },
      "execution_count": null,
      "outputs": [
        {
          "output_type": "stream",
          "name": "stdout",
          "text": [
            "0.9936299920082092 0.23675154149532318\n",
            "0.2368 값이 유의수준보다 크므로 귀무가설을 채택한다.\n"
          ]
        }
      ]
    },
    {
      "cell_type": "markdown",
      "source": [
        "### 비정규분포 데이터 정규성 검정"
      ],
      "metadata": {
        "id": "grbZ9etZPMRC"
      }
    },
    {
      "cell_type": "code",
      "source": [
        "import numpy as np\n",
        "import pandas as pd\n",
        "import scipy as sp\n",
        "import matplotlib.pyplot as plt\n",
        "\n",
        "\n",
        "# 비정규 분포에서 데이터 생성\n",
        "x = np.random.uniform(0,1,300)\n",
        "df = pd.DataFrame(x)\n",
        "plt.hist(df)"
      ],
      "metadata": {
        "colab": {
          "base_uri": "https://localhost:8080/",
          "height": 522
        },
        "id": "UnkKYDSVOHU2",
        "outputId": "4a680160-3d66-4a28-f2c0-c89e864c6bf2"
      },
      "execution_count": null,
      "outputs": [
        {
          "output_type": "execute_result",
          "data": {
            "text/plain": [
              "(array([35., 35., 25., 31., 29., 29., 28., 23., 29., 36.]),\n",
              " array([0.01083765, 0.10972565, 0.20861366, 0.30750166, 0.40638966,\n",
              "        0.50527766, 0.60416566, 0.70305367, 0.80194167, 0.90082967,\n",
              "        0.99971767]),\n",
              " <BarContainer object of 10 artists>)"
            ]
          },
          "metadata": {},
          "execution_count": 46
        },
        {
          "output_type": "display_data",
          "data": {
            "text/plain": [
              "<Figure size 640x480 with 1 Axes>"
            ],
            "image/png": "[encoded data removed]"
          },
          "metadata": {}
        }
      ]
    },
    {
      "cell_type": "code",
      "source": [
        "rs = sp.stats.shapiro(x)\n",
        "st = rs.statistic\n",
        "pv = rs.pvalue\n",
        "print(st, pv)\n",
        "result(pv)"
      ],
      "metadata": {
        "colab": {
          "base_uri": "https://localhost:8080/"
        },
        "id": "u4-HXRcIOHsc",
        "outputId": "e3ce82df-57e8-4aab-d425-3cd8099f5e28"
      },
      "execution_count": null,
      "outputs": [
        {
          "output_type": "stream",
          "name": "stdout",
          "text": [
            "0.9443631768226624 3.236405143880461e-09\n",
            "0.0 값이 유의수준보다 작으므로 귀무가설을 기각한다.\n"
          ]
        }
      ]
    },
    {
      "cell_type": "markdown",
      "source": [
        "## 등분산 검정\n",
        "- 귀무 가설 : 두 집단은 등분산이다.\n",
        "- 대리 가설 :  두 집단은 등분산이 아니다.\n",
        "- bartlett(a,b)\n",
        "- fligner(a,b,center='median')\n",
        "- levene(a,b, center='median')\n",
        "- na 값이 있으면 처리 후 계산 해야함\n",
        "- fligner, levene함수가 좀더 robust하다. => median값"
      ],
      "metadata": {
        "id": "0cnrRDS6O7SZ"
      }
    },
    {
      "cell_type": "code",
      "source": [
        "from scipy.stats import bartlett\n",
        "from scipy.stats import fligner\n",
        "from scipy.stats import levene\n",
        "import numpy as np\n",
        "\n",
        "# a, b 그룹\n",
        "a = np.random.uniform(50,100,50)\n",
        "b = np.random.uniform(51,99,50)\n",
        "\n",
        "print(np.isnan(a).sum(), np.isnan(b).sum())\n",
        "\n",
        "rs1 = fligner(a,b) # default center = 'median'\n",
        "rs2 = fligner(a,b, center='mean')\n",
        "\n",
        "st1 = rs1.statistic\n",
        "pv1 = rs1.pvalue\n",
        "print(st1, pv1)\n",
        "result(pv1)\n",
        "\n",
        "st2 = rs2.statistic\n",
        "pv2 = rs2.pvalue\n",
        "print(st2, pv2)\n",
        "result(pv2)"
      ],
      "metadata": {
        "colab": {
          "base_uri": "https://localhost:8080/"
        },
        "id": "r01dBwj_PxLY",
        "outputId": "da6d4799-4316-4939-dc6a-e3d2bcda56f9"
      },
      "execution_count": null,
      "outputs": [
        {
          "output_type": "stream",
          "name": "stdout",
          "text": [
            "0 0\n",
            "0.002120880245530855 0.9632679943667035\n",
            "0.9633 값이 유의수준보다 크므로 귀무가설을 채택한다.\n",
            "0.0013062422276281344 0.9711691543921117\n",
            "0.9712 값이 유의수준보다 크므로 귀무가설을 채택한다.\n"
          ]
        }
      ]
    },
    {
      "cell_type": "code",
      "source": [
        "from scipy.stats import bartlett\n",
        "from scipy.stats import fligner\n",
        "from scipy.stats import levene\n",
        "import numpy as np\n",
        "\n",
        "# a, b 그룹\n",
        "a = np.random.uniform(50,100,50)\n",
        "b = np.random.uniform(60,95,50)\n",
        "\n",
        "rs1 = levene(a,b) # default center = 'median'\n",
        "rs2 = levene(a,b, center='mean')\n",
        "st1 = rs1.statistic\n",
        "pv1 = rs1.pvalue\n",
        "print(st1, pv1)\n",
        "result(pv1)\n",
        "\n",
        "st2 = rs2.statistic\n",
        "pv2 = rs2.pvalue\n",
        "print(st2, pv2)\n",
        "result(pv2)"
      ],
      "metadata": {
        "id": "CmcAyWasPxa3",
        "colab": {
          "base_uri": "https://localhost:8080/"
        },
        "outputId": "f92dd1ed-b3d6-4eb4-e191-74f1a3c8cf40"
      },
      "execution_count": null,
      "outputs": [
        {
          "output_type": "stream",
          "name": "stdout",
          "text": [
            "7.140223593591153 0.008828370206422787\n",
            "0.0088 값이 유의수준보다 작으므로 귀무가설을 기각한다.\n",
            "8.125719203753823 0.005321175175039707\n",
            "0.0053 값이 유의수준보다 작으므로 귀무가설을 기각한다.\n"
          ]
        }
      ]
    },
    {
      "cell_type": "markdown",
      "source": [
        "## T 검정\n",
        "- 공통 : 정규성을 띠는 가 stats.shapiro(sample)\n",
        "- 정규성을 띠지 않으면 비모수 검정 stats.wilcoxon()\n",
        "- 집단 간 평균(비율) 차이 검정\n",
        "- 평균값의 차이와 표준편차의 비율이 얼마나 큰지 혹은 작은지 통계적으로 검정하는 방법\n",
        "- 독립변수 : t-test(2개이하) / anova(3개이상)\n",
        "- 양측검증, 단측검증 여부\n",
        "- 집단간의 등분산성 유무 equal_var=True\n",
        "\n",
        "> T 검정 종류\n",
        "- 단일 표본 One sample t test : stats.ttest_1samp(sample, 모평균, alternative='two-sided')\n",
        "- 독립 표본 Indepenent t test : stats.ttest_ind(sample1, sample2, equal_var=True)\n",
        "- 대응(쌍) 표본 Paired t test : stats.ttest_rel(sample1, sample2, equal_var=True)"
      ],
      "metadata": {
        "id": "DpJ6DIwBQqQu"
      }
    },
    {
      "cell_type": "code",
      "source": [
        "import numpy as np\n",
        "import matplotlib.pyplot as plt\n",
        "import seaborn as sns\n",
        "\n",
        "np.random.seed(42)\n",
        "sample1 = np.random.randn(300) + 3.0\n",
        "sample2 = np.random.randn(300)\n",
        "sample3 = 3 * np.random.randn(300)\n",
        "\n",
        "plt.figure(figsize=(20,5))\n",
        "\n",
        "sns.kdeplot(data=sample1, color='red', label='sample1', fill=True)\n",
        "sns.kdeplot(data=sample2, color='green', label='sample2', fill=True)\n",
        "sns.kdeplot(data=sample3, color='blue', label='sample3', fill=True)\n",
        "plt.legend()\n",
        "plt.show()"
      ],
      "metadata": {
        "colab": {
          "base_uri": "https://localhost:8080/",
          "height": 237
        },
        "id": "-M5eT-TN9O7Y",
        "outputId": "687a84f9-5d27-471c-c2e8-f570b87ce5cb"
      },
      "execution_count": null,
      "outputs": [
        {
          "output_type": "display_data",
          "data": {
            "text/plain": [
              "<Figure size 2000x500 with 1 Axes>"
            ],
            "image/png": "[encoded data removed]"
          },
          "metadata": {}
        }
      ]
    },
    {
      "cell_type": "markdown",
      "source": [
        "> sample1과 sample2는 평균은 다르지만 분산은 유사(등분산성)\n",
        "\n",
        "> sample2과 sample3는 평균은 비슷하만  분산은 다름\n",
        "\n",
        "> sample1과 sample3는 평균, 분산 모두 다름\n"
      ],
      "metadata": {
        "id": "Cnt91bUo_6o6"
      }
    },
    {
      "cell_type": "markdown",
      "source": [
        "### 단일 표본 검정 (one sample t-test) - 정규성\n",
        "- **stats.ttest_1samp(sample1, 모평균, alternative='two-sided')**\n",
        "- 한 표본 집단의 평균값을 특정값(주로 모집단의 평균)과 같은지 여부를 검정\n",
        "- alternative='two-sided' 양측검증이 디폴트\n",
        "- 대립가설이 작은 단측 검정 : alternative='less'\n",
        "- 대립가설이 큰 단측 검정'greater' 단측 검증\n",
        "\n"
      ],
      "metadata": {
        "id": "KlNNLOoMSfxV"
      }
    },
    {
      "cell_type": "markdown",
      "source": [
        "> sample1 평균 검정 - 양측검증\n",
        "- 귀무가설 : 평균은 3 이다.\n",
        "- 대립가설 : 평균은 3 이 아니다."
      ],
      "metadata": {
        "id": "sUImtfLGBhFD"
      }
    },
    {
      "cell_type": "code",
      "source": [
        "import scipy as sp\n",
        "\n",
        "# 데이터 정규성 검사\n",
        "# 귀무가설 : 정규성을 만족한다\n",
        "# 대립가설 : 정규성을 만족하지 않는다.\n",
        "rs = sp.stats.shapiro(sample1)\n",
        "st = rs.statistic\n",
        "pv = rs.pvalue\n",
        "print(st, pv)\n",
        "result(pv)\n",
        "\n",
        "#st, pv = stats.ttest_1samp(sample1, popmean=3) # popmean 생략가능\n",
        "st, pv = stats.ttest_1samp(sample1, 3)\n",
        "\n",
        "#통계량\n",
        "print(round(st,4))\n",
        "\n",
        "#p-value\n",
        "print(round(pv,4))\n",
        "\n",
        "# 검정 결과\n",
        "result(pv)\n",
        "\n"
      ],
      "metadata": {
        "colab": {
          "base_uri": "https://localhost:8080/"
        },
        "id": "EcbRda2lFtZF",
        "outputId": "93f30a08-60cd-4fb8-8950-d18d8a4611d6"
      },
      "execution_count": null,
      "outputs": [
        {
          "output_type": "stream",
          "name": "stdout",
          "text": [
            "0.9941726922988892 0.305807888507843\n",
            "0.3058 값이 유의수준보다 크므로 귀무가설을 채택한다.\n",
            "-0.0976\n",
            "0.9223\n",
            "0.9223 값이 유의수준보다 크므로 귀무가설을 채택한다.\n"
          ]
        }
      ]
    },
    {
      "cell_type": "markdown",
      "source": [
        "> sample1 평균 검정 - 단측 검증\n",
        "- 귀무가설 : 평균은 3 이다.\n",
        "- 대립가설 : 평균은 3 보다 크다."
      ],
      "metadata": {
        "id": "Rd9NPw2bG6nl"
      }
    },
    {
      "cell_type": "code",
      "source": [
        "import scipy as sp\n",
        "\n",
        "# 데이터 정규성 검사\n",
        "# 귀무가설 : 정규성을 만족한다\n",
        "# 대립가설 : 정규성을 만족하지 않는다.\n",
        "st2, pv2 = sp.stats.shapiro(sample1)\n",
        "print(round(st2,4), round(pv2,4))\n",
        "result(pv2)\n",
        "\n",
        "# test\n",
        "st, pv = sp.stats.ttest_1samp(sample1, 3, alternative='greater')\n",
        "\n",
        "#통계량\n",
        "print(round(st,4))\n",
        "\n",
        "#p-value\n",
        "print(round(pv,4))\n",
        "\n",
        "# 결과\n",
        "result(pv)\n",
        "\n"
      ],
      "metadata": {
        "colab": {
          "base_uri": "https://localhost:8080/"
        },
        "id": "33fBebb4J2E8",
        "outputId": "43a9619c-8a0b-40bb-c528-390bf662a60b"
      },
      "execution_count": null,
      "outputs": [
        {
          "output_type": "stream",
          "name": "stdout",
          "text": [
            "0.9942 0.3058\n",
            "0.3058 값이 유의수준보다 크므로 귀무가설을 채택한다.\n",
            "-0.0976\n",
            "0.5389\n",
            "0.5389 값이 유의수준보다 크므로 귀무가설을 채택한다.\n"
          ]
        }
      ]
    },
    {
      "cell_type": "markdown",
      "source": [
        "> sample1 평균 검정 - 단측 검증\n",
        "- 귀무가설 : 평균은 3 이다.\n",
        "- 대립가설 : 평균은 3 보다 작다."
      ],
      "metadata": {
        "id": "0B0GMbatKvlu"
      }
    },
    {
      "cell_type": "code",
      "source": [
        "import scipy as sp\n",
        "\n",
        "# 데이터 정규성 검사\n",
        "# 귀무가설 : 정규성을 만족한다\n",
        "# 대립가설 : 정규성을 만족하지 않는다.\n",
        "st2, pv2 = sp.stats.shapiro(sample1)\n",
        "print(round(st2,4), round(pv2,4))\n",
        "result(pv2)\n",
        "\n",
        "# test\n",
        "st, pv = sp.stats.ttest_1samp(sample1, 3, alternative='less')\n",
        "\n",
        "#통계량\n",
        "print(round(st,4))\n",
        "\n",
        "#p-value\n",
        "print(round(pv,4))\n",
        "\n",
        "# 결과\n",
        "result(pv)"
      ],
      "metadata": {
        "colab": {
          "base_uri": "https://localhost:8080/"
        },
        "id": "tsVS0ntQKyY2",
        "outputId": "3150c2b7-9463-4d15-b182-7b3388ee649c"
      },
      "execution_count": null,
      "outputs": [
        {
          "output_type": "stream",
          "name": "stdout",
          "text": [
            "-0.0976\n",
            "0.4611\n",
            "0.4611 값이 유의수준보다 크므로 귀무가설을 채택한다.\n",
            "0.9942 0.3058\n",
            "0.3058 값이 유의수준보다 크므로 귀무가설을 채택한다.\n"
          ]
        }
      ]
    },
    {
      "cell_type": "markdown",
      "source": [
        "> sample1 평균 검정 - 단측 검증\n",
        "- 귀무가설 : 평균은 4 이다.\n",
        "- 대립가설 : 평균은 4 보다 작다."
      ],
      "metadata": {
        "id": "WzE76pdGul6X"
      }
    },
    {
      "cell_type": "code",
      "source": [
        "import scipy as sp\n",
        "\n",
        "# 데이터 정규성 검사\n",
        "# 귀무가설 : 정규성을 만족한다\n",
        "# 대립가설 : 정규성을 만족하지 않는다.\n",
        "st2, pv2 = sp.stats.shapiro(sample1)\n",
        "print(round(st2,4), round(pv2,4))\n",
        "result(pv2)\n",
        "\n",
        "# test\n",
        "st, pv = sp.stats.ttest_1samp(sample1, 4, alternative='less')\n",
        "\n",
        "#통계량\n",
        "print(round(st,4))\n",
        "\n",
        "#p-value\n",
        "print(round(pv,4))\n",
        "\n",
        "# 결과\n",
        "result(pv)"
      ],
      "metadata": {
        "colab": {
          "base_uri": "https://localhost:8080/"
        },
        "id": "PAVAbFvfung8",
        "outputId": "640bf92d-5366-4ea9-f4df-01ed3cda807c"
      },
      "execution_count": null,
      "outputs": [
        {
          "output_type": "stream",
          "name": "stdout",
          "text": [
            "0.9942 0.3058\n",
            "0.3058 값이 유의수준보다 크므로 귀무가설을 채택한다.\n",
            "-17.6963\n",
            "0.0\n",
            "0.0 값이 유의수준보다 작으므로 귀무가설을 기각한다.\n"
          ]
        }
      ]
    },
    {
      "cell_type": "markdown",
      "source": [
        "### 단일 표본 검정 (one sample t-test) - 비정규성\n",
        "- **stats.wilcoxon(sampl1-모평균)**"
      ],
      "metadata": {
        "id": "5lLkf1GHwUFg"
      }
    },
    {
      "cell_type": "markdown",
      "source": [
        "> sample1 평균 검정 - 양측 검증\n",
        "- 귀무가설 : 평균은 0.5 이다.\n",
        "- 대립가설 : 평균은 0.5 아니다."
      ],
      "metadata": {
        "id": "ZbAHhrwZx8YC"
      }
    },
    {
      "cell_type": "code",
      "source": [
        "import numpy as np\n",
        "import scipy as sp\n",
        "\n",
        "\n",
        "# 비정규 분포에서 데이터 생성\n",
        "np.random.seed(42)\n",
        "x = np.random.uniform(0,1,300)\n",
        "\n",
        "\n",
        "# 데이터 정규성 검사\n",
        "# 귀무가설 : 정규성을 만족한다\n",
        "# 대립가설 : 정규성을 만족하지 않는다.\n",
        "st2, pv2 = sp.stats.shapiro(x)\n",
        "print(round(st2,4), round(pv2,4))\n",
        "result(pv2)\n",
        "\n",
        "#mu = np.mean(x) # 0.4952045990934922\n",
        "mu = 0.5\n",
        "\n",
        "# test\n",
        "st, pv = sp.stats.wilcoxon(x-mu)\n",
        "\n",
        "#통계량\n",
        "print(round(st,4))\n",
        "\n",
        "#p-value\n",
        "print(round(pv,4))\n",
        "\n",
        "# 결과\n",
        "result(pv)\n"
      ],
      "metadata": {
        "colab": {
          "base_uri": "https://localhost:8080/"
        },
        "id": "7A85DONSwW9E",
        "outputId": "852f589b-b7f7-4b4e-e84d-025d8c5ab8bd"
      },
      "execution_count": null,
      "outputs": [
        {
          "output_type": "stream",
          "name": "stdout",
          "text": [
            "0.9458 0.0\n",
            "0.0 값이 유의수준보다 작으므로 귀무가설을 기각한다.\n",
            "22136.0\n",
            "0.7703\n",
            "0.7703 값이 유의수준보다 크므로 귀무가설을 채택한다.\n"
          ]
        }
      ]
    },
    {
      "cell_type": "markdown",
      "source": [
        "### 독립 표본 검정 (tow sample t-test) - 정규성\n",
        "- 모두 정규성을 만족해야 함\n",
        "- **stats.ttest_ind(sample1, sample2, equal_var=True, alternative='two-sided')**\n",
        "- 두 표본의 등분산 여부 확인 **stats.levene(sample1, sample2)**\n",
        "- equal_var=True 등분산성이 디폴트\n",
        "- 두 집단에 대한 표본평균이 같은지 여부를 검정\n",
        "- alternative='two-sided' 양측검증이 디폴트\n"
      ],
      "metadata": {
        "id": "pVjVavsKSxNt"
      }
    },
    {
      "cell_type": "markdown",
      "source": [
        "> sample1, sample2 평균 검정 - 양측 검증, 등분산성\n",
        "- 귀무가설 : sample1, sample2의 평균은 같다.(비모수의 경우 중위값)\n",
        "- 대립가설 : sample1, sample2의 평균은 같지 않다."
      ],
      "metadata": {
        "id": "gzVWeuXsN7KH"
      }
    },
    {
      "cell_type": "code",
      "source": [
        "import scipy as sp\n",
        "\n",
        "# 데이터 정규성 검사\n",
        "# 귀무가설 : 정규성을 만족한다\n",
        "# 대립가설 : 정규성을 만족하지 않는다.\n",
        "st2, pv2 = sp.stats.shapiro(sample1)\n",
        "result(pv2)\n",
        "st2, pv2 = sp.stats.shapiro(sample2)\n",
        "result(pv2)\n",
        "\n",
        "# 데이터 등분산성 검사\n",
        "# 귀무가설 : 등분산성을 만족한다\n",
        "# 대립가설 : 등분산성을 만족하지 않는다.\n",
        "st2, pv2 = sp.stats.levene(sample1, sample2)\n",
        "print(round(st2,4), round(pv2,4))\n",
        "result(pv2)\n",
        "\n",
        "st, pv = stats.ttest_ind(sample1, sample2 )\n",
        "\n",
        "#통계량\n",
        "print(round(st,4))\n",
        "\n",
        "#p-value\n",
        "print(round(pv,4))\n",
        "\n",
        "# 결과\n",
        "result(pv)\n",
        "\n"
      ],
      "metadata": {
        "colab": {
          "base_uri": "https://localhost:8080/"
        },
        "id": "E77e1Y22KBxQ",
        "outputId": "16bec787-b6c0-4a70-d598-8aedd5d8cde2"
      },
      "execution_count": null,
      "outputs": [
        {
          "output_type": "stream",
          "name": "stdout",
          "text": [
            "0.3058 값이 유의수준보다 크므로 귀무가설을 채택한다.\n",
            "0.8135 값이 유의수준보다 크므로 귀무가설을 채택한다.\n",
            "0.0404 0.8407\n",
            "0.8407 값이 유의수준보다 크므로 귀무가설을 채택한다.\n",
            "37.9637\n",
            "0.0\n",
            "0.0 값이 유의수준보다 작으므로 귀무가설을 기각한다.\n"
          ]
        }
      ]
    },
    {
      "cell_type": "markdown",
      "source": [
        "> sample1, sample3 평균 검정 - 양측 검증, 비등분산성\n",
        "- 귀무가설 : sample1, sample3의 평균은 같다.\n",
        "- 대립가설 : sample1, sample3의 평균은 같지 않다."
      ],
      "metadata": {
        "id": "6wAAXYR9P1In"
      }
    },
    {
      "cell_type": "code",
      "source": [
        "import scipy as sp\n",
        "\n",
        "# 데이터 정규성 검사\n",
        "# 귀무가설 : 정규성을 만족한다\n",
        "# 대립가설 : 정규성을 만족하지 않는다.\n",
        "st2, pv2 = sp.stats.shapiro(sample1)\n",
        "result(pv2)\n",
        "st2, pv2 = sp.stats.shapiro(sample3)\n",
        "result(pv2)\n",
        "\n",
        "# 데이터 등분산성 검사\n",
        "# 귀무가설 : 등분산성을 만족한다\n",
        "# 대립가설 : 등분산성을 만족하지 않는다.\n",
        "st2, pv2 = sp.stats.levene(sample1, sample3)\n",
        "print(round(st2,4), round(pv2,4))\n",
        "result(pv2)\n",
        "\n",
        "st, pv = stats.ttest_ind(sample1, sample3 , equal_var=False) # 등분산성 기각\n",
        "\n",
        "#통계량\n",
        "print(round(st,4))\n",
        "\n",
        "#p-value\n",
        "print(round(pv,4))\n",
        "\n",
        "# 결과\n",
        "result(pv)"
      ],
      "metadata": {
        "colab": {
          "base_uri": "https://localhost:8080/"
        },
        "id": "ZH88rhADaXlx",
        "outputId": "d43be45b-9948-42b0-8542-6e1b25a071c2"
      },
      "execution_count": null,
      "outputs": [
        {
          "output_type": "stream",
          "name": "stdout",
          "text": [
            "0.3058 값이 유의수준보다 크므로 귀무가설을 채택한다.\n",
            "0.486 값이 유의수준보다 크므로 귀무가설을 채택한다.\n",
            "221.3582 0.0\n",
            "0.0 값이 유의수준보다 작으므로 귀무가설을 기각한다.\n",
            "15.1197\n",
            "0.0\n",
            "0.0 값이 유의수준보다 작으므로 귀무가설을 기각한다.\n"
          ]
        }
      ]
    },
    {
      "cell_type": "markdown",
      "source": [
        "> sample2, sample3 평균 검정 - 양측 검증, 비등분산성\n",
        "- 귀무가설 : sample2, sample3의 평균은 같다.\n",
        "- 대립가설 : sample2, sample3의 평균은 같지 않다."
      ],
      "metadata": {
        "id": "RrCR30w-Qrtv"
      }
    },
    {
      "cell_type": "code",
      "source": [
        "import scipy as sp\n",
        "\n",
        "# 데이터 정규성 검사\n",
        "# 귀무가설 : 정규성을 만족한다\n",
        "# 대립가설 : 정규성을 만족하지 않는다.\n",
        "st2, pv2 = sp.stats.shapiro(sample2)\n",
        "result(pv2)\n",
        "st2, pv2 = sp.stats.shapiro(sample3)\n",
        "result(pv2)\n",
        "\n",
        "# 데이터 등분산성 검사\n",
        "# 귀무가설 : 등분산성을 만족한다\n",
        "# 대립가설 : 등분산성을 만족하지 않는다.\n",
        "st2, pv2 = sp.stats.levene(sample2, sample3)\n",
        "print(round(st2,4), round(pv2,4))\n",
        "result(pv2)\n",
        "\n",
        "st, pv = stats.ttest_ind(sample2, sample3 , equal_var=False) # 등분산성 기각\n",
        "\n",
        "#통계량\n",
        "print(round(st,4))\n",
        "\n",
        "#p-value\n",
        "print(round(pv,4))\n",
        "\n",
        "# 결과\n",
        "result(pv)"
      ],
      "metadata": {
        "colab": {
          "base_uri": "https://localhost:8080/"
        },
        "id": "61U6XiaaQxTH",
        "outputId": "19612935-c079-4abd-d50b-fe21184359f6"
      },
      "execution_count": null,
      "outputs": [
        {
          "output_type": "stream",
          "name": "stdout",
          "text": [
            "0.8135 값이 유의수준보다 크므로 귀무가설을 채택한다.\n",
            "0.486 값이 유의수준보다 크므로 귀무가설을 채택한다.\n",
            "226.1255 0.0\n",
            "0.0 값이 유의수준보다 작으므로 귀무가설을 기각한다.\n",
            "-1.4783\n",
            "0.1402\n",
            "0.1402 값이 유의수준보다 크므로 귀무가설을 채택한다.\n"
          ]
        }
      ]
    },
    {
      "cell_type": "markdown",
      "source": [
        "> sample1, sample2 평균 검정 - 양측 검증, 등분산성\n",
        "- 귀무가설 : sample1, sample2의 평균은 sample1과 3 차이가 난다.\n",
        "- 대립가설 : sample1, sample2의 평균은 sample1과 3 차이가 나지 않는다."
      ],
      "metadata": {
        "id": "c9qYighAacEy"
      }
    },
    {
      "cell_type": "code",
      "source": [
        "import numpy as np\n",
        "import scipy as sp\n",
        "\n",
        "# 데이터 정규성 검사\n",
        "# 귀무가설 : 정규성을 만족한다\n",
        "# 대립가설 : 정규성을 만족하지 않는다.\n",
        "st2, pv2 = sp.stats.shapiro(sample1)\n",
        "result(pv2)\n",
        "st2, pv2 = sp.stats.shapiro(sample2)\n",
        "result(pv2)\n",
        "\n",
        "# 데이터 등분산성 검사\n",
        "# 귀무가설 : 등분산성을 만족한다\n",
        "# 대립가설 : 등분산성을 만족하지 않는다.\n",
        "st2, pv2 = sp.stats.levene(sample1, sample2)\n",
        "print(round(st2,4), round(pv2,4))\n",
        "result(pv2)\n",
        "\n",
        "#print(np.mean(sample1), np.mean(sample2)) 평균 확인\n",
        "\n",
        "st, pv = stats.ttest_ind(sample1, sample2+3)\n",
        "\n",
        "#통계량\n",
        "print(round(st,4))\n",
        "\n",
        "#p-value\n",
        "print(round(pv,4))\n",
        "\n",
        "# 결과\n",
        "result(pv)\n",
        "\n"
      ],
      "metadata": {
        "colab": {
          "base_uri": "https://localhost:8080/"
        },
        "id": "cJ4FTHO4adM1",
        "outputId": "d6723d93-e6f4-4223-8030-d4ee335a9392"
      },
      "execution_count": null,
      "outputs": [
        {
          "output_type": "stream",
          "name": "stdout",
          "text": [
            "0.3058 값이 유의수준보다 크므로 귀무가설을 채택한다.\n",
            "0.8135 값이 유의수준보다 크므로 귀무가설을 채택한다.\n",
            "0.0404 0.8407\n",
            "0.8407 값이 유의수준보다 크므로 귀무가설을 채택한다.\n",
            "2.9944514409187595 -0.02148998269197656\n",
            "0.2007\n",
            "0.841\n",
            "0.841 값이 유의수준보다 크므로 귀무가설을 채택한다.\n"
          ]
        }
      ]
    },
    {
      "cell_type": "markdown",
      "source": [
        "### 독립 표본 검정 (tow sample t-test) - 비정규성\n",
        "- 모두 정규성을 만족해야 함\n",
        "- **scipy.stats.mannwhitneyu(sample1,sample2)**\n",
        "- **scipy.stats.ranksums(sample1,sample2)**"
      ],
      "metadata": {
        "id": "esotpq3b2nV4"
      }
    },
    {
      "cell_type": "markdown",
      "source": [
        "> x1, x2 평균 검정 - 양측 검증, 비정규성\n",
        "- 귀무가설 : x1, x2의 평균은 같다.\n",
        "- 대립가설 : x1, x2의 평균은 같지 않다."
      ],
      "metadata": {
        "id": "Urt1yQ8H4LKf"
      }
    },
    {
      "cell_type": "code",
      "source": [
        "import numpy as np\n",
        "import scipy as sp\n",
        "\n",
        "\n",
        "# 비정규 분포에서 데이터 생성\n",
        "np.random.seed(42)\n",
        "x1 = np.random.uniform(0,10,300)\n",
        "x2 = np.random.uniform(0,9.9,300)\n",
        "\n",
        "# 데이터 정규성 검사\n",
        "# 귀무가설 : 정규성을 만족한다\n",
        "# 대립가설 : 정규성을 만족하지 않는다.\n",
        "st2, pv2 = sp.stats.shapiro(x1)\n",
        "result(pv2)\n",
        "st2, pv2 = sp.stats.shapiro(x2)\n",
        "result(pv2)\n",
        "\n",
        "# 데이터 등분산성 검사\n",
        "# 귀무가설 : 등분산성을 만족한다\n",
        "# 대립가설 : 등분산성을 만족하지 않는다.\n",
        "st2, pv2 = sp.stats.levene(x1, x2)\n",
        "print(round(st2,4), round(pv2,4))\n",
        "result(pv2)\n",
        "\n",
        "print(np.mean(x1), np.mean(x2)) #평균 확인\n",
        "\n",
        "#st, pv = sp.stats.mannwhitneyu(x1, x2)\n",
        "st, pv = sp.stats.ranksums(x1, x2)\n",
        "\n",
        "#통계량\n",
        "print(round(st,4))\n",
        "\n",
        "#p-value\n",
        "print(round(pv,4))\n",
        "\n",
        "# 결과\n",
        "result(pv)"
      ],
      "metadata": {
        "colab": {
          "base_uri": "https://localhost:8080/"
        },
        "id": "Dpzb29pT4weP",
        "outputId": "cbaadde7-fc73-435a-b05e-a8ac5e443a1e"
      },
      "execution_count": null,
      "outputs": [
        {
          "output_type": "stream",
          "name": "stdout",
          "text": [
            "0.0 값이 유의수준보다 작으므로 귀무가설을 기각한다.\n",
            "0.0 값이 유의수준보다 작으므로 귀무가설을 기각한다.\n",
            "0.0097 0.9215\n",
            "0.9215 값이 유의수준보다 크므로 귀무가설을 채택한다.\n",
            "4.952045990934923 5.0572318782377526\n",
            "-0.4296\n",
            "0.6675\n",
            "0.6675 값이 유의수준보다 크므로 귀무가설을 채택한다.\n"
          ]
        }
      ]
    },
    {
      "cell_type": "code",
      "source": [
        "import numpy as np\n",
        "import scipy as sp\n",
        "\n",
        "\n",
        "# 비정규 분포에서 데이터 생성\n",
        "np.random.seed(42)\n",
        "x1 = np.random.uniform(0,10,300)\n",
        "x2 = np.random.uniform(1,11,300)\n",
        "\n",
        "# 데이터 정규성 검사\n",
        "# 귀무가설 : 정규성을 만족한다\n",
        "# 대립가설 : 정규성을 만족하지 않는다.\n",
        "st2, pv2 = sp.stats.shapiro(x1)\n",
        "result(pv2)\n",
        "st2, pv2 = sp.stats.shapiro(x2)\n",
        "result(pv2)\n",
        "\n",
        "# 데이터 등분산성 검사\n",
        "# 귀무가설 : 등분산성을 만족한다\n",
        "# 대립가설 : 등분산성을 만족하지 않는다.\n",
        "st2, pv2 = sp.stats.levene(x1, x2)\n",
        "print(round(st2,4), round(pv2,4))\n",
        "result(pv2)\n",
        "\n",
        "print(np.mean(x1), np.mean(x2)) #평균 확인\n",
        "\n",
        "#st, pv = sp.stats.mannwhitneyu(x1, x2)\n",
        "st, pv = sp.stats.ranksums(x1, x2)\n",
        "\n",
        "#통계량\n",
        "print(round(st,4))\n",
        "\n",
        "#p-value\n",
        "print(round(pv,4))\n",
        "\n",
        "# 결과\n",
        "result(pv)"
      ],
      "metadata": {
        "colab": {
          "base_uri": "https://localhost:8080/"
        },
        "id": "RoxniCJk2o7w",
        "outputId": "a7d1433e-7f98-4601-8110-74c4e2890672"
      },
      "execution_count": null,
      "outputs": [
        {
          "output_type": "stream",
          "name": "stdout",
          "text": [
            "0.0 값이 유의수준보다 작으므로 귀무가설을 기각한다.\n",
            "0.0 값이 유의수준보다 작으므로 귀무가설을 기각한다.\n",
            "0.0983 0.754\n",
            "0.754 값이 유의수준보다 크므로 귀무가설을 채택한다.\n",
            "4.952045990934923 6.108315028522982\n",
            "-4.542\n",
            "0.0\n",
            "0.0 값이 유의수준보다 작으므로 귀무가설을 기각한다.\n"
          ]
        }
      ]
    },
    {
      "cell_type": "markdown",
      "source": [
        "### 쌍체(대응)표본 t-검정\n",
        "- **scipy.stats.ttest_rel(sample1, sample2)**\n",
        "- 작업3 형 체험 : https://tinyurl.com/38tby9nb\n",
        "\n",
        "주어진 데이터는 고혈압 환자 치료 전후의 혈압이다. 해당 치료가 효과가 있는지(즉, 치료 후의 혈압이 감소 했는지) 쌍체(대응)표본 t-검정(paired t-test)을 진행하시오.\n",
        "\n",
        "**가설 설정 : 귀무가설(H0)과 대립가설(H1) 단측검정**\n",
        "- 귀무가설(H0): μ >= 0\n",
        "- 대립가설(H1): μ < 0\n",
        "- μ = (치료 후 혈압 - 치료 전 혈압)의 평균\n",
        "\n",
        "**귀무가설 해석**\n",
        "- 귀무가설(H0): μ >= 0 μ가 음수이면서 희귀한 검정통계량값이 나오는 경우에 기각\n",
        "- 귀무가설(H0): μ <= 0 μ가 양수이면서 희귀한 검정통계량값이 나오 는경우에 기각\n",
        "\n",
        "\n",
        "**가설 설정 : 귀무가설(H0)과 대립가설(H1) 양측검정**\n",
        "- 귀무가설(H0): μ = 0\n",
        "- 대립가설(H1): μ < 0, μ > 0\n",
        "\n",
        "**귀무가설 해석**\n",
        "- 귀무가설(H0): μ = 0 μ가 부호 상관 없이 희귀한 검정통계량값이 나오는 경우에 기각\n",
        "\n",
        "**유의수준 설정**\n",
        "- 0.05(5%)\n"
      ],
      "metadata": {
        "id": "6Eedik24QwcG"
      }
    },
    {
      "cell_type": "code",
      "source": [
        "# 0. import, dataset\n",
        "import pandas as pd\n",
        "import scipy as sp\n",
        "\n",
        "data_url = 'https://tinyurl.com/ycka4huw'\n",
        "df = pd.read_csv(data_url, index_col=0)\n",
        "#df.head()\n",
        "\n",
        "before = df['bp_before']\n",
        "after = df['bp_after']\n",
        "\n",
        "# 데이터 정규성 검사\n",
        "# 귀무가설 : 정규성을 만족한다\n",
        "# 대립가설 : 정규성을 만족하지 않는다.\n",
        "# 샘플데이터가 정규성을 만족하지 않음 ㅋㅋㅋ => wincoxon()으로 해야 함\n",
        "st2, pv2 = sp.stats.shapiro(before)\n",
        "result(pv2)\n",
        "st2, pv2 = sp.stats.shapiro(after)\n",
        "result(pv2)\n",
        "\n",
        "# 같은 집단이므로 데이터 등분산 검사 안함\n",
        "\n",
        "# (1)μ 의 표본평균은?(소수 둘째자리까지 반올림)\n",
        "df['diff'] = after - before\n",
        "diff_mean = round(df['diff'].mean(),2)\n",
        "print(diff_mean)\n",
        "# (2) 검정통계량 값은?(소수 넷째자리까지 반올림)\n",
        "# 쌍체 표본, 단측 검정, 대립가설 단측검정 :  작으면 less, 크다면 greate, 양측검정 default two-sided\n",
        "# 대립가설을 구성\n",
        "tv, pv = sp.stats.ttest_rel(after, before, alternative='less') # 순서 중요\n",
        "print(round(tv, 4))\n",
        "# (3) p-값은?(소수 넷째자리까지 반올림)\n",
        "print(round(pv, 4))\n",
        "# (4) 유의수준 0.05 하에서 가설검정의 결과를 (채택/기각) 중 하나를 선택하여 입력하시오.\n",
        "result(pv)\n",
        "\n",
        "# 비정규성, 비모수 검정\n",
        "tv2, pv2 = sp.stats.wilcoxon(after, before, alternative='less')\n",
        "print(round(tv2,4), round(pv2,4))\n",
        "result(pv2)"
      ],
      "metadata": {
        "colab": {
          "base_uri": "https://localhost:8080/"
        },
        "id": "TOxVW_84Rht_",
        "outputId": "574c40e3-5307-46fd-faca-93d5945fc6c3"
      },
      "execution_count": null,
      "outputs": [
        {
          "output_type": "stream",
          "name": "stdout",
          "text": [
            "p-value 0.0005이 유의수준 0.05 보다 작으므로 귀무가설을 기각한다.\n",
            "p-value 0.0202이 유의수준 0.05 보다 작으므로 귀무가설을 기각한다.\n",
            "-5.09\n",
            "-3.3372\n",
            "0.0006\n",
            "p-value 0.0006이 유의수준 0.05 보다 작으므로 귀무가설을 기각한다.\n",
            "2234.5 0.0007\n",
            "p-value 0.0007이 유의수준 0.05 보다 작으므로 귀무가설을 기각한다.\n"
          ]
        }
      ]
    },
    {
      "cell_type": "markdown",
      "source": [
        "\n",
        "> 가설 설정 : 귀무가설(H0)과 대립가설(H1) 양측 검정\n",
        "- 귀무가설(H0): μ = 0\n",
        "- 대립가설(H1): μ < 0, μ > 0\n",
        "- μ = (치료 후 혈압 - 치료 전 혈압)의 평균"
      ],
      "metadata": {
        "id": "MOH7qspUVfYZ"
      }
    },
    {
      "cell_type": "code",
      "source": [
        "# 0. import, dataset\n",
        "import pandas as pd\n",
        "import scipy as sp\n",
        "\n",
        "data_url = 'https://tinyurl.com/ycka4huw'\n",
        "df = pd.read_csv(data_url, index_col=0)\n",
        "#df.head()\n",
        "\n",
        "before = df['bp_before']\n",
        "after = df['bp_after']\n",
        "\n",
        "# 데이터 정규성 검사\n",
        "# 귀무가설 : 정규성을 만족한다\n",
        "# 대립가설 : 정규성을 만족하지 않는다.\n",
        "# 샘플데이터가 정규성을 만족하지 않음 ㅋㅋㅋ => wincoxon()으로 해야 함\n",
        "st2, pv2 = sp.stats.shapiro(before)\n",
        "result(pv2)\n",
        "st2, pv2 = sp.stats.shapiro(after)\n",
        "result(pv2)\n",
        "\n",
        "# 같은 집단이므로 데이터 등분산 검사 안함\n",
        "\n",
        "# (1)μ 의 표본평균은?(소수 둘째자리까지 반올림)\n",
        "df['diff'] = after - before\n",
        "diff_mean = round(df['diff'].mean(),2)\n",
        "print(diff_mean)\n",
        "# (2) 검정통계량 값은?(소수 넷째자리까지 반올림)\n",
        "# 쌍체 표본, 단측 검정, 대립가설 단측검정 :  작으면 less, 크다면 greate, 양측검정 default two-sided\n",
        "# 대립가설을 구성\n",
        "tv, pv = sp.stats.ttest_rel(after, before) # 순서 중요\n",
        "print(round(tv, 4))\n",
        "# (3) p-값은?(소수 넷째자리까지 반올림)\n",
        "print(round(pv, 4))\n",
        "# (4) 유의수준 0.05 하에서 가설검정의 결과를 (채택/기각) 중 하나를 선택하여 입력하시오.\n",
        "result(pv)\n",
        "\n",
        "# 비정규성, 비모수 검정\n",
        "tv2, pv2 = sp.stats.wilcoxon(after, before)\n",
        "print(round(tv2,4), round(pv2,4))\n",
        "result(pv2)"
      ],
      "metadata": {
        "colab": {
          "base_uri": "https://localhost:8080/"
        },
        "id": "bor4iodNRth-",
        "outputId": "e132444c-5a14-4e77-f6a5-d40386512575"
      },
      "execution_count": null,
      "outputs": [
        {
          "output_type": "stream",
          "name": "stdout",
          "text": [
            "p-value 0.0005이 유의수준 0.05 보다 작으므로 귀무가설을 기각한다.\n",
            "p-value 0.0202이 유의수준 0.05 보다 작으므로 귀무가설을 기각한다.\n",
            "-5.09\n",
            "-3.3372\n",
            "0.0011\n",
            "p-value 0.0011이 유의수준 0.05 보다 작으므로 귀무가설을 기각한다.\n",
            "2234.5 0.0014\n",
            "p-value 0.0014이 유의수준 0.05 보다 작으므로 귀무가설을 기각한다.\n"
          ]
        }
      ]
    },
    {
      "cell_type": "markdown",
      "source": [
        "\n",
        "> 가설 설정 : 귀무가설(H0)과 대립가설(H1) 단측 검정\n",
        "- 귀무가설(H0): μ <= 0\n",
        "- 대립가설(H1): μ > 0\n",
        "- μ = (치료 후 혈압 - 치료 전 혈압)의 평균"
      ],
      "metadata": {
        "id": "qZ90SohvUPWF"
      }
    },
    {
      "cell_type": "code",
      "source": [
        "# 0. import, dataset\n",
        "import pandas as pd\n",
        "import scipy as sp\n",
        "\n",
        "data_url = 'https://tinyurl.com/ycka4huw'\n",
        "df = pd.read_csv(data_url, index_col=0)\n",
        "#df.head()\n",
        "\n",
        "before = df['bp_before']\n",
        "after = df['bp_after']\n",
        "\n",
        "# 데이터 정규성 검사\n",
        "# 귀무가설 : 정규성을 만족한다\n",
        "# 대립가설 : 정규성을 만족하지 않는다.\n",
        "# 샘플데이터가 정규성을 만족하지 않음 ㅋㅋㅋ => wincoxon()으로 해야 함\n",
        "st2, pv2 = sp.stats.shapiro(before)\n",
        "result(pv2)\n",
        "st2, pv2 = sp.stats.shapiro(after)\n",
        "result(pv2)\n",
        "\n",
        "# 같은 집단이므로 데이터 등분산 검사 안함\n",
        "\n",
        "# (1)μ 의 표본평균은?(소수 둘째자리까지 반올림)\n",
        "df['diff'] = after - before\n",
        "diff_mean = round(df['diff'].mean(),2)\n",
        "print(diff_mean)\n",
        "# (2) 검정통계량 값은?(소수 넷째자리까지 반올림)\n",
        "# 쌍체 표본, 단측 검정, 대립가설 단측검정 :  작으면 less, 크다면 greate, 양측검정 default two-sided\n",
        "# 대립가설을 구성\n",
        "tv, pv = sp.stats.ttest_rel(after, before, alternative='greater') # 순서 중요\n",
        "print(round(tv, 4))\n",
        "# (3) p-값은?(소수 넷째자리까지 반올림)\n",
        "print(round(pv, 4))\n",
        "# (4) 유의수준 0.05 하에서 가설검정의 결과를 (채택/기각) 중 하나를 선택하여 입력하시오.\n",
        "result(pv)\n",
        "\n",
        "# 비정규성, 비모수 검정\n",
        "tv2, pv2 = sp.stats.wilcoxon(after, before, alternative='greater')\n",
        "print(round(tv2,4), round(pv2,4))\n",
        "result(pv2)"
      ],
      "metadata": {
        "colab": {
          "base_uri": "https://localhost:8080/"
        },
        "id": "Bm2pBLq_R4Mt",
        "outputId": "8a409b9e-b633-490c-e3c3-5a22ef1526e5"
      },
      "execution_count": null,
      "outputs": [
        {
          "output_type": "stream",
          "name": "stdout",
          "text": [
            "p-value 0.0005이 유의수준 0.05 보다 작으므로 귀무가설을 기각한다.\n",
            "p-value 0.0202이 유의수준 0.05 보다 작으므로 귀무가설을 기각한다.\n",
            "-5.09\n",
            "-3.3372\n",
            "0.9994\n",
            "p-value 0.9994이 유의수준 0.05 보다 크므로 귀무가설을 채택한다.\n",
            "2234.5 0.9993\n",
            "p-value 0.9993이 유의수준 0.05 보다 크므로 귀무가설을 채택한다.\n"
          ]
        }
      ]
    },
    {
      "cell_type": "markdown",
      "source": [
        "## ANOVA (ANalysis Of VAriance; 분산 분석)\n",
        "- 3개 이상의 그룹 간 평균을 비교할 때 쓰는 대표적인 방법\n",
        "- 여러 개의 그룹 간에 결과값의 우열을 가리는 통계적인 분석 방법\n",
        "- 일원분산분석(One way ANOVA)은 독립변수가 1개인데, Group이 여러 개일 경우를 의미 => 3개 학급의 수학 성적\n",
        "- t-test 마찬가지로 등분산성, 정규성, 독립성의 조건이 전제되어야 함\n",
        "- 평균의 차이가 있으면 차이에 대한 사후 분석이 필요 함\n",
        "\n",
        "### 분산분석에 사용 되는 Scale\n",
        "- 독립변수: 명목 척도\n",
        "- e.g. 3개 이상의 반, 축구 Club들, 회사 내 3개의 부서\n",
        "- 종속변수: 양적 척도 - Interval Scale 혹은 Ratio Scale\n",
        "- e.g. 학생들의 수학 점수, 선수들의 Yellow Card 받은 횟수, 부서들의 매출 실적\n",
        "\n",
        "참고[데이터로 하는 마케팅](https://data-marketing-bk.tistory.com/entry/Python-One-way-ANOVA-%EB%B6%84%EC%84%9D%ED%95%98%EA%B8%B0-%EC%9D%B4%EB%A1%A0%EB%B6%80%ED%84%B0-%EC%BD%94%EB%93%9C%EA%B9%8C%EC%A7%80-%ED%95%9C-%EB%B2%88%EC%97%90)\n"
      ],
      "metadata": {
        "id": "8IY6LXXeSd6u"
      }
    },
    {
      "cell_type": "markdown",
      "source": [
        "> 일원분산분석(One way ANOVA)\n",
        "iris데이터를 이용해 종별로 꽃받침의 폭(sepal.width)데이터에서 일원배치법을 수행하여 그룹 간의 평균 차이가 있는지 검정하세요\n",
        "1. f값 (소수 둘째자리)\n",
        "2. p값 (소수 여섯째자리)\n",
        "3. 검정결과\n",
        "- 귀무가설 : 세가지 종에 대해 sepal.width평균은 모두 같다.\n",
        "- 대립가설 : 적어도 하나의 종에 대한 sepal.width의 평균값에는 차이가 있다."
      ],
      "metadata": {
        "id": "0PLGlbhda28K"
      }
    },
    {
      "cell_type": "code",
      "source": [
        "from sklearn.datasets import load_iris\n",
        "\n",
        "iris = load_iris()\n",
        "df = pd.DataFrame(data=iris.data, columns=iris.feature_names)\n",
        "df['target'] = iris.target\n",
        "df.columns = ['sepal.length','sepal.width','petal.length','petal.width','target']\n",
        "df.head(3)\n",
        "df.info()"
      ],
      "metadata": {
        "colab": {
          "base_uri": "https://localhost:8080/"
        },
        "id": "Nd9HyFItY1rA",
        "outputId": "8c6d7a48-341d-492e-cae4-942e43a4b341"
      },
      "execution_count": null,
      "outputs": [
        {
          "output_type": "stream",
          "name": "stdout",
          "text": [
            "<class 'pandas.core.frame.DataFrame'>\n",
            "RangeIndex: 150 entries, 0 to 149\n",
            "Data columns (total 5 columns):\n",
            " #   Column        Non-Null Count  Dtype  \n",
            "---  ------        --------------  -----  \n",
            " 0   sepal.length  150 non-null    float64\n",
            " 1   sepal.width   150 non-null    float64\n",
            " 2   petal.length  150 non-null    float64\n",
            " 3   petal.width   150 non-null    float64\n",
            " 4   target        150 non-null    int64  \n",
            "dtypes: float64(4), int64(1)\n",
            "memory usage: 6.0 KB\n"
          ]
        }
      ]
    },
    {
      "cell_type": "code",
      "source": [
        "groupA = df['sepal.width'][df.target==0]\n",
        "groupB = df['sepal.width'][df.target==1]\n",
        "groupC = df['sepal.width'][df.target==2]"
      ],
      "metadata": {
        "id": "B4TLQygKcRNo"
      },
      "execution_count": null,
      "outputs": []
    },
    {
      "cell_type": "code",
      "source": [
        "import scipy as sp\n",
        "\n",
        "# 정규성 검증\n",
        "# 데이터 정규성 검사\n",
        "# 귀무가설 : 정규성을 만족한다\n",
        "# 대립가설 : 정규성을 만족하지 않는다.\n",
        "# 샘플데이터가 정규성을 만족하지 않음 ㅋㅋㅋ => wincoxon()으로 해야 함\n",
        "st2, pv2 = sp.stats.shapiro(groupA)\n",
        "result(pv2)\n",
        "st2, pv2 = sp.stats.shapiro(groupB)\n",
        "result(pv2)\n",
        "st2, pv2 = sp.stats.shapiro(groupC)\n",
        "result(pv2)\n"
      ],
      "metadata": {
        "colab": {
          "base_uri": "https://localhost:8080/"
        },
        "id": "vGugPca4dArI",
        "outputId": "a6e85ec9-15ce-4a51-ff16-f3382a4577f2"
      },
      "execution_count": null,
      "outputs": [
        {
          "output_type": "stream",
          "name": "stdout",
          "text": [
            "p-value 0.2715이 유의수준 0.05 보다 크므로 귀무가설을 채택한다.\n",
            "p-value 0.338이 유의수준 0.05 보다 크므로 귀무가설을 채택한다.\n",
            "p-value 0.1809이 유의수준 0.05 보다 크므로 귀무가설을 채택한다.\n"
          ]
        }
      ]
    },
    {
      "cell_type": "code",
      "source": [
        "import scipy as sp\n",
        "# 데이터 등분산성 검사 - 레빈 검증\n",
        "# 귀무가설 : 등분산성을 만족한다\n",
        "# 대립가설 : 등분산성을 만족하지 않는다.\n",
        "st2, pv2 = sp.stats.levene(groupA, groupB, groupC)\n",
        "result(pv2)"
      ],
      "metadata": {
        "colab": {
          "base_uri": "https://localhost:8080/"
        },
        "id": "3B4vNzQ2derP",
        "outputId": "f3945a96-0b9a-4140-98b9-9a767200b55b"
      },
      "execution_count": null,
      "outputs": [
        {
          "output_type": "stream",
          "name": "stdout",
          "text": [
            "p-value 0.5555이 유의수준 0.05 보다 크므로 귀무가설을 채택한다.\n"
          ]
        }
      ]
    },
    {
      "cell_type": "code",
      "source": [
        "import scipy as sp\n",
        "\n",
        "# 일원배치법 수행\n",
        "st, pv = sp.stats.f_oneway(groupA, groupB, groupC)\n",
        "print(st, pv)\n",
        "# F-value\n",
        "print(round(st,2))\n",
        "\n",
        "# p-value\n",
        "print(format(pv,'.6f'))\n",
        "\n",
        "# result : 평규의 차이 있음 => 사후 분석필요\n",
        "result(pv)\n"
      ],
      "metadata": {
        "colab": {
          "base_uri": "https://localhost:8080/"
        },
        "id": "4KO8kMXoe1Rx",
        "outputId": "ea6c3fdb-5397-471b-d939-6f95cae685fb"
      },
      "execution_count": null,
      "outputs": [
        {
          "output_type": "stream",
          "name": "stdout",
          "text": [
            "49.160040089612075 4.492017133309115e-17\n",
            "49.16\n",
            "0.000000\n",
            "p-value 0.0이 유의수준 0.05 보다 작으므로 귀무가설을 기각한다.\n"
          ]
        }
      ]
    },
    {
      "cell_type": "markdown",
      "source": [
        "## 카이제곱 적합성 검정 = 교차분석\n",
        "- **scipy.stats.chisquare(sample1, sample2)**\n",
        "- k개의 범주 (혹은 계급)을 가지는 한 개의 요인(factor)에 대해서 어떤 이론적 분포를 따르고 있는지를 검정하는 방법\n",
        "관측값들이 어떠한 이론적 분포를 따르고 있는지를 알아볼 수 있음.\n",
        "- 모집단 분포에 대한 가정이 옳게 됐는지를 관측 자료와 비교하여 검정\n",
        "- 귀무가설 : 실제분포와 이론적 분포 간에는 차이가 없다. (두 분포가 일치한다.)\n",
        "- 대립가설 : 실제분포와 이론적 분포 간에는 차이가 있다. (두 분포가 일치하지 않는다.)\n",
        "\n"
      ],
      "metadata": {
        "id": "qQPStp1qgH4p"
      }
    },
    {
      "cell_type": "markdown",
      "source": [
        "> 주사위 1 ~ 6 까지의 각 확률 변수는 독립적인가?\n",
        "- 귀무가설(H0): 1 ~ 6 까지의 발생 확률은 1/6 이다.\n",
        "- 대립가설(H1): 1 ~ 6 까지의 발생 확률은 1/6 아니다."
      ],
      "metadata": {
        "id": "rhmiCTjnkyDU"
      }
    },
    {
      "cell_type": "code",
      "source": [
        "import numpy as np\n",
        "import pandas as pd\n",
        "import scipy as sp\n",
        "\n",
        "x = []\n",
        "np.random.seed(42)\n",
        "d = np.random.choice(range(1,7), 180, replace=True)\n",
        "for i in range(1,7):\n",
        "  n = d[d==i].size\n",
        "  x.append(n)\n",
        "\n",
        "print(x)\n",
        "\n",
        "xe = int(sum(x) / len(x))\n",
        "print(xe)\n",
        "st , pv = chisquare(x,xe)\n",
        "result(pv)\n"
      ],
      "metadata": {
        "colab": {
          "base_uri": "https://localhost:8080/"
        },
        "id": "kLTtRaJ3fsyA",
        "outputId": "e04b0e24-61f8-449f-ba68-bd2800ba1576"
      },
      "execution_count": null,
      "outputs": [
        {
          "output_type": "stream",
          "name": "stdout",
          "text": [
            "[27, 28, 27, 40, 30, 28]\n",
            "30\n",
            "p-value 0.521이 유의수준 0.05 보다 크므로 귀무가설을 채택한다.\n"
          ]
        }
      ]
    },
    {
      "cell_type": "markdown",
      "source": [
        "> 관찰빈도와 기대빈도 동일 여부\n",
        "- 제품 A,B,C의 보유대수를 조사하니 324대, 78대, 261대\n",
        "- 제품의 판매량 비율은 A56%, B12%, C32% -> 기대빈도는 371, 80, 212\n",
        "- 귀무가설은 관찰빈도는 기대빈도와 같다\n",
        "- 대립가설은 관찰빈도와 기대빈도는 다르다"
      ],
      "metadata": {
        "id": "SYuEBGNToCTL"
      }
    },
    {
      "cell_type": "code",
      "source": [
        "from scipy.stats import chisquare\n",
        "\n",
        "x = [324,78,261]\n",
        "x_sum = sum(x)\n",
        "xe = [x_sum*0.56, x_sum*0.12, x_sum*0.32]\n",
        "xe = [int(i) for i in xe]\n",
        "print(xe)\n",
        "st , pv = chisquare(df.counts,df.expected)\n",
        "result(pv)"
      ],
      "metadata": {
        "colab": {
          "base_uri": "https://localhost:8080/"
        },
        "id": "7NZAL0Goo-D_",
        "outputId": "c5cf9700-372f-4bf5-a2ef-eb2ef115c3d5"
      },
      "execution_count": null,
      "outputs": [
        {
          "output_type": "stream",
          "name": "stdout",
          "text": [
            "[371, 79, 212]\n",
            "p-value 0.8014이 유의수준 0.05 보다 크므로 귀무가설을 채택한다.\n"
          ]
        }
      ]
    },
    {
      "cell_type": "markdown",
      "source": [
        "> 관찰빈도와 기대빈도 동일 여부\n",
        "- 귀무가설 : 전체응답자 중 왼손잡이는 20%, 오른손잡이는 80%이다\n",
        "- 대립가설 : 전체응답자 중 왼손잡이의 비율은 20%, 오른손잡이의 비율이 80%라고 할 수 없다."
      ],
      "metadata": {
        "id": "nQS0JEHPzApS"
      }
    },
    {
      "cell_type": "markdown",
      "source": [
        "## 카이제곱 독립성 검정 = 교차분석\n",
        "- **scipy.stats.chi2_contingency([x1, x2])**\n",
        "- 카이제곱 독립성 검정의 목표는 \"내가 설정한 독립변수(원인)가 종속변수(결과)에 정말 영향을 미치는지 아니면 독립적인지\"하기 위해서 하는 작업\n",
        "- A/B Test에서도 카이제곱 검정 활용\n",
        "\n",
        "### 카이제곱 독립성 검정의 목적\n",
        "- 독립변수와 종속변수 간의 인과관계를 확인하기 위해서 확인하는 것\n",
        "- 변수 간 움직임이 독립적인지 확인하기 위해서 하는 것\n",
        "\n",
        "### 카이제곱 독립성 검정의 가설 (귀무가설 & 대립가설)\n",
        "- 귀무가설(H0): 독립변수는 종속변수와 상호 독립적이다.\n",
        "- 대립가설(H1): 독립변수는 종속변수와 독립적이지 않다.\n",
        "\n",
        "### 카이제곱 독립성 검정 해석 방법\n",
        "- 대립가설이 채택되면, \"독립변수가 달라지면, 종속변수도 달라지니, 우리가 설정한 요인이 확실히 영향을 미치고 있구나\"라는 것을 확인\n",
        "\n",
        "### 카이제곱 독립성 검정 변수의 척도\n",
        "- 명목척도를 사용\n",
        "- 독립변수: 원인에 해당하는 변수, 명목척도\n",
        "- 종속변수: 결과에 해당하는 변수, 명목척도\n",
        "- 명목척도란 숫자에 큰 의미가 없고, 단순하게 종류가 다르다는 것을 나타내는 척도"
      ],
      "metadata": {
        "id": "eULtjD1Z0Kh2"
      }
    },
    {
      "cell_type": "markdown",
      "source": [
        "> 제품1 ~3까지 여성과 남성의 판매량 차이에 대해 카이제곱검정\n",
        "- 귀무가설 : 여성과 남성 사이에는 연관이 없다. (독립이다.)\n",
        "- 대립가설 :여성과 남성 사이에는 연관이 있다. (종속이다.)"
      ],
      "metadata": {
        "id": "lci5vp6c0VVV"
      }
    },
    {
      "cell_type": "code",
      "source": [
        "import scipy as sp\n",
        "\n",
        "x_male = [250, 80, 150]\n",
        "x_female = [150, 50, 250]\n",
        "\n",
        "st, pv, dof, exp = sp.stats.chi2_contingency([x_male,x_female])\n",
        "print(pv)\n",
        "result(pv)\n",
        "\n"
      ],
      "metadata": {
        "colab": {
          "base_uri": "https://localhost:8080/"
        },
        "id": "vPfmcLKp0OY8",
        "outputId": "d595f2f1-0b89-46a9-eb78-0a78893baaf7"
      },
      "execution_count": null,
      "outputs": [
        {
          "output_type": "stream",
          "name": "stdout",
          "text": [
            "6.867466847219681e-13\n",
            "p-value 0.0이 유의수준 0.05 보다 작으므로 귀무가설을 기각한다.\n"
          ]
        }
      ]
    },
    {
      "cell_type": "code",
      "source": [
        "import scipy as sp\n",
        "\n",
        "x_male = [250, 80, 250]\n",
        "x_female = [150, 50, 150]\n",
        "\n",
        "st, pv, dof, exp = sp.stats.chi2_contingency([x_male,x_female])\n",
        "print(pv)\n",
        "result(pv)"
      ],
      "metadata": {
        "id": "FtGRctd42Bvk",
        "outputId": "e03834a8-cb9d-4b1e-bb79-0fc3e9cfdd6b",
        "colab": {
          "base_uri": "https://localhost:8080/"
        }
      },
      "execution_count": null,
      "outputs": [
        {
          "output_type": "stream",
          "name": "stdout",
          "text": [
            "0.9782153994074999\n",
            "p-value 0.9782이 유의수준 0.05 보다 크므로 귀무가설을 채택한다.\n"
          ]
        }
      ]
    }
  ]
}